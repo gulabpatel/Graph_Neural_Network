{
  "nbformat": 4,
  "nbformat_minor": 0,
  "metadata": {
    "colab": {
      "name": "01.4: DeepWalk_and_Node2vec_Embedding.ipynb",
      "provenance": [],
      "include_colab_link": true
    },
    "kernelspec": {
      "display_name": "Python 3",
      "language": "python",
      "name": "python3"
    },
    "language_info": {
      "codemirror_mode": {
        "name": "ipython",
        "version": 3
      },
      "file_extension": ".py",
      "mimetype": "text/x-python",
      "name": "python",
      "nbconvert_exporter": "python",
      "pygments_lexer": "ipython3",
      "version": "3.8.3"
    }
  },
  "cells": [
    {
      "cell_type": "markdown",
      "metadata": {
        "id": "view-in-github",
        "colab_type": "text"
      },
      "source": [
        "<a href=\"https://colab.research.google.com/github/gulabpatel/Graph_Neural_Network/blob/main/01.4%3A%20DeepWalk_and_Node2vec_Embedding.ipynb\" target=\"_parent\"><img src=\"https://colab.research.google.com/assets/colab-badge.svg\" alt=\"Open In Colab\"/></a>"
      ]
    },
    {
      "cell_type": "markdown",
      "metadata": {
        "id": "kZqgl6b04WfT"
      },
      "source": [
        "# Tutorial 11: DeepWalk and node2vec - Implementation details\n",
        "  \n",
        "\n",
        "Paper:\n",
        "* [DeepWalk: Online Learning of Social Representation](https://arxiv.org/pdf/1403.6652.pdf)  \n",
        "* [node2vec: Scalable Feature Learning for Networks](https://arxiv.org/pdf/1607.00653.pdf)  \n",
        "\n",
        "Code:\n",
        "\n",
        " * [node2vec doc](https://pytorch-geometric.readthedocs.io/en/latest/modules/nn.html?highlight=node2vec#torch_geometric.nn.models.Node2Vec)\n",
        " * [node2vec code](https://pytorch-geometric.readthedocs.io/en/latest/_modules/torch_geometric/nn/models/node2vec.html)\n",
        " * [Example on clustering](https://github.com/rusty1s/pytorch_geometric/blob/master/examples/node2vec.py)\n",
        "\n",
        "\n",
        " Video walkthrough the code : \n",
        "\n",
        " * Part 1: https://www.youtube.com/watch?v=QZQBnl1QbCQ\n",
        " * Part 2: https://www.youtube.com/watch?v=5YOcpI3dB7I"
      ]
    },
    {
      "cell_type": "markdown",
      "metadata": {
        "id": "yRBP2yPC4Wfu"
      },
      "source": [
        "# Setup"
      ]
    },
    {
      "cell_type": "code",
      "metadata": {
        "id": "6Rt7xXTG-ZPV"
      },
      "source": [
        "# Install required packages.\n",
        "!pip install -q torch-cluster -f https://pytorch-geometric.com/whl/torch-1.9.0+cu102.html\n",
        "!pip install -q torch-scatter -f https://pytorch-geometric.com/whl/torch-1.9.0+cu102.html\n",
        "!pip install -q torch-sparse -f https://pytorch-geometric.com/whl/torch-1.9.0+cu102.html\n",
        "!pip install -q torch-geometric"
      ],
      "execution_count": 1,
      "outputs": []
    },
    {
      "cell_type": "code",
      "metadata": {
        "id": "lWYjdX-v4Wfv"
      },
      "source": [
        "from torch_geometric.nn import Node2Vec\n",
        "import os.path as osp\n",
        "import torch\n",
        "import matplotlib.pyplot as plt\n",
        "from sklearn.manifold import TSNE\n",
        "from torch_geometric.datasets import Planetoid\n",
        "from tqdm.notebook import tqdm"
      ],
      "execution_count": 2,
      "outputs": []
    },
    {
      "cell_type": "code",
      "metadata": {
        "id": "WUv2LvO_4Wfx"
      },
      "source": [
        "dataset = 'Cora'\n",
        "path = osp.join('.', 'data', dataset)\n",
        "dataset = Planetoid(path, dataset)\n",
        "data = dataset[0]"
      ],
      "execution_count": 3,
      "outputs": []
    },
    {
      "cell_type": "code",
      "metadata": {
        "colab": {
          "base_uri": "https://localhost:8080/"
        },
        "id": "-NGSxW39Hk1-",
        "outputId": "d4b62cdd-d2cc-4e22-dd9d-44ecf3fb0613"
      },
      "source": [
        "data"
      ],
      "execution_count": 4,
      "outputs": [
        {
          "output_type": "execute_result",
          "data": {
            "text/plain": [
              "Data(edge_index=[2, 10556], test_mask=[2708], train_mask=[2708], val_mask=[2708], x=[2708, 1433], y=[2708])"
            ]
          },
          "metadata": {
            "tags": []
          },
          "execution_count": 4
        }
      ]
    },
    {
      "cell_type": "code",
      "metadata": {
        "id": "KdYQQ8jG4Wfy"
      },
      "source": [
        "device = 'cuda' if torch.cuda.is_available() else 'cpu'\n",
        "model = Node2Vec(data.edge_index, embedding_dim=128, \n",
        "                 walk_length=20,                        # lenght of rw\n",
        "                 context_size=10, walks_per_node=20,\n",
        "                 num_negative_samples=1, \n",
        "                 p=200, q=1,                             # bias parameters\n",
        "                 sparse=True).to(device)"
      ],
      "execution_count": 5,
      "outputs": []
    },
    {
      "cell_type": "code",
      "metadata": {
        "colab": {
          "base_uri": "https://localhost:8080/"
        },
        "id": "ymvZJsxlQAmG",
        "outputId": "00e872ba-f6d5-43d5-8da5-d3fa1485fc73"
      },
      "source": [
        "model"
      ],
      "execution_count": 6,
      "outputs": [
        {
          "output_type": "execute_result",
          "data": {
            "text/plain": [
              "Node2Vec(2708, 128)"
            ]
          },
          "metadata": {
            "tags": []
          },
          "execution_count": 6
        }
      ]
    },
    {
      "cell_type": "markdown",
      "metadata": {
        "id": "8lgxytC64Wfz"
      },
      "source": [
        "# Random walks"
      ]
    },
    {
      "cell_type": "markdown",
      "metadata": {
        "id": "bD7rJUsr4Wf0"
      },
      "source": [
        "### The data loader"
      ]
    },
    {
      "cell_type": "code",
      "metadata": {
        "colab": {
          "base_uri": "https://localhost:8080/"
        },
        "id": "bJ470hVh4Wf1",
        "outputId": "808b0256-0235-404a-d27e-c5e57553e9c6"
      },
      "source": [
        "loader = model.loader(batch_size=128, shuffle=True, num_workers=4)"
      ],
      "execution_count": 7,
      "outputs": [
        {
          "output_type": "stream",
          "text": [
            "/usr/local/lib/python3.7/dist-packages/torch/utils/data/dataloader.py:481: UserWarning: This DataLoader will create 4 worker processes in total. Our suggested max number of worker in current system is 2, which is smaller than what this DataLoader is going to create. Please be aware that excessive worker creation might get DataLoader running slow or even freeze, lower the worker number to avoid potential slowness/freeze if necessary.\n",
            "  cpuset_checked))\n"
          ],
          "name": "stderr"
        }
      ]
    },
    {
      "cell_type": "code",
      "metadata": {
        "colab": {
          "base_uri": "https://localhost:8080/"
        },
        "id": "oK-asqUT4Wf3",
        "outputId": "53f4292c-662a-42dc-f5ac-18cff704b9d7"
      },
      "source": [
        "for idx, (pos_rw, neg_rw) in enumerate(loader):\n",
        "    print(idx, pos_rw.shape, neg_rw.shape)                  #pow_rw size = batch_size*(walk_length-context_size+1)*walks_per_node"
      ],
      "execution_count": 8,
      "outputs": [
        {
          "output_type": "stream",
          "text": [
            "/usr/local/lib/python3.7/dist-packages/torch/utils/data/dataloader.py:481: UserWarning: This DataLoader will create 4 worker processes in total. Our suggested max number of worker in current system is 2, which is smaller than what this DataLoader is going to create. Please be aware that excessive worker creation might get DataLoader running slow or even freeze, lower the worker number to avoid potential slowness/freeze if necessary.\n",
            "  cpuset_checked))\n"
          ],
          "name": "stderr"
        },
        {
          "output_type": "stream",
          "text": [
            "0 torch.Size([28160, 10]) torch.Size([28160, 10])\n",
            "1 torch.Size([28160, 10]) torch.Size([28160, 10])\n",
            "2 torch.Size([28160, 10]) torch.Size([28160, 10])\n",
            "3 torch.Size([28160, 10]) torch.Size([28160, 10])\n",
            "4 torch.Size([28160, 10]) torch.Size([28160, 10])\n",
            "5 torch.Size([28160, 10]) torch.Size([28160, 10])\n",
            "6 torch.Size([28160, 10]) torch.Size([28160, 10])\n",
            "7 torch.Size([28160, 10]) torch.Size([28160, 10])\n",
            "8 torch.Size([28160, 10]) torch.Size([28160, 10])\n",
            "9 torch.Size([28160, 10]) torch.Size([28160, 10])\n",
            "10 torch.Size([28160, 10]) torch.Size([28160, 10])\n",
            "11 torch.Size([28160, 10]) torch.Size([28160, 10])\n",
            "12 torch.Size([28160, 10]) torch.Size([28160, 10])\n",
            "13 torch.Size([28160, 10]) torch.Size([28160, 10])\n",
            "14 torch.Size([28160, 10]) torch.Size([28160, 10])\n",
            "15 torch.Size([28160, 10]) torch.Size([28160, 10])\n",
            "16 torch.Size([28160, 10]) torch.Size([28160, 10])\n",
            "17 torch.Size([28160, 10]) torch.Size([28160, 10])\n",
            "18 torch.Size([28160, 10]) torch.Size([28160, 10])\n",
            "19 torch.Size([28160, 10]) torch.Size([28160, 10])\n",
            "20 torch.Size([28160, 10]) torch.Size([28160, 10])\n",
            "21 torch.Size([4400, 10]) torch.Size([4400, 10])\n"
          ],
          "name": "stdout"
        }
      ]
    },
    {
      "cell_type": "code",
      "metadata": {
        "colab": {
          "base_uri": "https://localhost:8080/"
        },
        "id": "-svmS0Hl4Wf6",
        "outputId": "3880c8bc-88be-4b57-ed1c-afb678aa103a"
      },
      "source": [
        "idx, (pos_rw, neg_rw) = next(enumerate(loader))"
      ],
      "execution_count": 9,
      "outputs": [
        {
          "output_type": "stream",
          "text": [
            "/usr/local/lib/python3.7/dist-packages/torch/utils/data/dataloader.py:481: UserWarning: This DataLoader will create 4 worker processes in total. Our suggested max number of worker in current system is 2, which is smaller than what this DataLoader is going to create. Please be aware that excessive worker creation might get DataLoader running slow or even freeze, lower the worker number to avoid potential slowness/freeze if necessary.\n",
            "  cpuset_checked))\n"
          ],
          "name": "stderr"
        }
      ]
    },
    {
      "cell_type": "code",
      "metadata": {
        "colab": {
          "base_uri": "https://localhost:8080/"
        },
        "id": "bV6MTlvO4Wf7",
        "outputId": "af4c2add-da21-4b72-9ed8-d9329def4a3c"
      },
      "source": [
        "idx"
      ],
      "execution_count": 10,
      "outputs": [
        {
          "output_type": "execute_result",
          "data": {
            "text/plain": [
              "0"
            ]
          },
          "metadata": {
            "tags": []
          },
          "execution_count": 10
        }
      ]
    },
    {
      "cell_type": "code",
      "metadata": {
        "colab": {
          "base_uri": "https://localhost:8080/"
        },
        "id": "XjbfdyLR4Wf8",
        "outputId": "6b82c283-e72b-4089-e679-a50bbf0cc3a5"
      },
      "source": [
        "(pos_rw.shape, neg_rw.shape)"
      ],
      "execution_count": 11,
      "outputs": [
        {
          "output_type": "execute_result",
          "data": {
            "text/plain": [
              "(torch.Size([28160, 10]), torch.Size([28160, 10]))"
            ]
          },
          "metadata": {
            "tags": []
          },
          "execution_count": 11
        }
      ]
    },
    {
      "cell_type": "code",
      "metadata": {
        "colab": {
          "base_uri": "https://localhost:8080/"
        },
        "id": "DF2YzoHE4Wf-",
        "outputId": "2b2475b4-f3c7-4ae2-e7f8-a4fbd0546f79"
      },
      "source": [
        "pos_rw"
      ],
      "execution_count": 12,
      "outputs": [
        {
          "output_type": "execute_result",
          "data": {
            "text/plain": [
              "tensor([[ 670, 2606,  670,  ..., 2606,  670,  267],\n",
              "        [ 858, 2502,  858,  ..., 2502,  858, 2502],\n",
              "        [1808, 1810,  230,  ...,  465, 1403, 2317],\n",
              "        ...,\n",
              "        [1701, 1665,  962,  ..., 1621, 1424, 1621],\n",
              "        [2626, 2625, 2626,  ..., 2625, 2626, 2625],\n",
              "        [1831,  824, 1831,  ...,  824, 1831,  824]])"
            ]
          },
          "metadata": {
            "tags": []
          },
          "execution_count": 12
        }
      ]
    },
    {
      "cell_type": "code",
      "metadata": {
        "colab": {
          "base_uri": "https://localhost:8080/"
        },
        "id": "kEZt_atO4Wf_",
        "outputId": "488d49b1-d5a0-4c1c-d317-90ae92db77b2"
      },
      "source": [
        "neg_rw"
      ],
      "execution_count": 13,
      "outputs": [
        {
          "output_type": "execute_result",
          "data": {
            "text/plain": [
              "tensor([[ 670,  111, 2484,  ...,  345,  178, 1018],\n",
              "        [ 858, 2347,  602,  ..., 1022, 2336, 2298],\n",
              "        [1808, 1770,  780,  ..., 2108, 1154,  355],\n",
              "        ...,\n",
              "        [2190,  794,  288,  ..., 2559, 2384, 2114],\n",
              "        [1998, 1139, 2648,  ..., 1724,  853, 1010],\n",
              "        [1727, 1734, 1535,  ..., 1883, 2683,   86]])"
            ]
          },
          "metadata": {
            "tags": []
          },
          "execution_count": 13
        }
      ]
    },
    {
      "cell_type": "markdown",
      "metadata": {
        "id": "lhvGJnjU4WgA"
      },
      "source": [
        "### Visualization"
      ]
    },
    {
      "cell_type": "code",
      "metadata": {
        "id": "9rVynzlD4WgA"
      },
      "source": [
        "import networkx as nx \n",
        "edge_tuples = [tuple(x) for x in data.edge_index.numpy().transpose()]\n",
        "G = nx.from_edgelist(edge_tuples)\n",
        "pos = nx.spring_layout(G, center=[0.5, 0.5])\n",
        "nx.set_node_attributes(G, pos, 'pos')"
      ],
      "execution_count": 14,
      "outputs": []
    },
    {
      "cell_type": "code",
      "metadata": {
        "colab": {
          "base_uri": "https://localhost:8080/",
          "height": 629
        },
        "id": "c70sW-_K4WgB",
        "outputId": "8405fe0d-f456-4637-e600-3c7493d22d73"
      },
      "source": [
        "nodelist = next(enumerate(loader))[1][0][0].tolist()\n",
        "walk = nx.path_graph(len(nodelist))\n",
        "nx.set_node_attributes(walk, {idx: pos[node_id] for idx, node_id in enumerate(nodelist)}, 'pos')\n",
        "\n",
        "fig = plt.figure(figsize=(20, 10))\n",
        "ax = fig.add_subplot(1, 2, 1)\n",
        "nx.draw_networkx_nodes(G, \n",
        "                       ax=ax,\n",
        "                       pos=nx.get_node_attributes(G, 'pos'), \n",
        "                       node_size=5,\n",
        "                       alpha=0.3,\n",
        "                       node_color='b')\n",
        "nx.draw(walk, \n",
        "        node_size=40,\n",
        "        node_color='r',\n",
        "        ax=ax,\n",
        "        pos=nx.get_node_attributes(walk, 'pos'), \n",
        "        width=2,\n",
        "        edge_color='r') \n",
        "ax = fig.add_subplot(1, 2, 2)\n",
        "nx.draw(walk, \n",
        "        node_size=40,\n",
        "        node_color='r',\n",
        "        ax=ax,\n",
        "        pos=nx.get_node_attributes(walk, 'pos'), \n",
        "        width=2,\n",
        "        edge_color='r') "
      ],
      "execution_count": 15,
      "outputs": [
        {
          "output_type": "stream",
          "text": [
            "/usr/local/lib/python3.7/dist-packages/torch/utils/data/dataloader.py:481: UserWarning: This DataLoader will create 4 worker processes in total. Our suggested max number of worker in current system is 2, which is smaller than what this DataLoader is going to create. Please be aware that excessive worker creation might get DataLoader running slow or even freeze, lower the worker number to avoid potential slowness/freeze if necessary.\n",
            "  cpuset_checked))\n"
          ],
          "name": "stderr"
        },
        {
          "output_type": "display_data",
          "data": {
            "image/png": "[encoded data removed]",
            "text/plain": [
              "<Figure size 1440x720 with 2 Axes>"
            ]
          },
          "metadata": {
            "tags": []
          }
        }
      ]
    },
    {
      "cell_type": "markdown",
      "metadata": {
        "id": "H94QVPGg4WgE"
      },
      "source": [
        "# Training"
      ]
    },
    {
      "cell_type": "markdown",
      "metadata": {
        "id": "wjUkTTjP4WgF"
      },
      "source": [
        "### Model definition"
      ]
    },
    {
      "cell_type": "code",
      "metadata": {
        "colab": {
          "base_uri": "https://localhost:8080/"
        },
        "id": "J4oatqbj4WgF",
        "outputId": "0ea828c4-ff95-490e-d0c6-e85a343d3cbb"
      },
      "source": [
        "model = Node2Vec(data.edge_index, embedding_dim=128, walk_length=20,\n",
        "                 context_size=10, walks_per_node=10,\n",
        "                 num_negative_samples=1, p=1, q=1, sparse=True).to(device)\n",
        "\n",
        "loader = model.loader(batch_size=128, shuffle=True, num_workers=4)\n",
        "optimizer = torch.optim.SparseAdam(list(model.parameters()), lr=0.01)"
      ],
      "execution_count": 16,
      "outputs": [
        {
          "output_type": "stream",
          "text": [
            "/usr/local/lib/python3.7/dist-packages/torch/utils/data/dataloader.py:481: UserWarning: This DataLoader will create 4 worker processes in total. Our suggested max number of worker in current system is 2, which is smaller than what this DataLoader is going to create. Please be aware that excessive worker creation might get DataLoader running slow or even freeze, lower the worker number to avoid potential slowness/freeze if necessary.\n",
            "  cpuset_checked))\n"
          ],
          "name": "stderr"
        }
      ]
    },
    {
      "cell_type": "markdown",
      "metadata": {
        "id": "vPghn1WS4WgG"
      },
      "source": [
        "### Training function"
      ]
    },
    {
      "cell_type": "code",
      "metadata": {
        "id": "HYYLOtI64WgH"
      },
      "source": [
        "def train():\n",
        "    model.train()\n",
        "    total_loss = 0\n",
        "    for pos_rw, neg_rw in tqdm(loader):\n",
        "        optimizer.zero_grad()\n",
        "        loss = model.loss(pos_rw.to(device), neg_rw.to(device))\n",
        "        loss.backward()\n",
        "        optimizer.step()\n",
        "        total_loss += loss.item()\n",
        "    return total_loss / len(loader)"
      ],
      "execution_count": 17,
      "outputs": []
    },
    {
      "cell_type": "markdown",
      "metadata": {
        "id": "zIh8mGs04WgI"
      },
      "source": [
        "### Test function"
      ]
    },
    {
      "cell_type": "code",
      "metadata": {
        "colab": {
          "base_uri": "https://localhost:8080/"
        },
        "id": "GrMzbm3b4WgI",
        "outputId": "9c7f1c4e-4267-4a03-9e5a-4610fc6dc052"
      },
      "source": [
        "data"
      ],
      "execution_count": 18,
      "outputs": [
        {
          "output_type": "execute_result",
          "data": {
            "text/plain": [
              "Data(edge_index=[2, 10556], test_mask=[2708], train_mask=[2708], val_mask=[2708], x=[2708, 1433], y=[2708])"
            ]
          },
          "metadata": {
            "tags": []
          },
          "execution_count": 18
        }
      ]
    },
    {
      "cell_type": "code",
      "metadata": {
        "colab": {
          "base_uri": "https://localhost:8080/"
        },
        "id": "LwYRXxxZ4WgJ",
        "outputId": "c6b1437c-dd43-4b88-dd2b-a51a0d214dcb"
      },
      "source": [
        "data.y"
      ],
      "execution_count": 19,
      "outputs": [
        {
          "output_type": "execute_result",
          "data": {
            "text/plain": [
              "tensor([3, 4, 4,  ..., 3, 3, 3])"
            ]
          },
          "metadata": {
            "tags": []
          },
          "execution_count": 19
        }
      ]
    },
    {
      "cell_type": "code",
      "metadata": {
        "colab": {
          "base_uri": "https://localhost:8080/"
        },
        "id": "XUo1a1A44WgK",
        "outputId": "863ccaa1-f9db-4a42-d27c-3c76d39d4b95"
      },
      "source": [
        "data.y.unique()"
      ],
      "execution_count": 20,
      "outputs": [
        {
          "output_type": "execute_result",
          "data": {
            "text/plain": [
              "tensor([0, 1, 2, 3, 4, 5, 6])"
            ]
          },
          "metadata": {
            "tags": []
          },
          "execution_count": 20
        }
      ]
    },
    {
      "cell_type": "code",
      "metadata": {
        "id": "f0m5TC444WgL"
      },
      "source": [
        "@torch.no_grad()\n",
        "def test():\n",
        "    model.eval()\n",
        "    z = model()\n",
        "    acc = model.test(z[data.train_mask], data.y[data.train_mask],\n",
        "                     z[data.test_mask], data.y[data.test_mask],\n",
        "                     max_iter=150)\n",
        "    return acc"
      ],
      "execution_count": 21,
      "outputs": []
    },
    {
      "cell_type": "markdown",
      "metadata": {
        "id": "l82sUefb4WgM"
      },
      "source": [
        "### Training"
      ]
    },
    {
      "cell_type": "code",
      "metadata": {
        "id": "JJVYAiT44WgN"
      },
      "source": [
        "for epoch in range(1, 201):\n",
        "    loss = train()\n",
        "    acc = test()\n",
        "    print(f'Epoch: {epoch:02d}, Loss: {loss:.4f}, Acc: {acc:.4f}')"
      ],
      "execution_count": null,
      "outputs": []
    },
    {
      "cell_type": "markdown",
      "metadata": {
        "id": "z1_59eBo4WgQ"
      },
      "source": [
        "### Visualization"
      ]
    },
    {
      "cell_type": "code",
      "metadata": {
        "id": "kLJ2Okv44WgQ"
      },
      "source": [
        "@torch.no_grad()\n",
        "def plot_points(colors):\n",
        "    model.eval()\n",
        "    z = model(torch.arange(data.num_nodes, device=device))\n",
        "    z = TSNE(n_components=2).fit_transform(z.cpu().numpy())\n",
        "    y = data.y.cpu().numpy()\n",
        "\n",
        "    plt.figure(figsize=(8, 8))\n",
        "    for i in range(dataset.num_classes):\n",
        "        plt.scatter(z[y == i, 0], z[y == i, 1], s=20, color=colors[i])\n",
        "    plt.axis('off')\n",
        "    plt.show()\n",
        "\n",
        "colors = [\n",
        "    '#ffc0cb', '#bada55', '#008080', '#420420', '#7fe5f0', '#065535',\n",
        "    '#ffd700'\n",
        "]\n",
        "plot_points(colors)"
      ],
      "execution_count": null,
      "outputs": []
    },
    {
      "cell_type": "markdown",
      "metadata": {
        "id": "0YOKDY-oH3YV"
      },
      "source": [
        "---------------------------------"
      ]
    }
  ]
}