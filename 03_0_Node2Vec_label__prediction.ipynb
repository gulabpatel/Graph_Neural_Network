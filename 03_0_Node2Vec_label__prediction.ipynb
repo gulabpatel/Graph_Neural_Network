{
  "nbformat": 4,
  "nbformat_minor": 0,
  "metadata": {
    "kernelspec": {
      "display_name": "Python 3",
      "language": "python",
      "name": "python3"
    },
    "language_info": {
      "codemirror_mode": {
        "name": "ipython",
        "version": 3
      },
      "file_extension": ".py",
      "mimetype": "text/x-python",
      "name": "python",
      "nbconvert_exporter": "python",
      "pygments_lexer": "ipython3",
      "version": "3.8.5"
    },
    "colab": {
      "name": "03.0: Node2Vec_label _prediction.ipynb",
      "provenance": [],
      "include_colab_link": true
    }
  },
  "cells": [
    {
      "cell_type": "markdown",
      "metadata": {
        "id": "view-in-github",
        "colab_type": "text"
      },
      "source": [
        "<a href=\"https://colab.research.google.com/github/gulabpatel/Graph_Neural_Network/blob/main/03.0%3A%20Node2Vec_label__prediction.ipynb\" target=\"_parent\"><img src=\"https://colab.research.google.com/assets/colab-badge.svg\" alt=\"Open In Colab\"/></a>"
      ]
    },
    {
      "cell_type": "markdown",
      "metadata": {
        "id": "1NsH1qOuQMd6"
      },
      "source": [
        "Video walkthrough the code : https://www.youtube.com/watch?v=m1G7oS9hmwE"
      ]
    },
    {
      "cell_type": "code",
      "metadata": {
        "id": "xPk4T6B8iv03",
        "colab": {
          "base_uri": "https://localhost:8080/"
        },
        "outputId": "c2712122-eda0-4d04-edd5-e371b1cd462d"
      },
      "source": [
        "# Install required packages.\n",
        "!pip install -q torch-cluster -f https://pytorch-geometric.com/whl/torch-1.9.0+cu102.html\n",
        "!pip install -q torch-scatter -f https://pytorch-geometric.com/whl/torch-1.9.0+cu102.html\n",
        "!pip install -q torch-sparse -f https://pytorch-geometric.com/whl/torch-1.9.0+cu102.html\n",
        "!pip install -q torch-geometric"
      ],
      "execution_count": 1,
      "outputs": [
        {
          "output_type": "stream",
          "text": [
            "\u001b[K     |████████████████████████████████| 926 kB 5.3 MB/s \n",
            "\u001b[K     |████████████████████████████████| 3.0 MB 4.7 MB/s \n",
            "\u001b[K     |████████████████████████████████| 1.6 MB 1.4 MB/s \n",
            "\u001b[K     |████████████████████████████████| 222 kB 5.1 MB/s \n",
            "\u001b[K     |████████████████████████████████| 376 kB 61.2 MB/s \n",
            "\u001b[K     |████████████████████████████████| 45 kB 3.5 MB/s \n",
            "\u001b[?25h  Building wheel for torch-geometric (setup.py) ... \u001b[?25l\u001b[?25hdone\n"
          ],
          "name": "stdout"
        }
      ]
    },
    {
      "cell_type": "code",
      "metadata": {
        "id": "55od3lKOig9i"
      },
      "source": [
        "from torch_geometric.nn import Node2Vec\n",
        "import os.path as osp\n",
        "import torch\n",
        "import matplotlib.pyplot as plt\n",
        "from sklearn.manifold import TSNE\n",
        "from torch_geometric.datasets import Planetoid\n",
        "from tqdm.notebook import tqdm\n",
        "from torch_geometric.datasets import TUDataset\n",
        "import numpy as np"
      ],
      "execution_count": 2,
      "outputs": []
    },
    {
      "cell_type": "markdown",
      "metadata": {
        "id": "VI1cUu77ig9q"
      },
      "source": [
        "# Node2Vec for link prediction\n",
        "\n",
        "In this tutorial, we use the node embedding produced by Node2Vec, then we compute the edge embedding $(emb(E))$ as follow:\n",
        "\n",
        "$$\n",
        "emb(E) = emb(u,v) = \\frac{1}{2}(Emb(u) + Emb(v))\n",
        "$$\n",
        "\n",
        "given the edge embedding we predict the binary label of the node using RandomForestClassifier\n"
      ]
    },
    {
      "cell_type": "markdown",
      "metadata": {
        "id": "6SyHIAygig9r"
      },
      "source": [
        "## step 1\n",
        "Build a dataset different from cora :)  \n",
        "  \n",
        "We use AIDS[1][2] a dataset representing 2000 moleculas compounds, each moleculas is represented as a graph and each graph has an attribute indicating if the compound is active or inactive against HIV. \n",
        "\n",
        "\n",
        "<sub>[1] Riesen, K. and Bunke, H.: IAM Graph Database Repository for Graph Based Pattern Recognition and Machine Learning. In: da Vitora Lobo, N. et al. (Eds.), SSPR&SPR 2008, LNCS, vol. 5342, pp. 287-297, 2008.  \n",
        "[2] AIDS Antiviral Screen Data (2004)"
      ]
    },
    {
      "cell_type": "code",
      "metadata": {
        "id": "ph3S5qQWig9s",
        "colab": {
          "base_uri": "https://localhost:8080/"
        },
        "outputId": "43d7be7c-7a91-4ceb-b5d1-63da67611f5c"
      },
      "source": [
        "device = torch.device('cuda' if torch.cuda.is_available() else 'cpu')\n",
        "data = TUDataset(\".\", name=\"AIDS\")"
      ],
      "execution_count": 3,
      "outputs": [
        {
          "output_type": "stream",
          "text": [
            "Downloading https://www.chrsmrrs.com/graphkerneldatasets/AIDS.zip\n",
            "Extracting ./AIDS/AIDS.zip\n",
            "Processing...\n",
            "Done!\n"
          ],
          "name": "stdout"
        }
      ]
    },
    {
      "cell_type": "markdown",
      "metadata": {
        "id": "z-fnQQp2ig9t"
      },
      "source": [
        "### The dataset"
      ]
    },
    {
      "cell_type": "code",
      "metadata": {
        "id": "Vi55aK7oig9t",
        "colab": {
          "base_uri": "https://localhost:8080/"
        },
        "outputId": "a0397e37-a881-4212-bbbe-e43bac41297e"
      },
      "source": [
        "print(data)\n",
        "print(\"number of classes: \",data.num_classes,\"\\t\\t(active),(inactive)\")\n",
        "print(\"number of features: \",data.num_features)\n",
        "print(\"number of edge labels: \",data.num_edge_labels)"
      ],
      "execution_count": 4,
      "outputs": [
        {
          "output_type": "stream",
          "text": [
            "AIDS(2000)\n",
            "number of classes:  2 \t\t(active),(inactive)\n",
            "number of features:  38\n",
            "number of edge labels:  3\n"
          ],
          "name": "stdout"
        }
      ]
    },
    {
      "cell_type": "code",
      "metadata": {
        "id": "JrIr8R9_ig9w",
        "colab": {
          "base_uri": "https://localhost:8080/"
        },
        "outputId": "dc8500f4-0669-4ce0-d7c4-a7bba7bb8dbc"
      },
      "source": [
        "data1 = data[1]\n",
        "print(data1)\n",
        "\n",
        "# extract edge list\n",
        "edge_list = data1.edge_index.t().numpy()\n",
        "print(edge_list[10:])"
      ],
      "execution_count": 5,
      "outputs": [
        {
          "output_type": "stream",
          "text": [
            "Data(edge_attr=[22, 3], edge_index=[2, 22], x=[11, 38], y=[1])\n",
            "[[ 4  3]\n",
            " [ 4  5]\n",
            " [ 4  9]\n",
            " [ 4 10]\n",
            " [ 5  0]\n",
            " [ 5  4]\n",
            " [ 5  8]\n",
            " [ 6  1]\n",
            " [ 7  3]\n",
            " [ 8  5]\n",
            " [ 9  4]\n",
            " [10  4]]\n"
          ],
          "name": "stdout"
        }
      ]
    },
    {
      "cell_type": "code",
      "metadata": {
        "id": "7SHwLUL6ig9x",
        "colab": {
          "base_uri": "https://localhost:8080/"
        },
        "outputId": "735310a4-7e4b-4f4c-ffb6-f7085fb6197d"
      },
      "source": [
        "# extract edge attributes\n",
        "edge_attr = data1.edge_attr.numpy()\n",
        "print(edge_attr[0:10])"
      ],
      "execution_count": 6,
      "outputs": [
        {
          "output_type": "stream",
          "text": [
            "[[1. 0. 0.]\n",
            " [1. 0. 0.]\n",
            " [1. 0. 0.]\n",
            " [1. 0. 0.]\n",
            " [0. 1. 0.]\n",
            " [1. 0. 0.]\n",
            " [1. 0. 0.]\n",
            " [1. 0. 0.]\n",
            " [1. 0. 0.]\n",
            " [0. 1. 0.]]\n"
          ],
          "name": "stdout"
        }
      ]
    },
    {
      "cell_type": "code",
      "metadata": {
        "id": "corC3ycyig9y",
        "colab": {
          "base_uri": "https://localhost:8080/"
        },
        "outputId": "47a245cf-a693-4447-c0a8-16bc88cb1758"
      },
      "source": [
        "import networkx as nx\n",
        "\n",
        "# build the graph\n",
        "graph1 = nx.Graph()\n",
        "\n",
        "for i in range(len(edge_list)):\n",
        "    u = edge_list[i][0]\n",
        "    v = edge_list[i][1]\n",
        "    graph1.add_edge(u,v,label=edge_attr[i])\n",
        "    \n",
        "print(graph1.edges(data=True))"
      ],
      "execution_count": 7,
      "outputs": [
        {
          "output_type": "stream",
          "text": [
            "[(0, 1, {'label': array([1., 0., 0.], dtype=float32)}), (0, 5, {'label': array([1., 0., 0.], dtype=float32)}), (1, 2, {'label': array([1., 0., 0.], dtype=float32)}), (1, 6, {'label': array([0., 1., 0.], dtype=float32)}), (5, 4, {'label': array([1., 0., 0.], dtype=float32)}), (5, 8, {'label': array([1., 0., 0.], dtype=float32)}), (2, 3, {'label': array([1., 0., 0.], dtype=float32)}), (3, 4, {'label': array([1., 0., 0.], dtype=float32)}), (3, 7, {'label': array([0., 1., 0.], dtype=float32)}), (4, 9, {'label': array([1., 0., 0.], dtype=float32)}), (4, 10, {'label': array([1., 0., 0.], dtype=float32)})]\n"
          ],
          "name": "stdout"
        }
      ]
    },
    {
      "cell_type": "code",
      "metadata": {
        "id": "m7alGbHGig90",
        "colab": {
          "base_uri": "https://localhost:8080/",
          "height": 319
        },
        "outputId": "21956f4d-d370-4a30-b44f-4f702576cdd6"
      },
      "source": [
        "pos = nx.spring_layout(graph1)\n",
        "nx.draw(graph1,pos)\n",
        "nx.draw_networkx_edge_labels(graph1,pos,nx.get_edge_attributes(graph1,'label'))\n",
        "plt.show()"
      ],
      "execution_count": 8,
      "outputs": [
        {
          "output_type": "display_data",
          "data": {
            "image/png": "[encoded data removed]",
            "text/plain": [
              "<Figure size 432x288 with 1 Axes>"
            ]
          },
          "metadata": {
            "tags": []
          }
        }
      ]
    },
    {
      "cell_type": "markdown",
      "metadata": {
        "id": "u3g8avloig92"
      },
      "source": [
        "### Use only one moleculas compound"
      ]
    },
    {
      "cell_type": "code",
      "metadata": {
        "id": "iufqSavPig93",
        "colab": {
          "base_uri": "https://localhost:8080/"
        },
        "outputId": "1b981cfe-2f75-4992-c1cf-0b1dba0a1c27"
      },
      "source": [
        "data.data"
      ],
      "execution_count": 9,
      "outputs": [
        {
          "output_type": "execute_result",
          "data": {
            "text/plain": [
              "Data(edge_attr=[64780, 3], edge_index=[2, 64780], x=[31385, 38], y=[2000])"
            ]
          },
          "metadata": {
            "tags": []
          },
          "execution_count": 9
        }
      ]
    },
    {
      "cell_type": "code",
      "metadata": {
        "id": "l8EeEaCbig94",
        "colab": {
          "base_uri": "https://localhost:8080/"
        },
        "outputId": "fbb0e0e3-12e6-4110-a555-27e2fd1f3381"
      },
      "source": [
        "data = data[10]\n",
        "data"
      ],
      "execution_count": 10,
      "outputs": [
        {
          "output_type": "execute_result",
          "data": {
            "text/plain": [
              "Data(edge_attr=[166, 3], edge_index=[2, 166], x=[77, 38], y=[1])"
            ]
          },
          "metadata": {
            "tags": []
          },
          "execution_count": 10
        }
      ]
    },
    {
      "cell_type": "markdown",
      "metadata": {
        "id": "gLDukc4Uig95"
      },
      "source": [
        "### build the graph with\n",
        "train_mask, test_mask, val_mask"
      ]
    },
    {
      "cell_type": "code",
      "metadata": {
        "id": "2rB333yKig95",
        "colab": {
          "base_uri": "https://localhost:8080/"
        },
        "outputId": "3df06eef-d742-497e-fef7-4b65b160df00"
      },
      "source": [
        "np.random.seed(10)\n",
        "# get the nodes\n",
        "nodes = data.edge_index.t().numpy()\n",
        "print(len(nodes))\n",
        "nodes = np.unique(list(nodes[:,0]) + list(nodes[:,1]))\n",
        "\n",
        "np.random.shuffle(nodes) # shuffle node order\n",
        "print(len(nodes))"
      ],
      "execution_count": 11,
      "outputs": [
        {
          "output_type": "stream",
          "text": [
            "166\n",
            "76\n"
          ],
          "name": "stdout"
        }
      ]
    },
    {
      "cell_type": "code",
      "metadata": {
        "id": "MihT9azTig96"
      },
      "source": [
        "# get train test and val sizes: (70% - 15% - 15%)\n",
        "train_size = int(len(nodes)*0.7)\n",
        "test_size = int(len(nodes)*0.85) - train_size\n",
        "val_size = len(nodes) - train_size - test_size"
      ],
      "execution_count": 12,
      "outputs": []
    },
    {
      "cell_type": "code",
      "metadata": {
        "id": "rapHPdVUig97",
        "colab": {
          "base_uri": "https://localhost:8080/"
        },
        "outputId": "b9159b35-981a-4ced-ecac-e08afaaf4557"
      },
      "source": [
        "# get train test and validation set of nodes\n",
        "train_set = nodes[0:train_size]\n",
        "test_set = nodes[train_size:train_size+test_size]\n",
        "val_set = nodes[train_size+test_size:]\n",
        "\n",
        "\n",
        "print(len(train_set),len(test_set),len(val_set))\n",
        "print(len(train_set)+len(test_set)+len(val_set) == len(nodes))\n",
        "\n",
        "print(\"train set\\t\",train_set[:10])\n",
        "print(\"test set \\t\",test_set[:10])\n",
        "print(\"val set  \\t\",val_set[:10])"
      ],
      "execution_count": 13,
      "outputs": [
        {
          "output_type": "stream",
          "text": [
            "53 11 12\n",
            "True\n",
            "train set\t [68 26 21  3 44 41  6 20  2 60]\n",
            "test set \t [13 73 51 49 14 67 70 33 58 43]\n",
            "val set  \t [54 11 16 36 40  0  8 29 28 64]\n"
          ],
          "name": "stdout"
        }
      ]
    },
    {
      "cell_type": "code",
      "metadata": {
        "id": "_C0YgMNCig98",
        "colab": {
          "base_uri": "https://localhost:8080/"
        },
        "outputId": "10d54311-dab9-4937-c7c9-4e2202ccc5b8"
      },
      "source": [
        "# build test train val masks\n",
        "\n",
        "train_mask = torch.zeros(len(nodes),dtype=torch.long, device=device)\n",
        "for i in train_set:\n",
        "    train_mask[i] = 1.\n",
        "\n",
        "test_mask = torch.zeros(len(nodes),dtype=torch.long, device=device)\n",
        "for i in test_set:\n",
        "    test_mask[i] = 1.\n",
        "    \n",
        "val_mask = torch.zeros(len(nodes),dtype=torch.long, device=device)\n",
        "for i in val_set:\n",
        "    val_mask[i] = 1.\n",
        "    \n",
        "print(\"train mask \\t\",train_mask[0:15])\n",
        "print(\"test mask  \\t\",test_mask[0:15])\n",
        "print(\"val mask   \\t\",val_mask[0:15]) "
      ],
      "execution_count": 14,
      "outputs": [
        {
          "output_type": "stream",
          "text": [
            "train mask \t tensor([0, 1, 1, 1, 1, 1, 1, 1, 0, 0, 1, 0, 1, 0, 0])\n",
            "test mask  \t tensor([0, 0, 0, 0, 0, 0, 0, 0, 0, 0, 0, 0, 0, 1, 1])\n",
            "val mask   \t tensor([1, 0, 0, 0, 0, 0, 0, 0, 1, 1, 0, 1, 0, 0, 0])\n"
          ],
          "name": "stdout"
        }
      ]
    },
    {
      "cell_type": "code",
      "metadata": {
        "id": "n39ewZ6aig99",
        "colab": {
          "base_uri": "https://localhost:8080/"
        },
        "outputId": "e0e03376-2476-45d8-c225-1eccdfd3b2f7"
      },
      "source": [
        "# remove from the data what do we not use.\n",
        "\n",
        "print(\"befor\\t\\t\",data)\n",
        "data.x = None\n",
        "data.edge_attr = None\n",
        "data.y = None"
      ],
      "execution_count": 15,
      "outputs": [
        {
          "output_type": "stream",
          "text": [
            "befor\t\t Data(edge_attr=[166, 3], edge_index=[2, 166], x=[77, 38], y=[1])\n"
          ],
          "name": "stdout"
        }
      ]
    },
    {
      "cell_type": "code",
      "metadata": {
        "id": "QQBuwfjbig9-",
        "colab": {
          "base_uri": "https://localhost:8080/"
        },
        "outputId": "a80d598d-b30b-4181-9786-22b20f5f0f3e"
      },
      "source": [
        "# add masks\n",
        "data.train_mask = train_mask\n",
        "data.test_mask = test_mask\n",
        "data.val_mask = val_mask\n",
        "\n",
        "print(\"after\\t\\t\",data)"
      ],
      "execution_count": 16,
      "outputs": [
        {
          "output_type": "stream",
          "text": [
            "after\t\t Data(edge_index=[2, 166], test_mask=[76], train_mask=[76], val_mask=[76])\n"
          ],
          "name": "stdout"
        }
      ]
    },
    {
      "cell_type": "markdown",
      "metadata": {
        "id": "5z6oC67Eig9_"
      },
      "source": [
        "## step 2\n",
        "Execute Node2Vec to get node embeddings"
      ]
    },
    {
      "cell_type": "code",
      "metadata": {
        "id": "IikF0bJKig9_",
        "colab": {
          "base_uri": "https://localhost:8080/"
        },
        "outputId": "308fd51b-2860-420d-d358-baeafce85b9d"
      },
      "source": [
        "model = Node2Vec(data.edge_index, embedding_dim=128, walk_length=20,\n",
        "             context_size=10, walks_per_node=10,\n",
        "             num_negative_samples=1, p=1, q=1, sparse=True).to(device)\n",
        "\n",
        "loader = model.loader(batch_size=128, shuffle=True, num_workers=4)\n",
        "optimizer = torch.optim.SparseAdam(list(model.parameters()), lr=0.01)"
      ],
      "execution_count": 17,
      "outputs": [
        {
          "output_type": "stream",
          "text": [
            "/usr/local/lib/python3.7/dist-packages/torch/utils/data/dataloader.py:481: UserWarning: This DataLoader will create 4 worker processes in total. Our suggested max number of worker in current system is 2, which is smaller than what this DataLoader is going to create. Please be aware that excessive worker creation might get DataLoader running slow or even freeze, lower the worker number to avoid potential slowness/freeze if necessary.\n",
            "  cpuset_checked))\n"
          ],
          "name": "stderr"
        }
      ]
    },
    {
      "cell_type": "code",
      "metadata": {
        "id": "s6DR6nD4ig-A",
        "colab": {
          "base_uri": "https://localhost:8080/"
        },
        "outputId": "2ca77877-d68f-48d6-9f83-c56671c52fdb"
      },
      "source": [
        "def train():\n",
        "    model.train()\n",
        "    total_loss = 0\n",
        "    for pos_rw, neg_rw in loader:\n",
        "        optimizer.zero_grad()\n",
        "        loss = model.loss(pos_rw.to(device), neg_rw.to(device))\n",
        "        loss.backward()\n",
        "        optimizer.step()\n",
        "        total_loss += loss.item()\n",
        "    return total_loss / len(loader)\n",
        "\n",
        "\n",
        "@torch.no_grad()\n",
        "def test():\n",
        "    model.eval()\n",
        "    z = model()\n",
        "    acc = model.test(z[data.train_mask], data.y[data.train_mask],\n",
        "                     z[data.test_mask], data.y[data.test_mask],\n",
        "                     max_iter=10)\n",
        "    return acc\n",
        "\n",
        "\n",
        "for epoch in range(1, 101):\n",
        "    loss = train()\n",
        "    #acc = test()\n",
        "    if epoch % 10 == 0:\n",
        "        print(f'Epoch: {epoch:02d}, Loss: {loss:.4f}')"
      ],
      "execution_count": 18,
      "outputs": [
        {
          "output_type": "stream",
          "text": [
            "/usr/local/lib/python3.7/dist-packages/torch/utils/data/dataloader.py:481: UserWarning: This DataLoader will create 4 worker processes in total. Our suggested max number of worker in current system is 2, which is smaller than what this DataLoader is going to create. Please be aware that excessive worker creation might get DataLoader running slow or even freeze, lower the worker number to avoid potential slowness/freeze if necessary.\n",
            "  cpuset_checked))\n"
          ],
          "name": "stderr"
        },
        {
          "output_type": "stream",
          "text": [
            "Epoch: 10, Loss: 7.0138\n",
            "Epoch: 20, Loss: 5.3499\n",
            "Epoch: 30, Loss: 4.4122\n",
            "Epoch: 40, Loss: 3.6664\n",
            "Epoch: 50, Loss: 3.2049\n",
            "Epoch: 60, Loss: 2.9750\n",
            "Epoch: 70, Loss: 2.7660\n",
            "Epoch: 80, Loss: 2.6103\n",
            "Epoch: 90, Loss: 2.5448\n",
            "Epoch: 100, Loss: 2.4890\n"
          ],
          "name": "stdout"
        }
      ]
    },
    {
      "cell_type": "code",
      "metadata": {
        "id": "W_D9sH8yig-C"
      },
      "source": [
        "z = model()"
      ],
      "execution_count": 19,
      "outputs": []
    },
    {
      "cell_type": "markdown",
      "metadata": {
        "id": "CUYVgHk3ig-C"
      },
      "source": [
        "### visualize node embedding"
      ]
    },
    {
      "cell_type": "code",
      "metadata": {
        "id": "N_o4I3b4ig-D"
      },
      "source": [
        "# from tensor to numpy\n",
        "emb_128 = z.detach().cpu().numpy()"
      ],
      "execution_count": 20,
      "outputs": []
    },
    {
      "cell_type": "code",
      "metadata": {
        "id": "8AHFSoz8ig-D",
        "colab": {
          "base_uri": "https://localhost:8080/",
          "height": 281
        },
        "outputId": "69bb95cb-712c-44a0-82d7-deca7aba4217"
      },
      "source": [
        "from sklearn.decomposition import PCA\n",
        "# fit and transform using PCA\n",
        "pca = PCA(n_components=2)\n",
        "emb2d = pca.fit_transform(emb_128)\n",
        "\n",
        "\n",
        "plt.title(\"node embedding in 2D\")\n",
        "plt.scatter(emb2d[:,0],emb2d[:,1])\n",
        "plt.show()"
      ],
      "execution_count": 21,
      "outputs": [
        {
          "output_type": "display_data",
          "data": {
            "image/png": "[encoded data removed]",
            "text/plain": [
              "<Figure size 432x288 with 1 Axes>"
            ]
          },
          "metadata": {
            "tags": [],
            "needs_background": "light"
          }
        }
      ]
    },
    {
      "cell_type": "markdown",
      "metadata": {
        "id": "Jvr2pp-qig-F"
      },
      "source": [
        "## Step 3\n",
        "Compute edge embedding"
      ]
    },
    {
      "cell_type": "code",
      "metadata": {
        "id": "olPIj1hYig-G"
      },
      "source": [
        "# reload AIDS dataset \n",
        "# and pick the same graph\n",
        "\n",
        "\n",
        "dataset = \"AIDS\"\n",
        "data = TUDataset(\".\", name=dataset)\n",
        "data = data[10]"
      ],
      "execution_count": 22,
      "outputs": []
    },
    {
      "cell_type": "code",
      "metadata": {
        "id": "DNk9x5cbig-G",
        "colab": {
          "base_uri": "https://localhost:8080/"
        },
        "outputId": "3fda575e-5fc6-445c-e629-6bad8dd9338a"
      },
      "source": [
        "# convert edge attributes from categorical to numerical\n",
        "edge_attr_cat = data.edge_attr.numpy()\n",
        "print(\"Categorical edge attributes:\\n\",edge_attr_cat[:3])\n",
        "\n",
        "edge_attr = []\n",
        "for i in edge_attr_cat:\n",
        "    edge_attr.append(np.nonzero(i)[0][0])\n",
        "\n",
        "print(\"\\n\\nNumerical edge attributes:\\n\",edge_attr[:3])"
      ],
      "execution_count": 23,
      "outputs": [
        {
          "output_type": "stream",
          "text": [
            "Categorical edge attributes:\n",
            " [[1. 0. 0.]\n",
            " [1. 0. 0.]\n",
            " [0. 1. 0.]]\n",
            "\n",
            "\n",
            "Numerical edge attributes:\n",
            " [0, 0, 1]\n"
          ],
          "name": "stdout"
        }
      ]
    },
    {
      "cell_type": "code",
      "metadata": {
        "id": "l93SJ1E8ig-H"
      },
      "source": [
        "# compute edge embedding\n",
        "\n",
        "edge_embedding = []\n",
        "for u,v in data.edge_index.t():\n",
        "    edge_embedding.append(np.mean([emb_128[u],emb_128[v]],0))"
      ],
      "execution_count": 24,
      "outputs": []
    },
    {
      "cell_type": "markdown",
      "metadata": {
        "id": "7PNLmBHxig-I"
      },
      "source": [
        "### visualize edge embedding\n"
      ]
    },
    {
      "cell_type": "code",
      "metadata": {
        "id": "1I27voT3ig-I",
        "colab": {
          "base_uri": "https://localhost:8080/",
          "height": 281
        },
        "outputId": "2353ce73-d0eb-4029-d308-e8daf4d99181"
      },
      "source": [
        "import pandas as pd\n",
        "# fit and transform using PCA\n",
        "pca = PCA(n_components=2)\n",
        "edge_emb2d = pca.fit_transform(edge_embedding)\n",
        "\n",
        "\n",
        "\n",
        "df = pd.DataFrame(dict(edge_att=edge_attr))\n",
        "colors = {0:\"red\",1:\"blue\"}\n",
        "plt.title(\"edge embedding in 2D\")\n",
        "plt.scatter(edge_emb2d[:,0],edge_emb2d[:,1],c=df.edge_att.map(colors))\n",
        "plt.show()\n",
        "\n",
        "# not so good but we are using PCA to reduce the dim from 128 to 2"
      ],
      "execution_count": 25,
      "outputs": [
        {
          "output_type": "display_data",
          "data": {
            "image/png": "[encoded data removed]",
            "text/plain": [
              "<Figure size 432x288 with 1 Axes>"
            ]
          },
          "metadata": {
            "tags": [],
            "needs_background": "light"
          }
        }
      ]
    },
    {
      "cell_type": "markdown",
      "metadata": {
        "id": "0BiwZOp9ig-K"
      },
      "source": [
        "# Step 4\n",
        "Use RandomForestClassifier with 10-fold cross validation"
      ]
    },
    {
      "cell_type": "code",
      "metadata": {
        "id": "lP93y1Jrig-K"
      },
      "source": [
        "from sklearn.model_selection import cross_val_score\n",
        "from sklearn.ensemble import RandomForestClassifier"
      ],
      "execution_count": 26,
      "outputs": []
    },
    {
      "cell_type": "code",
      "metadata": {
        "id": "sS8W-YLTig-L",
        "colab": {
          "base_uri": "https://localhost:8080/"
        },
        "outputId": "d2d3608b-06b6-4bef-8240-a847718e7937"
      },
      "source": [
        "clf = RandomForestClassifier(max_depth=7,random_state=10)\n",
        "scores = cross_val_score(clf, edge_embedding, edge_attr, cv=10)\n",
        "np.mean(scores)"
      ],
      "execution_count": 27,
      "outputs": [
        {
          "output_type": "execute_result",
          "data": {
            "text/plain": [
              "0.7110294117647059"
            ]
          },
          "metadata": {
            "tags": []
          },
          "execution_count": 27
        }
      ]
    }
  ]
}
