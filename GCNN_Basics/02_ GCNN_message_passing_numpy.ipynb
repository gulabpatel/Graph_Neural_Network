{
  "nbformat": 4,
  "nbformat_minor": 0,
  "metadata": {
    "kernelspec": {
      "display_name": "py3modeling",
      "language": "python",
      "name": "py3modeling"
    },
    "language_info": {
      "codemirror_mode": {
        "name": "ipython",
        "version": 3
      },
      "file_extension": ".py",
      "mimetype": "text/x-python",
      "name": "python",
      "nbconvert_exporter": "python",
      "pygments_lexer": "ipython3",
      "version": "3.7.5"
    },
    "colab": {
      "name": "02: GCNN_message_passing_numpy.ipynb",
      "provenance": [],
      "include_colab_link": true
    }
  },
  "cells": [
    {
      "cell_type": "markdown",
      "metadata": {
        "id": "view-in-github",
        "colab_type": "text"
      },
      "source": [
        "<a href=\"https://colab.research.google.com/github/gulabpatel/Graph_Convolution/blob/main/02%3A%20GCNN_message_passing_numpy.ipynb\" target=\"_parent\"><img src=\"https://colab.research.google.com/assets/colab-badge.svg\" alt=\"Open In Colab\"/></a>"
      ]
    },
    {
      "cell_type": "code",
      "metadata": {
        "id": "-uw0Ud1O3YaD"
      },
      "source": [
        "import numpy as np\n",
        "from scipy.linalg import sqrtm \n",
        "from scipy.special import softmax\n",
        "import networkx as nx\n",
        "from networkx.algorithms.community.modularity_max import greedy_modularity_communities\n",
        "import matplotlib.pyplot as plt\n",
        "from matplotlib import animation\n",
        "%matplotlib inline\n",
        "from IPython.display import HTML"
      ],
      "execution_count": 1,
      "outputs": []
    },
    {
      "cell_type": "markdown",
      "metadata": {
        "id": "oFf1pN2s3YaK"
      },
      "source": [
        "# Message Passing as Matrix Multiplication"
      ]
    },
    {
      "cell_type": "code",
      "metadata": {
        "id": "VmxS_Dfu3YaL",
        "colab": {
          "base_uri": "https://localhost:8080/"
        },
        "outputId": "91695f14-d769-49b6-b22e-6768b9322dce"
      },
      "source": [
        "A = np.array(\n",
        "    [[0, 1, 0, 0, 0], [1, 0, 1, 0, 0], [0, 1, 0, 1, 1], [0, 0, 1, 0, 0], [0, 0, 1, 0, 0]]\n",
        ")\n",
        "A"
      ],
      "execution_count": 2,
      "outputs": [
        {
          "output_type": "execute_result",
          "data": {
            "text/plain": [
              "array([[0, 1, 0, 0, 0],\n",
              "       [1, 0, 1, 0, 0],\n",
              "       [0, 1, 0, 1, 1],\n",
              "       [0, 0, 1, 0, 0],\n",
              "       [0, 0, 1, 0, 0]])"
            ]
          },
          "metadata": {
            "tags": []
          },
          "execution_count": 2
        }
      ]
    },
    {
      "cell_type": "code",
      "metadata": {
        "id": "flnSrWfS3YaP",
        "colab": {
          "base_uri": "https://localhost:8080/"
        },
        "outputId": "03803ceb-df33-44e3-970d-ae0f784fb24a"
      },
      "source": [
        "feats = np.arange(A.shape[0]).reshape((-1,1))+1\n",
        "feats"
      ],
      "execution_count": 3,
      "outputs": [
        {
          "output_type": "execute_result",
          "data": {
            "text/plain": [
              "array([[1],\n",
              "       [2],\n",
              "       [3],\n",
              "       [4],\n",
              "       [5]])"
            ]
          },
          "metadata": {
            "tags": []
          },
          "execution_count": 3
        }
      ]
    },
    {
      "cell_type": "code",
      "metadata": {
        "id": "EEodBnHu3YaR",
        "colab": {
          "base_uri": "https://localhost:8080/"
        },
        "outputId": "e3bc4601-9018-43e3-af5e-df0227aa78b9"
      },
      "source": [
        "H = A @ feats\n",
        "H"
      ],
      "execution_count": 4,
      "outputs": [
        {
          "output_type": "execute_result",
          "data": {
            "text/plain": [
              "array([[ 2],\n",
              "       [ 4],\n",
              "       [11],\n",
              "       [ 3],\n",
              "       [ 3]])"
            ]
          },
          "metadata": {
            "tags": []
          },
          "execution_count": 4
        }
      ]
    },
    {
      "cell_type": "markdown",
      "metadata": {
        "id": "gqXLr1ar3YaS"
      },
      "source": [
        "## Scale neighborhood sum by neighborhood size (i.e. average values)"
      ]
    },
    {
      "cell_type": "code",
      "metadata": {
        "id": "K8jXvnz23YaU",
        "colab": {
          "base_uri": "https://localhost:8080/"
        },
        "outputId": "4c11f99e-080d-41ec-bb30-824fbbdd882e"
      },
      "source": [
        "D = np.zeros(A.shape)\n",
        "np.fill_diagonal(D, A.sum(axis=0))\n",
        "D"
      ],
      "execution_count": 5,
      "outputs": [
        {
          "output_type": "execute_result",
          "data": {
            "text/plain": [
              "array([[1., 0., 0., 0., 0.],\n",
              "       [0., 2., 0., 0., 0.],\n",
              "       [0., 0., 3., 0., 0.],\n",
              "       [0., 0., 0., 1., 0.],\n",
              "       [0., 0., 0., 0., 1.]])"
            ]
          },
          "metadata": {
            "tags": []
          },
          "execution_count": 5
        }
      ]
    },
    {
      "cell_type": "code",
      "metadata": {
        "id": "_JTK3cnP3YaW",
        "colab": {
          "base_uri": "https://localhost:8080/"
        },
        "outputId": "d65db376-fac3-48bb-e484-16aa86fdd080"
      },
      "source": [
        "D_inv = np.linalg.inv(D)\n",
        "D_inv"
      ],
      "execution_count": 6,
      "outputs": [
        {
          "output_type": "execute_result",
          "data": {
            "text/plain": [
              "array([[1.        , 0.        , 0.        , 0.        , 0.        ],\n",
              "       [0.        , 0.5       , 0.        , 0.        , 0.        ],\n",
              "       [0.        , 0.        , 0.33333333, 0.        , 0.        ],\n",
              "       [0.        , 0.        , 0.        , 1.        , 0.        ],\n",
              "       [0.        , 0.        , 0.        , 0.        , 1.        ]])"
            ]
          },
          "metadata": {
            "tags": []
          },
          "execution_count": 6
        }
      ]
    },
    {
      "cell_type": "code",
      "metadata": {
        "id": "px3B4VDx3YaY",
        "colab": {
          "base_uri": "https://localhost:8080/"
        },
        "outputId": "13121c21-0939-4bd1-d445-ac17abebf52c"
      },
      "source": [
        "D_inv @ A "
      ],
      "execution_count": 7,
      "outputs": [
        {
          "output_type": "execute_result",
          "data": {
            "text/plain": [
              "array([[0.        , 1.        , 0.        , 0.        , 0.        ],\n",
              "       [0.5       , 0.        , 0.5       , 0.        , 0.        ],\n",
              "       [0.        , 0.33333333, 0.        , 0.33333333, 0.33333333],\n",
              "       [0.        , 0.        , 1.        , 0.        , 0.        ],\n",
              "       [0.        , 0.        , 1.        , 0.        , 0.        ]])"
            ]
          },
          "metadata": {
            "tags": []
          },
          "execution_count": 7
        }
      ]
    },
    {
      "cell_type": "code",
      "metadata": {
        "id": "eOhYBzYv3Yav",
        "colab": {
          "base_uri": "https://localhost:8080/"
        },
        "outputId": "89947cbb-4290-4cba-f0fe-248e7cc602cd"
      },
      "source": [
        "H_avg = D_inv @ A @ feats\n",
        "H_avg"
      ],
      "execution_count": 8,
      "outputs": [
        {
          "output_type": "execute_result",
          "data": {
            "text/plain": [
              "array([[2.        ],\n",
              "       [2.        ],\n",
              "       [3.66666667],\n",
              "       [3.        ],\n",
              "       [3.        ]])"
            ]
          },
          "metadata": {
            "tags": []
          },
          "execution_count": 8
        }
      ]
    },
    {
      "cell_type": "markdown",
      "metadata": {
        "id": "FOhc-q9v3Yax"
      },
      "source": [
        "## Normalized Adjacency Matrix\n",
        "Ultimately want to define and build:\n",
        "\n",
        "$$ \\hat{A} = \\tilde{D}^{-\\frac{1}{2}} \\tilde{A} \\tilde{D}^{-\\frac{1}{2}} $$\n"
      ]
    },
    {
      "cell_type": "markdown",
      "metadata": {
        "id": "cgvECONJ3Yay"
      },
      "source": [
        "First, create $\\tilde{A}$:\n",
        "$$ \\tilde{A} = A + I $$"
      ]
    },
    {
      "cell_type": "code",
      "metadata": {
        "id": "uYBDsrny3Yay"
      },
      "source": [
        "g = nx.from_numpy_array(A)\n",
        "A_mod = A + np.eye(g.number_of_nodes())"
      ],
      "execution_count": 9,
      "outputs": []
    },
    {
      "cell_type": "markdown",
      "metadata": {
        "id": "IoniF9Ve3Yaz"
      },
      "source": [
        "Then create $ \\tilde{D}^{-\\frac{1}{2}} $, where $D$ is the diagonal degree matrix:\n",
        "\n",
        "$$ (D)_{ij} = \\delta_{i,j} \\sum_k A_{i,k} $$"
      ]
    },
    {
      "cell_type": "code",
      "metadata": {
        "id": "hUA-jP3q3Ya0"
      },
      "source": [
        "# D for A_mod:\n",
        "D_mod = np.zeros_like(A_mod)\n",
        "np.fill_diagonal(D_mod, A_mod.sum(axis=1).flatten())\n",
        "\n",
        "# Inverse square root of D:\n",
        "D_mod_invroot = np.linalg.inv(sqrtm(D_mod))"
      ],
      "execution_count": 10,
      "outputs": []
    },
    {
      "cell_type": "code",
      "metadata": {
        "id": "oVKC_lHy3Ya1",
        "colab": {
          "base_uri": "https://localhost:8080/"
        },
        "outputId": "628e1ea9-ad43-4154-9e59-f0d0523e5e82"
      },
      "source": [
        "D_mod"
      ],
      "execution_count": 11,
      "outputs": [
        {
          "output_type": "execute_result",
          "data": {
            "text/plain": [
              "array([[2., 0., 0., 0., 0.],\n",
              "       [0., 3., 0., 0., 0.],\n",
              "       [0., 0., 4., 0., 0.],\n",
              "       [0., 0., 0., 2., 0.],\n",
              "       [0., 0., 0., 0., 2.]])"
            ]
          },
          "metadata": {
            "tags": []
          },
          "execution_count": 11
        }
      ]
    },
    {
      "cell_type": "code",
      "metadata": {
        "id": "B1bXAL0L3Ya2",
        "colab": {
          "base_uri": "https://localhost:8080/"
        },
        "outputId": "f7873f16-fb0b-4be0-a261-7cd3443485f3"
      },
      "source": [
        "D_mod_invroot"
      ],
      "execution_count": 12,
      "outputs": [
        {
          "output_type": "execute_result",
          "data": {
            "text/plain": [
              "array([[0.70710678, 0.        , 0.        , 0.        , 0.        ],\n",
              "       [0.        , 0.57735027, 0.        , 0.        , 0.        ],\n",
              "       [0.        , 0.        , 0.5       , 0.        , 0.        ],\n",
              "       [0.        , 0.        , 0.        , 0.70710678, 0.        ],\n",
              "       [0.        , 0.        , 0.        , 0.        , 0.70710678]])"
            ]
          },
          "metadata": {
            "tags": []
          },
          "execution_count": 12
        }
      ]
    },
    {
      "cell_type": "markdown",
      "metadata": {
        "id": "pu8PJhVV3Ya3"
      },
      "source": [
        "I.e.: $\\frac{1}{\\sqrt{2}}$, $\\frac{1}{\\sqrt{3}}$, $\\frac{1}{\\sqrt{4}}$, ...etc"
      ]
    },
    {
      "cell_type": "code",
      "metadata": {
        "id": "p8hbLvBS3Ya4"
      },
      "source": [
        "node_labels = {i: i+1 for i in range(g.number_of_nodes())}\n",
        "pos = nx.planar_layout(g)"
      ],
      "execution_count": 13,
      "outputs": []
    },
    {
      "cell_type": "code",
      "metadata": {
        "id": "UfTicxHr3Ya4",
        "colab": {
          "base_uri": "https://localhost:8080/",
          "height": 575
        },
        "outputId": "9ab35a7e-815a-4aa0-8f87-e6159c08475f"
      },
      "source": [
        "fig, ax = plt.subplots(figsize=(10,10))\n",
        "nx.draw(\n",
        "    g, pos, with_labels=True, \n",
        "    labels=node_labels, \n",
        "    node_color='#83C167', \n",
        "    ax=ax, edge_color='gray', node_size=1500, font_size=30, font_family='serif'\n",
        ")\n",
        "plt.savefig('simple_graph.png', bbox_inches='tight', transparent=True)"
      ],
      "execution_count": 14,
      "outputs": [
        {
          "output_type": "display_data",
          "data": {
            "image/png": "[encoded data removed]",
            "text/plain": [
              "<Figure size 720x720 with 1 Axes>"
            ]
          },
          "metadata": {
            "tags": []
          }
        }
      ]
    },
    {
      "cell_type": "code",
      "metadata": {
        "id": "F064c0D93Ya6",
        "colab": {
          "base_uri": "https://localhost:8080/"
        },
        "outputId": "affa131c-4a3d-4a74-9c47-42d31782ef49"
      },
      "source": [
        "pos"
      ],
      "execution_count": 16,
      "outputs": [
        {
          "output_type": "execute_result",
          "data": {
            "text/plain": [
              "{0: array([-0.875, -0.375]),\n",
              " 1: array([ 1.   , -0.375]),\n",
              " 2: array([0.375, 0.25 ]),\n",
              " 3: array([-0.5625, -0.0625]),\n",
              " 4: array([0.0625, 0.5625])}"
            ]
          },
          "metadata": {
            "tags": []
          },
          "execution_count": 16
        }
      ]
    },
    {
      "cell_type": "markdown",
      "metadata": {
        "id": "PEEvQvpy3Ya7"
      },
      "source": [
        "Create $\\hat{A}$:\n",
        "\n",
        "$$ \\hat{A} = \\tilde{D}^{-\\frac{1}{2}} \\tilde{A} \\tilde{D}^{-\\frac{1}{2}} $$\n",
        "\n",
        "$$ (\\hat{A})_{i,j} = \\frac{\\tilde{A}_{i,j}}{\\sqrt{\\tilde{d_i} \\tilde{d_j}}} $$"
      ]
    },
    {
      "cell_type": "code",
      "metadata": {
        "id": "Q-mmuAtw3Ya8"
      },
      "source": [
        "A_hat = D_mod_invroot @ A_mod @ D_mod_invroot"
      ],
      "execution_count": 17,
      "outputs": []
    },
    {
      "cell_type": "markdown",
      "metadata": {
        "id": "JceP5PWj3Ya9"
      },
      "source": [
        "# Water drop "
      ]
    },
    {
      "cell_type": "code",
      "metadata": {
        "id": "RPEm-8Z-3Ya9"
      },
      "source": [
        "H = np.zeros((g.number_of_nodes(), 1))\n",
        "H[0,0] = 1 # the \"water drop\"\n",
        "iters = 10\n",
        "results = [H.flatten()]\n",
        "for i in range(iters):\n",
        "    H = A_hat @ H\n",
        "    results.append(H.flatten())"
      ],
      "execution_count": 18,
      "outputs": []
    },
    {
      "cell_type": "code",
      "metadata": {
        "id": "eJ4Ge2VA3Ya-",
        "colab": {
          "base_uri": "https://localhost:8080/"
        },
        "outputId": "8b37be14-68ec-415f-f087-eea94a3e57dc"
      },
      "source": [
        "print(f\"Initial signal input: {results[0]}\")\n",
        "print(f\"Final signal output after running {iters} steps of message-passing:  {results[-1]}\")"
      ],
      "execution_count": 19,
      "outputs": [
        {
          "output_type": "stream",
          "text": [
            "Initial signal input: [1. 0. 0. 0. 0.]\n",
            "Final signal output after running 10 steps of message-passing:  [0.18381719 0.20791335 0.20436693 0.13626176 0.13626176]\n"
          ],
          "name": "stdout"
        }
      ]
    },
    {
      "cell_type": "code",
      "metadata": {
        "id": "nHfrWxEE3Ya_",
        "colab": {
          "base_uri": "https://localhost:8080/",
          "height": 596
        },
        "outputId": "47448a87-f7ef-42a8-a359-93a52de30110"
      },
      "source": [
        "fig, ax = plt.subplots(figsize=(10, 10))\n",
        "\n",
        "kwargs = {'cmap': 'hot', 'node_size': 1500, 'edge_color': 'gray', \n",
        "          'vmin': np.array(results).min(), 'vmax': np.array(results).max()*1.1}\n",
        "\n",
        "def update(idx):\n",
        "    ax.clear()\n",
        "    colors = results[idx]\n",
        "    nx.draw(g, pos, node_color=colors, ax=ax, **kwargs)\n",
        "    ax.set_title(f\"Iter={idx}\", fontsize=20)\n",
        "\n",
        "anim = animation.FuncAnimation(fig, update, frames=len(results), interval=1000, repeat=True)"
      ],
      "execution_count": 20,
      "outputs": [
        {
          "output_type": "display_data",
          "data": {
            "image/png": "[encoded data removed]",
            "text/plain": [
              "<Figure size 720x720 with 1 Axes>"
            ]
          },
          "metadata": {
            "tags": []
          }
        }
      ]
    },
    {
      "cell_type": "code",
      "metadata": {
        "id": "2CaYnyB73YbA"
      },
      "source": [
        "anim.save(\n",
        "    'water_drop.mp4', \n",
        "    dpi=600, bitrate=-1,\n",
        "    savefig_kwargs={'transparent': True, 'facecolor': 'none'},\n",
        ")"
      ],
      "execution_count": 21,
      "outputs": []
    },
    {
      "cell_type": "code",
      "metadata": {
        "id": "Oz8IPXyw3YbB",
        "colab": {
          "base_uri": "https://localhost:8080/",
          "height": 741
        },
        "outputId": "7a91432e-6071-4b86-c51c-c600fc48d2c2"
      },
      "source": [
        "HTML(anim.to_html5_video())"
      ],
      "execution_count": 22,
      "outputs": [
        {
          "output_type": "execute_result",
          "data": {
            "text/html": [
              "<video width=\"720\" height=\"720\" controls autoplay loop>\n",
              "  <source type=\"video/mp4\" src=\"data:video/mp4;base64,AAAAHGZ0eXBNNFYgAAACAGlzb21pc28yYXZjMQAAAAhmcmVlAAA0821kYXQAAAKtBgX//6ncRem9\n",
              "5tlIt5Ys2CDZI+7veDI2NCAtIGNvcmUgMTUyIHIyODU0IGU5YTU5MDMgLSBILjI2NC9NUEVHLTQg\n",
              "QVZDIGNvZGVjIC0gQ29weWxlZnQgMjAwMy0yMDE3IC0gaHR0cDovL3d3dy52aWRlb2xhbi5vcmcv\n",
              "eDI2NC5odG1sIC0gb3B0aW9uczogY2FiYWM9MSByZWY9MyBkZWJsb2NrPTE6MDowIGFuYWx5c2U9\n",
              "MHgzOjB4MTEzIG1lPWhleCBzdWJtZT03IHBzeT0xIHBzeV9yZD0xLjAwOjAuMDAgbWl4ZWRfcmVm\n",
              "PTEgbWVfcmFuZ2U9MTYgY2hyb21hX21lPTEgdHJlbGxpcz0xIDh4OGRjdD0xIGNxbT0wIGRlYWR6\n",
              "b25lPTIxLDExIGZhc3RfcHNraXA9MSBjaHJvbWFfcXBfb2Zmc2V0PS0yIHRocmVhZHM9MyBsb29r\n",
              "YWhlYWRfdGhyZWFkcz0xIHNsaWNlZF90aHJlYWRzPTAgbnI9MCBkZWNpbWF0ZT0xIGludGVybGFj\n",
              "ZWQ9MCBibHVyYXlfY29tcGF0PTAgY29uc3RyYWluZWRfaW50cmE9MCBiZnJhbWVzPTMgYl9weXJh\n",
              "bWlkPTIgYl9hZGFwdD0xIGJfYmlhcz0wIGRpcmVjdD0xIHdlaWdodGI9MSBvcGVuX2dvcD0wIHdl\n",
              "aWdodHA9MiBrZXlpbnQ9MjUwIGtleWludF9taW49MSBzY2VuZWN1dD00MCBpbnRyYV9yZWZyZXNo\n",
              "PTAgcmNfbG9va2FoZWFkPTQwIHJjPWNyZiBtYnRyZWU9MSBjcmY9MjMuMCBxY29tcD0wLjYwIHFw\n",
              "bWluPTAgcXBtYXg9NjkgcXBzdGVwPTQgaXBfcmF0aW89MS40MCBhcT0xOjEuMDAAgAAAFjBliIQA\n",
              "F//+99S3zLLtU2+2C6j3op4mX0N1JQGblsTtOoAAAAMAAAMAAAMA6VSCY3zuANGMtAAAAwBTwAqY\n",
              "FysS1LS+KwbwAEJdNUDojuuZhVS+tJJUdPtzlgAkA6z9wpTqWiGnZpn/L2+JSVqn2Is/JE+B4B5O\n",
              "qxfG234gqjxps7qCbwP56q1HFihhMLBC06W0ZDja6Ohuq+JjeWmZJoYW+JoHjlCZp01c6c3wTvEa\n",
              "hZZQ47MKIrVJctQ2cui0NjbDnfll0Yqy3bIMcYh0Z1VzgMU+DNlIwtOyM48w22QHVXycMozu/VAN\n",
              "1eDecN7qGzfMkWYA4HeYCDsaR/5GYPSGPRMHn0SRE7tArLSpNQX5Upph0wZ7oC2q93re4PYO6Xio\n",
              "LJReT8yIWlCOLx1dABs6l6BuxPWcx+KcPx7lFlkw08RFjDuWFQ7Yids6LkvM1wBSGcB5rnHeKmBL\n",
              "8HI+puGLigdCa24FHXHGjlctcxJnyhAWxSsdCKfYREBnOt7qhnHmBVuMUw8AUtBKD3F+pa0+vvKB\n",
              "Kyjd78CtYPOtYEFI52ndEBNoMGNarmE2to54dT3dJ7/P61eshnglGtoG9GsN/BXy7Zsg+ktm0u0U\n",
              "EAYAExOc8qRS18SxGoVXYaPShhTsrM2r3ym8NNEiwaIpi/JtQrRUagIkf5zoHVQrezY+QQUGEQPM\n",
              "uO78d+bjlcqI5CQAvV7Lm29NRYYdyEw0mEw9DW+xmLhm+M77fOOxPC0Uf+9FVjaeVYmRnqXnpLAE\n",
              "dTSDr7u2uaDtbPNbWInMwFmLw3XYEiHzrEYnZ9CNllT5ff/17/AWBWdnzljYBMsh55q3Xynat9ua\n",
              "Veq4dDMtbiufw9wjtsXPh+FvyWPDNnVtcD/BifyNd2MJ2vbqIhV87P0W7KVLCPx6eBCFyP8YHVmu\n",
              "RQY0bcN/eVfXl+gM6vpzzS4ivWE0P9iZQbBsSkRUNJikrwLoR0CVJpY39713Pe/b5zXVv75/CM7C\n",
              "/FdELsb6AduQt54hp+8mj18ICcUzIBdOyAvBliMY4tupPnnBoSWSAU4SvunbmFzo6rUrpwiqe1vt\n",
              "Vh0w5NQ+a666PnWUQjUOwJOGCmEqAY01bAwXDSrdPU8YOoeqOgUuJifZ5BFRtx9feer+rUPwj2Pm\n",
              "xsn31/uTa1AraVj5mTGrmOGCS265tG6muGJWl1QIReQB1jpKd8ZkAAJEq7ugQ977ynv71Vgd339B\n",
              "A/AIIWvOlKv81tzdK9yAs2nf6O28E0Z7RnBZmoKIQesKV36uud0OVtS7zcQCbu21BtmsUaMVNASi\n",
              "gkEIGMbHhWYN0KSp3POd+PO0PP9Z03yYX1KuNslyZDFg22t+vm79pacpaqohnkNQ/sY8TGT6nix5\n",
              "voVmxHuL+oeu6C319vRCdXCdMO695I2svjHGxx5wuQI55o20t1+Kkl0hCYg7radWAEq7HW0j97xQ\n",
              "y8DseKIvmf8nzAVgAwRnu++O5rt8aL4MHJF+EhuHIHYlbgd//irtxZDtL9NWH9gSwxuEneZKO6Fe\n",
              "9yxMH4uX0AZUDwsswdde1afo+aY/UKjh2+bxRE9vKuLpFYlyTM2eu/0+1mNcurpceiE0eJnp34jc\n",
              "9gAioiZqdmU3iZ63z0KTTC7DhOU8/n7SE21W8GoGvJ+GdUNM/OA8RMLKVB9m0zlxJkoSJprSv+F5\n",
              "dkGwhNqwXZBDFLtzQUJqhRA9DeNNvKNJiiYRkH/udZib9sX2egjb3fdgC4AsxBPaCdpOJ0o+7p6s\n",
              "1uPW56SNg0aGq4Aays7oYDHdvXYjsFDZDBNNhMNgad4bVhCZujfyd+ymw6iCF2glPlCw2wiMxR6+\n",
              "vLsDGCyxq3nsgUKTOdQN7TMkUqpwLCeqBeBCQaKjn/8whyiIjHCdbHleF7fmXaworWxT8ABg8LC9\n",
              "knkI6bNsS7MzE1L3//Psc6IXdm+XCh02TrwgsTzTIXXQPZcuFwz2cMZomCi99Rh6QWQK+8UOESc0\n",
              "SRsqOvozvXK59RLsTzBX8TOAq+D2Tyrh9O4rQp+DIdz0FdzDtn98PlX9Eodf+OX8Kmd0cRAEb6Xd\n",
              "WAFYDLdrjI3r6vsYedjyQzfSv1JY8cMymrewAoBtSNxKfFSC3a9apLJQp9FowRS+Yav4tsS1o22d\n",
              "F7v2KVgIMug8CU9j/U6KGKCzhOI3lazvymAzyPNHs4ugTDjnyGB68FO3rPInkJzl6TnwoBHLNqOb\n",
              "QgG9HavNTIgndA9Wn2UMHUAa9DDpNJCduu6p1MI6sE9o3l9Hz2BFxtNnkwsgq14HUIiZnq5rG1GO\n",
              "pnxXc3EjF627RHKwoUDaSvBtNAQvsA3Y3D1OfthjzDNS5evdcbjHGL8k5eHXyziHdqrzU8xlZjnd\n",
              "X7vzncsOG39VbFtsUyk+1bWfUSlFvUGanjt8EILuo67b5FR2rYRyQVMmPj+oRlu7bvK39FAmIC1c\n",
              "A2np5GOrprHWuentMly7FtYHYo264WfPHv9LwAzNijSdPxKxa53I+ElyUIgLjhR/YCO5z39XNF0i\n",
              "ECO6FnQHa6FbwxbcwH1JALILR1x+aalDm5SqGk7pHbrIEgBxzWcqnFxlWYqPh2uYsjK743/ZcjHa\n",
              "+mcWGEr7tKU5GpkdzDvtOxRxz71wWKvhmPw2GNCEz/n2xlrGjYNkULkkupkmEQ1Q5Omgt1ybPXMU\n",
              "uARD8MtNf94P34kmZ9QQm0xn42fJzYJulDq92fEEGmIbZldBuPHKcBLWWn71azCPIPv1jg3s2DAT\n",
              "9qnws/kMgeAw7yPckzzSML+zDklwGemCO+FfUdQYhq6frLnVxxe3dxZDys4LB4SWhdPN53F12bTa\n",
              "Zy2pGBXwFFSjhwz1Y9KwhkWgl47NN2N7EHZigfmguiaBpEgfRVJclWGFgqXd1mDFMqNeqaKMw7wT\n",
              "7kgSF1oxogDmevO293pdM3PWJdENaU2JatJkE9Rj45VwC1J9XNAwqk0Ufr6fmlhVytRsIYm93jpd\n",
              "7D5DEyiJczOu4AzlzSwFzpJiJh6M9+PP42/gIf8UKpInJw6C+EGGaPQA0X0a2EuGRHvBzyg+Dhpj\n",
              "HzSBZ7QGq2fkkhfpwe3A/uZX7EzGxVlBryzVaQ5Ob1IUeg7mYhYPIDlyKRwrovts5THsI0IuDFgZ\n",
              "SJhukL4P5M5SbVsq52l2sf6HeeSgAI6Btgj5XJMD/02vj608Y7hOSXalGI514O6dcHRVIRW1oEYb\n",
              "Nz24OWaCm3U16TSOhfvsBKUe7wvJX9DUROewAgWv+WOu6V04ALn01FWlZ8PAo0nA4C2C6VNmlTCG\n",
              "ENO1Dfeq3UFpyJaHdbkOV84sQVZ4i7BxM6OxBCayTdfdf8HjAvl17Ic1Non1vabmUfnVTYwGumnp\n",
              "ZMZ+X7GyzcCGu0IR3B326q9R1HgmQJWP3IHjqXxq09Tq+gqxR+fR+/A9nhOTczRmyvT/KPXWFfNr\n",
              "FQAAbAftkfXQ1WiX6zvDoGt9Di49D5JxGRswmAmfj0rtFXnLtuuuGJqHDBlP3KDW9UD+LPFTFMy/\n",
              "Hu1ENvWwSOUk/kXSYn+FdaoaIxrLpHrr0rEK3DUpWZGC7cqWeC5ysoTsrjFEEtZhMB1XU90E97rh\n",
              "z2yjb8aTJ39i64tsa8YV4QdBDoheU1XRSzhKM4S+fhDxIercYwc6KGrF4RaVoLTxJ1Z+QdcEDHjX\n",
              "OwdQOeamCT3zw+5jb2SsSGx+lTSPCwjUQuL7RlfbgRUwG7WfB+AHzHlDdU7x4yBnYxHHD8Xhgzqx\n",
              "gZCjxuJ66OsFeDTomU5b6ha+9EDNVSJPZAIaYG9s5/X/Xpa+7d5E/J+bKDQt2FYvZMReqTqmSDzl\n",
              "8SmXA0kq6BLi1kAMgSMKsGvtIj1nk5i39cAnCMBeTFOODF1341Pfiz8Y2OmG3ZMO6Id3/2U/zVEp\n",
              "oBctY+rQ+o3n0RbujrwmjwvElfj3xDUeQGosgHQQbsLc/2nGgpiLDBvc6oohX+gBxJ7d0KZdNF36\n",
              "Lus+3G4pFhCfPr6NuoQSxhybe3Q1T+kuLSX0sIAegc1NPNuBvMqHuCOdK2AaIBPTj4ZNSiRxBDJm\n",
              "AvhOd/lvOIUaXUsaif2Gs5ZdFWRkmyYZYTE3GvACGPKgMwdgu/ZMLcJ3ebdFXwIwazCYF0mDynek\n",
              "sr5CmMzCPu7kcczLcc78kCMpXmcQb+/WFS4u7V+H4h2W5+2JA2FxuMXXoCVdK0KZdCSpG1KaMqqe\n",
              "ZbO4UKu93mMhq95gVI47MCDUXukBGposWdnj65iddBjYHYF6ohHJKfKpBaoR9gkGos1WhcMAe8ix\n",
              "G5/OHqI+KHyvGD4jIwDED0akqgOcw0YHFfc5vSUvse/qSRFyXImd3m0VhpI8RgrHDjmCnJx+Q5mk\n",
              "NbgCrYVJWBVllJ9M+ql0fewghW+z3CyUyJsAEhOomZDrCMPQFO3rY4l32p6/9f0GohGbE5BWO9JZ\n",
              "Oi7wZzZVtihdLLezXUmjpg+KeeBYiXtdkudb84UGARG319vkvl+fALDKl9Oe5G2oxprLLmfOQM+x\n",
              "sxyIyROlutri0DdzsgAfmp3ZQdeR6kWqhsh8sSB7aVfXX8tzuGzznGLsjKFptKGYiPGZ5wBWxTfC\n",
              "+SDcvaMHddgLmTxDgr+ef5ZTqtWGGeaPiP4/ta/b3jLYRsv0fAl+wHwYDqHFS8Y7yxRermwfcQ+h\n",
              "hOBhJm+aLB4yObR3DTuaut06yOmsaEBAZvUxBDZPaGFjuDLnm1dp3Tn8Tn48MYYs1SEa29Ue7q20\n",
              "YgFtZHUS3QRhTzmv0lAzK93lsnujl1ObXeg9IDcGMCmj8DDA2T05Ni/Yj3Ejixa99yZsxnaGqzb/\n",
              "7qJ0o3YAWRidI8TYlXf0A9dgghd+cgHmQ0kX4Iq5Gq4qfAmJpUtQnLpE4yYCb+VWVukuYlpLkI2q\n",
              "BUByUDEET7ha+2RSOYqbe4IZ6DXS+Z3QwLGMwivBVCKjPbdGs1ay6871E7FbeQqdsFcvEDPOPDP4\n",
              "ni6Oe0nfS2MTQGeMMyf6f9CIN9vCzRgcxtrOygjtELWcFeZDWCcaszMu1RUSpCEahA4wmhsNrYKA\n",
              "mv3fiJ3NB/+64AT/iaxBdfn8rCkLEtiBBUuHHxwzR/utRF4RGVW1TM3gCrGFSFEDJnidHZQsNq/u\n",
              "vlcKyfitBI/VE1GnBy9wL1D6NHzItvYQQUFT4iEuQc1kOBzbv1bL7Fry5nRle0ZjhRe3OvUvlBo8\n",
              "mETcbsppJo/m4jPLJTccfTv24pSB+/O4IBLskY/yn0GbvaBNUtptpGUyWJBVfUiKZF+ewOFTRIrv\n",
              "wzzQNrIwkxvJqJjK9AEZgXQ4EuLYXsU86PI/ZRsSXxZdqCMQJny3i/kjx4TsiiCCtcyQpeHKMk3m\n",
              "P+KX06oU+q42G7KUuZz8Rbj9rllou/h8PbtBOGGkmoD2xwPOINwTh5wx2UP2Jfc76tvCUzI4qFK+\n",
              "1PjHYN6D+Vt9WzIdbVCCtfkfMEGzKhnpc7XGLWRohZJ1Znf59z3Rwp8khSAojqtIa/+4H7Xio2w/\n",
              "G9hj6NmRcfoeNcuZLFYNiY3piXqJL6HOVoj+VzB8APDaNg9nWhaoR0ZDfZCcsyWEWdvSaHino2Ez\n",
              "Kqjn7S/sZgbWeK43Urla+qWFc8UJpryT0qLHMjhyCu1Q7f4gKWJfc0BHY88YDp01VTC2yft+WMcr\n",
              "Gq80hGqgRjYORJfNxoUEwgn9DKqGkn2UxqvLqWNNsts/5zAWfK8zSq/lauTF9cDiAAFKtV0X+VC5\n",
              "QyJRw0OsP/C5MIuFxKkBpPFZ4lQhulPNHMS+XUVzpPIpbf47WiTL1y1qIHFLC3Z3FIm8oWOteUGF\n",
              "sDQKffo5uduFFcw+eG+aBK066b1/RmoC4vHtimmCKHUNCEMOQbLssJYxL4HLSz7N9hRS3LAWhJ1s\n",
              "qGrhbNJ9rjvTPzAx22pWT42uCu/OigPCqGJRH6H8LYSQCh24REHL2iZcp1tXJyp7DBzCYCM8++8n\n",
              "nE8zWIOgjdoi9+gbI5Jp9zH3oh1YvFVmTfGB5i2MAwsmxhCFW9JPs4U90AHxEPd3BbffhFAd7bxa\n",
              "TUC2622gLs8KsvENzf78i7oKvl3u8P7PphuGNERWnbGrVRqymhaVzQ5QXhXxKoAKCGC2sEOf9SCc\n",
              "EZRDp3+a4pzAK6lcpb350PxLqjKluzVW9NvSC8HUHtP0ee5Mb0T9JX2yNeI96iWfMI68GEVFWoFX\n",
              "y2TuR1rYO4wkVAUarCb7Uh5m/axkB5H2Sipa0utDS505kVxWfDAv0GAfPDMrmCAlKydXl7HPPMGj\n",
              "9YqGgai1Z9TO1xN59jo105ENa8gsytGKpCs1ZdWPKKS/gXMUoBAfKCm50KgyHP4VaJEpXigOgh+4\n",
              "4iX+RvtkgheohqnxlpAZICo5j0wmgq25pv8yj/yGVLYUyONilJ4DUEy+EvviEMn0HkXfmA4eFiFS\n",
              "DgJ1ewB6YzsZngTQfgn7CF+92B0d/6IPOuFht02400/ZxvGNIRj/QQA7fA+hqHhnUqXzVcF2tmWQ\n",
              "/91TcwSu79o17h9UpK1MBBuIMDwTzavOnmFbav/gUW9Zvke1pnK58NTjUcE/gXHzfDvy28KTfswa\n",
              "Dh7UraqNIa5YB+OBOPdNiOVypqdM5w2oQmWslXSnxCPLCJK1N9DGBwERd2Zd8PLZLcycq20aay3T\n",
              "H1vC5ad2fSLqItRsg6Jbx4LEUg/2JtYWbQugfqjTTAqw1HF46IN1X1cQ2hu9kS3vPW+S40EUejNK\n",
              "b8ihEx2R56fJgbRGxt15HNjKizLYXHuyadLjBfipGHzMPj2VEKe3FgV5vPEhnYhs7YFUdkQwiCVy\n",
              "ZZuKnpYgVf/I6ff+sCe7PgRCwvmB9TfWF4KaLjzqzu28Ye6AN0agBnv4rhimtLsWDW9UH2/dzB1p\n",
              "PovNZzCJACxufKXxGfQU896F/+WCwSPnWPaZcBdPT34V5Wlgmb3PT1cetyAKOvKQ7vzkRxXb8gKN\n",
              "aIrJcKZ2v6BMVSwzIUSUkuWR/CgTJM3A2X5+UE2KYHD1ePpFqdt1EumeWT+gmeVAHBYporIYHqnA\n",
              "GchNS2nH7Rv9pY67qpsSZG+bmrOniB4tQ8DqVapT4856HNl9QVedaXjnNbc3lpz20Rt7owmztXOw\n",
              "1CjpFn+WBfpPMYbKZV5qh6kEdMG9xaTKirsUtfuAE6Cd4/9k2n2rROugl+89ZNzrSTxxF/ZkHGlm\n",
              "NuThdfm6Hn0wLmou9NuaMfUwgwpYSxbBa65BheNbTu7VkGtOs0Zn4AKfM6Imq1iRr4LEDuORemls\n",
              "fVBCAAqNgvP3EDCA3ihKRjAa7YeTlupD4+idaoMCCrRS60Dd00EGSxz+TBMjhD9TEcetXlSd+l3A\n",
              "S5fv406hzbGJmi3WSYpXGKN9btWzpDwGHjd70yxDkgjTK2yzq8EQOsoU4HsvHPu97XUAa8YWV/Jd\n",
              "Vh5ATGG+wX9nItX5glpbOVuf/0nXwbakDJM6iHwQCviU9tUZD6cGoW1fHWlQinM1Clhbbco59p6f\n",
              "JuKmwWEDwEK1bo1cIZkOp8ftsa1cFCtLtRBg4SiFQmzV+IsTRlIEsKXL55C3PNVuhNTPZHAIZj0F\n",
              "+WjZTKhQXBQOIKRTmaSTfvORhFrgAAADAAADAAADAAIfAAAISEGaImxBf/7aplgAFlMDGAByFRSh\n",
              "b2iLnP+x0kO7+5g/4CJB7Amin8EwUXMBJgQDXC+GbtOyIa4frllJogjeYEsmVdTW86wNZMIClAF0\n",
              "xtsdb+hNOwPrJU6rXbnerysTRf+ZWRQyj9wuPc0paRinDsZO6hNBJWRG33H5+CYvm0uCZGJqM20j\n",
              "Iuaz/qh6dOIiQKz72Oirc79xNtBs1TUYVFy33yQ+B+6OgMiFfkTlQ4Y+Nc7qOcBOIYG6vYCtXe7k\n",
              "lbY0FZAQrJ0DmDii7Tfujcb4E4N+N94WJhIuDXC/TVds+SkF92xOUWkPhfyb7gmDns8HJdMW1H+U\n",
              "hNbfqMLueneYCdMmOZ3GAiPgkbEEFdg4/KX/5q3xxDIGY/lOR/zsz7572zi+OeoFiAmoRtRjUHf/\n",
              "9uG9geGLnKohC9yJUNVPlGrW2rJf2GNh4SjeElrXB6z1jRAFcOHgXrv+ptGF0QkGeplxWcMdu4FO\n",
              "+yDZlpkmuxTddZNLePtaXgtpvjNNmPgWB+ddz8+qvANouALE/RSba/fwc9Vs4YRe2ftN7XL9oEal\n",
              "w85iybESLfkX9+rWPBPcnkjTeTZHqImzIuWQw3tGzCieWRGWCDn2mE2P4ilSkLI7ToEewzYmHWGM\n",
              "vU0BIEUyfaNwTIuhp01MCtRUAw78pDhIp4IVVG0JwiDUEQ2ITJs507PjX645ZrNhIEp0RFjMxbhE\n",
              "8fhjTcqS5ZPKleD9PAvWSpBAEDp2PxU4LGYIpw5WeMNFHxu2H/EgUnb03UayOt7+4kRV9dyfkXqx\n",
              "j+MohOBsopXIHyQRclTlwebQJNJoNWtFbXrq9tbkTrOJP9UBFkhRZNp45E5nzKx25X1HM1BJ9pAo\n",
              "qA8BdXd7sOOiUMF2On48xwRq6ObxGCLG7IQJvPGkVywU/8uvE+JRPQ6x1w6nKJXu9Wm/80MbEDMp\n",
              "U+yH5zummz2wjILLQuqFMWACnEexaF8S/9wXWARCiF4jcKpqLfFo627dHtGw6nF2/VlBFPEQAR67\n",
              "ts7siCu/Ha5g5/Ncuayd9TBAjOrj76f9fgMQJcG5hACGoQfgMMvDUHaQCyR37ZsdD+4NA8rw+TEN\n",
              "Lwk2CXvcGnjk6jv+v5uyBRA4TFzOaYnOarIxUwHgQ1tyN1ZNcxw21LBzY7KEsXGw21ZwpfFEiqVF\n",
              "hzzGHBfcekgvb1I573INL+ALGSvNa1lkJiHey36L8TsISHbcz3lWhBQ1bjPUOzcYTX4T0l1y9fqm\n",
              "HoSMQet/FN+KXeQ7yPYLAQAJuI9q5Tmef28LY56ga+VLYrULZr41RV7sQ5sNA5Lv/AZc6y24UsTE\n",
              "gAQLhz/Ncq6gG4gtrpRT5WjuTJp+DqIUKEi6Dcr4dEBxhW4M/NnEcqNjkxhh4BQQakHRfoyD0YO0\n",
              "Xyu/eEYId3kWpMqoq8ThZ7mMBlf5L2eopcsp0+h0XtxjXtUsroG/QkDDRLSjAClzHQkjvUpN7J1h\n",
              "xrcrJSwC1VpmwF3CvLR4C8qFqo+n0JmdE3yhn3DW7cyqeOOSEigeCs7LaJAcVun4cQ87GcUi8TOi\n",
              "vn52Twdd3MW5iBrbQx6g5viSXNj9P32QgrjJV4tqkwr8KPlQOWpTavEcqmUMjjHumtrmn9QbuvDN\n",
              "ICYJupfbCRIc6/0cydZVWsdIuwxbA3mq0Opo8xKoYBTO4zKOo6XI1xPu5BY5u8+kIgabwsXoVwL4\n",
              "qfRvOSON7xCnI6GR2pqZHt76s7u/xLovGZkB37puED5gh+nXp4lIq5u+D+2H6yj8ptWpjSR9F2pF\n",
              "EDJW13P3XaNdpOF0EwdPg8eiXR+ozdfSUEMjGRX4Ef6Yo4k+mtI9u9vfFON8Nvt4p9BPZFKxN4fF\n",
              "wUBx28xTvkAhO4EzOmQ2w0drJBxrcm7CECPBxQcs9un9sY1QEljl5w7h11tuzThl4w1/LjaoVmoi\n",
              "S/drc4dmlljdhNZhDV0tQ3fe4+Bjs6o6Aef+2RtL7eUrSfDaQVgJIAe5WxTljyWZLamDUWCKJCXa\n",
              "Rfwz+50kq8rJmwRabckxjMDCkXiE3yhXtGOSyZRBreRcv1H2ur4OWrUOKduxXObUXlmEWNnXOYfr\n",
              "mcSvjkRizDIAHn0CpySAL9V0PvDT3kBHnJJYcbus8t6TaWTtc0Udak/PKETKYMEyL7Ka4xsz40Hc\n",
              "DxzQ7APWQ0M23+2EPYCM+wWmBaUu8G3lio9bwj9BpjKiD6KeXjqJkibw711Lg5ermkmkjULnADEe\n",
              "avsTqi8pXZ15nEy3GMKdeM2TF8PGY4af/iAdqRsITEF1v+LLdd4xjVIlBgBN72Hlp/7W1dUuF7lR\n",
              "it7IUzai28PdQRs4lbF+KpwmUt4ABN/PfYgvC9IPLofUsZts+/2ptw2xYIWlWrjrQyGOCbY9mZud\n",
              "gwgQ/HRKIIM9uLaJRVAv7LQzDp9LdU3fYOXdOqXAzSMTrdqUbEOGMe3la8KVFrF1fIuu+gySy3f4\n",
              "yv/ZUFPJoWV7jYsvtqlXkueSFTjRRmyRurT+5yaUmZu37CN2kf4RWdnL/YSoVqQB2y/ah4JO5lTh\n",
              "w1lLsi9x1SRwk2y3gTNrxSwZlQFU+88NcnVdDlP2k1MSSxPwJi2RhNcgVyuhQ4Br5uNtuetH23eU\n",
              "ZTPhIzdtmVKx1hvBspkVlBXkqQd3tRG1J1ze9hyC1+ctp7cBEuJKNHF6SgtY0CF3gLRiPDnwHYaN\n",
              "gIsa9gs0/yVMWDTo0YKt5/czWy6D/V+maojb3LktXpyfvCE6y88TbSjPtJoB6eZIGxIbA7gi5Bu6\n",
              "A/rkUQh1wfRauigJ/IbhyJGhXfYpg4QahMQBbXQqjpZywLZH8E1UYIR5yHQ7mBKwAAACjQGeQXkF\n",
              "fwAADs0V3ZhFMTJ8xGM8jABx1eAvMIoYF6k/zcIXjzWk7AXVn9DSwd9JKu2qEbegViGjucQV3rfv\n",
              "JXuQltvlAkiV5DlKTDqXMS7pt0ExQ497+Kfoc3Gd+dVNkGlbpi2KMqsBxn/ddMTrrXJk2orL/TCZ\n",
              "vQ2aX3fEAFqVIZLkYQDJzimgN4AAAZBsmXqldc6T2vjXat7R+pUIi83S80Jb/Oqn9fuLVJIZj+/n\n",
              "zWa3M6XMNkNGAEGsuYAj8Y98/JoM+K60eTbxFik3Tv9RlPESkp8uD0bKo1VoAIqzbsLFnFN/ibiF\n",
              "vnd107FNWLX6sn8G+ZMaGBpVBHLBH62otXK+jJMyNlVskfOcX7rcDR21xUpbU/dSpjaoZRPrNxlU\n",
              "P1NQHVQuQ9GfFlBvkvHMUxUGwXC2eI+4ADuQTpemHsXikl1mZD63nRgzUwUkzbLkpYEXaWQNNXnW\n",
              "OLkKCnIushxbEy9Hy3nI4UwFuCnaZplo2NhXrOBYhZ/QC881vJ5xx6KHWeTNrz//iBtwUuU7SWGK\n",
              "CALyDqmVCirSdORuoOVxCmDBDNdNNNWZq7nyJfpIKdxc2A86izKxAWwNoxlWERcW3eSx4XF/5R8s\n",
              "/f9kjAFcTbBAponQAwOkUZmjrUTClWTdNjRWM9BJqcSHSNn2a4skkkfWmynvW4QK5N7WV96F3vh9\n",
              "eMdv70vOWVfLEZZAO1C5ew9vKxoAbUQ9LSyVyB/be3y3er0CmDuWekibBUlgzUYOqYzhiJGSPljF\n",
              "hXzCaIHcJJxePm9nfxTnmd9mW3Efxa0sH9TQdXrE3X9DofDtuGortQ/YI0X/w2hD3iqtSAcS9Pxu\n",
              "jP60R3PBxuKICOGRe1ugQZleQkQtAAAHOEGaRTwhkymEF//+2qZYABXAAlKkdVbQAAL3n55VN/j7\n",
              "0T7AnR650JTAMvpyL61uj1Qt74JWw8+AM8yjmbDJek0wIE5uqoq8bgwtQis8czcG7P2kfOosuTSL\n",
              "rgsbnU2BQgDzsZZ3QxJlyKQA9BiSVcIgvud2GeZ62dbV1n8WYwjKbn4fogir7i/BGxizBnQa0BU+\n",
              "4K42/+R/1zXsebT48cllasZZW8oaSsPwf+NCXg9uEZn1/ny6uKbldxLQPfImnHZC5YA3UcD+dFJW\n",
              "quTCJesAhcqHs5LrAdaE4coiwwHHX1ZiR9uSwppaHYMvNvqDLC3UlW+WxxDbmaSfjp8lZVBfdP5V\n",
              "FF6SHmuwm2pDXSsFqQm+iV4o/zP2xqm3f6fwEsQZ/GFSl/hk8WI7nXVUwgfm+GpvhAM1n8J74dPJ\n",
              "QupFZq0Fh4oCYbKsBO2G/tVfVBibpd7CIUgeR87keQmrtcyDXGOYnHhhoNWPr5ybmtKqFTrDF3IK\n",
              "R3rAmRkOXlNi0F/uRChErhvpPs/dVhW9XjpvBPv4EHCELluwE1/Z/Q7AAu8WUsOeRSi9KxzX+3og\n",
              "0dSnrwLWS0n/27Gkq44PpNj7kpe47vdRU6ywSJnZlcK5cVBjoUNXxSXSpdGjXgZedf6GKxKQV2fp\n",
              "X8p5ycw7bZ1qkKzWsBrm4KBnXv/mUJ9J3qQkq2R3ix6rlyOGOx9aNxFyMgPB5UaZrphHAPHQiXw8\n",
              "XIOjdleZMLFaTto3+siNjmv9Hcms3w+tnBq4pCwezzosDaU+9Rr/wMZoyByaGc6wLz94Jw86PKRO\n",
              "gmKU+EWR2o3FKpIrc7CT08QEt7uTDCc3K27yf4LV6vUSEl2OHkXTHCfxKrQmr5C2sBiqwccFqlsO\n",
              "0UKFQgY5XxTXIYgqbU25HOxzquVa3V5nWcmRsulYoUikbOYmICJBQXVy+ZhxXMm0ZX4OuNP5YdKZ\n",
              "QK8Tu1poY/FhTp+Iw/A9Q8CagN0Y5V8avlGod8KnAsz/cOYgrumqK6NuBy8Nqouzz6xaUDqHPaPa\n",
              "tMaL1edpUBVCjJz/wAFfOJAleZoLFB5wegctPpgqnoRBBLg6oD5zA4VeL8eaoWsDnhuobO/Elj13\n",
              "a/ZKSGaFBbDsbnxNwIqup0ytrhrieYgzudoWB1hL9r/z/L4HBMzD92hfTOBjlDD7m59L1+GhWbSy\n",
              "IKz2ozVdMo7xx5hoNCE5ijjgFvOQa2laY1pJ6VKiewirdDMjV0A/XGTUpJ1XjU53jJ3ePqLWwt4L\n",
              "WPmNW5oNp4oHeWb1XsS3OoK59iIFtUuNcx6jn4XPwwJe5yWNxnD11+GquJiXYXbG2e1/xn+bu33E\n",
              "A7lixMMKgBvbRzvHaQsejMOSIPRtz8G9OGAvZvgTwuKCDe2HOLTl6QW+s8dbuXD+eWmucE5X6pIe\n",
              "yuTDgAhlawjVwDSeQBqRCn426OMSYxiq8iJdjS5scT88V0QAttT4zgGPI6QDY8QyHfx/PPrLLXSg\n",
              "HEoAVeAytkX2VNpzaGSkEnnF/V7ipJH2tnckDNG4K/L6+9twFzzRLKnjStjfBaM0fi9/4iq1Uz2G\n",
              "KssBNqknAK+Jvqk5Fb8syw2OuHh0svyYT1053d/YWZhKsgEzduAoNGB1YB8SBY507uityLHkLT7S\n",
              "zAc9DjLtFx994P6xfzg4hkYOfLBMdWZKd3p3M4Ao+DmhWJCxxtyBs8gY84t2Vwi2sBUGJmiuPXu1\n",
              "Y9b8+hz1VHZ7qmL+JqIpEZu43yemRy2PhAqlU7vVuYA9bdVZyhwpmhHefODx3ar2YjiqQl4OIkG7\n",
              "CDxXByjPu1pxz8LpVkZN4o6h3Nh4KBb9fbz/Oue7VE9VpY/a6n9/muhVvTVbMdkbUYZTsSgEoREA\n",
              "F6bSLamADUcXSfDx51sSRYBngqUngjOln1iIFpi731pDVSyVHNC7yVLITYtHM4mBkHmOQRGFDlk/\n",
              "X/HkNGpbKldwgkdDb1nWOjfltRtFaYeuOGgXOyf0oAhl/XjCYx5jnVaRnPK5JR9HU/hjMZgqyVPx\n",
              "cu4gKX+c7SGA6uqsQCb1+SlxRg8feLEbFlPGZH6rmEpNyj/uOXZWuhr19h32nNcajSEAnTi0qcHz\n",
              "K17r4XMDTN9uDKUhGhS8hOIlSxONBLC6FD3JaRRXLQ48KB2CFArc4jSxLh8f8BH6QGAO292YQd1b\n",
              "O9yR7NVybB1XKdy8wrbeRm9J0NrPTqrGpD1XiZwAwgpqvKXbry7ErjWYkVDvY8CFSomxcj5/+IVj\n",
              "CVEK5jVeawN2PGx8GqqVirNsgzGG3Nk0DvB6i6u72nCe89WTWVyEeCFwhfNton5rfgg2kvO86K3t\n",
              "GIcK5D5bmXpbEBQSSVXYYVB4CbP0bC5X4x/sBht8otZ+Dd48iORLYelfal8OVWwx59TzPHJ/m0xk\n",
              "wN+FwDyhjdtvhXnHf7zfUHQ/aLTpcn9N1vNS5YpiuZMW33ErV6k5M10uD06v64AHzAAAAPBBnmNq\n",
              "U8FfAAAOTwh9nBCtAAh0EVhyRx2kYlmDfV0jTFk8/+ByEce9IvdXrnPRvT/bE7KmCcDbuzPreA6r\n",
              "IQlR9PmBQcd58gcvss/xLFLKjE2tGWF/SlKudAgz3lLJuTMeV+BvGKcZv1qNEsJM0Fi+3jqA/C8q\n",
              "AC0p88yKJgJ9n8QSyZHVHuRAL3bgbIGWsaAuaciH91kzLc2fgcizNjkcy0BD/7sb8Y1wo9OAFBZY\n",
              "aytkmPVwSTx//FFP6Pyda4oKbikViI77/EorfM8yRa+LvGC8o3CaDLMGksSeH4TFb18nwn+zKGTq\n",
              "V6WGe7+AG9EAAADtAZ6EakFfAAAOWk0SSWUl4mp6gA5t0HfJ/ZQW04yPck/ddhWOdptAbpxTEZgQ\n",
              "HiKhvFUq71j2HpRDY1kEpVYlP7q5SZd6MWrUrVpw6u/xwuuUslN23aPBvaQop7L00HSgKFtc6cQp\n",
              "uBNPQhiUsTvt6yvKf7tBU7gDb1dnPdw12YPWg6XGkFXb3X+woWxF6IfzgNKihsVRJg0OJPtM96dv\n",
              "2PbibEgDUZCLf0pF4AB7iuAXWBeeX1TZoTPuUBQZjcxHYEkWKm6gMt7mgu++MdX/yds7YPVOfA+O\n",
              "ep3uzdDMy0kae+sfNo06ZdDkoC4hAAAD9EGaiUmoQWiZTAgt//7WpVAAFdXWQAADr3XeEUu8J6jU\n",
              "z+5VjCUfhMB1EkgudQzvDgAn9Fm6Ahws57RPCTfvO89UolOMEpWoiJOSincFfenMRjtu+RJ2VtK8\n",
              "l3LHnRFbwZqtdda3Alt/S/4oMqPbFFHHlMp1TPAogghVUHJmuAzfdlrMXn92DClX7taaLHfd/sM8\n",
              "SKbqjeNPaTCosx7tZ6D+a/eeXHTftVvAvs8HWhU9+sb1NEnUE+/yl6M/FPSjVHgmBpBBp4Xn57BL\n",
              "BVeivR3/5MtnH3eWte0rrgOeAfBtAIBJNGQ9782ey42lALNRN2mKHHIzP3ra7/T1XaGBOIDIj3lm\n",
              "iMKAvoMo05xnHZsJRLsEDhZQ6X7T/vOdYLPWQ6RSWJ806Jh5XEUgCzezunGM4EjhYLu8Pfv70pbf\n",
              "lhLq0cDmwEqIkkSL7tz59PfoEGhqYoP+JxbhufHz3+WX4JYVRInAuU/fe9EBMWSkmdw24kN2IpNV\n",
              "g0hPuqigV4uiuhwB+H9U72R2kf+V4vIhNJWxCPLpgAYYDLnZfNf/Huv9waOcmaa9i++08Dd3/ViQ\n",
              "E6+sO2NYOUUo8peAuvVh9qDc5PxAdT8AU5PRXE/CEi9JUvnJUj6oQXU96KeMyB/erHsGLlgKQh7F\n",
              "4pkFEx7fB0Dyd8LNzM1200VwYG+Yr0Px3BmsBH2MbT4tgAW/gDaOLk0uEUp89gFOT37N4oJPgvhQ\n",
              "Tx2wN69IFxxrXIg7Q1E2XfeKuFdOhicX0TxeODJLK42UbTg0nLxm1vu/5QZAzoCcqNHAAwT2FsKz\n",
              "6qE1RkZ3akFSZf5jYiN5Yvhb+as6WecZBDZLCGbhfwx19xSqHwF18OsCbO4kkKwCLmtfkSzSCQzn\n",
              "tBEtXlZMxgrmfd99OR8Fog161Sw0Hlke62GO2X+GvSFv40MIRhOnir876Jy1yabl+bZdL45HonP6\n",
              "7kzCqgBiJSLgSegw4cA0LhpIOohYdgM1bV767QqaeW+p14yFxguxBnqTje/OfgboPrjOhYXZW2jC\n",
              "+VWCDMwpkZw9zIDK4cxvlfRI+SbgUSGSUpohZYvPqeRWuzt3geUHGjqQvAY9dMr4XUxdFjfToiCM\n",
              "xjNEkekZ9wXSL4i/Esb0+nB4E0xhYt2zjepGlSTw9vjHc+hMDkdn+qITCriJet4gUMc6GlTlXIs1\n",
              "4hvyqdxGnv637a7XmmraqLZJRFzhipuXoqfKEHNoSwqJogd7VqaMYtHnwbe9+a5Ef/j6LPHPJ9VS\n",
              "GeC+avV3YypaZCpHKmosEi3SHA/+5t9op/HgTY24WDkhkFYSEuyA7WtoH1lZFVL/PjzDyBy0rAdF\n",
              "FlpwHzgKbMkA+YEAAADmQZ6nRREsFv8AAAlLiFtP1xoeH4P0ACnr8ygl2xgO4AvjfiqY+Dodh+om\n",
              "q2SlbtnM0udAk0j7uKPgUf64Xel/Qb3/NmTtYXl71k6MOYvMkl3+qTqdFlIlr2FjxRx1X6bnBEOW\n",
              "X8iYQrKKtbAtEiO1gSWghyH1dO+vHnFsZ5yTMAVCRfxLjfoDC/kBeIlB2l6MToZP8Wm4KJDKOOW6\n",
              "8uAAX0vUj0t43+4F782Ol6JIe91IP/lDhVaLDxNoXNfvPG/b53NM8p7if9PG88s3KPaDPFeQErq4\n",
              "RNxLAI4VREmiWVutwZ7+QqcAAADHAZ7GdEFfAAAOZgBrhgAOvaqR1ChCWsfMKCk/g/tiw27ui9YD\n",
              "yPs4B5VxURblmT4rn/vggXCRhpFdY6R25Hl62e1KhC/ntRz5dJ1UW8/+guNZ5IrbCXv+vG368oPH\n",
              "eRWc7TCTmHaMFmDiqaWCmBtb3BH1yeo1xEhAiHP0nBsUQ+T+VjvD4+aQn8Bx7cXQhACGOq6KLHsQ\n",
              "QASxH8i/8JFTMgmqqBXH28B5retjFnWmhc9ZuBkuoE1mev133B+DrU+4m3WH3oAiYAAAANUBnshq\n",
              "QV8AAA5ImWOKWqrb2QAHS20/t53s2vrWIe5c5LnGDyEF1mDsV909DJ4nyyvh5DpPiyTU9bKhweJN\n",
              "+Liky7eHCNcpvjIubkkySY/b6AYN3DJKKmQzv7i+IpwlNRtaEATfo+iwWN4otbS7CYhsVMJoX/gf\n",
              "q0h5OTKJXqoC7h1fx8EMHfCqgApSwwy2bMKDJr51Fw9/+GY473kIrqIAl8Jc5768wkxFWcBqzy+5\n",
              "24zg/mLOtNC1ymiX/8MtZnVqxFSsn+typXPVVi6a9G3uQfMACXgAAAF+QZrKSahBbJlMCCv//tal\n",
              "UAAYDYgnWJaKNfxL4SKsAIRY2gD+irMGjAFjmOdRqLehMN2m/NNwE4Mbb+nl8mtY+f6Kz5NCQewM\n",
              "/x7k1gt+3LEK2MsO1jMrzz3WiJnsr1BV1eaWV1fCM32NKKEEVH12V6DjdxqB31adf1TS64QptYTy\n",
              "sdkmE/E37zpwU4Bjtc7nMa0MSzqtFWga2hSTT1owQIu13f0sjEljvwRo1/FYxFf3O1yu1l/YuZwW\n",
              "G8aeVaL/h8h4eu07+tmtG4DkHbrwtzLbfdHQdp9nVxI34AcuxQDR9utAfMVkfhpFfHV9EWJpnd8L\n",
              "n6nra/yvr4hKMOpstk12lc5x1FL697+fP3TksEKWhM++yzIQavcPuMyTai2TVnVmBTQVnhGUwBDJ\n",
              "nDaU2MmZxhg3gZaMSKF4DDIZ6e2NLYpBQH81vmqG8M2YyzxfucQ+xtwK1TV+wqDptvr7WMGYIcW0\n",
              "DvMFAVVoqTjCE/SdhH6nkXKw1k9d7ZsDZwAAA6ttb292AAAAbG12aGQAAAAAAAAAAAAAAAAAAAPo\n",
              "AAAq+AABAAABAAAAAAAAAAAAAAAAAQAAAAAAAAAAAAAAAAAAAAEAAAAAAAAAAAAAAAAAAEAAAAAA\n",
              "AAAAAAAAAAAAAAAAAAAAAAAAAAAAAAAAAAACAAAC1XRyYWsAAABcdGtoZAAAAAMAAAAAAAAAAAAA\n",
              "AAEAAAAAAAAq+AAAAAAAAAAAAAAAAAAAAAAAAQAAAAAAAAAAAAAAAAAAAAEAAAAAAAAAAAAAAAAA\n",
              "AEAAAAAC0AAAAtAAAAAAACRlZHRzAAAAHGVsc3QAAAAAAAAAAQAAKvgAAIAAAAEAAAAAAk1tZGlh\n",
              "AAAAIG1kaGQAAAAAAAAAAAAAAAAAAEAAAALAAFXEAAAAAAAtaGRscgAAAAAAAAAAdmlkZQAAAAAA\n",
              "AAAAAAAAAFZpZGVvSGFuZGxlcgAAAAH4bWluZgAAABR2bWhkAAAAAQAAAAAAAAAAAAAAJGRpbmYA\n",
              "AAAcZHJlZgAAAAAAAAABAAAADHVybCAAAAABAAABuHN0YmwAAAC0c3RzZAAAAAAAAAABAAAApGF2\n",
              "YzEAAAAAAAAAAQAAAAAAAAAAAAAAAAAAAAAC0ALQAEgAAABIAAAAAAAAAAEAAAAAAAAAAAAAAAAA\n",
              "AAAAAAAAAAAAAAAAAAAAAAAAAAAY//8AAAAyYXZjQwFkAB//4QAZZ2QAH6zZQLQW6EAAAAMAQAAA\n",
              "AwCDxgxlgAEABmjr48siwAAAABx1dWlka2hA8l8kT8W6OaUbzwMj8wAAAAAAAAAYc3R0cwAAAAAA\n",
              "AAABAAAACwAAQAAAAAAUc3RzcwAAAAAAAAABAAAAAQAAAGBjdHRzAAAAAAAAAAoAAAABAACAAAAA\n",
              "AAEAAMAAAAAAAQAAQAAAAAABAAEAAAAAAAIAAEAAAAAAAQABQAAAAAABAACAAAAAAAEAAAAAAAAA\n",
              "AQAAQAAAAAABAACAAAAAABxzdHNjAAAAAAAAAAEAAAABAAAACwAAAAEAAABAc3RzegAAAAAAAAAA\n",
              "AAAACwAAGOUAAAhMAAACkQAABzwAAAD0AAAA8QAAA/gAAADqAAAAywAAANkAAAGCAAAAFHN0Y28A\n",
              "AAAAAAAAAQAAACwAAABidWR0YQAAAFptZXRhAAAAAAAAACFoZGxyAAAAAAAAAABtZGlyYXBwbAAA\n",
              "AAAAAAAAAAAAAC1pbHN0AAAAJal0b28AAAAdZGF0YQAAAAEAAAAATGF2ZjU3LjgzLjEwMA==\n",
              "\">\n",
              "  Your browser does not support the video tag.\n",
              "</video>"
            ],
            "text/plain": [
              "<IPython.core.display.HTML object>"
            ]
          },
          "metadata": {
            "tags": []
          },
          "execution_count": 22
        }
      ]
    }
  ]
}