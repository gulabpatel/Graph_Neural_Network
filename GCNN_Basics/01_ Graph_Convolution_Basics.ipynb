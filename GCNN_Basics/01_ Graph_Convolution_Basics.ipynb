{
  "nbformat": 4,
  "nbformat_minor": 0,
  "metadata": {
    "colab": {
      "name": "Part 1: Graph_Convolution_Basics.ipynb",
      "provenance": [],
      "authorship_tag": "ABX9TyOYlYsK24tnMOTA0twGAbsQ",
      "include_colab_link": true
    },
    "kernelspec": {
      "name": "python3",
      "display_name": "Python 3"
    }
  },
  "cells": [
    {
      "cell_type": "markdown",
      "metadata": {
        "id": "view-in-github",
        "colab_type": "text"
      },
      "source": [
        "<a href=\"https://colab.research.google.com/github/gulabpatel/Graph_Convolution/blob/main/Part%201%3A%20Graph_Convolution_Basics.ipynb\" target=\"_parent\"><img src=\"https://colab.research.google.com/assets/colab-badge.svg\" alt=\"Open In Colab\"/></a>"
      ]
    },
    {
      "cell_type": "markdown",
      "metadata": {
        "id": "PaCKcQizE2h7"
      },
      "source": [
        "Blog post: [Gpaph Conv Basics](https://towardsdatascience.com/how-to-do-deep-learning-on-graphs-with-graph-convolutional-networks-7d2250723780)"
      ]
    },
    {
      "cell_type": "code",
      "metadata": {
        "id": "-P_eEKTXEbft"
      },
      "source": [
        "# Install RDKit, Takes 2-3 minutes\n",
        "!wget -c https://repo.continuum.io/miniconda/Miniconda3-latest-Linux-x86_64.sh\n",
        "!chmod +x Miniconda3-latest-Linux-x86_64.sh\n",
        "!time bash ./Miniconda3-latest-Linux-x86_64.sh -b -f -p /usr/local\n",
        "!conda install -y -c deepchem -c rdkit -c conda-forge -c omnia deepchem-gpu=2.3.0 python=3.6"
      ],
      "execution_count": null,
      "outputs": []
    },
    {
      "cell_type": "markdown",
      "metadata": {
        "id": "phiYYjt0o-Ar"
      },
      "source": [
        "#Import Rdkit library"
      ]
    },
    {
      "cell_type": "code",
      "metadata": {
        "id": "jnTrGomeIkoT"
      },
      "source": [
        "import sys\n",
        "sys.path.append('/usr/local/lib/python3.6/site-packages/') \n",
        "\n",
        "from rdkit import Chem\n",
        "from rdkit.Chem import Draw\n",
        "from rdkit.Chem.Draw import IPythonConsole\n",
        "from rdkit.Chem import Descriptors\n",
        "from rdkit.Chem import AllChem\n",
        "from rdkit import DataStructs\n",
        "import numpy as np"
      ],
      "execution_count": null,
      "outputs": []
    },
    {
      "cell_type": "markdown",
      "metadata": {
        "id": "vOeunhTYpMWU"
      },
      "source": [
        "#Draw molecules fom SMILES"
      ]
    },
    {
      "cell_type": "code",
      "metadata": {
        "colab": {
          "base_uri": "https://localhost:8080/",
          "height": 167
        },
        "id": "sP2ThsyAKDR0",
        "outputId": "e6ea4a62-e26b-41a5-9311-f7d48ad88bae"
      },
      "source": [
        "mol = Chem.MolFromSmiles('CNC')\n",
        "mol"
      ],
      "execution_count": null,
      "outputs": [
        {
          "output_type": "execute_result",
          "data": {
            "image/png": "[encoded data removed]",
            "text/plain": [
              "<rdkit.Chem.rdchem.Mol at 0x7fe7cfcd8440>"
            ]
          },
          "metadata": {
            "tags": []
          },
          "execution_count": 3
        }
      ]
    },
    {
      "cell_type": "markdown",
      "metadata": {
        "id": "hiUB38RvpWM1"
      },
      "source": [
        "**Labelling of Atoms**"
      ]
    },
    {
      "cell_type": "code",
      "metadata": {
        "id": "0U1M2uSAdWNa"
      },
      "source": [
        "def label(mol):\n",
        "  for i, at in enumerate(mol.GetAtoms()):\n",
        "    lbl = str(i)\n",
        "    at.SetProp('atomLabel', lbl)\n",
        "  return mol"
      ],
      "execution_count": null,
      "outputs": []
    },
    {
      "cell_type": "code",
      "metadata": {
        "colab": {
          "base_uri": "https://localhost:8080/",
          "height": 167
        },
        "id": "3Mo1LnBkdOV4",
        "outputId": "feec2174-cc9f-4f03-b6a1-9df6e4573578"
      },
      "source": [
        "label(mol)"
      ],
      "execution_count": null,
      "outputs": [
        {
          "output_type": "execute_result",
          "data": {
            "image/png": "[encoded data removed]",
            "text/plain": [
              "<rdkit.Chem.rdchem.Mol at 0x7fe7cfcd8440>"
            ]
          },
          "metadata": {
            "tags": []
          },
          "execution_count": 5
        }
      ]
    },
    {
      "cell_type": "markdown",
      "metadata": {
        "id": "gUCbdaiIpzg4"
      },
      "source": [
        "#Calculate Adjacency Matrix"
      ]
    },
    {
      "cell_type": "code",
      "metadata": {
        "colab": {
          "base_uri": "https://localhost:8080/"
        },
        "id": "K_RCjlyIcske",
        "outputId": "ef3a778f-f784-4640-e05e-1006169a1980"
      },
      "source": [
        "A = Chem.GetAdjacencyMatrix(mol)\n",
        "A"
      ],
      "execution_count": null,
      "outputs": [
        {
          "output_type": "execute_result",
          "data": {
            "text/plain": [
              "array([[0, 1, 0],\n",
              "       [1, 0, 1],\n",
              "       [0, 1, 0]], dtype=int32)"
            ]
          },
          "metadata": {
            "tags": []
          },
          "execution_count": 6
        }
      ]
    },
    {
      "cell_type": "markdown",
      "metadata": {
        "id": "Q8I5HaZ_p8J7"
      },
      "source": [
        "**Convert array into matrix**"
      ]
    },
    {
      "cell_type": "code",
      "metadata": {
        "colab": {
          "base_uri": "https://localhost:8080/"
        },
        "id": "ESx1cLJzc8Jz",
        "outputId": "e1a3d81e-5b64-474e-cc68-0bba6ddb84e1"
      },
      "source": [
        "A =np.asmatrix(A)\n",
        "A"
      ],
      "execution_count": null,
      "outputs": [
        {
          "output_type": "execute_result",
          "data": {
            "text/plain": [
              "matrix([[0, 1, 0],\n",
              "        [1, 0, 1],\n",
              "        [0, 1, 0]], dtype=int32)"
            ]
          },
          "metadata": {
            "tags": []
          },
          "execution_count": 7
        }
      ]
    },
    {
      "cell_type": "code",
      "metadata": {
        "colab": {
          "base_uri": "https://localhost:8080/"
        },
        "id": "cc3_AgW4fHnt",
        "outputId": "126001b8-f112-43ea-edb7-1e445897cf27"
      },
      "source": [
        "C = [1,0]\n",
        "N = [0,1]\n",
        "X = np.array([C, N, C])\n",
        "X"
      ],
      "execution_count": null,
      "outputs": [
        {
          "output_type": "execute_result",
          "data": {
            "text/plain": [
              "array([[1, 0],\n",
              "       [0, 1],\n",
              "       [1, 0]])"
            ]
          },
          "metadata": {
            "tags": []
          },
          "execution_count": 8
        }
      ]
    },
    {
      "cell_type": "markdown",
      "metadata": {
        "id": "nm0kjAb9qHPs"
      },
      "source": [
        "**Mtrix Product**"
      ]
    },
    {
      "cell_type": "code",
      "metadata": {
        "colab": {
          "base_uri": "https://localhost:8080/"
        },
        "id": "snipg6uwfZmg",
        "outputId": "3811dac9-8737-4c96-83ef-8d65a211384c"
      },
      "source": [
        "A@X   #Matrix product"
      ],
      "execution_count": null,
      "outputs": [
        {
          "output_type": "execute_result",
          "data": {
            "text/plain": [
              "matrix([[0, 1],\n",
              "        [2, 0],\n",
              "        [0, 1]])"
            ]
          },
          "metadata": {
            "tags": []
          },
          "execution_count": 9
        }
      ]
    },
    {
      "cell_type": "markdown",
      "metadata": {
        "id": "Al8AV3NYqOWE"
      },
      "source": [
        "**Identity Matrix**"
      ]
    },
    {
      "cell_type": "code",
      "metadata": {
        "colab": {
          "base_uri": "https://localhost:8080/"
        },
        "id": "xsN57a0dffW4",
        "outputId": "cfe38a94-6473-4e96-817a-8265187c9f35"
      },
      "source": [
        "I = np.matrix(np.eye(A.shape[0]))\n",
        "I"
      ],
      "execution_count": null,
      "outputs": [
        {
          "output_type": "execute_result",
          "data": {
            "text/plain": [
              "matrix([[1., 0., 0.],\n",
              "        [0., 1., 0.],\n",
              "        [0., 0., 1.]])"
            ]
          },
          "metadata": {
            "tags": []
          },
          "execution_count": 10
        }
      ]
    },
    {
      "cell_type": "code",
      "metadata": {
        "colab": {
          "base_uri": "https://localhost:8080/"
        },
        "id": "Yw1Q3nGGf7aG",
        "outputId": "a3e0833b-1953-4a45-f55e-e4cf93c64a7e"
      },
      "source": [
        "A_hat = A + I\n",
        "A_hat"
      ],
      "execution_count": null,
      "outputs": [
        {
          "output_type": "execute_result",
          "data": {
            "text/plain": [
              "matrix([[1., 1., 0.],\n",
              "        [1., 1., 1.],\n",
              "        [0., 1., 1.]])"
            ]
          },
          "metadata": {
            "tags": []
          },
          "execution_count": 11
        }
      ]
    },
    {
      "cell_type": "markdown",
      "metadata": {
        "id": "8qVtfAxgqU-_"
      },
      "source": [
        "**Matrix Product**"
      ]
    },
    {
      "cell_type": "code",
      "metadata": {
        "colab": {
          "base_uri": "https://localhost:8080/"
        },
        "id": "xX2ix53ygHDj",
        "outputId": "cfbc8c8d-de86-4415-dca0-d151573563ad"
      },
      "source": [
        "A_hat@X"
      ],
      "execution_count": null,
      "outputs": [
        {
          "output_type": "execute_result",
          "data": {
            "text/plain": [
              "matrix([[1., 1.],\n",
              "        [2., 1.],\n",
              "        [1., 1.]])"
            ]
          },
          "metadata": {
            "tags": []
          },
          "execution_count": 12
        }
      ]
    },
    {
      "cell_type": "code",
      "metadata": {
        "colab": {
          "base_uri": "https://localhost:8080/"
        },
        "id": "LCD6IESIhkOV",
        "outputId": "50fce45b-e8ee-421c-85f1-6d4c10b17c0d"
      },
      "source": [
        "A_hat"
      ],
      "execution_count": null,
      "outputs": [
        {
          "output_type": "execute_result",
          "data": {
            "text/plain": [
              "matrix([[1., 1., 0.],\n",
              "        [1., 1., 1.],\n",
              "        [0., 1., 1.]])"
            ]
          },
          "metadata": {
            "tags": []
          },
          "execution_count": 13
        }
      ]
    },
    {
      "cell_type": "markdown",
      "metadata": {
        "id": "dl5rO6UKq3Ti"
      },
      "source": [
        "**Matrix Column Sum**"
      ]
    },
    {
      "cell_type": "code",
      "metadata": {
        "colab": {
          "base_uri": "https://localhost:8080/"
        },
        "id": "N46NyGe_geaU",
        "outputId": "b6c0baf4-21f7-4100-a620-ce6b83500677"
      },
      "source": [
        "D_hat = np.array(np.sum(A_hat, axis=0))[0]\n",
        "D_hat"
      ],
      "execution_count": null,
      "outputs": [
        {
          "output_type": "execute_result",
          "data": {
            "text/plain": [
              "array([2., 3., 2.])"
            ]
          },
          "metadata": {
            "tags": []
          },
          "execution_count": 14
        }
      ]
    },
    {
      "cell_type": "markdown",
      "metadata": {
        "id": "QHOxMFwUq96l"
      },
      "source": [
        "**Diagonal Matrix**"
      ]
    },
    {
      "cell_type": "code",
      "metadata": {
        "colab": {
          "base_uri": "https://localhost:8080/"
        },
        "id": "dhqA61hJhTsW",
        "outputId": "da000191-3e4d-4ce2-c39e-1cabf0946c2d"
      },
      "source": [
        "D_hat = np.matrix(np.diag(D_hat))\n",
        "D_hat"
      ],
      "execution_count": null,
      "outputs": [
        {
          "output_type": "execute_result",
          "data": {
            "text/plain": [
              "matrix([[2., 0., 0.],\n",
              "        [0., 3., 0.],\n",
              "        [0., 0., 2.]])"
            ]
          },
          "metadata": {
            "tags": []
          },
          "execution_count": 15
        }
      ]
    },
    {
      "cell_type": "code",
      "metadata": {
        "colab": {
          "base_uri": "https://localhost:8080/"
        },
        "id": "pgjBhwlyh8Ai",
        "outputId": "e62aebcb-a595-47e0-f895-ef3d4225f0dd"
      },
      "source": [
        "D_hat**-1 *A_hat * X"
      ],
      "execution_count": null,
      "outputs": [
        {
          "output_type": "execute_result",
          "data": {
            "text/plain": [
              "matrix([[0.5       , 0.5       ],\n",
              "        [0.66666667, 0.33333333],\n",
              "        [0.5       , 0.5       ]])"
            ]
          },
          "metadata": {
            "tags": []
          },
          "execution_count": 16
        }
      ]
    },
    {
      "cell_type": "markdown",
      "metadata": {
        "id": "87wUX0NcrFZZ"
      },
      "source": [
        "**Square root of inverse of Matrix**"
      ]
    },
    {
      "cell_type": "code",
      "metadata": {
        "colab": {
          "base_uri": "https://localhost:8080/"
        },
        "id": "BtDXmkeDirKu",
        "outputId": "dd267ebf-df88-459b-fbf9-3effb69dea93"
      },
      "source": [
        "D_hat_inv = np.sqrt(D_hat**-1)\n",
        "D_hat_inv"
      ],
      "execution_count": null,
      "outputs": [
        {
          "output_type": "execute_result",
          "data": {
            "text/plain": [
              "matrix([[0.70710678, 0.        , 0.        ],\n",
              "        [0.        , 0.57735027, 0.        ],\n",
              "        [0.        , 0.        , 0.70710678]])"
            ]
          },
          "metadata": {
            "tags": []
          },
          "execution_count": 17
        }
      ]
    },
    {
      "cell_type": "markdown",
      "metadata": {
        "id": "hF7U4OzgrUSn"
      },
      "source": [
        "**Symmetric Normalization**"
      ]
    },
    {
      "cell_type": "code",
      "metadata": {
        "colab": {
          "base_uri": "https://localhost:8080/"
        },
        "id": "d6LmepHIjmQi",
        "outputId": "4035602a-5b45-44df-8418-6c8436fc4f53"
      },
      "source": [
        "H = D_hat_inv * A_hat * D_hat_inv * X\n",
        "H"
      ],
      "execution_count": null,
      "outputs": [
        {
          "output_type": "execute_result",
          "data": {
            "text/plain": [
              "matrix([[0.5       , 0.40824829],\n",
              "        [0.81649658, 0.33333333],\n",
              "        [0.5       , 0.40824829]])"
            ]
          },
          "metadata": {
            "tags": []
          },
          "execution_count": 18
        }
      ]
    },
    {
      "cell_type": "markdown",
      "metadata": {
        "id": "jP2aUhCSrbw_"
      },
      "source": [
        "**Generate Random Matrix**"
      ]
    },
    {
      "cell_type": "code",
      "metadata": {
        "colab": {
          "base_uri": "https://localhost:8080/"
        },
        "id": "xaIPTMNDkno8",
        "outputId": "025ec040-5385-42e0-c851-ee16e9d5e54c"
      },
      "source": [
        "W = 2*np.random.rand(2,5) - 1 #number ofdescriptors x number of filter \n",
        "W = np.asmatrix(W)\n",
        "W"
      ],
      "execution_count": null,
      "outputs": [
        {
          "output_type": "execute_result",
          "data": {
            "text/plain": [
              "matrix([[ 0.73262733, -0.30650017, -0.28796672, -0.28462724, -0.76883786],\n",
              "        [-0.83610636, -0.86927796,  0.9733707 ,  0.18526772, -0.70120239]])"
            ]
          },
          "metadata": {
            "tags": []
          },
          "execution_count": 20
        }
      ]
    },
    {
      "cell_type": "code",
      "metadata": {
        "colab": {
          "base_uri": "https://localhost:8080/"
        },
        "id": "3HPLQGZrlc6J",
        "outputId": "4af9c544-0ed9-44f2-d9b3-5bdeb5733e78"
      },
      "source": [
        "Z = H * W\n",
        "Z"
      ],
      "execution_count": null,
      "outputs": [
        {
          "output_type": "execute_result",
          "data": {
            "text/plain": [
              "matrix([[ 0.02497467, -0.50813133,  0.25339356, -0.06667839, -0.67068361],\n",
              "        [ 0.31948559, -0.54001566,  0.08933306, -0.17064126, -0.86148761],\n",
              "        [ 0.02497467, -0.50813133,  0.25339356, -0.06667839, -0.67068361]])"
            ]
          },
          "metadata": {
            "tags": []
          },
          "execution_count": 21
        }
      ]
    },
    {
      "cell_type": "markdown",
      "metadata": {
        "id": "LwrwLCQdrk_K"
      },
      "source": [
        "**Relu Activation**"
      ]
    },
    {
      "cell_type": "code",
      "metadata": {
        "id": "4CgHIKbKl49T"
      },
      "source": [
        "def relu(x):\n",
        "  return maximum(0,x)"
      ],
      "execution_count": null,
      "outputs": []
    },
    {
      "cell_type": "code",
      "metadata": {
        "colab": {
          "base_uri": "https://localhost:8080/",
          "height": 167
        },
        "id": "jMQ1ni4WmTVb",
        "outputId": "bb19c318-2736-4821-d494-b4f559d72e2d"
      },
      "source": [
        "mol2 = Chem.MolFromSmiles('CNCN')\n",
        "mol2"
      ],
      "execution_count": null,
      "outputs": [
        {
          "output_type": "execute_result",
          "data": {
            "image/png": "[encoded data removed]",
            "text/plain": [
              "<rdkit.Chem.rdchem.Mol at 0x7fe7c73a1ad0>"
            ]
          },
          "metadata": {
            "tags": []
          },
          "execution_count": 23
        }
      ]
    },
    {
      "cell_type": "code",
      "metadata": {
        "colab": {
          "base_uri": "https://localhost:8080/",
          "height": 167
        },
        "id": "NX0G13KfmpC0",
        "outputId": "1c62dbec-e5ac-4b08-b5e7-385ab1b1a627"
      },
      "source": [
        "label(mol2)"
      ],
      "execution_count": null,
      "outputs": [
        {
          "output_type": "execute_result",
          "data": {
            "image/png": "[encoded data removed]",
            "text/plain": [
              "<rdkit.Chem.rdchem.Mol at 0x7fe7c73a1ad0>"
            ]
          },
          "metadata": {
            "tags": []
          },
          "execution_count": 24
        }
      ]
    },
    {
      "cell_type": "code",
      "metadata": {
        "colab": {
          "base_uri": "https://localhost:8080/"
        },
        "id": "X0ue5fu_muhY",
        "outputId": "21e573e3-7624-4706-b33e-84cb1f606d33"
      },
      "source": [
        "A = Chem.GetAdjacencyMatrix(mol2)\n",
        "A = np.asmatrix(A)\n",
        "\n",
        "C = [1, 0]\n",
        "N = [0, 1]\n",
        "X = np.array([C, N, C, N])\n",
        "\n",
        "H1 = A * X\n",
        "print(H1)\n",
        "\n",
        "H2 = A*H1\n",
        "print(H2)"
      ],
      "execution_count": null,
      "outputs": [
        {
          "output_type": "stream",
          "text": [
            "[[0 1]\n",
            " [2 0]\n",
            " [0 2]\n",
            " [1 0]]\n",
            "[[2 0]\n",
            " [0 3]\n",
            " [3 0]\n",
            " [0 2]]\n"
          ],
          "name": "stdout"
        }
      ]
    },
    {
      "cell_type": "markdown",
      "metadata": {
        "id": "_9VzbCbRo1KL"
      },
      "source": [
        "-------------------------------"
      ]
    }
  ]
}
