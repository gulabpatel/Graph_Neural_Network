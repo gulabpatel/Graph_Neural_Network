{
  "nbformat": 4,
  "nbformat_minor": 5,
  "metadata": {
    "kernelspec": {
      "display_name": "Python 3",
      "language": "python",
      "name": "python3"
    },
    "language_info": {
      "codemirror_mode": {
        "name": "ipython",
        "version": 3
      },
      "file_extension": ".py",
      "mimetype": "text/x-python",
      "name": "python",
      "nbconvert_exporter": "python",
      "pygments_lexer": "ipython3",
      "version": "3.8.10"
    },
    "colab": {
      "name": "01.2: Data_Handling_PyGeometric.ipynb",
      "provenance": [],
      "include_colab_link": true
    }
  },
  "cells": [
    {
      "cell_type": "markdown",
      "metadata": {
        "id": "view-in-github",
        "colab_type": "text"
      },
      "source": [
        "<a href=\"https://colab.research.google.com/github/gulabpatel/Graph_Neural_Network/blob/main/01.2%3A%20Data_Handling_PyGeometric.ipynb\" target=\"_parent\"><img src=\"https://colab.research.google.com/assets/colab-badge.svg\" alt=\"Open In Colab\"/></a>"
      ]
    },
    {
      "cell_type": "markdown",
      "metadata": {
        "id": "13e65620"
      },
      "source": [
        "Video Walkthrough the code : https://www.youtube.com/watch?v=Q5T-JdyVCfs"
      ],
      "id": "13e65620"
    },
    {
      "cell_type": "markdown",
      "metadata": {
        "id": "ea9fa3b3"
      },
      "source": [
        "### Custom PyG dataset"
      ],
      "id": "ea9fa3b3"
    },
    {
      "cell_type": "markdown",
      "metadata": {
        "id": "7fd0ada3"
      },
      "source": [
        "In the first part of the notebook we will see how to create a custom dataset in PyG. \n",
        "\n",
        "The dataset we'll load is called FRANKENSTEIN, the files can be downloaded from the \n",
        "[networkrepository](http://networkrepository.com/FRANKENSTEIN.php) site. The dataset was originally presented in the paper titled [Graph Invariant Kernels](https://www.ijcai.org/Proceedings/15/Papers/528.pdf).\n",
        "\n",
        "The dataset is a collection of graphs representing molecules, but the atom symbols of the vertices are substituted with MNIST digits. Each graph is associated with a label, indicating the mutagenicity of the molecule."
      ],
      "id": "7fd0ada3"
    },
    {
      "cell_type": "code",
      "metadata": {
        "colab": {
          "base_uri": "https://localhost:8080/"
        },
        "id": "9OlnSWpUyhvK",
        "outputId": "acc4bb4a-4394-4781-d9ec-31ac3bd2bc71"
      },
      "source": [
        "from google.colab import drive\n",
        "drive.mount('/content/drive')"
      ],
      "id": "9OlnSWpUyhvK",
      "execution_count": 1,
      "outputs": [
        {
          "output_type": "stream",
          "text": [
            "Mounted at /content/drive\n"
          ],
          "name": "stdout"
        }
      ]
    },
    {
      "cell_type": "markdown",
      "metadata": {
        "id": "758e3554"
      },
      "source": [
        "The following is the README of the dataset:\n",
        "\n",
        ">FRANKENSTEIN contains the following comma separated text files:\n",
        ">\n",
        ">n: total number of nodes\n",
        ">m: total number of edges\n",
        ">N: number of graphs\n",
        ">\n",
        ">\n",
        ">*.node_attrs (n lines) \n",
        "\tmatrix of node attributes,\n",
        "\tthe comma seperated values in the i-th line is the attribute vector of the node with node_id i\n",
        ">\n",
        ">*.edges (m lines) \n",
        "\tsparse (block diagonal) adjacency matrix for all graphs,\n",
        "\teach line corresponds to (row, col) resp. (node_id, node_id)\n",
        ">\n",
        ">*.graph_labels (N lines)\n",
        "\tclass labels for all graphs in the dataset,\n",
        "\tthe value in the i-th line is the class label of the graph with graph_id i\n",
        ">\n",
        ">*.graph_idx (n lines)\n",
        "\tcolumn vector of graph identifiers for all nodes of all graphs,\n",
        "\tthe value in the i-th line is the graph_id of the node with node_id i"
      ],
      "id": "758e3554"
    },
    {
      "cell_type": "markdown",
      "metadata": {
        "id": "bbfe4ccb"
      },
      "source": [
        "The dataset is composed as follows:\n",
        "\n",
        "    Nr. of graphs:         4337\n",
        "    Total nr. of nodes:    73283 x 780 (weird, we'll change it later to 784)\n",
        "    Total nr. of edges:    155068"
      ],
      "id": "bbfe4ccb"
    },
    {
      "cell_type": "code",
      "metadata": {
        "colab": {
          "base_uri": "https://localhost:8080/"
        },
        "id": "fzzcU6W0OJuZ",
        "outputId": "235b5689-88b8-46fc-d66c-d7fd0b2aae12"
      },
      "source": [
        "# Install required packages.\n",
        "!pip install -q torch-scatter -f https://pytorch-geometric.com/whl/torch-1.9.0+cu102.html\n",
        "!pip install -q torch-sparse -f https://pytorch-geometric.com/whl/torch-1.9.0+cu102.html\n",
        "!pip install -q torch-geometric"
      ],
      "id": "fzzcU6W0OJuZ",
      "execution_count": 2,
      "outputs": [
        {
          "output_type": "stream",
          "text": [
            "\u001b[K     |████████████████████████████████| 2.6 MB 4.9 MB/s \n",
            "\u001b[K     |████████████████████████████████| 1.4 MB 4.1 MB/s \n",
            "\u001b[K     |████████████████████████████████| 222 kB 6.8 MB/s \n",
            "\u001b[K     |████████████████████████████████| 376 kB 8.9 MB/s \n",
            "\u001b[K     |████████████████████████████████| 45 kB 2.6 MB/s \n",
            "\u001b[?25h  Building wheel for torch-geometric (setup.py) ... \u001b[?25l\u001b[?25hdone\n"
          ],
          "name": "stdout"
        }
      ]
    },
    {
      "cell_type": "code",
      "metadata": {
        "id": "43d69805"
      },
      "source": [
        "import torch\n",
        "import os\n",
        "import pandas as pd\n",
        "from torch_geometric.data import InMemoryDataset, Data, download_url, extract_zip\n",
        "from torch_geometric.utils.convert import to_networkx\n",
        "import networkx as nx\n",
        "from tqdm import tqdm\n",
        "import matplotlib.pyplot as plt"
      ],
      "id": "43d69805",
      "execution_count": 3,
      "outputs": []
    },
    {
      "cell_type": "markdown",
      "metadata": {
        "id": "b3685c21"
      },
      "source": [
        "To create the dataset we need to convert the raw information into a ```Data``` object (a graph) in PyG.\n",
        "\n",
        "The first step is to load the csv files, this can be done manually or using some data library as Pandas:"
      ],
      "id": "b3685c21"
    },
    {
      "cell_type": "code",
      "metadata": {
        "id": "e642519c"
      },
      "source": [
        "raw_dir = \"/content/drive/MyDrive/dataset/FRANKENSTEIN\"\n",
        "\n",
        "path = os.path.join(raw_dir, 'FRANKENSTEIN.node_attrs')\n",
        "node_attrs = pd.read_csv(path, sep=',', header=None)\n",
        "node_attrs.index += 1\n",
        "\n",
        "path = os.path.join(raw_dir, 'FRANKENSTEIN.edges')\n",
        "edge_index = pd.read_csv(path, sep=',', names=['source', 'target'])\n",
        "edge_index.index += 1\n",
        "\n",
        "path = os.path.join(raw_dir, 'FRANKENSTEIN.graph_idx')\n",
        "graph_idx = pd.read_csv(path, sep=',', names=['idx'])\n",
        "graph_idx.index += 1\n",
        "\n",
        "path = os.path.join(raw_dir, 'FRANKENSTEIN.graph_labels')\n",
        "graph_labels = pd.read_csv(path, sep=',', names=['label'])\n",
        "graph_labels.index += 1"
      ],
      "id": "e642519c",
      "execution_count": 4,
      "outputs": []
    },
    {
      "cell_type": "markdown",
      "metadata": {
        "id": "c24354dd"
      },
      "source": [
        "Graph ids go from 1 to 4337, let's extract the information for a single graph (id: 2345)"
      ],
      "id": "c24354dd"
    },
    {
      "cell_type": "code",
      "metadata": {
        "id": "ec9399bc"
      },
      "source": [
        "g_idx=2345\n",
        "\n",
        "node_ids = graph_idx.loc[graph_idx['idx']==g_idx].index\n",
        "            \n",
        "# Node features\n",
        "attributes = node_attrs.loc[node_ids, :]\n",
        "\n",
        "# Edges info\n",
        "edges = edge_index.loc[edge_index['source'].isin(node_ids)]\n",
        "edges_ids = edges.index\n",
        "\n",
        "# Graph label\n",
        "label = graph_labels.loc[g_idx]"
      ],
      "id": "ec9399bc",
      "execution_count": 5,
      "outputs": []
    },
    {
      "cell_type": "code",
      "metadata": {
        "id": "5f0e4182",
        "colab": {
          "base_uri": "https://localhost:8080/"
        },
        "outputId": "ac6faad0-d623-456f-8ef9-677d61680f89"
      },
      "source": [
        "print(\"Nodes:\", node_ids.shape)\n",
        "print(\"Attributes:\", attributes.shape)\n",
        "print(\"Edges:\", edges.shape)\n",
        "print(\"Label:\", label.shape)"
      ],
      "id": "5f0e4182",
      "execution_count": 6,
      "outputs": [
        {
          "output_type": "stream",
          "text": [
            "Nodes: (18,)\n",
            "Attributes: (18, 780)\n",
            "Edges: (38, 2)\n",
            "Label: (1,)\n"
          ],
          "name": "stdout"
        }
      ]
    },
    {
      "cell_type": "code",
      "metadata": {
        "id": "f4873f45",
        "colab": {
          "base_uri": "https://localhost:8080/"
        },
        "outputId": "0b491533-5168-4971-fbd8-bad77ea0e26a"
      },
      "source": [
        "print(\"Nodes:\", node_ids)\n",
        "print(\"Attributes:\", attributes)\n",
        "print(\"Edges:\", edges)\n",
        "print(\"Label:\", label)"
      ],
      "id": "f4873f45",
      "execution_count": 7,
      "outputs": [
        {
          "output_type": "stream",
          "text": [
            "Nodes: Int64Index([38571, 38572, 38573, 38574, 38575, 38576, 38577, 38578, 38579,\n",
            "            38580, 38581, 38582, 38583, 38584, 38585, 38586, 38587, 38588],\n",
            "           dtype='int64')\n",
            "Attributes:        0    1    2    3    4    5    6    ...  773  774  775  776  777  778  779\n",
            "38571    0    0    0    0    0    0    0  ...  0.0  0.0  0.0  0.0  0.0  0.0    0\n",
            "38572    0    0    0    0    0    0    0  ...  0.0  0.0  0.0  0.0  0.0  0.0    0\n",
            "38573    0    0    0    0    0    0    0  ...  0.0  0.0  0.0  0.0  0.0  0.0    0\n",
            "38574    0    0    0    0    0    0    0  ...  0.0  0.0  0.0  0.0  0.0  0.0    0\n",
            "38575    0    0    0    0    0    0    0  ...  0.0  0.0  0.0  0.0  0.0  0.0    0\n",
            "38576    0    0    0    0    0    0    0  ...  0.0  0.0  0.0  0.0  0.0  0.0    0\n",
            "38577    0    0    0    0    0    0    0  ...  0.0  0.0  0.0  0.0  0.0  0.0    0\n",
            "38578    0    0    0    0    0    0    0  ...  0.0  0.0  0.0  0.0  0.0  0.0    0\n",
            "38579    0    0    0    0    0    0    0  ...  0.0  0.0  0.0  0.0  0.0  0.0    0\n",
            "38580    0    0    0    0    0    0    0  ...  0.0  0.0  0.0  0.0  0.0  0.0    0\n",
            "38581    0    0    0    0    0    0    0  ...  0.0  0.0  0.0  0.0  0.0  0.0    0\n",
            "38582    0    0    0    0    0    0    0  ...  0.0  0.0  0.0  0.0  0.0  0.0    0\n",
            "38583    0    0    0    0    0    0    0  ...  0.0  0.0  0.0  0.0  0.0  0.0    0\n",
            "38584    0    0    0    0    0    0    0  ...  0.0  0.0  0.0  0.0  0.0  0.0    0\n",
            "38585    0    0    0    0    0    0    0  ...  0.0  0.0  0.0  0.0  0.0  0.0    0\n",
            "38586    0    0    0    0    0    0    0  ...  0.0  0.0  0.0  0.0  0.0  0.0    0\n",
            "38587    0    0    0    0    0    0    0  ...  0.0  0.0  0.0  0.0  0.0  0.0    0\n",
            "38588    0    0    0    0    0    0    0  ...  0.0  0.0  0.0  0.0  0.0  0.0    0\n",
            "\n",
            "[18 rows x 780 columns]\n",
            "Edges:        source  target\n",
            "81573   38571   38572\n",
            "81574   38572   38571\n",
            "81575   38571   38573\n",
            "81576   38573   38571\n",
            "81577   38571   38574\n",
            "81578   38574   38571\n",
            "81579   38572   38575\n",
            "81580   38575   38572\n",
            "81581   38572   38576\n",
            "81582   38576   38572\n",
            "81583   38573   38577\n",
            "81584   38577   38573\n",
            "81585   38574   38578\n",
            "81586   38578   38574\n",
            "81587   38575   38579\n",
            "81588   38579   38575\n",
            "81589   38575   38580\n",
            "81590   38580   38575\n",
            "81591   38577   38581\n",
            "81592   38581   38577\n",
            "81593   38578   38581\n",
            "81594   38581   38578\n",
            "81595   38581   38582\n",
            "81596   38582   38581\n",
            "81597   38582   38583\n",
            "81598   38583   38582\n",
            "81599   38583   38584\n",
            "81600   38584   38583\n",
            "81601   38583   38585\n",
            "81602   38585   38583\n",
            "81603   38584   38586\n",
            "81604   38586   38584\n",
            "81605   38585   38587\n",
            "81606   38587   38585\n",
            "81607   38586   38588\n",
            "81608   38588   38586\n",
            "81609   38587   38588\n",
            "81610   38588   38587\n",
            "Label: label    1\n",
            "Name: 2345, dtype: int64\n"
          ],
          "name": "stdout"
        }
      ]
    },
    {
      "cell_type": "markdown",
      "metadata": {
        "id": "689ae1fc"
      },
      "source": [
        "At this stage the indices in the ```edges``` variable are not normalized for the single graph, e.g. they do not start from 0"
      ],
      "id": "689ae1fc"
    },
    {
      "cell_type": "code",
      "metadata": {
        "id": "e295e6b5"
      },
      "source": [
        "edge_idx = torch.tensor(edges.to_numpy().transpose(), dtype=torch.long)\n",
        "map_dict = {v.item():i for i,v in enumerate(torch.unique(edge_idx))}\n",
        "map_edge = torch.zeros_like(edge_idx)\n",
        "for k,v in map_dict.items():\n",
        "    map_edge[edge_idx==k] = v"
      ],
      "id": "e295e6b5",
      "execution_count": 8,
      "outputs": []
    },
    {
      "cell_type": "code",
      "metadata": {
        "id": "0965b446",
        "colab": {
          "base_uri": "https://localhost:8080/"
        },
        "outputId": "7d45e9fa-5ddf-4a1a-acbd-95e8f918ba2b"
      },
      "source": [
        "map_dict, map_edge, map_edge.shape"
      ],
      "id": "0965b446",
      "execution_count": 9,
      "outputs": [
        {
          "output_type": "execute_result",
          "data": {
            "text/plain": [
              "({38571: 0,\n",
              "  38572: 1,\n",
              "  38573: 2,\n",
              "  38574: 3,\n",
              "  38575: 4,\n",
              "  38576: 5,\n",
              "  38577: 6,\n",
              "  38578: 7,\n",
              "  38579: 8,\n",
              "  38580: 9,\n",
              "  38581: 10,\n",
              "  38582: 11,\n",
              "  38583: 12,\n",
              "  38584: 13,\n",
              "  38585: 14,\n",
              "  38586: 15,\n",
              "  38587: 16,\n",
              "  38588: 17},\n",
              " tensor([[ 0,  1,  0,  2,  0,  3,  1,  4,  1,  5,  2,  6,  3,  7,  4,  8,  4,  9,\n",
              "           6, 10,  7, 10, 10, 11, 11, 12, 12, 13, 12, 14, 13, 15, 14, 16, 15, 17,\n",
              "          16, 17],\n",
              "         [ 1,  0,  2,  0,  3,  0,  4,  1,  5,  1,  6,  2,  7,  3,  8,  4,  9,  4,\n",
              "          10,  6, 10,  7, 11, 10, 12, 11, 13, 12, 14, 12, 15, 13, 16, 14, 17, 15,\n",
              "          17, 16]]),\n",
              " torch.Size([2, 38]))"
            ]
          },
          "metadata": {
            "tags": []
          },
          "execution_count": 9
        }
      ]
    },
    {
      "cell_type": "markdown",
      "metadata": {
        "id": "73e16cab"
      },
      "source": [
        "As final step we convert the ```DataFrames``` to torch tensors. The node features are basically MNIST images, therefore their size should be 784 (28x28), but for some reason the files provide vectors of length 780. To adjust this, we simply add a padding of 4 zeros at the end of the vector (it will not affect the digits representation, as we'll see later)."
      ],
      "id": "73e16cab"
    },
    {
      "cell_type": "code",
      "metadata": {
        "id": "df63102c"
      },
      "source": [
        "attrs = torch.tensor(attributes.to_numpy(), dtype=torch.float)\n",
        "pad = torch.zeros((attrs.shape[0], 4), dtype=torch.float)\n",
        "x = torch.cat((attrs, pad), dim=-1)\n",
        "\n",
        "edge_idx = map_edge.long()\n",
        "\n",
        "np_lab = label.to_numpy()\n",
        "y = torch.tensor(np_lab if np_lab[0] == 1 else [0], dtype=torch.long)"
      ],
      "id": "df63102c",
      "execution_count": 10,
      "outputs": []
    },
    {
      "cell_type": "code",
      "metadata": {
        "id": "973a11c3",
        "colab": {
          "base_uri": "https://localhost:8080/"
        },
        "outputId": "2b913a70-105a-4bf1-f3da-3d91baf861d5"
      },
      "source": [
        "x.shape"
      ],
      "id": "973a11c3",
      "execution_count": 11,
      "outputs": [
        {
          "output_type": "execute_result",
          "data": {
            "text/plain": [
              "torch.Size([18, 784])"
            ]
          },
          "metadata": {
            "tags": []
          },
          "execution_count": 11
        }
      ]
    },
    {
      "cell_type": "markdown",
      "metadata": {
        "id": "673f7499"
      },
      "source": [
        "Then we create the ```Data``` object representing the graph"
      ],
      "id": "673f7499"
    },
    {
      "cell_type": "code",
      "metadata": {
        "id": "29d1f29d"
      },
      "source": [
        "graph = Data(x=x, edge_index=edge_idx,  y=y)"
      ],
      "id": "29d1f29d",
      "execution_count": 12,
      "outputs": []
    },
    {
      "cell_type": "markdown",
      "metadata": {
        "id": "6093b140"
      },
      "source": [
        "Let's visualize the graph!"
      ],
      "id": "6093b140"
    },
    {
      "cell_type": "code",
      "metadata": {
        "id": "28f8a075",
        "colab": {
          "base_uri": "https://localhost:8080/",
          "height": 607
        },
        "outputId": "7052798a-1ecb-4ef3-c740-570cc4d51712"
      },
      "source": [
        "vis = to_networkx(graph)\n",
        "plt.figure(1,figsize=(8,8)) \n",
        "nx.draw(vis, cmap=plt.get_cmap('Set3'),node_size=70,linewidths=6)\n",
        "plt.show()"
      ],
      "id": "28f8a075",
      "execution_count": 13,
      "outputs": [
        {
          "output_type": "display_data",
          "data": {
            "image/png": "[encoded data removed]",
            "text/plain": [
              "<Figure size 576x576 with 1 Axes>"
            ]
          },
          "metadata": {
            "tags": []
          }
        }
      ]
    },
    {
      "cell_type": "markdown",
      "metadata": {
        "id": "5ac58407"
      },
      "source": [
        "We can also plot the vertices attributes (a.k.a. the digits):"
      ],
      "id": "5ac58407"
    },
    {
      "cell_type": "code",
      "metadata": {
        "id": "950ebb3f",
        "colab": {
          "base_uri": "https://localhost:8080/",
          "height": 293
        },
        "outputId": "377d784d-8e08-496d-833e-4262f997ff64"
      },
      "source": [
        "digit = x[5].reshape(28,28)\n",
        "plt.matshow(digit, cmap='gray')"
      ],
      "id": "950ebb3f",
      "execution_count": 14,
      "outputs": [
        {
          "output_type": "execute_result",
          "data": {
            "text/plain": [
              "<matplotlib.image.AxesImage at 0x7f1365aa8fd0>"
            ]
          },
          "metadata": {
            "tags": []
          },
          "execution_count": 14
        },
        {
          "output_type": "display_data",
          "data": {
            "image/png": "[encoded data removed]",
            "text/plain": [
              "<Figure size 288x288 with 1 Axes>"
            ]
          },
          "metadata": {
            "tags": [],
            "needs_background": "light"
          }
        }
      ]
    },
    {
      "cell_type": "markdown",
      "metadata": {
        "id": "e878896d"
      },
      "source": [
        "Let's now put the process above into the ```Dataset``` class of PyG. Specifically, we are going to create an ```InMemoryDataset```. From the official PyG documentation we see that some methods need to be override:"
      ],
      "id": "e878896d"
    },
    {
      "cell_type": "markdown",
      "metadata": {
        "id": "f564647f"
      },
      "source": [
        "    torch_geometric.data.InMemoryDataset.raw_file_names(): A list of files in the raw_dir which needs to be found in order to skip the download.\n",
        "\n",
        "    torch_geometric.data.InMemoryDataset.processed_file_names(): A list of files in the processed_dir which needs to be found in order to skip the processing.\n",
        "\n",
        "    torch_geometric.data.InMemoryDataset.download(): Downloads raw data into raw_dir.\n",
        "\n",
        "    torch_geometric.data.InMemoryDataset.process(): Processes raw data and saves it into the processed_dir.\n"
      ],
      "id": "f564647f"
    },
    {
      "cell_type": "code",
      "metadata": {
        "id": "654eac90"
      },
      "source": [
        "import torch\n",
        "import os\n",
        "import pandas as pd\n",
        "from torch_geometric.data import InMemoryDataset, Data, download_url, extract_zip\n",
        "from torch_geometric.utils.convert import to_networkx\n",
        "import networkx as nx\n",
        "from tqdm import tqdm\n",
        "\n",
        "class Frankenstein(InMemoryDataset):\n",
        "    \n",
        "    # Base url to download the files\n",
        "    url = 'http://nrvis.com/download/data/labeled/FRANKENSTEIN.zip'\n",
        "    \n",
        "    def __init__(self, root, transform=None, pre_transform=None):\n",
        "        super(Frankenstein, self).__init__(root, transform, pre_transform)\n",
        "        self.data, self.slices = torch.load(self.processed_paths[0])\n",
        "\n",
        "    @property\n",
        "    def raw_file_names(self):\n",
        "        # List of the raw files\n",
        "        return ['FRANKENSTEIN.edges', 'FRANKENSTEIN.graph_idx',\n",
        "                'FRANKENSTEIN.graph_labels', 'FRANKENSTEIN.node_attrs']\n",
        "\n",
        "    @property\n",
        "    def processed_file_names(self):\n",
        "        return 'data.pt'\n",
        "\n",
        "    def download(self):\n",
        "        # Download the file specified in self.url and store\n",
        "        # it in self.raw_dir\n",
        "        path = download_url(self.url, self.raw_dir)\n",
        "        extract_zip(path, self.raw_dir)\n",
        "        # The zip file is removed\n",
        "        os.unlink(path)\n",
        "\n",
        "\n",
        "    def process(self):\n",
        "        # Read the files' content as Pandas DataFrame. Nodes and graphs ids\n",
        "        # are based on the file row-index, we adjust the DataFrames indices\n",
        "        # by starting from 1 instead of 0.\n",
        "        \n",
        "        path = os.path.join(self.raw_dir, 'FRANKENSTEIN.node_attrs')\n",
        "        node_attrs = pd.read_csv(path, sep=',', header=None)\n",
        "        node_attrs.index += 1\n",
        "        \n",
        "        path = os.path.join(self.raw_dir, 'FRANKENSTEIN.edges')\n",
        "        edge_index = pd.read_csv(path, sep=',', names=['source', 'target'])\n",
        "        edge_index.index += 1\n",
        "        \n",
        "        path = os.path.join(self.raw_dir, 'FRANKENSTEIN.graph_idx')\n",
        "        graph_idx = pd.read_csv(path, sep=',', names=['idx'])\n",
        "        graph_idx.index += 1\n",
        "        \n",
        "        path = os.path.join(self.raw_dir, 'FRANKENSTEIN.graph_labels')\n",
        "        graph_labels = pd.read_csv(path, sep=',', names=['label'])\n",
        "        graph_labels.index += 1\n",
        "        \n",
        "        \n",
        "        # In the loop we extract the nodes' embeddings, edges connectivity for \n",
        "        # and label for a graph, process the information and put it in a Data\n",
        "        # object, then we add the object to a list\n",
        "        data_list = []\n",
        "        ids_list = graph_idx['idx'].unique()\n",
        "        for g_idx in tqdm(ids_list):\n",
        "            node_ids = graph_idx.loc[graph_idx['idx']==g_idx].index\n",
        "            \n",
        "            # Node features\n",
        "            attributes = node_attrs.loc[node_ids, :]\n",
        "            \n",
        "            # Edges info\n",
        "            edges = edge_index.loc[edge_index['source'].isin(node_ids)]\n",
        "            edges_ids = edges.index\n",
        "            \n",
        "            # Graph label\n",
        "            label = graph_labels.loc[g_idx]\n",
        "            \n",
        "            # Normalize the edges indices\n",
        "            edge_idx = torch.tensor(edges.to_numpy().transpose(), dtype=torch.long)\n",
        "            map_dict = {v.item():i for i,v in enumerate(torch.unique(edge_idx))}\n",
        "            map_edge = torch.zeros_like(edge_idx)\n",
        "            for k,v in map_dict.items():\n",
        "                map_edge[edge_idx==k] = v\n",
        "            \n",
        "            # Convert the DataFrames into tensors \n",
        "            attrs = torch.tensor(attributes.to_numpy(), dtype=torch.float)\n",
        "            pad = torch.zeros((attrs.shape[0], 4), dtype=torch.float)\n",
        "            x = torch.cat((attrs, pad), dim=-1)\n",
        "\n",
        "            edge_idx = map_edge.long()\n",
        "\n",
        "            np_lab = label.to_numpy()\n",
        "            y = torch.tensor(np_lab if np_lab[0] == 1 else [0], dtype=torch.long)\n",
        "            \n",
        "            graph = Data(x=x, edge_index=edge_idx,  y=y)\n",
        "            \n",
        "            data_list.append(graph)\n",
        "            \n",
        "        # Apply the functions specified in pre_filter and pre_transform\n",
        "        if self.pre_filter is not None:\n",
        "            data_list = [data for data in data_list if self.pre_filter(data)]\n",
        "\n",
        "        if self.pre_transform is not None:\n",
        "            data_list = [self.pre_transform(data) for data in data_list]\n",
        "\n",
        "        # Store the processed data\n",
        "        data, slices = self.collate(data_list)\n",
        "        torch.save((data, slices), self.processed_paths[0])  "
      ],
      "id": "654eac90",
      "execution_count": 15,
      "outputs": []
    },
    {
      "cell_type": "code",
      "metadata": {
        "id": "9b885cf1"
      },
      "source": [
        "import torch_geometric.transforms as T"
      ],
      "id": "9b885cf1",
      "execution_count": 16,
      "outputs": []
    },
    {
      "cell_type": "code",
      "metadata": {
        "id": "85eb01bf",
        "colab": {
          "base_uri": "https://localhost:8080/"
        },
        "outputId": "37bfbd3e-cbba-4574-bcee-97f8cfe143ac"
      },
      "source": [
        "dataset = Frankenstein(root=raw_dir, pre_transform=T.GCNNorm())"
      ],
      "id": "85eb01bf",
      "execution_count": 17,
      "outputs": [
        {
          "output_type": "stream",
          "text": [
            "Downloading http://nrvis.com/download/data/labeled/FRANKENSTEIN.zip\n",
            "Extracting /content/drive/MyDrive/dataset/FRANKENSTEIN/raw/FRANKENSTEIN.zip\n",
            "Processing...\n"
          ],
          "name": "stdout"
        },
        {
          "output_type": "stream",
          "text": [
            "100%|██████████| 4337/4337 [00:22<00:00, 191.66it/s]\n"
          ],
          "name": "stderr"
        },
        {
          "output_type": "stream",
          "text": [
            "Done!\n"
          ],
          "name": "stdout"
        }
      ]
    },
    {
      "cell_type": "code",
      "metadata": {
        "colab": {
          "base_uri": "https://localhost:8080/"
        },
        "id": "VhPiJx9Kx3Ov",
        "outputId": "192e3ffc-2c5b-424c-d066-4c571adf33d1"
      },
      "source": [
        "dataset"
      ],
      "id": "VhPiJx9Kx3Ov",
      "execution_count": 18,
      "outputs": [
        {
          "output_type": "execute_result",
          "data": {
            "text/plain": [
              "Frankenstein(4337)"
            ]
          },
          "metadata": {
            "tags": []
          },
          "execution_count": 18
        }
      ]
    },
    {
      "cell_type": "markdown",
      "metadata": {
        "id": "03244bc3"
      },
      "source": [
        "### Open Graph Benchmark datasets"
      ],
      "id": "03244bc3"
    },
    {
      "cell_type": "markdown",
      "metadata": {
        "id": "eb881451"
      },
      "source": [
        "Open Graph Benchmark is available as a python library, to install it just run\n",
        "\n",
        "```pip install ogb```"
      ],
      "id": "eb881451"
    },
    {
      "cell_type": "markdown",
      "metadata": {
        "id": "7895e748"
      },
      "source": [
        "OGB allows to load a dataset in three ways: for PyG applications, for DGL (Deep Graph Library, another widely used tool for GNNs in python) and in an 'agnostic' manner. There is a naming convention to load a dataset, depending on the task an the dataset name:\n",
        "\n",
        "    ogbn-[name]: for node tasks\n",
        "    ogbg-[name]: for graph tasks\n",
        "    ogbl-[name]: for link tasks"
      ],
      "id": "7895e748"
    },
    {
      "cell_type": "code",
      "metadata": {
        "id": "d4Yfr_4f4gnq"
      },
      "source": [
        "!pip install ogb"
      ],
      "id": "d4Yfr_4f4gnq",
      "execution_count": null,
      "outputs": []
    },
    {
      "cell_type": "code",
      "metadata": {
        "id": "439595c0"
      },
      "source": [
        "from ogb.nodeproppred import PygNodePropPredDataset\n",
        "#from ogb.graphproppred import PygGraphPropPredDataset\n",
        "#from ogb.linkproppred import PygLinkPropPredDataset"
      ],
      "id": "439595c0",
      "execution_count": 20,
      "outputs": []
    },
    {
      "cell_type": "code",
      "metadata": {
        "id": "c05b1bf4",
        "colab": {
          "base_uri": "https://localhost:8080/"
        },
        "outputId": "61624a71-a9f0-467d-9613-797a0075fe7a"
      },
      "source": [
        "dataset_name = 'ogbn-arxiv'\n",
        "dataset = PygNodePropPredDataset(name = dataset_name, root='data') \n",
        "\n",
        "split_idx = dataset.get_idx_split()\n",
        "train_idx, valid_idx, test_idx = split_idx[\"train\"], split_idx[\"valid\"], split_idx[\"test\"]\n",
        "graph = dataset[0] "
      ],
      "id": "c05b1bf4",
      "execution_count": 21,
      "outputs": [
        {
          "output_type": "stream",
          "text": [
            "\r  0%|          | 0/81 [00:00<?, ?it/s]"
          ],
          "name": "stderr"
        },
        {
          "output_type": "stream",
          "text": [
            "Downloading http://snap.stanford.edu/ogb/data/nodeproppred/arxiv.zip\n"
          ],
          "name": "stdout"
        },
        {
          "output_type": "stream",
          "text": [
            "Downloaded 0.08 GB: 100%|██████████| 81/81 [00:02<00:00, 34.18it/s]\n"
          ],
          "name": "stderr"
        },
        {
          "output_type": "stream",
          "text": [
            "Extracting data/arxiv.zip\n",
            "Processing...\n",
            "Loading necessary files...\n",
            "This might take a while.\n"
          ],
          "name": "stdout"
        },
        {
          "output_type": "stream",
          "text": [
            "100%|██████████| 1/1 [00:00<00:00, 885.62it/s]\n",
            "100%|██████████| 1/1 [00:00<00:00, 2039.04it/s]"
          ],
          "name": "stderr"
        },
        {
          "output_type": "stream",
          "text": [
            "Processing graphs...\n",
            "Converting graphs into PyG objects...\n",
            "Saving...\n",
            "Done!\n"
          ],
          "name": "stdout"
        },
        {
          "output_type": "stream",
          "text": [
            "\n"
          ],
          "name": "stderr"
        }
      ]
    },
    {
      "cell_type": "code",
      "metadata": {
        "id": "2e478337",
        "colab": {
          "base_uri": "https://localhost:8080/"
        },
        "outputId": "b4ca242d-aca6-45f4-e340-df35cd3c171e"
      },
      "source": [
        "graph"
      ],
      "id": "2e478337",
      "execution_count": 22,
      "outputs": [
        {
          "output_type": "execute_result",
          "data": {
            "text/plain": [
              "Data(edge_index=[2, 1166243], node_year=[169343, 1], x=[169343, 128], y=[169343, 1])"
            ]
          },
          "metadata": {
            "tags": []
          },
          "execution_count": 22
        }
      ]
    },
    {
      "cell_type": "markdown",
      "metadata": {
        "id": "c67e494d"
      },
      "source": [
        "### Benchmarking Graph Neural Networks Datasets"
      ],
      "id": "c67e494d"
    },
    {
      "cell_type": "code",
      "metadata": {
        "id": "a74b8e8a",
        "colab": {
          "base_uri": "https://localhost:8080/"
        },
        "outputId": "beb058ae-a896-422b-a324-f81e3259edfe"
      },
      "source": [
        "import torch_geometric.datasets as datasets\n",
        "\n",
        "datasets.__all__"
      ],
      "id": "a74b8e8a",
      "execution_count": 23,
      "outputs": [
        {
          "output_type": "execute_result",
          "data": {
            "text/plain": [
              "['KarateClub',\n",
              " 'TUDataset',\n",
              " 'GNNBenchmarkDataset',\n",
              " 'Planetoid',\n",
              " 'NELL',\n",
              " 'CitationFull',\n",
              " 'CoraFull',\n",
              " 'Coauthor',\n",
              " 'Amazon',\n",
              " 'PPI',\n",
              " 'Reddit',\n",
              " 'Reddit2',\n",
              " 'Flickr',\n",
              " 'Yelp',\n",
              " 'AmazonProducts',\n",
              " 'QM7b',\n",
              " 'QM9',\n",
              " 'ZINC',\n",
              " 'MoleculeNet',\n",
              " 'Entities',\n",
              " 'GEDDataset',\n",
              " 'MNISTSuperpixels',\n",
              " 'FAUST',\n",
              " 'DynamicFAUST',\n",
              " 'ShapeNet',\n",
              " 'ModelNet',\n",
              " 'CoMA',\n",
              " 'SHREC2016',\n",
              " 'TOSCA',\n",
              " 'PCPNetDataset',\n",
              " 'S3DIS',\n",
              " 'GeometricShapes',\n",
              " 'BitcoinOTC',\n",
              " 'ICEWS18',\n",
              " 'GDELT',\n",
              " 'DBP15K',\n",
              " 'WILLOWObjectClass',\n",
              " 'PascalVOCKeypoints',\n",
              " 'PascalPF',\n",
              " 'SNAPDataset',\n",
              " 'SuiteSparseMatrixCollection',\n",
              " 'TrackMLParticleTrackingDataset',\n",
              " 'AMiner',\n",
              " 'WordNet18',\n",
              " 'WordNet18RR',\n",
              " 'WikiCS',\n",
              " 'WebKB',\n",
              " 'WikipediaNetwork',\n",
              " 'Actor',\n",
              " 'JODIEDataset',\n",
              " 'MixHopSyntheticDataset',\n",
              " 'UPFD',\n",
              " 'GitHub',\n",
              " 'FacebookPagePage',\n",
              " 'LastFMAsia',\n",
              " 'DeezerEurope',\n",
              " 'GemsecDeezer',\n",
              " 'Twitch']"
            ]
          },
          "metadata": {
            "tags": []
          },
          "execution_count": 23
        }
      ]
    },
    {
      "cell_type": "code",
      "metadata": {
        "id": "f233a890",
        "colab": {
          "base_uri": "https://localhost:8080/"
        },
        "outputId": "ff3a838a-3107-4c3b-d81f-66f5df630866"
      },
      "source": [
        "datasets.GNNBenchmarkDataset.names"
      ],
      "id": "f233a890",
      "execution_count": 24,
      "outputs": [
        {
          "output_type": "execute_result",
          "data": {
            "text/plain": [
              "['PATTERN', 'CLUSTER', 'MNIST', 'CIFAR10', 'TSP', 'CSL']"
            ]
          },
          "metadata": {
            "tags": []
          },
          "execution_count": 24
        }
      ]
    },
    {
      "cell_type": "code",
      "metadata": {
        "id": "22aeaf4b",
        "colab": {
          "base_uri": "https://localhost:8080/"
        },
        "outputId": "91ded53b-134b-4668-9c91-265e0569c322"
      },
      "source": [
        "dataset = datasets.GNNBenchmarkDataset(name='MNIST', root='data')"
      ],
      "id": "22aeaf4b",
      "execution_count": 25,
      "outputs": [
        {
          "output_type": "stream",
          "text": [
            "Downloading https://pytorch-geometric.com/datasets/benchmarking-gnns/MNIST.zip\n",
            "Extracting data/MNIST/raw/MNIST.zip\n",
            "Processing...\n",
            "Done!\n"
          ],
          "name": "stdout"
        }
      ]
    },
    {
      "cell_type": "code",
      "metadata": {
        "id": "56defb77",
        "colab": {
          "base_uri": "https://localhost:8080/"
        },
        "outputId": "9e91c9f5-c5dc-4377-d9ab-dd925dc8b35b"
      },
      "source": [
        "dataset"
      ],
      "id": "56defb77",
      "execution_count": 26,
      "outputs": [
        {
          "output_type": "execute_result",
          "data": {
            "text/plain": [
              "MNIST(55000)"
            ]
          },
          "metadata": {
            "tags": []
          },
          "execution_count": 26
        }
      ]
    }
  ]
}
