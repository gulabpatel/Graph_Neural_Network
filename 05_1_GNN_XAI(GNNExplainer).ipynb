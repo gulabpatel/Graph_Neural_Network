{
  "nbformat": 4,
  "nbformat_minor": 0,
  "metadata": {
    "colab": {
      "name": "05.1: GNN_XAI(GNNExplainer).ipynb",
      "provenance": [],
      "collapsed_sections": [
        "2sKRIEElgvHr",
        "U_9vH8Kcd_Ls",
        "Q7PRhFgs8guL",
        "n3pq7VnVf-Ln",
        "ggcoaQiDhpdU",
        "vyYKjY2JiQrX"
      ],
      "include_colab_link": true
    },
    "kernelspec": {
      "name": "python3",
      "display_name": "Python 3"
    },
    "language_info": {
      "name": "python"
    },
    "accelerator": "GPU"
  },
  "cells": [
    {
      "cell_type": "markdown",
      "metadata": {
        "id": "view-in-github",
        "colab_type": "text"
      },
      "source": [
        "<a href=\"https://colab.research.google.com/github/gulabpatel/Graph_Neural_Network/blob/main/05.1%3A%20GNN_XAI(GNNExplainer).ipynb\" target=\"_parent\"><img src=\"https://colab.research.google.com/assets/colab-badge.svg\" alt=\"Open In Colab\"/></a>"
      ]
    },
    {
      "cell_type": "markdown",
      "metadata": {
        "id": "8y1rO9ggdybc"
      },
      "source": [
        "# How to explain Graph Neural Networks using GNNExplainer"
      ]
    },
    {
      "cell_type": "markdown",
      "metadata": {
        "id": "408-5a1_gWqN"
      },
      "source": [
        "Video walkthrough the code : https://www.youtube.com/watch?v=aFnlmzFh4iQ"
      ]
    },
    {
      "cell_type": "markdown",
      "metadata": {
        "id": "2sKRIEElgvHr"
      },
      "source": [
        "## Install Pytorch Geometric"
      ]
    },
    {
      "cell_type": "code",
      "metadata": {
        "id": "KbFF_8P4gg2W",
        "colab": {
          "base_uri": "https://localhost:8080/"
        },
        "outputId": "b518858b-400b-4662-a852-a1a8002baa19"
      },
      "source": [
        "import torch\n",
        "torch.manual_seed(42)\n",
        "from IPython.display import clear_output \n",
        "torch_version = torch.__version__\n",
        "print(\"Torch version: \", torch_version)\n",
        "pytorch_version = f\"torch-{torch.__version__}.html\"\n",
        "!pip install --no-index torch-scatter -f https://pytorch-geometric.com/whl/$pytorch_version\n",
        "!pip install --no-index torch-sparse -f https://pytorch-geometric.com/whl/$pytorch_version\n",
        "!pip install --no-index torch-cluster -f https://pytorch-geometric.com/whl/$pytorch_version\n",
        "!pip install --no-index torch-spline-conv -f https://pytorch-geometric.com/whl/$pytorch_version\n",
        "!pip install torch-geometric\n",
        "clear_output()\n",
        "print(\"Done.\")"
      ],
      "execution_count": 1,
      "outputs": [
        {
          "output_type": "stream",
          "name": "stdout",
          "text": [
            "Done.\n"
          ]
        }
      ]
    },
    {
      "cell_type": "markdown",
      "metadata": {
        "id": "U_9vH8Kcd_Ls"
      },
      "source": [
        "## Twitch Streamer Dataset\n",
        "\n",
        "- Twitch user-user networks of gamers who stream in a certain language\n",
        "- Nodes are the users themselves and the links are mutual friendships between them\n",
        "- These social networks were collected in May 2018"
      ]
    },
    {
      "cell_type": "code",
      "metadata": {
        "id": "5s-QUsvneD7F",
        "colab": {
          "base_uri": "https://localhost:8080/"
        },
        "outputId": "263c138b-15c4-4e10-c06f-2196cf75267e"
      },
      "source": [
        "from torch_geometric.datasets import Twitch\n",
        "# Dataset source: https://github.com/benedekrozemberczki/datasets#twitch-social-networks\n",
        "graph = Twitch(root=\".\", name=\"EN\")[0]\n",
        "graph"
      ],
      "execution_count": 2,
      "outputs": [
        {
          "output_type": "stream",
          "name": "stderr",
          "text": [
            "Downloading https://graphmining.ai/datasets/ptg/twitch/EN.npz\n",
            "Processing...\n",
            "Done!\n"
          ]
        },
        {
          "output_type": "execute_result",
          "data": {
            "text/plain": [
              "Data(x=[7126, 128], edge_index=[2, 77774], y=[7126])"
            ]
          },
          "metadata": {},
          "execution_count": 2
        }
      ]
    },
    {
      "cell_type": "markdown",
      "metadata": {
        "id": "UJFxP3DWQKMs"
      },
      "source": [
        "### The node features \n",
        "- Extracted based on the games played and liked, location and streaming habits\n",
        "- These are embeddings, which cannot be interpreted directly"
      ]
    },
    {
      "cell_type": "code",
      "metadata": {
        "colab": {
          "base_uri": "https://localhost:8080/"
        },
        "id": "ODF6RUtyoj_J",
        "outputId": "da6d6aef-4e02-468c-f0f7-04d8d2221d4f"
      },
      "source": [
        "graph.x"
      ],
      "execution_count": 3,
      "outputs": [
        {
          "output_type": "execute_result",
          "data": {
            "text/plain": [
              "tensor([[-0.2367, -0.2307, -0.1605,  ...,  1.3203, -0.2558, -0.1839],\n",
              "        [-0.2367, -0.2150, -0.1605,  ...,  1.3572, -0.2538, -0.1685],\n",
              "        [-0.2367, -0.2043, -0.0994,  ..., -0.6348, -0.2558, -0.1839],\n",
              "        ...,\n",
              "        [-0.2193, -0.2307, -0.1605,  ..., -0.6348, -0.2558, -0.1839],\n",
              "        [-0.2367, -0.2307, -0.1605,  ..., -0.6348, -0.2558, -0.1733],\n",
              "        [ 4.6088, -0.2307, -0.1605,  ...,  1.2370, -0.2558, -0.1839]])"
            ]
          },
          "metadata": {},
          "execution_count": 3
        }
      ]
    },
    {
      "cell_type": "markdown",
      "metadata": {
        "id": "G9qdMzWB7gny"
      },
      "source": [
        "### A binary node classification task\n",
        "- Predict if a streamer uses explicit language"
      ]
    },
    {
      "cell_type": "code",
      "metadata": {
        "id": "4InDfqFDol8V",
        "colab": {
          "base_uri": "https://localhost:8080/"
        },
        "outputId": "714ba3eb-2529-4d54-a8a3-9e1ce54fa327"
      },
      "source": [
        "graph.y"
      ],
      "execution_count": 4,
      "outputs": [
        {
          "output_type": "execute_result",
          "data": {
            "text/plain": [
              "tensor([1, 0, 1,  ..., 0, 0, 1])"
            ]
          },
          "metadata": {},
          "execution_count": 4
        }
      ]
    },
    {
      "cell_type": "code",
      "metadata": {
        "colab": {
          "base_uri": "https://localhost:8080/",
          "height": 333
        },
        "id": "w_Ra14AgKvO2",
        "outputId": "76171f31-1417-4a3e-cb03-b1f02b1092f3"
      },
      "source": [
        "import pandas as pd\n",
        "from pylab import rcParams\n",
        "rcParams['figure.figsize'] = 5, 5\n",
        "df = pd.DataFrame(graph.y.numpy(), columns=[\"explicit_language\"])\n",
        "df['explicit_language'].value_counts().plot(kind='bar')"
      ],
      "execution_count": 5,
      "outputs": [
        {
          "output_type": "execute_result",
          "data": {
            "text/plain": [
              "<matplotlib.axes._subplots.AxesSubplot at 0x7fd602238610>"
            ]
          },
          "metadata": {},
          "execution_count": 5
        },
        {
          "output_type": "display_data",
          "data": {
            "image/png": "[encoded data removed]",
            "text/plain": [
              "<Figure size 360x360 with 1 Axes>"
            ]
          },
          "metadata": {
            "needs_background": "light"
          }
        }
      ]
    },
    {
      "cell_type": "markdown",
      "metadata": {
        "id": "Q7PRhFgs8guL"
      },
      "source": [
        "## A simple model"
      ]
    },
    {
      "cell_type": "code",
      "metadata": {
        "colab": {
          "base_uri": "https://localhost:8080/"
        },
        "id": "P9LXRORZ7xUy",
        "outputId": "248709df-31eb-4458-dccc-3ef98e50bd3e"
      },
      "source": [
        "from torch.nn import Linear\n",
        "import torch.nn.functional as F \n",
        "from torch_geometric.nn import GATConv\n",
        "embedding_size = 128\n",
        "\n",
        "class GNN(torch.nn.Module):\n",
        "    def __init__(self):\n",
        "        # Init parent\n",
        "        super(GNN, self).__init__()\n",
        "\n",
        "        # GCN layers\n",
        "        self.initial_conv = GATConv(graph.num_features, embedding_size)\n",
        "        self.conv1 = GATConv(embedding_size, embedding_size)\n",
        "\n",
        "        # Output layer\n",
        "        self.out = Linear(embedding_size, 1)\n",
        "\n",
        "    def forward(self, x, edge_index):\n",
        "        emb = F.relu(self.initial_conv(x, edge_index))\n",
        "        emb = F.relu(self.conv1(emb, edge_index))\n",
        "        return self.out(emb)\n",
        "\n",
        "model = GNN()\n",
        "print(model)\n",
        "print(\"Number of parameters: \", sum(p.numel() for p in model.parameters()))"
      ],
      "execution_count": 6,
      "outputs": [
        {
          "output_type": "stream",
          "name": "stdout",
          "text": [
            "GNN(\n",
            "  (initial_conv): GATConv(128, 128, heads=1)\n",
            "  (conv1): GATConv(128, 128, heads=1)\n",
            "  (out): Linear(in_features=128, out_features=1, bias=True)\n",
            ")\n",
            "Number of parameters:  33665\n"
          ]
        }
      ]
    },
    {
      "cell_type": "markdown",
      "metadata": {
        "id": "wGHWi2qn_j7V"
      },
      "source": [
        "### Add train and test masks\n",
        "- Alternative: Transform + RandomNodeSplit"
      ]
    },
    {
      "cell_type": "code",
      "metadata": {
        "colab": {
          "base_uri": "https://localhost:8080/"
        },
        "id": "shTDGKlt_hsE",
        "outputId": "237563be-7cfd-4b5e-e525-69682b45f2e9"
      },
      "source": [
        "# Add train and test masks\n",
        "num_nodes = graph.x.shape[0]\n",
        "ones = torch.ones(num_nodes)\n",
        "ones[4000:] = 0\n",
        "graph.train_mask = ones.bool()\n",
        "graph.test_mask = ~graph.train_mask.bool()\n",
        "\n",
        "print(\"Train nodes: \", sum(graph.train_mask))\n",
        "print(\"Test nodes: \", sum(graph.test_mask))"
      ],
      "execution_count": 7,
      "outputs": [
        {
          "output_type": "stream",
          "name": "stdout",
          "text": [
            "Train nodes:  tensor(4000)\n",
            "Test nodes:  tensor(3126)\n"
          ]
        }
      ]
    },
    {
      "cell_type": "code",
      "metadata": {
        "colab": {
          "base_uri": "https://localhost:8080/"
        },
        "id": "oqChlv_Pui86",
        "outputId": "5b9da535-fdc0-4475-f062-f88212fd7676"
      },
      "source": [
        "graph.train_mask"
      ],
      "execution_count": 8,
      "outputs": [
        {
          "output_type": "execute_result",
          "data": {
            "text/plain": [
              "tensor([ True,  True,  True,  ..., False, False, False])"
            ]
          },
          "metadata": {},
          "execution_count": 8
        }
      ]
    },
    {
      "cell_type": "code",
      "metadata": {
        "colab": {
          "base_uri": "https://localhost:8080/"
        },
        "id": "vF4d8N76uld-",
        "outputId": "f8b4558f-7dab-4286-8979-08a7cb0dee77"
      },
      "source": [
        "graph.test_mask"
      ],
      "execution_count": 9,
      "outputs": [
        {
          "output_type": "execute_result",
          "data": {
            "text/plain": [
              "tensor([False, False, False,  ...,  True,  True,  True])"
            ]
          },
          "metadata": {},
          "execution_count": 9
        }
      ]
    },
    {
      "cell_type": "markdown",
      "metadata": {
        "id": "n3pq7VnVf-Ln"
      },
      "source": [
        "## Training\n",
        "\n",
        "- We train the model with the full graph, so batch size = 1\n",
        "- For large graphs its also possible to train in batches, by using the NeighborSampler\n",
        "- This is a transductive setup, as all nodes are used during training\n",
        "- Inductive training can be achieved using GraphSAGE\n"
      ]
    },
    {
      "cell_type": "code",
      "metadata": {
        "colab": {
          "base_uri": "https://localhost:8080/"
        },
        "id": "VpPB6t0A8EwC",
        "outputId": "fc670849-2ff4-447b-a0b3-96a0b24c90df"
      },
      "source": [
        "# Use GPU for training\n",
        "device = torch.device(\"cuda:0\" if torch.cuda.is_available() else \"cpu\")\n",
        "model = GNN()\n",
        "model = model.to(device)\n",
        "graph = graph.to(device)\n",
        "\n",
        "# Loss function\n",
        "loss_fn = torch.nn.BCEWithLogitsLoss()\n",
        "optimizer = torch.optim.Adam(model.parameters(), lr=0.00001)  \n",
        "\n",
        "\n",
        "def train():\n",
        "      model.train()\n",
        "      optimizer.zero_grad() \n",
        "      out = model(graph.x, graph.edge_index)  \n",
        "      preds = out[graph.train_mask]\n",
        "      targets = torch.unsqueeze(graph.y[graph.train_mask], 1)\n",
        "      loss = loss_fn(preds.float(), targets.float())  \n",
        "      loss.backward() \n",
        "      optimizer.step()\n",
        "      return loss\n",
        "\n",
        "def test():\n",
        "      model.eval()\n",
        "      optimizer.zero_grad() \n",
        "      out = model(graph.x, graph.edge_index)  \n",
        "      preds = out[graph.test_mask]\n",
        "      targets = torch.unsqueeze(graph.y[graph.test_mask], 1)\n",
        "      loss = loss_fn(preds.float(), targets.float())  \n",
        "      return loss\n",
        "\n",
        "for epoch in range(0, 800):\n",
        "    tr_loss = train()\n",
        "    if epoch % 100 == 0:\n",
        "      loss = test()\n",
        "      print(f'Epoch: {epoch:03d}, Test loss: {loss:.4f} | Train loss: {tr_loss:.4f}')"
      ],
      "execution_count": 10,
      "outputs": [
        {
          "output_type": "stream",
          "name": "stdout",
          "text": [
            "Epoch: 000, Test loss: 0.6880 | Train loss: 0.6885\n",
            "Epoch: 100, Test loss: 0.6843 | Train loss: 0.6822\n",
            "Epoch: 200, Test loss: 0.6824 | Train loss: 0.6774\n",
            "Epoch: 300, Test loss: 0.6809 | Train loss: 0.6737\n",
            "Epoch: 400, Test loss: 0.6796 | Train loss: 0.6700\n",
            "Epoch: 500, Test loss: 0.6785 | Train loss: 0.6658\n",
            "Epoch: 600, Test loss: 0.6778 | Train loss: 0.6614\n",
            "Epoch: 700, Test loss: 0.6776 | Train loss: 0.6568\n"
          ]
        }
      ]
    },
    {
      "cell_type": "code",
      "metadata": {
        "colab": {
          "base_uri": "https://localhost:8080/",
          "height": 376
        },
        "id": "n8mkEZFBHy2U",
        "outputId": "a1e45400-528e-4568-ce23-51000277654c"
      },
      "source": [
        "from sklearn.metrics import roc_auc_score\n",
        "\n",
        "df = pd.DataFrame()\n",
        "# Model predictions'\n",
        "out = torch.sigmoid(model(graph.x, graph.edge_index))\n",
        "df[\"preds\"] = out[graph.test_mask].round().int().cpu().detach().numpy().squeeze()\n",
        "df[\"prob\"] = out[graph.test_mask].cpu().detach().numpy().squeeze().round(2)\n",
        "\n",
        "# Groundtruth\n",
        "df[\"gt\"] = graph.y[graph.test_mask].cpu().detach().numpy().squeeze()\n",
        "\n",
        "print(\"Test ROC: \", roc_auc_score(df[\"gt\"], df[\"preds\"]))\n",
        "df.head(10)"
      ],
      "execution_count": 11,
      "outputs": [
        {
          "output_type": "stream",
          "name": "stdout",
          "text": [
            "Test ROC:  0.5687391641761471\n"
          ]
        },
        {
          "output_type": "execute_result",
          "data": {
            "text/html": [
              "<div>\n",
              "<style scoped>\n",
              "    .dataframe tbody tr th:only-of-type {\n",
              "        vertical-align: middle;\n",
              "    }\n",
              "\n",
              "    .dataframe tbody tr th {\n",
              "        vertical-align: top;\n",
              "    }\n",
              "\n",
              "    .dataframe thead th {\n",
              "        text-align: right;\n",
              "    }\n",
              "</style>\n",
              "<table border=\"1\" class=\"dataframe\">\n",
              "  <thead>\n",
              "    <tr style=\"text-align: right;\">\n",
              "      <th></th>\n",
              "      <th>preds</th>\n",
              "      <th>prob</th>\n",
              "      <th>gt</th>\n",
              "    </tr>\n",
              "  </thead>\n",
              "  <tbody>\n",
              "    <tr>\n",
              "      <th>0</th>\n",
              "      <td>0</td>\n",
              "      <td>0.49</td>\n",
              "      <td>0</td>\n",
              "    </tr>\n",
              "    <tr>\n",
              "      <th>1</th>\n",
              "      <td>1</td>\n",
              "      <td>0.63</td>\n",
              "      <td>1</td>\n",
              "    </tr>\n",
              "    <tr>\n",
              "      <th>2</th>\n",
              "      <td>1</td>\n",
              "      <td>0.54</td>\n",
              "      <td>1</td>\n",
              "    </tr>\n",
              "    <tr>\n",
              "      <th>3</th>\n",
              "      <td>0</td>\n",
              "      <td>0.45</td>\n",
              "      <td>0</td>\n",
              "    </tr>\n",
              "    <tr>\n",
              "      <th>4</th>\n",
              "      <td>1</td>\n",
              "      <td>0.57</td>\n",
              "      <td>1</td>\n",
              "    </tr>\n",
              "    <tr>\n",
              "      <th>5</th>\n",
              "      <td>0</td>\n",
              "      <td>0.49</td>\n",
              "      <td>0</td>\n",
              "    </tr>\n",
              "    <tr>\n",
              "      <th>6</th>\n",
              "      <td>1</td>\n",
              "      <td>0.52</td>\n",
              "      <td>1</td>\n",
              "    </tr>\n",
              "    <tr>\n",
              "      <th>7</th>\n",
              "      <td>0</td>\n",
              "      <td>0.48</td>\n",
              "      <td>0</td>\n",
              "    </tr>\n",
              "    <tr>\n",
              "      <th>8</th>\n",
              "      <td>1</td>\n",
              "      <td>0.69</td>\n",
              "      <td>1</td>\n",
              "    </tr>\n",
              "    <tr>\n",
              "      <th>9</th>\n",
              "      <td>1</td>\n",
              "      <td>0.57</td>\n",
              "      <td>1</td>\n",
              "    </tr>\n",
              "  </tbody>\n",
              "</table>\n",
              "</div>"
            ],
            "text/plain": [
              "   preds  prob  gt\n",
              "0      0  0.49   0\n",
              "1      1  0.63   1\n",
              "2      1  0.54   1\n",
              "3      0  0.45   0\n",
              "4      1  0.57   1\n",
              "5      0  0.49   0\n",
              "6      1  0.52   1\n",
              "7      0  0.48   0\n",
              "8      1  0.69   1\n",
              "9      1  0.57   1"
            ]
          },
          "metadata": {},
          "execution_count": 11
        }
      ]
    },
    {
      "cell_type": "markdown",
      "metadata": {
        "id": "ggcoaQiDhpdU"
      },
      "source": [
        "## Explaining the predictions"
      ]
    },
    {
      "cell_type": "code",
      "metadata": {
        "colab": {
          "base_uri": "https://localhost:8080/"
        },
        "id": "7WPJWBHfgomc",
        "outputId": "d611104c-4432-4a33-f053-3cd78c921966"
      },
      "source": [
        "from torch_geometric.nn import GNNExplainer\n",
        "# Initialize explainer\n",
        "explainer = GNNExplainer(model, epochs=200, return_type='log_prob')\n",
        "\n",
        "# Explain node\n",
        "node_idx = 7\n",
        "node_feat_mask, edge_mask = explainer.explain_node(node_idx, graph.x, graph.edge_index)\n",
        "print(\"Size of explanation: \", sum(edge_mask > 0))"
      ],
      "execution_count": 12,
      "outputs": [
        {
          "output_type": "stream",
          "name": "stderr",
          "text": [
            "Explain node 7: 100%|██████████| 200/200 [00:02<00:00, 82.58it/s] \n"
          ]
        },
        {
          "output_type": "stream",
          "name": "stdout",
          "text": [
            "Size of explanation:  tensor(25, device='cuda:0')\n"
          ]
        }
      ]
    },
    {
      "cell_type": "code",
      "metadata": {
        "colab": {
          "base_uri": "https://localhost:8080/"
        },
        "id": "ttnxQWNRiSda",
        "outputId": "e2de96e0-2f76-4fcf-c3fa-15e6c3b23bdf"
      },
      "source": [
        "print(\"Node features: \", graph.x[node_idx])\n",
        "print(\"Node label: \",  df[\"gt\"][node_idx])\n",
        "print(\"Node prediction: \",  df[\"preds\"][node_idx])"
      ],
      "execution_count": 13,
      "outputs": [
        {
          "output_type": "stream",
          "name": "stdout",
          "text": [
            "Node features:  tensor([-0.2367, -0.1935,  3.7567, -0.2128, -0.2124,  5.4706, -0.5386, -0.4115,\n",
            "        -0.1622,  0.2116, -0.1529, -0.3459, -0.1957, -0.2217, -0.4750, -0.2006,\n",
            "        -0.4221, -0.2727, -0.4964, -0.2263, -0.2821, -0.2192, -0.2268, -0.2027,\n",
            "         1.0373, -0.0218, -0.2800, -0.2361, -0.2226, -0.2057, -0.3231, -0.1938,\n",
            "         3.7738, -0.2022, -0.5585,  4.2744, -0.0594, -0.3480, -0.3727, -0.4935,\n",
            "        -0.2020, -0.2183,  1.8572, -0.0779, -0.2263, -0.1528,  2.0653, -0.4668,\n",
            "        -0.2193, -0.1163,  6.3437, -0.2100, -0.6597, -0.2962, -0.2531,  1.8709,\n",
            "        -0.2680, -0.2187,  0.7300, -0.2951, -0.2064, -0.1886, -0.2112, -0.2915,\n",
            "        -0.2250,  3.5988, -0.3386,  4.3039, -0.2275,  0.1154, -0.2643,  2.2388,\n",
            "         0.1718, -0.2528,  2.2578, -0.2046,  3.3064, -0.4842,  3.8121, -0.2549,\n",
            "        -0.3419, -0.1695, -0.3224, -0.2822, -0.3064, -0.2185, -0.2841, -0.4582,\n",
            "        -0.2062, -0.2791, -0.2172, -0.5902, -0.6998, -0.1862, -0.1884, -0.1220,\n",
            "        -0.3154, -0.2393, -0.3001, -0.1737,  6.4014, -0.0901, -0.1913, -0.2501,\n",
            "         2.6771, -0.3410, -0.2074, -0.1444, -0.2569, -0.2624, -0.4364, -0.1613,\n",
            "        -0.2820, -0.1735, -0.2014,  3.4549, -0.2631,  1.9961, -0.1275, -0.2393,\n",
            "        -0.2141,  3.3722, -0.1754, -0.2139, -0.3749, -0.6348, -0.2558, -0.1742],\n",
            "       device='cuda:0')\n",
            "Node label:  0\n",
            "Node prediction:  0\n"
          ]
        }
      ]
    },
    {
      "cell_type": "markdown",
      "metadata": {
        "id": "vyYKjY2JiQrX"
      },
      "source": [
        "## Create visualizations"
      ]
    },
    {
      "cell_type": "code",
      "metadata": {
        "colab": {
          "base_uri": "https://localhost:8080/"
        },
        "id": "WdFHVeS-iu36",
        "outputId": "7b78ea7d-1c42-42cb-ebe2-206fb136881d"
      },
      "source": [
        "# Show shape of masks\n",
        "print(node_feat_mask.shape)\n",
        "print(edge_mask.shape)"
      ],
      "execution_count": 14,
      "outputs": [
        {
          "output_type": "stream",
          "name": "stdout",
          "text": [
            "torch.Size([128])\n",
            "torch.Size([77774])\n"
          ]
        }
      ]
    },
    {
      "cell_type": "markdown",
      "metadata": {
        "id": "oU3uqczhklnV"
      },
      "source": [
        "### The size of the following plot depends on the depth of the GNN!\n",
        "- Colors are edge labels\n",
        "- Greyed-out edges have an impact, but very low (< 0.1)"
      ]
    },
    {
      "cell_type": "code",
      "metadata": {
        "colab": {
          "base_uri": "https://localhost:8080/",
          "height": 575
        },
        "id": "DVknzGYRhry8",
        "outputId": "7a432cfd-1a68-49a2-864f-70e47a6adc63"
      },
      "source": [
        "import matplotlib.pyplot as plt\n",
        "from pylab import rcParams\n",
        "rcParams['figure.figsize'] = 10, 10\n",
        "\n",
        "# Visualize result\n",
        "ax, G = explainer.visualize_subgraph(node_idx, graph.edge_index, edge_mask, y=graph.y)\n",
        "plt.show()"
      ],
      "execution_count": 15,
      "outputs": [
        {
          "output_type": "display_data",
          "data": {
            "image/png": "[encoded data removed]",
            "text/plain": [
              "<Figure size 720x720 with 1 Axes>"
            ]
          },
          "metadata": {}
        }
      ]
    },
    {
      "cell_type": "markdown",
      "metadata": {
        "id": "RHj6MNDblFvF"
      },
      "source": [
        "#### For further details: https://pytorch-geometric.readthedocs.io/en/latest/_modules/torch_geometric/nn/models/gnn_explainer.html"
      ]
    }
  ]
}
