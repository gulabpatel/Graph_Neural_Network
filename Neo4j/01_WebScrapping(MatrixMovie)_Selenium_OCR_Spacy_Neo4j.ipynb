{
  "nbformat": 4,
  "nbformat_minor": 0,
  "metadata": {
    "colab": {
      "name": "WebScrapping_Selenium_OCR_Spacy_Neo4j.ipynb",
      "provenance": [],
      "collapsed_sections": [],
      "include_colab_link": true
    },
    "kernelspec": {
      "name": "python3",
      "display_name": "Python 3"
    },
    "language_info": {
      "name": "python"
    }
  },
  "cells": [
    {
      "cell_type": "markdown",
      "metadata": {
        "id": "view-in-github",
        "colab_type": "text"
      },
      "source": [
        "<a href=\"https://colab.research.google.com/github/gulabpatel/Graph_Neural_Network/blob/main/Neo4j/01_WebScrapping(MatrixMovie)_Selenium_OCR_Spacy_Neo4j.ipynb\" target=\"_parent\"><img src=\"https://colab.research.google.com/assets/colab-badge.svg\" alt=\"Open In Colab\"/></a>"
      ]
    },
    {
      "cell_type": "code",
      "execution_count": null,
      "metadata": {
        "id": "xU9656o614cy"
      },
      "outputs": [],
      "source": [
        "!sudo apt install tesseract-ocr\n",
        "!sudo apt-get install poppler-utils \n",
        "# Install dependencies\n",
        "!pip install -U selenium neo4j pytesseract pdf2image spacy --upgrade\n",
        "!python -m spacy download en_core_web_sm"
      ]
    },
    {
      "cell_type": "code",
      "source": [
        "# Setup selenium\n",
        "!apt-get update\n",
        "!apt install chromium-chromedriver\n",
        "!cp /usr/lib/chromium-browser/chromedriver /usr/bin\n",
        "import sys\n",
        "sys.path.insert(0,'/usr/lib/chromium-browser/chromedriver')\n",
        "from selenium import webdriver\n",
        "chrome_options = webdriver.ChromeOptions()\n",
        "chrome_options.add_argument('--headless')\n",
        "chrome_options.add_argument('--no-sandbox')\n",
        "chrome_options.add_argument('--disable-dev-shm-usage')\n",
        "wd = webdriver.Chrome('chromedriver',chrome_options=chrome_options)"
      ],
      "metadata": {
        "id": "QzliV2US4yQR"
      },
      "execution_count": null,
      "outputs": []
    },
    {
      "cell_type": "markdown",
      "source": [
        "# Construct the Matrix interaction network based on the movie script\n",
        "## Combine web scraping, OCR, and entity recognition to construct and analyze the Matrix interaction network in Neo4j\n",
        "\n",
        "## Agenda\n",
        "This blog post will present how to combine web scraping, OCR, and NLP techniques to construct the Matrix interaction network. \n",
        "* Scraping Matrix fandom page with Selenium\n",
        "* Using PyTesseract to read the Matrix movie script PDF\n",
        "* Extract characters in each scene by using the SpaCy's rule-based matcher\n",
        "* Construct and analyze the character's co-occurrence network in Neo4j\n",
        "\n",
        "I have already performed a similar analysis based on the Harry Potter book, and this time we will be using the Matrix movie script.\n",
        "\n",
        "## Scraping Matrix Fandom page with Selenium\n",
        "We will begin by scraping the Matrix Fandom page to get the list of characters that appeared in the movie. As mentioned, we will be using the Selenium library to achieve this. The content of the fandom page is available under the CC BY 4.0 license.\n",
        "In the first step, we will extract the names and the links of characters that appeared in the first Matrix movie."
      ],
      "metadata": {
        "id": "M2SU_waapf7m"
      }
    },
    {
      "cell_type": "code",
      "source": [
        "wikifan_url = \"https://matrix.fandom.com/wiki/Category:Characters_in_The_Matrix\"\n",
        "\n",
        "member_list = []\n",
        "wd.get(wikifan_url)\n",
        "members = wd.find_elements_by_class_name(\"category-page__member-link\")\n",
        "for m in members:\n",
        "  member_list.append({'url':m.get_attribute('href'), 'name': m.text})\n",
        "\n",
        "# Manually append Trinity\n",
        "member_list.append({'url': 'https://matrix.fandom.com/wiki/Trinity', 'name': 'Trinity'})"
      ],
      "metadata": {
        "colab": {
          "base_uri": "https://localhost:8080/"
        },
        "id": "Kzv8cJ8w38WZ",
        "outputId": "836ebb69-612c-47b4-8f83-4f1e75c044bb"
      },
      "execution_count": 7,
      "outputs": [
        {
          "output_type": "stream",
          "name": "stderr",
          "text": [
            "/usr/local/lib/python3.7/dist-packages/ipykernel_launcher.py:5: DeprecationWarning: find_elements_by_* commands are deprecated. Please use find_elements() instead\n",
            "  \"\"\"\n"
          ]
        }
      ]
    },
    {
      "cell_type": "markdown",
      "source": [
        "Just because we can, we will also extract detailed information from personal pages of characters."
      ],
      "metadata": {
        "id": "sXpbTGxwpvvy"
      }
    },
    {
      "cell_type": "code",
      "source": [
        "member_list"
      ],
      "metadata": {
        "colab": {
          "base_uri": "https://localhost:8080/"
        },
        "id": "Q9t9Lo5pfX9x",
        "outputId": "9d97f66d-4fb1-41c9-9e3f-897e7004acde"
      },
      "execution_count": 8,
      "outputs": [
        {
          "output_type": "execute_result",
          "data": {
            "text/plain": [
              "[{'name': 'Apoc', 'url': 'https://matrix.fandom.com/wiki/Apoc'},\n",
              " {'name': 'Austin', 'url': 'https://matrix.fandom.com/wiki/Austin'},\n",
              " {'name': 'Agent Brown', 'url': 'https://matrix.fandom.com/wiki/Agent_Brown'},\n",
              " {'name': 'Choi', 'url': 'https://matrix.fandom.com/wiki/Choi'},\n",
              " {'name': 'Crawford', 'url': 'https://matrix.fandom.com/wiki/Crawford'},\n",
              " {'name': 'Cypher', 'url': 'https://matrix.fandom.com/wiki/Cypher'},\n",
              " {'name': 'Dozer', 'url': 'https://matrix.fandom.com/wiki/Dozer'},\n",
              " {'name': 'Dujour', 'url': 'https://matrix.fandom.com/wiki/Dujour'},\n",
              " {'name': 'FedEx Man', 'url': 'https://matrix.fandom.com/wiki/FedEx_Man'},\n",
              " {'name': 'Garcia', 'url': 'https://matrix.fandom.com/wiki/Garcia'},\n",
              " {'name': 'Green', 'url': 'https://matrix.fandom.com/wiki/Green'},\n",
              " {'name': 'Agent Jones', 'url': 'https://matrix.fandom.com/wiki/Agent_Jones'},\n",
              " {'name': 'Kim', 'url': 'https://matrix.fandom.com/wiki/Kim'},\n",
              " {'name': 'Law Enforcement',\n",
              "  'url': 'https://matrix.fandom.com/wiki/Law_Enforcement'},\n",
              " {'name': 'Lieutenant', 'url': 'https://matrix.fandom.com/wiki/Lieutenant'},\n",
              " {'name': 'Morpheus', 'url': 'https://matrix.fandom.com/wiki/Morpheus'},\n",
              " {'name': 'Mouse', 'url': 'https://matrix.fandom.com/wiki/Mouse'},\n",
              " {'name': 'Neo', 'url': 'https://matrix.fandom.com/wiki/Neo'},\n",
              " {'name': 'Nguyen', 'url': 'https://matrix.fandom.com/wiki/Nguyen'},\n",
              " {'name': 'Old Man', 'url': 'https://matrix.fandom.com/wiki/Old_Man'},\n",
              " {'name': 'The Oracle', 'url': 'https://matrix.fandom.com/wiki/The_Oracle'},\n",
              " {'name': 'The Priestess',\n",
              "  'url': 'https://matrix.fandom.com/wiki/The_Priestess'},\n",
              " {'name': 'Rhineheart', 'url': 'https://matrix.fandom.com/wiki/Rhineheart'},\n",
              " {'name': 'S.W.A.T.', 'url': 'https://matrix.fandom.com/wiki/S.W.A.T.'},\n",
              " {'name': 'Security Guard',\n",
              "  'url': 'https://matrix.fandom.com/wiki/Security_Guard'},\n",
              " {'name': 'Security Guards',\n",
              "  'url': 'https://matrix.fandom.com/wiki/Security_Guards'},\n",
              " {'name': 'Agent Smith', 'url': 'https://matrix.fandom.com/wiki/Agent_Smith'},\n",
              " {'name': 'Spoon Boy', 'url': 'https://matrix.fandom.com/wiki/Spoon_Boy'},\n",
              " {'name': 'Switch', 'url': 'https://matrix.fandom.com/wiki/Switch'},\n",
              " {'name': 'System aligned bluepills',\n",
              "  'url': 'https://matrix.fandom.com/wiki/System_aligned_bluepills'},\n",
              " {'name': 'Tank', 'url': 'https://matrix.fandom.com/wiki/Tank'},\n",
              " {'name': 'Woman in Red',\n",
              "  'url': 'https://matrix.fandom.com/wiki/Woman_in_Red'},\n",
              " {'name': 'Trinity', 'url': 'https://matrix.fandom.com/wiki/Trinity'}]"
            ]
          },
          "metadata": {},
          "execution_count": 8
        }
      ]
    },
    {
      "cell_type": "code",
      "source": [
        "for m in member_list:\n",
        "  wd.get(m['url'])\n",
        "  elements = wd.find_elements_by_class_name(\"pi-data\")\n",
        "  for e in elements:\n",
        "    try:\n",
        "      label = e.find_element_by_tag_name(\"h3\")\n",
        "      value = e.find_element_by_tag_name(\"div\")\n",
        "      m[label.text] = value.text\n",
        "      print(m)\n",
        "    except:\n",
        "      pass"
      ],
      "metadata": {
        "colab": {
          "base_uri": "https://localhost:8080/"
        },
        "id": "i8kMbdUB5PHV",
        "outputId": "45dadf2a-e030-4986-8643-28bed49fd403"
      },
      "execution_count": 14,
      "outputs": [
        {
          "output_type": "stream",
          "name": "stderr",
          "text": [
            "/usr/local/lib/python3.7/dist-packages/ipykernel_launcher.py:3: DeprecationWarning: find_elements_by_* commands are deprecated. Please use find_elements() instead\n",
            "  This is separate from the ipykernel package so we can avoid doing imports until\n",
            "/usr/local/lib/python3.7/dist-packages/selenium/webdriver/remote/webelement.py:341: UserWarning: find_element_by_* commands are deprecated. Please use find_element() instead\n",
            "  warnings.warn(\"find_element_by_* commands are deprecated. Please use find_element() instead\")\n"
          ]
        },
        {
          "output_type": "stream",
          "name": "stdout",
          "text": [
            "{'url': 'https://matrix.fandom.com/wiki/Apoc', 'name': 'Apoc', 'Appearances': 'The Matrix\\nThe Matrix: Path of Neo', 'Status': 'Deceased', 'Entity': 'Human', 'Gender': 'Male', 'Height': '178 cm', 'Eye color': 'Green', 'Hair color': 'Black', 'Allies': 'Morpheus\\nNeo\\nTrinity\\nSwitch\\nMouse\\nDozer\\nTank', 'Enemies': 'Cypher'}\n",
            "{'url': 'https://matrix.fandom.com/wiki/Apoc', 'name': 'Apoc', 'Appearances': 'The Matrix\\nThe Matrix: Path of Neo', 'Status': 'Deceased', 'Entity': 'Human', 'Gender': 'Male', 'Height': '178 cm', 'Eye color': 'Green', 'Hair color': 'Black', 'Allies': 'Morpheus\\nNeo\\nTrinity\\nSwitch\\nMouse\\nDozer\\nTank', 'Enemies': 'Cypher'}\n",
            "{'url': 'https://matrix.fandom.com/wiki/Apoc', 'name': 'Apoc', 'Appearances': 'The Matrix\\nThe Matrix: Path of Neo', 'Status': 'Deceased', 'Entity': 'Human', 'Gender': 'Male', 'Height': '178 cm', 'Eye color': 'Green', 'Hair color': 'Black', 'Allies': 'Morpheus\\nNeo\\nTrinity\\nSwitch\\nMouse\\nDozer\\nTank', 'Enemies': 'Cypher'}\n",
            "{'url': 'https://matrix.fandom.com/wiki/Apoc', 'name': 'Apoc', 'Appearances': 'The Matrix\\nThe Matrix: Path of Neo', 'Status': 'Deceased', 'Entity': 'Human', 'Gender': 'Male', 'Height': '178 cm', 'Eye color': 'Green', 'Hair color': 'Black', 'Allies': 'Morpheus\\nNeo\\nTrinity\\nSwitch\\nMouse\\nDozer\\nTank', 'Enemies': 'Cypher'}\n",
            "{'url': 'https://matrix.fandom.com/wiki/Apoc', 'name': 'Apoc', 'Appearances': 'The Matrix\\nThe Matrix: Path of Neo', 'Status': 'Deceased', 'Entity': 'Human', 'Gender': 'Male', 'Height': '178 cm', 'Eye color': 'Green', 'Hair color': 'Black', 'Allies': 'Morpheus\\nNeo\\nTrinity\\nSwitch\\nMouse\\nDozer\\nTank', 'Enemies': 'Cypher'}\n",
            "{'url': 'https://matrix.fandom.com/wiki/Apoc', 'name': 'Apoc', 'Appearances': 'The Matrix\\nThe Matrix: Path of Neo', 'Status': 'Deceased', 'Entity': 'Human', 'Gender': 'Male', 'Height': '178 cm', 'Eye color': 'Green', 'Hair color': 'Black', 'Allies': 'Morpheus\\nNeo\\nTrinity\\nSwitch\\nMouse\\nDozer\\nTank', 'Enemies': 'Cypher'}\n",
            "{'url': 'https://matrix.fandom.com/wiki/Apoc', 'name': 'Apoc', 'Appearances': 'The Matrix\\nThe Matrix: Path of Neo', 'Status': 'Deceased', 'Entity': 'Human', 'Gender': 'Male', 'Height': '178 cm', 'Eye color': 'Green', 'Hair color': 'Black', 'Allies': 'Morpheus\\nNeo\\nTrinity\\nSwitch\\nMouse\\nDozer\\nTank', 'Enemies': 'Cypher'}\n",
            "{'url': 'https://matrix.fandom.com/wiki/Apoc', 'name': 'Apoc', 'Appearances': 'The Matrix\\nThe Matrix: Path of Neo', 'Status': 'Deceased', 'Entity': 'Human', 'Gender': 'Male', 'Height': '178 cm', 'Eye color': 'Green', 'Hair color': 'Black', 'Allies': 'Morpheus\\nNeo\\nTrinity\\nSwitch\\nMouse\\nDozer\\nTank', 'Enemies': 'Cypher'}\n",
            "{'url': 'https://matrix.fandom.com/wiki/Apoc', 'name': 'Apoc', 'Appearances': 'The Matrix\\nThe Matrix: Path of Neo', 'Status': 'Deceased', 'Entity': 'Human', 'Gender': 'Male', 'Height': '178 cm', 'Eye color': 'Green', 'Hair color': 'Black', 'Allies': 'Morpheus\\nNeo\\nTrinity\\nSwitch\\nMouse\\nDozer\\nTank', 'Enemies': 'Cypher'}\n",
            "{'url': 'https://matrix.fandom.com/wiki/Agent_Brown', 'name': 'Agent Brown', 'Portrayed by': 'Paul Goddard', 'Appearances': 'The Matrix\\nThe Matrix Resurrections (Archive footage only)', 'Purpose': 'Protect the Matrix\\nKeep the Resistance contained', 'Height': '5\\'11.25\" (1.81 meters)', 'Eye color': 'Brown', 'Allies': 'Agent Jones\\nAgent Smith', 'Enemies': 'Morpheus\\nNeo\\nTrinity'}\n",
            "{'url': 'https://matrix.fandom.com/wiki/Agent_Brown', 'name': 'Agent Brown', 'Portrayed by': 'Paul Goddard', 'Appearances': 'The Matrix\\nThe Matrix Resurrections (Archive footage only)', 'Purpose': 'Protect the Matrix\\nKeep the Resistance contained', 'Height': '5\\'11.25\" (1.81 meters)', 'Eye color': 'Brown', 'Allies': 'Agent Jones\\nAgent Smith', 'Enemies': 'Morpheus\\nNeo\\nTrinity'}\n",
            "{'url': 'https://matrix.fandom.com/wiki/Agent_Brown', 'name': 'Agent Brown', 'Portrayed by': 'Paul Goddard', 'Appearances': 'The Matrix\\nThe Matrix Resurrections (Archive footage only)', 'Purpose': 'Protect the Matrix\\nKeep the Resistance contained', 'Height': '5\\'11.25\" (1.81 meters)', 'Eye color': 'Brown', 'Allies': 'Agent Jones\\nAgent Smith', 'Enemies': 'Morpheus\\nNeo\\nTrinity'}\n",
            "{'url': 'https://matrix.fandom.com/wiki/Agent_Brown', 'name': 'Agent Brown', 'Portrayed by': 'Paul Goddard', 'Appearances': 'The Matrix\\nThe Matrix Resurrections (Archive footage only)', 'Purpose': 'Protect the Matrix\\nKeep the Resistance contained', 'Height': '5\\'11.25\" (1.81 meters)', 'Eye color': 'Brown', 'Allies': 'Agent Jones\\nAgent Smith', 'Enemies': 'Morpheus\\nNeo\\nTrinity'}\n",
            "{'url': 'https://matrix.fandom.com/wiki/Agent_Brown', 'name': 'Agent Brown', 'Portrayed by': 'Paul Goddard', 'Appearances': 'The Matrix\\nThe Matrix Resurrections (Archive footage only)', 'Purpose': 'Protect the Matrix\\nKeep the Resistance contained', 'Height': '5\\'11.25\" (1.81 meters)', 'Eye color': 'Brown', 'Allies': 'Agent Jones\\nAgent Smith', 'Enemies': 'Morpheus\\nNeo\\nTrinity'}\n",
            "{'url': 'https://matrix.fandom.com/wiki/Agent_Brown', 'name': 'Agent Brown', 'Portrayed by': 'Paul Goddard', 'Appearances': 'The Matrix\\nThe Matrix Resurrections (Archive footage only)', 'Purpose': 'Protect the Matrix\\nKeep the Resistance contained', 'Height': '5\\'11.25\" (1.81 meters)', 'Eye color': 'Brown', 'Allies': 'Agent Jones\\nAgent Smith', 'Enemies': 'Morpheus\\nNeo\\nTrinity'}\n",
            "{'url': 'https://matrix.fandom.com/wiki/Agent_Brown', 'name': 'Agent Brown', 'Portrayed by': 'Paul Goddard', 'Appearances': 'The Matrix\\nThe Matrix Resurrections (Archive footage only)', 'Purpose': 'Protect the Matrix\\nKeep the Resistance contained', 'Height': '5\\'11.25\" (1.81 meters)', 'Eye color': 'Brown', 'Allies': 'Agent Jones\\nAgent Smith', 'Enemies': 'Morpheus\\nNeo\\nTrinity'}\n",
            "{'url': 'https://matrix.fandom.com/wiki/Cypher', 'name': 'Cypher', 'Portrayed by': 'Joe Pantoliano', 'First appearance': 'The Matrix', 'Last appearance': 'The Matrix Online (Mentioned only)', 'Appearances': 'The Matrix\\nThe Matrix: Path of Neo\\nThe Matrix Online (Mentioned only)', 'Status': 'Deceased', 'Real name': 'Reagan', 'Hacker name': 'Cypher', 'Species': 'Human', 'Gender': 'Male', 'Height': '176 cm', 'Eye color': 'Blue', 'Hair color': 'Brown', 'Allies': 'Smith', 'Enemies': 'Apoc\\nDozer\\nMorpheus\\nMouse\\nNeo\\nSwitch\\nTank\\nTrinity'}\n",
            "{'url': 'https://matrix.fandom.com/wiki/Cypher', 'name': 'Cypher', 'Portrayed by': 'Joe Pantoliano', 'First appearance': 'The Matrix', 'Last appearance': 'The Matrix Online (Mentioned only)', 'Appearances': 'The Matrix\\nThe Matrix: Path of Neo\\nThe Matrix Online (Mentioned only)', 'Status': 'Deceased', 'Real name': 'Reagan', 'Hacker name': 'Cypher', 'Species': 'Human', 'Gender': 'Male', 'Height': '176 cm', 'Eye color': 'Blue', 'Hair color': 'Brown', 'Allies': 'Smith', 'Enemies': 'Apoc\\nDozer\\nMorpheus\\nMouse\\nNeo\\nSwitch\\nTank\\nTrinity'}\n",
            "{'url': 'https://matrix.fandom.com/wiki/Cypher', 'name': 'Cypher', 'Portrayed by': 'Joe Pantoliano', 'First appearance': 'The Matrix', 'Last appearance': 'The Matrix Online (Mentioned only)', 'Appearances': 'The Matrix\\nThe Matrix: Path of Neo\\nThe Matrix Online (Mentioned only)', 'Status': 'Deceased', 'Real name': 'Reagan', 'Hacker name': 'Cypher', 'Species': 'Human', 'Gender': 'Male', 'Height': '176 cm', 'Eye color': 'Blue', 'Hair color': 'Brown', 'Allies': 'Smith', 'Enemies': 'Apoc\\nDozer\\nMorpheus\\nMouse\\nNeo\\nSwitch\\nTank\\nTrinity'}\n",
            "{'url': 'https://matrix.fandom.com/wiki/Cypher', 'name': 'Cypher', 'Portrayed by': 'Joe Pantoliano', 'First appearance': 'The Matrix', 'Last appearance': 'The Matrix Online (Mentioned only)', 'Appearances': 'The Matrix\\nThe Matrix: Path of Neo\\nThe Matrix Online (Mentioned only)', 'Status': 'Deceased', 'Real name': 'Reagan', 'Hacker name': 'Cypher', 'Species': 'Human', 'Gender': 'Male', 'Height': '176 cm', 'Eye color': 'Blue', 'Hair color': 'Brown', 'Allies': 'Smith', 'Enemies': 'Apoc\\nDozer\\nMorpheus\\nMouse\\nNeo\\nSwitch\\nTank\\nTrinity'}\n",
            "{'url': 'https://matrix.fandom.com/wiki/Cypher', 'name': 'Cypher', 'Portrayed by': 'Joe Pantoliano', 'First appearance': 'The Matrix', 'Last appearance': 'The Matrix Online (Mentioned only)', 'Appearances': 'The Matrix\\nThe Matrix: Path of Neo\\nThe Matrix Online (Mentioned only)', 'Status': 'Deceased', 'Real name': 'Reagan', 'Hacker name': 'Cypher', 'Species': 'Human', 'Gender': 'Male', 'Height': '176 cm', 'Eye color': 'Blue', 'Hair color': 'Brown', 'Allies': 'Smith', 'Enemies': 'Apoc\\nDozer\\nMorpheus\\nMouse\\nNeo\\nSwitch\\nTank\\nTrinity'}\n",
            "{'url': 'https://matrix.fandom.com/wiki/Cypher', 'name': 'Cypher', 'Portrayed by': 'Joe Pantoliano', 'First appearance': 'The Matrix', 'Last appearance': 'The Matrix Online (Mentioned only)', 'Appearances': 'The Matrix\\nThe Matrix: Path of Neo\\nThe Matrix Online (Mentioned only)', 'Status': 'Deceased', 'Real name': 'Reagan', 'Hacker name': 'Cypher', 'Species': 'Human', 'Gender': 'Male', 'Height': '176 cm', 'Eye color': 'Blue', 'Hair color': 'Brown', 'Allies': 'Smith', 'Enemies': 'Apoc\\nDozer\\nMorpheus\\nMouse\\nNeo\\nSwitch\\nTank\\nTrinity'}\n",
            "{'url': 'https://matrix.fandom.com/wiki/Cypher', 'name': 'Cypher', 'Portrayed by': 'Joe Pantoliano', 'First appearance': 'The Matrix', 'Last appearance': 'The Matrix Online (Mentioned only)', 'Appearances': 'The Matrix\\nThe Matrix: Path of Neo\\nThe Matrix Online (Mentioned only)', 'Status': 'Deceased', 'Real name': 'Reagan', 'Hacker name': 'Cypher', 'Species': 'Human', 'Gender': 'Male', 'Height': '176 cm', 'Eye color': 'Blue', 'Hair color': 'Brown', 'Allies': 'Smith', 'Enemies': 'Apoc\\nDozer\\nMorpheus\\nMouse\\nNeo\\nSwitch\\nTank\\nTrinity'}\n",
            "{'url': 'https://matrix.fandom.com/wiki/Cypher', 'name': 'Cypher', 'Portrayed by': 'Joe Pantoliano', 'First appearance': 'The Matrix', 'Last appearance': 'The Matrix Online (Mentioned only)', 'Appearances': 'The Matrix\\nThe Matrix: Path of Neo\\nThe Matrix Online (Mentioned only)', 'Status': 'Deceased', 'Real name': 'Reagan', 'Hacker name': 'Cypher', 'Species': 'Human', 'Gender': 'Male', 'Height': '176 cm', 'Eye color': 'Blue', 'Hair color': 'Brown', 'Allies': 'Smith', 'Enemies': 'Apoc\\nDozer\\nMorpheus\\nMouse\\nNeo\\nSwitch\\nTank\\nTrinity'}\n",
            "{'url': 'https://matrix.fandom.com/wiki/Cypher', 'name': 'Cypher', 'Portrayed by': 'Joe Pantoliano', 'First appearance': 'The Matrix', 'Last appearance': 'The Matrix Online (Mentioned only)', 'Appearances': 'The Matrix\\nThe Matrix: Path of Neo\\nThe Matrix Online (Mentioned only)', 'Status': 'Deceased', 'Real name': 'Reagan', 'Hacker name': 'Cypher', 'Species': 'Human', 'Gender': 'Male', 'Height': '176 cm', 'Eye color': 'Blue', 'Hair color': 'Brown', 'Allies': 'Smith', 'Enemies': 'Apoc\\nDozer\\nMorpheus\\nMouse\\nNeo\\nSwitch\\nTank\\nTrinity'}\n",
            "{'url': 'https://matrix.fandom.com/wiki/Cypher', 'name': 'Cypher', 'Portrayed by': 'Joe Pantoliano', 'First appearance': 'The Matrix', 'Last appearance': 'The Matrix Online (Mentioned only)', 'Appearances': 'The Matrix\\nThe Matrix: Path of Neo\\nThe Matrix Online (Mentioned only)', 'Status': 'Deceased', 'Real name': 'Reagan', 'Hacker name': 'Cypher', 'Species': 'Human', 'Gender': 'Male', 'Height': '176 cm', 'Eye color': 'Blue', 'Hair color': 'Brown', 'Allies': 'Smith', 'Enemies': 'Apoc\\nDozer\\nMorpheus\\nMouse\\nNeo\\nSwitch\\nTank\\nTrinity'}\n",
            "{'url': 'https://matrix.fandom.com/wiki/Cypher', 'name': 'Cypher', 'Portrayed by': 'Joe Pantoliano', 'First appearance': 'The Matrix', 'Last appearance': 'The Matrix Online (Mentioned only)', 'Appearances': 'The Matrix\\nThe Matrix: Path of Neo\\nThe Matrix Online (Mentioned only)', 'Status': 'Deceased', 'Real name': 'Reagan', 'Hacker name': 'Cypher', 'Species': 'Human', 'Gender': 'Male', 'Height': '176 cm', 'Eye color': 'Blue', 'Hair color': 'Brown', 'Allies': 'Smith', 'Enemies': 'Apoc\\nDozer\\nMorpheus\\nMouse\\nNeo\\nSwitch\\nTank\\nTrinity'}\n",
            "{'url': 'https://matrix.fandom.com/wiki/Cypher', 'name': 'Cypher', 'Portrayed by': 'Joe Pantoliano', 'First appearance': 'The Matrix', 'Last appearance': 'The Matrix Online (Mentioned only)', 'Appearances': 'The Matrix\\nThe Matrix: Path of Neo\\nThe Matrix Online (Mentioned only)', 'Status': 'Deceased', 'Real name': 'Reagan', 'Hacker name': 'Cypher', 'Species': 'Human', 'Gender': 'Male', 'Height': '176 cm', 'Eye color': 'Blue', 'Hair color': 'Brown', 'Allies': 'Smith', 'Enemies': 'Apoc\\nDozer\\nMorpheus\\nMouse\\nNeo\\nSwitch\\nTank\\nTrinity'}\n",
            "{'url': 'https://matrix.fandom.com/wiki/Cypher', 'name': 'Cypher', 'Portrayed by': 'Joe Pantoliano', 'First appearance': 'The Matrix', 'Last appearance': 'The Matrix Online (Mentioned only)', 'Appearances': 'The Matrix\\nThe Matrix: Path of Neo\\nThe Matrix Online (Mentioned only)', 'Status': 'Deceased', 'Real name': 'Reagan', 'Hacker name': 'Cypher', 'Species': 'Human', 'Gender': 'Male', 'Height': '176 cm', 'Eye color': 'Blue', 'Hair color': 'Brown', 'Allies': 'Smith', 'Enemies': 'Apoc\\nDozer\\nMorpheus\\nMouse\\nNeo\\nSwitch\\nTank\\nTrinity'}\n",
            "{'url': 'https://matrix.fandom.com/wiki/Cypher', 'name': 'Cypher', 'Portrayed by': 'Joe Pantoliano', 'First appearance': 'The Matrix', 'Last appearance': 'The Matrix Online (Mentioned only)', 'Appearances': 'The Matrix\\nThe Matrix: Path of Neo\\nThe Matrix Online (Mentioned only)', 'Status': 'Deceased', 'Real name': 'Reagan', 'Hacker name': 'Cypher', 'Species': 'Human', 'Gender': 'Male', 'Height': '176 cm', 'Eye color': 'Blue', 'Hair color': 'Brown', 'Allies': 'Smith', 'Enemies': 'Apoc\\nDozer\\nMorpheus\\nMouse\\nNeo\\nSwitch\\nTank\\nTrinity'}\n",
            "{'url': 'https://matrix.fandom.com/wiki/Dozer', 'name': 'Dozer', 'Portrayed by': 'Anthony Ray Parker', 'Appearances': 'The Matrix', 'Status': 'Deceased', 'Real name': 'Dozer', 'Hacker name': 'None', 'Family': 'Tank\\nZee', 'Spouse': 'Cas', 'Entity': 'Pilot/health & wellness crewman on the Nebuchadnezzar', 'Gender': 'Male', 'Eye color': 'Brown', 'Hair color': 'Black', 'Allies': 'Morpheus\\nNeo\\nTrinity\\nApoc\\nSwitch\\nMouse', 'Enemies': 'Cypher'}\n",
            "{'url': 'https://matrix.fandom.com/wiki/Dozer', 'name': 'Dozer', 'Portrayed by': 'Anthony Ray Parker', 'Appearances': 'The Matrix', 'Status': 'Deceased', 'Real name': 'Dozer', 'Hacker name': 'None', 'Family': 'Tank\\nZee', 'Spouse': 'Cas', 'Entity': 'Pilot/health & wellness crewman on the Nebuchadnezzar', 'Gender': 'Male', 'Eye color': 'Brown', 'Hair color': 'Black', 'Allies': 'Morpheus\\nNeo\\nTrinity\\nApoc\\nSwitch\\nMouse', 'Enemies': 'Cypher'}\n",
            "{'url': 'https://matrix.fandom.com/wiki/Dozer', 'name': 'Dozer', 'Portrayed by': 'Anthony Ray Parker', 'Appearances': 'The Matrix', 'Status': 'Deceased', 'Real name': 'Dozer', 'Hacker name': 'None', 'Family': 'Tank\\nZee', 'Spouse': 'Cas', 'Entity': 'Pilot/health & wellness crewman on the Nebuchadnezzar', 'Gender': 'Male', 'Eye color': 'Brown', 'Hair color': 'Black', 'Allies': 'Morpheus\\nNeo\\nTrinity\\nApoc\\nSwitch\\nMouse', 'Enemies': 'Cypher'}\n",
            "{'url': 'https://matrix.fandom.com/wiki/Dozer', 'name': 'Dozer', 'Portrayed by': 'Anthony Ray Parker', 'Appearances': 'The Matrix', 'Status': 'Deceased', 'Real name': 'Dozer', 'Hacker name': 'None', 'Family': 'Tank\\nZee', 'Spouse': 'Cas', 'Entity': 'Pilot/health & wellness crewman on the Nebuchadnezzar', 'Gender': 'Male', 'Eye color': 'Brown', 'Hair color': 'Black', 'Allies': 'Morpheus\\nNeo\\nTrinity\\nApoc\\nSwitch\\nMouse', 'Enemies': 'Cypher'}\n",
            "{'url': 'https://matrix.fandom.com/wiki/Dozer', 'name': 'Dozer', 'Portrayed by': 'Anthony Ray Parker', 'Appearances': 'The Matrix', 'Status': 'Deceased', 'Real name': 'Dozer', 'Hacker name': 'None', 'Family': 'Tank\\nZee', 'Spouse': 'Cas', 'Entity': 'Pilot/health & wellness crewman on the Nebuchadnezzar', 'Gender': 'Male', 'Eye color': 'Brown', 'Hair color': 'Black', 'Allies': 'Morpheus\\nNeo\\nTrinity\\nApoc\\nSwitch\\nMouse', 'Enemies': 'Cypher'}\n",
            "{'url': 'https://matrix.fandom.com/wiki/Dozer', 'name': 'Dozer', 'Portrayed by': 'Anthony Ray Parker', 'Appearances': 'The Matrix', 'Status': 'Deceased', 'Real name': 'Dozer', 'Hacker name': 'None', 'Family': 'Tank\\nZee', 'Spouse': 'Cas', 'Entity': 'Pilot/health & wellness crewman on the Nebuchadnezzar', 'Gender': 'Male', 'Eye color': 'Brown', 'Hair color': 'Black', 'Allies': 'Morpheus\\nNeo\\nTrinity\\nApoc\\nSwitch\\nMouse', 'Enemies': 'Cypher'}\n",
            "{'url': 'https://matrix.fandom.com/wiki/Dozer', 'name': 'Dozer', 'Portrayed by': 'Anthony Ray Parker', 'Appearances': 'The Matrix', 'Status': 'Deceased', 'Real name': 'Dozer', 'Hacker name': 'None', 'Family': 'Tank\\nZee', 'Spouse': 'Cas', 'Entity': 'Pilot/health & wellness crewman on the Nebuchadnezzar', 'Gender': 'Male', 'Eye color': 'Brown', 'Hair color': 'Black', 'Allies': 'Morpheus\\nNeo\\nTrinity\\nApoc\\nSwitch\\nMouse', 'Enemies': 'Cypher'}\n",
            "{'url': 'https://matrix.fandom.com/wiki/Dozer', 'name': 'Dozer', 'Portrayed by': 'Anthony Ray Parker', 'Appearances': 'The Matrix', 'Status': 'Deceased', 'Real name': 'Dozer', 'Hacker name': 'None', 'Family': 'Tank\\nZee', 'Spouse': 'Cas', 'Entity': 'Pilot/health & wellness crewman on the Nebuchadnezzar', 'Gender': 'Male', 'Eye color': 'Brown', 'Hair color': 'Black', 'Allies': 'Morpheus\\nNeo\\nTrinity\\nApoc\\nSwitch\\nMouse', 'Enemies': 'Cypher'}\n",
            "{'url': 'https://matrix.fandom.com/wiki/Dozer', 'name': 'Dozer', 'Portrayed by': 'Anthony Ray Parker', 'Appearances': 'The Matrix', 'Status': 'Deceased', 'Real name': 'Dozer', 'Hacker name': 'None', 'Family': 'Tank\\nZee', 'Spouse': 'Cas', 'Entity': 'Pilot/health & wellness crewman on the Nebuchadnezzar', 'Gender': 'Male', 'Eye color': 'Brown', 'Hair color': 'Black', 'Allies': 'Morpheus\\nNeo\\nTrinity\\nApoc\\nSwitch\\nMouse', 'Enemies': 'Cypher'}\n",
            "{'url': 'https://matrix.fandom.com/wiki/Dozer', 'name': 'Dozer', 'Portrayed by': 'Anthony Ray Parker', 'Appearances': 'The Matrix', 'Status': 'Deceased', 'Real name': 'Dozer', 'Hacker name': 'None', 'Family': 'Tank\\nZee', 'Spouse': 'Cas', 'Entity': 'Pilot/health & wellness crewman on the Nebuchadnezzar', 'Gender': 'Male', 'Eye color': 'Brown', 'Hair color': 'Black', 'Allies': 'Morpheus\\nNeo\\nTrinity\\nApoc\\nSwitch\\nMouse', 'Enemies': 'Cypher'}\n",
            "{'url': 'https://matrix.fandom.com/wiki/Dozer', 'name': 'Dozer', 'Portrayed by': 'Anthony Ray Parker', 'Appearances': 'The Matrix', 'Status': 'Deceased', 'Real name': 'Dozer', 'Hacker name': 'None', 'Family': 'Tank\\nZee', 'Spouse': 'Cas', 'Entity': 'Pilot/health & wellness crewman on the Nebuchadnezzar', 'Gender': 'Male', 'Eye color': 'Brown', 'Hair color': 'Black', 'Allies': 'Morpheus\\nNeo\\nTrinity\\nApoc\\nSwitch\\nMouse', 'Enemies': 'Cypher'}\n",
            "{'url': 'https://matrix.fandom.com/wiki/Dozer', 'name': 'Dozer', 'Portrayed by': 'Anthony Ray Parker', 'Appearances': 'The Matrix', 'Status': 'Deceased', 'Real name': 'Dozer', 'Hacker name': 'None', 'Family': 'Tank\\nZee', 'Spouse': 'Cas', 'Entity': 'Pilot/health & wellness crewman on the Nebuchadnezzar', 'Gender': 'Male', 'Eye color': 'Brown', 'Hair color': 'Black', 'Allies': 'Morpheus\\nNeo\\nTrinity\\nApoc\\nSwitch\\nMouse', 'Enemies': 'Cypher'}\n",
            "{'url': 'https://matrix.fandom.com/wiki/Dozer', 'name': 'Dozer', 'Portrayed by': 'Anthony Ray Parker', 'Appearances': 'The Matrix', 'Status': 'Deceased', 'Real name': 'Dozer', 'Hacker name': 'None', 'Family': 'Tank\\nZee', 'Spouse': 'Cas', 'Entity': 'Pilot/health & wellness crewman on the Nebuchadnezzar', 'Gender': 'Male', 'Eye color': 'Brown', 'Hair color': 'Black', 'Allies': 'Morpheus\\nNeo\\nTrinity\\nApoc\\nSwitch\\nMouse', 'Enemies': 'Cypher'}\n",
            "{'url': 'https://matrix.fandom.com/wiki/Agent_Jones', 'name': 'Agent Jones', 'Appearances': 'The Matrix\\nThe Matrix: Path of Neo\\nThe Matrix Resurrections', 'Purpose': 'Keep the Resistance contained\\nProtect the Matrix', 'Height': '6\\'2\" (1.88 meters)', 'Hair color': 'Brown', 'Allies': 'Agent Brown\\nAgent Smith', 'Enemies': 'Morpheus\\nNeo\\nTrinity'}\n",
            "{'url': 'https://matrix.fandom.com/wiki/Agent_Jones', 'name': 'Agent Jones', 'Appearances': 'The Matrix\\nThe Matrix: Path of Neo\\nThe Matrix Resurrections', 'Purpose': 'Keep the Resistance contained\\nProtect the Matrix', 'Height': '6\\'2\" (1.88 meters)', 'Hair color': 'Brown', 'Allies': 'Agent Brown\\nAgent Smith', 'Enemies': 'Morpheus\\nNeo\\nTrinity'}\n",
            "{'url': 'https://matrix.fandom.com/wiki/Agent_Jones', 'name': 'Agent Jones', 'Appearances': 'The Matrix\\nThe Matrix: Path of Neo\\nThe Matrix Resurrections', 'Purpose': 'Keep the Resistance contained\\nProtect the Matrix', 'Height': '6\\'2\" (1.88 meters)', 'Hair color': 'Brown', 'Allies': 'Agent Brown\\nAgent Smith', 'Enemies': 'Morpheus\\nNeo\\nTrinity'}\n",
            "{'url': 'https://matrix.fandom.com/wiki/Agent_Jones', 'name': 'Agent Jones', 'Appearances': 'The Matrix\\nThe Matrix: Path of Neo\\nThe Matrix Resurrections', 'Purpose': 'Keep the Resistance contained\\nProtect the Matrix', 'Height': '6\\'2\" (1.88 meters)', 'Hair color': 'Brown', 'Allies': 'Agent Brown\\nAgent Smith', 'Enemies': 'Morpheus\\nNeo\\nTrinity'}\n",
            "{'url': 'https://matrix.fandom.com/wiki/Agent_Jones', 'name': 'Agent Jones', 'Appearances': 'The Matrix\\nThe Matrix: Path of Neo\\nThe Matrix Resurrections', 'Purpose': 'Keep the Resistance contained\\nProtect the Matrix', 'Height': '6\\'2\" (1.88 meters)', 'Hair color': 'Brown', 'Allies': 'Agent Brown\\nAgent Smith', 'Enemies': 'Morpheus\\nNeo\\nTrinity'}\n",
            "{'url': 'https://matrix.fandom.com/wiki/Agent_Jones', 'name': 'Agent Jones', 'Appearances': 'The Matrix\\nThe Matrix: Path of Neo\\nThe Matrix Resurrections', 'Purpose': 'Keep the Resistance contained\\nProtect the Matrix', 'Height': '6\\'2\" (1.88 meters)', 'Hair color': 'Brown', 'Allies': 'Agent Brown\\nAgent Smith', 'Enemies': 'Morpheus\\nNeo\\nTrinity'}\n",
            "{'url': 'https://matrix.fandom.com/wiki/Morpheus', 'name': 'Morpheus', 'Portrayed by': 'Laurence Fishburne', 'Appearances': \"The Matrix\\nThe Matrix Reloaded\\nEnter the Matrix\\nThe Matrix Revolutions\\nThe Matrix: Path of Neo\\nThe Miller's Tale\\nI Kant\\nA Life Less Empty\\nWho Says You Can't Get Good Help These Days?\\nThe Matrix Online\\nThe Matrix Resurrections (Archive footage only)\", 'Status': 'Deceased', 'Real name': 'Daniel (possibly)', 'Hacker name': 'Morpheus', 'Entity': 'Captain of the Nebuchadnezzar', 'Gender': 'Male', 'Height': '1.83m', 'Eye color': 'Brown', 'Hair color': 'None', 'Allies': 'Neo\\nTrinity\\nApoc\\nSwitch\\nMouse\\nTank\\nDozer\\nLink', 'Enemies': 'Cypher\\nAgent Brown\\nAgent Johnson\\nAgent Jones\\nAgent Smith'}\n",
            "{'url': 'https://matrix.fandom.com/wiki/Morpheus', 'name': 'Morpheus', 'Portrayed by': 'Laurence Fishburne', 'Appearances': \"The Matrix\\nThe Matrix Reloaded\\nEnter the Matrix\\nThe Matrix Revolutions\\nThe Matrix: Path of Neo\\nThe Miller's Tale\\nI Kant\\nA Life Less Empty\\nWho Says You Can't Get Good Help These Days?\\nThe Matrix Online\\nThe Matrix Resurrections (Archive footage only)\", 'Status': 'Deceased', 'Real name': 'Daniel (possibly)', 'Hacker name': 'Morpheus', 'Entity': 'Captain of the Nebuchadnezzar', 'Gender': 'Male', 'Height': '1.83m', 'Eye color': 'Brown', 'Hair color': 'None', 'Allies': 'Neo\\nTrinity\\nApoc\\nSwitch\\nMouse\\nTank\\nDozer\\nLink', 'Enemies': 'Cypher\\nAgent Brown\\nAgent Johnson\\nAgent Jones\\nAgent Smith'}\n",
            "{'url': 'https://matrix.fandom.com/wiki/Morpheus', 'name': 'Morpheus', 'Portrayed by': 'Laurence Fishburne', 'Appearances': \"The Matrix\\nThe Matrix Reloaded\\nEnter the Matrix\\nThe Matrix Revolutions\\nThe Matrix: Path of Neo\\nThe Miller's Tale\\nI Kant\\nA Life Less Empty\\nWho Says You Can't Get Good Help These Days?\\nThe Matrix Online\\nThe Matrix Resurrections (Archive footage only)\", 'Status': 'Deceased', 'Real name': 'Daniel (possibly)', 'Hacker name': 'Morpheus', 'Entity': 'Captain of the Nebuchadnezzar', 'Gender': 'Male', 'Height': '1.83m', 'Eye color': 'Brown', 'Hair color': 'None', 'Allies': 'Neo\\nTrinity\\nApoc\\nSwitch\\nMouse\\nTank\\nDozer\\nLink', 'Enemies': 'Cypher\\nAgent Brown\\nAgent Johnson\\nAgent Jones\\nAgent Smith'}\n",
            "{'url': 'https://matrix.fandom.com/wiki/Morpheus', 'name': 'Morpheus', 'Portrayed by': 'Laurence Fishburne', 'Appearances': \"The Matrix\\nThe Matrix Reloaded\\nEnter the Matrix\\nThe Matrix Revolutions\\nThe Matrix: Path of Neo\\nThe Miller's Tale\\nI Kant\\nA Life Less Empty\\nWho Says You Can't Get Good Help These Days?\\nThe Matrix Online\\nThe Matrix Resurrections (Archive footage only)\", 'Status': 'Deceased', 'Real name': 'Daniel (possibly)', 'Hacker name': 'Morpheus', 'Entity': 'Captain of the Nebuchadnezzar', 'Gender': 'Male', 'Height': '1.83m', 'Eye color': 'Brown', 'Hair color': 'None', 'Allies': 'Neo\\nTrinity\\nApoc\\nSwitch\\nMouse\\nTank\\nDozer\\nLink', 'Enemies': 'Cypher\\nAgent Brown\\nAgent Johnson\\nAgent Jones\\nAgent Smith'}\n",
            "{'url': 'https://matrix.fandom.com/wiki/Morpheus', 'name': 'Morpheus', 'Portrayed by': 'Laurence Fishburne', 'Appearances': \"The Matrix\\nThe Matrix Reloaded\\nEnter the Matrix\\nThe Matrix Revolutions\\nThe Matrix: Path of Neo\\nThe Miller's Tale\\nI Kant\\nA Life Less Empty\\nWho Says You Can't Get Good Help These Days?\\nThe Matrix Online\\nThe Matrix Resurrections (Archive footage only)\", 'Status': 'Deceased', 'Real name': 'Daniel (possibly)', 'Hacker name': 'Morpheus', 'Entity': 'Captain of the Nebuchadnezzar', 'Gender': 'Male', 'Height': '1.83m', 'Eye color': 'Brown', 'Hair color': 'None', 'Allies': 'Neo\\nTrinity\\nApoc\\nSwitch\\nMouse\\nTank\\nDozer\\nLink', 'Enemies': 'Cypher\\nAgent Brown\\nAgent Johnson\\nAgent Jones\\nAgent Smith'}\n",
            "{'url': 'https://matrix.fandom.com/wiki/Morpheus', 'name': 'Morpheus', 'Portrayed by': 'Laurence Fishburne', 'Appearances': \"The Matrix\\nThe Matrix Reloaded\\nEnter the Matrix\\nThe Matrix Revolutions\\nThe Matrix: Path of Neo\\nThe Miller's Tale\\nI Kant\\nA Life Less Empty\\nWho Says You Can't Get Good Help These Days?\\nThe Matrix Online\\nThe Matrix Resurrections (Archive footage only)\", 'Status': 'Deceased', 'Real name': 'Daniel (possibly)', 'Hacker name': 'Morpheus', 'Entity': 'Captain of the Nebuchadnezzar', 'Gender': 'Male', 'Height': '1.83m', 'Eye color': 'Brown', 'Hair color': 'None', 'Allies': 'Neo\\nTrinity\\nApoc\\nSwitch\\nMouse\\nTank\\nDozer\\nLink', 'Enemies': 'Cypher\\nAgent Brown\\nAgent Johnson\\nAgent Jones\\nAgent Smith'}\n",
            "{'url': 'https://matrix.fandom.com/wiki/Morpheus', 'name': 'Morpheus', 'Portrayed by': 'Laurence Fishburne', 'Appearances': \"The Matrix\\nThe Matrix Reloaded\\nEnter the Matrix\\nThe Matrix Revolutions\\nThe Matrix: Path of Neo\\nThe Miller's Tale\\nI Kant\\nA Life Less Empty\\nWho Says You Can't Get Good Help These Days?\\nThe Matrix Online\\nThe Matrix Resurrections (Archive footage only)\", 'Status': 'Deceased', 'Real name': 'Daniel (possibly)', 'Hacker name': 'Morpheus', 'Entity': 'Captain of the Nebuchadnezzar', 'Gender': 'Male', 'Height': '1.83m', 'Eye color': 'Brown', 'Hair color': 'None', 'Allies': 'Neo\\nTrinity\\nApoc\\nSwitch\\nMouse\\nTank\\nDozer\\nLink', 'Enemies': 'Cypher\\nAgent Brown\\nAgent Johnson\\nAgent Jones\\nAgent Smith'}\n",
            "{'url': 'https://matrix.fandom.com/wiki/Morpheus', 'name': 'Morpheus', 'Portrayed by': 'Laurence Fishburne', 'Appearances': \"The Matrix\\nThe Matrix Reloaded\\nEnter the Matrix\\nThe Matrix Revolutions\\nThe Matrix: Path of Neo\\nThe Miller's Tale\\nI Kant\\nA Life Less Empty\\nWho Says You Can't Get Good Help These Days?\\nThe Matrix Online\\nThe Matrix Resurrections (Archive footage only)\", 'Status': 'Deceased', 'Real name': 'Daniel (possibly)', 'Hacker name': 'Morpheus', 'Entity': 'Captain of the Nebuchadnezzar', 'Gender': 'Male', 'Height': '1.83m', 'Eye color': 'Brown', 'Hair color': 'None', 'Allies': 'Neo\\nTrinity\\nApoc\\nSwitch\\nMouse\\nTank\\nDozer\\nLink', 'Enemies': 'Cypher\\nAgent Brown\\nAgent Johnson\\nAgent Jones\\nAgent Smith'}\n",
            "{'url': 'https://matrix.fandom.com/wiki/Morpheus', 'name': 'Morpheus', 'Portrayed by': 'Laurence Fishburne', 'Appearances': \"The Matrix\\nThe Matrix Reloaded\\nEnter the Matrix\\nThe Matrix Revolutions\\nThe Matrix: Path of Neo\\nThe Miller's Tale\\nI Kant\\nA Life Less Empty\\nWho Says You Can't Get Good Help These Days?\\nThe Matrix Online\\nThe Matrix Resurrections (Archive footage only)\", 'Status': 'Deceased', 'Real name': 'Daniel (possibly)', 'Hacker name': 'Morpheus', 'Entity': 'Captain of the Nebuchadnezzar', 'Gender': 'Male', 'Height': '1.83m', 'Eye color': 'Brown', 'Hair color': 'None', 'Allies': 'Neo\\nTrinity\\nApoc\\nSwitch\\nMouse\\nTank\\nDozer\\nLink', 'Enemies': 'Cypher\\nAgent Brown\\nAgent Johnson\\nAgent Jones\\nAgent Smith'}\n",
            "{'url': 'https://matrix.fandom.com/wiki/Morpheus', 'name': 'Morpheus', 'Portrayed by': 'Laurence Fishburne', 'Appearances': \"The Matrix\\nThe Matrix Reloaded\\nEnter the Matrix\\nThe Matrix Revolutions\\nThe Matrix: Path of Neo\\nThe Miller's Tale\\nI Kant\\nA Life Less Empty\\nWho Says You Can't Get Good Help These Days?\\nThe Matrix Online\\nThe Matrix Resurrections (Archive footage only)\", 'Status': 'Deceased', 'Real name': 'Daniel (possibly)', 'Hacker name': 'Morpheus', 'Entity': 'Captain of the Nebuchadnezzar', 'Gender': 'Male', 'Height': '1.83m', 'Eye color': 'Brown', 'Hair color': 'None', 'Allies': 'Neo\\nTrinity\\nApoc\\nSwitch\\nMouse\\nTank\\nDozer\\nLink', 'Enemies': 'Cypher\\nAgent Brown\\nAgent Johnson\\nAgent Jones\\nAgent Smith'}\n",
            "{'url': 'https://matrix.fandom.com/wiki/Morpheus', 'name': 'Morpheus', 'Portrayed by': 'Laurence Fishburne', 'Appearances': \"The Matrix\\nThe Matrix Reloaded\\nEnter the Matrix\\nThe Matrix Revolutions\\nThe Matrix: Path of Neo\\nThe Miller's Tale\\nI Kant\\nA Life Less Empty\\nWho Says You Can't Get Good Help These Days?\\nThe Matrix Online\\nThe Matrix Resurrections (Archive footage only)\", 'Status': 'Deceased', 'Real name': 'Daniel (possibly)', 'Hacker name': 'Morpheus', 'Entity': 'Captain of the Nebuchadnezzar', 'Gender': 'Male', 'Height': '1.83m', 'Eye color': 'Brown', 'Hair color': 'None', 'Allies': 'Neo\\nTrinity\\nApoc\\nSwitch\\nMouse\\nTank\\nDozer\\nLink', 'Enemies': 'Cypher\\nAgent Brown\\nAgent Johnson\\nAgent Jones\\nAgent Smith'}\n",
            "{'url': 'https://matrix.fandom.com/wiki/Morpheus', 'name': 'Morpheus', 'Portrayed by': 'Laurence Fishburne', 'Appearances': \"The Matrix\\nThe Matrix Reloaded\\nEnter the Matrix\\nThe Matrix Revolutions\\nThe Matrix: Path of Neo\\nThe Miller's Tale\\nI Kant\\nA Life Less Empty\\nWho Says You Can't Get Good Help These Days?\\nThe Matrix Online\\nThe Matrix Resurrections (Archive footage only)\", 'Status': 'Deceased', 'Real name': 'Daniel (possibly)', 'Hacker name': 'Morpheus', 'Entity': 'Captain of the Nebuchadnezzar', 'Gender': 'Male', 'Height': '1.83m', 'Eye color': 'Brown', 'Hair color': 'None', 'Allies': 'Neo\\nTrinity\\nApoc\\nSwitch\\nMouse\\nTank\\nDozer\\nLink', 'Enemies': 'Cypher\\nAgent Brown\\nAgent Johnson\\nAgent Jones\\nAgent Smith'}\n",
            "{'url': 'https://matrix.fandom.com/wiki/Mouse', 'name': 'Mouse', 'Portrayed by': 'Matt Doran', 'Appearances': 'The Matrix\\nThe Matrix: Path of Neo', 'Status': 'Deceased', 'Hacker name': 'Mouse', 'Entity': 'programmer and operative', 'Gender': 'Male', 'Height': '171 cm', 'Eye color': 'Blue', 'Hair color': 'Brown', 'Allies': 'Morpheus\\nNeo\\nTrinity\\nCypher\\nApoc\\nSwitch\\nDozer\\nTank'}\n",
            "{'url': 'https://matrix.fandom.com/wiki/Mouse', 'name': 'Mouse', 'Portrayed by': 'Matt Doran', 'Appearances': 'The Matrix\\nThe Matrix: Path of Neo', 'Status': 'Deceased', 'Hacker name': 'Mouse', 'Entity': 'programmer and operative', 'Gender': 'Male', 'Height': '171 cm', 'Eye color': 'Blue', 'Hair color': 'Brown', 'Allies': 'Morpheus\\nNeo\\nTrinity\\nCypher\\nApoc\\nSwitch\\nDozer\\nTank'}\n",
            "{'url': 'https://matrix.fandom.com/wiki/Mouse', 'name': 'Mouse', 'Portrayed by': 'Matt Doran', 'Appearances': 'The Matrix\\nThe Matrix: Path of Neo', 'Status': 'Deceased', 'Hacker name': 'Mouse', 'Entity': 'programmer and operative', 'Gender': 'Male', 'Height': '171 cm', 'Eye color': 'Blue', 'Hair color': 'Brown', 'Allies': 'Morpheus\\nNeo\\nTrinity\\nCypher\\nApoc\\nSwitch\\nDozer\\nTank'}\n",
            "{'url': 'https://matrix.fandom.com/wiki/Mouse', 'name': 'Mouse', 'Portrayed by': 'Matt Doran', 'Appearances': 'The Matrix\\nThe Matrix: Path of Neo', 'Status': 'Deceased', 'Hacker name': 'Mouse', 'Entity': 'programmer and operative', 'Gender': 'Male', 'Height': '171 cm', 'Eye color': 'Blue', 'Hair color': 'Brown', 'Allies': 'Morpheus\\nNeo\\nTrinity\\nCypher\\nApoc\\nSwitch\\nDozer\\nTank'}\n",
            "{'url': 'https://matrix.fandom.com/wiki/Mouse', 'name': 'Mouse', 'Portrayed by': 'Matt Doran', 'Appearances': 'The Matrix\\nThe Matrix: Path of Neo', 'Status': 'Deceased', 'Hacker name': 'Mouse', 'Entity': 'programmer and operative', 'Gender': 'Male', 'Height': '171 cm', 'Eye color': 'Blue', 'Hair color': 'Brown', 'Allies': 'Morpheus\\nNeo\\nTrinity\\nCypher\\nApoc\\nSwitch\\nDozer\\nTank'}\n",
            "{'url': 'https://matrix.fandom.com/wiki/Mouse', 'name': 'Mouse', 'Portrayed by': 'Matt Doran', 'Appearances': 'The Matrix\\nThe Matrix: Path of Neo', 'Status': 'Deceased', 'Hacker name': 'Mouse', 'Entity': 'programmer and operative', 'Gender': 'Male', 'Height': '171 cm', 'Eye color': 'Blue', 'Hair color': 'Brown', 'Allies': 'Morpheus\\nNeo\\nTrinity\\nCypher\\nApoc\\nSwitch\\nDozer\\nTank'}\n",
            "{'url': 'https://matrix.fandom.com/wiki/Mouse', 'name': 'Mouse', 'Portrayed by': 'Matt Doran', 'Appearances': 'The Matrix\\nThe Matrix: Path of Neo', 'Status': 'Deceased', 'Hacker name': 'Mouse', 'Entity': 'programmer and operative', 'Gender': 'Male', 'Height': '171 cm', 'Eye color': 'Blue', 'Hair color': 'Brown', 'Allies': 'Morpheus\\nNeo\\nTrinity\\nCypher\\nApoc\\nSwitch\\nDozer\\nTank'}\n",
            "{'url': 'https://matrix.fandom.com/wiki/Mouse', 'name': 'Mouse', 'Portrayed by': 'Matt Doran', 'Appearances': 'The Matrix\\nThe Matrix: Path of Neo', 'Status': 'Deceased', 'Hacker name': 'Mouse', 'Entity': 'programmer and operative', 'Gender': 'Male', 'Height': '171 cm', 'Eye color': 'Blue', 'Hair color': 'Brown', 'Allies': 'Morpheus\\nNeo\\nTrinity\\nCypher\\nApoc\\nSwitch\\nDozer\\nTank'}\n",
            "{'url': 'https://matrix.fandom.com/wiki/Mouse', 'name': 'Mouse', 'Portrayed by': 'Matt Doran', 'Appearances': 'The Matrix\\nThe Matrix: Path of Neo', 'Status': 'Deceased', 'Hacker name': 'Mouse', 'Entity': 'programmer and operative', 'Gender': 'Male', 'Height': '171 cm', 'Eye color': 'Blue', 'Hair color': 'Brown', 'Allies': 'Morpheus\\nNeo\\nTrinity\\nCypher\\nApoc\\nSwitch\\nDozer\\nTank'}\n",
            "{'url': 'https://matrix.fandom.com/wiki/Mouse', 'name': 'Mouse', 'Portrayed by': 'Matt Doran', 'Appearances': 'The Matrix\\nThe Matrix: Path of Neo', 'Status': 'Deceased', 'Hacker name': 'Mouse', 'Entity': 'programmer and operative', 'Gender': 'Male', 'Height': '171 cm', 'Eye color': 'Blue', 'Hair color': 'Brown', 'Allies': 'Morpheus\\nNeo\\nTrinity\\nCypher\\nApoc\\nSwitch\\nDozer\\nTank'}\n",
            "{'url': 'https://matrix.fandom.com/wiki/Neo', 'name': 'Neo', 'Portrayed by': 'Keanu Reeves', 'First appearance': 'The Matrix', 'Last appearance': 'The Matrix Resurrections', 'Appearances': \"The Matrix\\nKid's Story\\nThe Matrix Reloaded\\nEnter the Matrix\\nThe Matrix Revolutions\\nThe Matrix Online\\nThe Matrix: Path of Neo\\nThe Matrix Resurrections\", 'Status': 'Alive (resurrected)', 'Real name': 'Thomas A. Anderson', 'Nick name': 'Tom', 'Hacker name': 'Neo', 'Age': '37 (Original trilogy)', 'Birth date': 'March 11, 1962', 'Birth place': 'Lower Downtown, Capital City, United States', 'Death place': '01 - Later resurrected', 'Cause of death': 'Sacrifice', 'Residence': 'Formerly:\\nZion', 'Mother': 'Michelle McGahey', 'Father': 'John Anderson', 'Romances': 'Trinity', 'Workplace': 'MetaCortex - Formerly', 'Profession': 'Computer programer\\nHacker\\nGame developer', 'Nationality': 'American', 'Entity': 'The One', 'Species': 'Human', 'Race': 'Caucasian', 'Gender': 'Male', 'Height': '1.86 meters (6\\'1\")', 'Eye color': 'Brown', 'Hair color': 'Dark brown', 'Language': 'English', 'Fighting style': 'Kung fu', 'Powers': 'Flight\\nStoping,exploding and redirecting bullets or missiles', 'Weapons': 'Various', 'Allies': 'Apoc\\nBugs\\nBerg\\nCybebe\\nDozer\\nEllster\\nLexy\\nLink\\nLumin8\\nMorpheus\\nMorpheus (program)\\nMouse\\nNiobe\\nOctacles\\nThe Oracle\\nSati\\nSequoia\\nSeraph\\nSwitch\\nTank\\nTrinity\\nTemporarily:\\nSmith', 'Enemies': 'The Analyst\\nCypher\\nAgent Brown\\nAgent Jackson\\nAgent Johnson\\nAgent Jones\\nAgent Thompson\\nAgent White\\nThe Merovingian\\nSmith'}\n",
            "{'url': 'https://matrix.fandom.com/wiki/Neo', 'name': 'Neo', 'Portrayed by': 'Keanu Reeves', 'First appearance': 'The Matrix', 'Last appearance': 'The Matrix Resurrections', 'Appearances': \"The Matrix\\nKid's Story\\nThe Matrix Reloaded\\nEnter the Matrix\\nThe Matrix Revolutions\\nThe Matrix Online\\nThe Matrix: Path of Neo\\nThe Matrix Resurrections\", 'Status': 'Alive (resurrected)', 'Real name': 'Thomas A. Anderson', 'Nick name': 'Tom', 'Hacker name': 'Neo', 'Age': '37 (Original trilogy)', 'Birth date': 'March 11, 1962', 'Birth place': 'Lower Downtown, Capital City, United States', 'Death place': '01 - Later resurrected', 'Cause of death': 'Sacrifice', 'Residence': 'Formerly:\\nZion', 'Mother': 'Michelle McGahey', 'Father': 'John Anderson', 'Romances': 'Trinity', 'Workplace': 'MetaCortex - Formerly', 'Profession': 'Computer programer\\nHacker\\nGame developer', 'Nationality': 'American', 'Entity': 'The One', 'Species': 'Human', 'Race': 'Caucasian', 'Gender': 'Male', 'Height': '1.86 meters (6\\'1\")', 'Eye color': 'Brown', 'Hair color': 'Dark brown', 'Language': 'English', 'Fighting style': 'Kung fu', 'Powers': 'Flight\\nStoping,exploding and redirecting bullets or missiles', 'Weapons': 'Various', 'Allies': 'Apoc\\nBugs\\nBerg\\nCybebe\\nDozer\\nEllster\\nLexy\\nLink\\nLumin8\\nMorpheus\\nMorpheus (program)\\nMouse\\nNiobe\\nOctacles\\nThe Oracle\\nSati\\nSequoia\\nSeraph\\nSwitch\\nTank\\nTrinity\\nTemporarily:\\nSmith', 'Enemies': 'The Analyst\\nCypher\\nAgent Brown\\nAgent Jackson\\nAgent Johnson\\nAgent Jones\\nAgent Thompson\\nAgent White\\nThe Merovingian\\nSmith'}\n",
            "{'url': 'https://matrix.fandom.com/wiki/Neo', 'name': 'Neo', 'Portrayed by': 'Keanu Reeves', 'First appearance': 'The Matrix', 'Last appearance': 'The Matrix Resurrections', 'Appearances': \"The Matrix\\nKid's Story\\nThe Matrix Reloaded\\nEnter the Matrix\\nThe Matrix Revolutions\\nThe Matrix Online\\nThe Matrix: Path of Neo\\nThe Matrix Resurrections\", 'Status': 'Alive (resurrected)', 'Real name': 'Thomas A. Anderson', 'Nick name': 'Tom', 'Hacker name': 'Neo', 'Age': '37 (Original trilogy)', 'Birth date': 'March 11, 1962', 'Birth place': 'Lower Downtown, Capital City, United States', 'Death place': '01 - Later resurrected', 'Cause of death': 'Sacrifice', 'Residence': 'Formerly:\\nZion', 'Mother': 'Michelle McGahey', 'Father': 'John Anderson', 'Romances': 'Trinity', 'Workplace': 'MetaCortex - Formerly', 'Profession': 'Computer programer\\nHacker\\nGame developer', 'Nationality': 'American', 'Entity': 'The One', 'Species': 'Human', 'Race': 'Caucasian', 'Gender': 'Male', 'Height': '1.86 meters (6\\'1\")', 'Eye color': 'Brown', 'Hair color': 'Dark brown', 'Language': 'English', 'Fighting style': 'Kung fu', 'Powers': 'Flight\\nStoping,exploding and redirecting bullets or missiles', 'Weapons': 'Various', 'Allies': 'Apoc\\nBugs\\nBerg\\nCybebe\\nDozer\\nEllster\\nLexy\\nLink\\nLumin8\\nMorpheus\\nMorpheus (program)\\nMouse\\nNiobe\\nOctacles\\nThe Oracle\\nSati\\nSequoia\\nSeraph\\nSwitch\\nTank\\nTrinity\\nTemporarily:\\nSmith', 'Enemies': 'The Analyst\\nCypher\\nAgent Brown\\nAgent Jackson\\nAgent Johnson\\nAgent Jones\\nAgent Thompson\\nAgent White\\nThe Merovingian\\nSmith'}\n",
            "{'url': 'https://matrix.fandom.com/wiki/Neo', 'name': 'Neo', 'Portrayed by': 'Keanu Reeves', 'First appearance': 'The Matrix', 'Last appearance': 'The Matrix Resurrections', 'Appearances': \"The Matrix\\nKid's Story\\nThe Matrix Reloaded\\nEnter the Matrix\\nThe Matrix Revolutions\\nThe Matrix Online\\nThe Matrix: Path of Neo\\nThe Matrix Resurrections\", 'Status': 'Alive (resurrected)', 'Real name': 'Thomas A. Anderson', 'Nick name': 'Tom', 'Hacker name': 'Neo', 'Age': '37 (Original trilogy)', 'Birth date': 'March 11, 1962', 'Birth place': 'Lower Downtown, Capital City, United States', 'Death place': '01 - Later resurrected', 'Cause of death': 'Sacrifice', 'Residence': 'Formerly:\\nZion', 'Mother': 'Michelle McGahey', 'Father': 'John Anderson', 'Romances': 'Trinity', 'Workplace': 'MetaCortex - Formerly', 'Profession': 'Computer programer\\nHacker\\nGame developer', 'Nationality': 'American', 'Entity': 'The One', 'Species': 'Human', 'Race': 'Caucasian', 'Gender': 'Male', 'Height': '1.86 meters (6\\'1\")', 'Eye color': 'Brown', 'Hair color': 'Dark brown', 'Language': 'English', 'Fighting style': 'Kung fu', 'Powers': 'Flight\\nStoping,exploding and redirecting bullets or missiles', 'Weapons': 'Various', 'Allies': 'Apoc\\nBugs\\nBerg\\nCybebe\\nDozer\\nEllster\\nLexy\\nLink\\nLumin8\\nMorpheus\\nMorpheus (program)\\nMouse\\nNiobe\\nOctacles\\nThe Oracle\\nSati\\nSequoia\\nSeraph\\nSwitch\\nTank\\nTrinity\\nTemporarily:\\nSmith', 'Enemies': 'The Analyst\\nCypher\\nAgent Brown\\nAgent Jackson\\nAgent Johnson\\nAgent Jones\\nAgent Thompson\\nAgent White\\nThe Merovingian\\nSmith'}\n",
            "{'url': 'https://matrix.fandom.com/wiki/Neo', 'name': 'Neo', 'Portrayed by': 'Keanu Reeves', 'First appearance': 'The Matrix', 'Last appearance': 'The Matrix Resurrections', 'Appearances': \"The Matrix\\nKid's Story\\nThe Matrix Reloaded\\nEnter the Matrix\\nThe Matrix Revolutions\\nThe Matrix Online\\nThe Matrix: Path of Neo\\nThe Matrix Resurrections\", 'Status': 'Alive (resurrected)', 'Real name': 'Thomas A. Anderson', 'Nick name': 'Tom', 'Hacker name': 'Neo', 'Age': '37 (Original trilogy)', 'Birth date': 'March 11, 1962', 'Birth place': 'Lower Downtown, Capital City, United States', 'Death place': '01 - Later resurrected', 'Cause of death': 'Sacrifice', 'Residence': 'Formerly:\\nZion', 'Mother': 'Michelle McGahey', 'Father': 'John Anderson', 'Romances': 'Trinity', 'Workplace': 'MetaCortex - Formerly', 'Profession': 'Computer programer\\nHacker\\nGame developer', 'Nationality': 'American', 'Entity': 'The One', 'Species': 'Human', 'Race': 'Caucasian', 'Gender': 'Male', 'Height': '1.86 meters (6\\'1\")', 'Eye color': 'Brown', 'Hair color': 'Dark brown', 'Language': 'English', 'Fighting style': 'Kung fu', 'Powers': 'Flight\\nStoping,exploding and redirecting bullets or missiles', 'Weapons': 'Various', 'Allies': 'Apoc\\nBugs\\nBerg\\nCybebe\\nDozer\\nEllster\\nLexy\\nLink\\nLumin8\\nMorpheus\\nMorpheus (program)\\nMouse\\nNiobe\\nOctacles\\nThe Oracle\\nSati\\nSequoia\\nSeraph\\nSwitch\\nTank\\nTrinity\\nTemporarily:\\nSmith', 'Enemies': 'The Analyst\\nCypher\\nAgent Brown\\nAgent Jackson\\nAgent Johnson\\nAgent Jones\\nAgent Thompson\\nAgent White\\nThe Merovingian\\nSmith'}\n",
            "{'url': 'https://matrix.fandom.com/wiki/Neo', 'name': 'Neo', 'Portrayed by': 'Keanu Reeves', 'First appearance': 'The Matrix', 'Last appearance': 'The Matrix Resurrections', 'Appearances': \"The Matrix\\nKid's Story\\nThe Matrix Reloaded\\nEnter the Matrix\\nThe Matrix Revolutions\\nThe Matrix Online\\nThe Matrix: Path of Neo\\nThe Matrix Resurrections\", 'Status': 'Alive (resurrected)', 'Real name': 'Thomas A. Anderson', 'Nick name': 'Tom', 'Hacker name': 'Neo', 'Age': '37 (Original trilogy)', 'Birth date': 'March 11, 1962', 'Birth place': 'Lower Downtown, Capital City, United States', 'Death place': '01 - Later resurrected', 'Cause of death': 'Sacrifice', 'Residence': 'Formerly:\\nZion', 'Mother': 'Michelle McGahey', 'Father': 'John Anderson', 'Romances': 'Trinity', 'Workplace': 'MetaCortex - Formerly', 'Profession': 'Computer programer\\nHacker\\nGame developer', 'Nationality': 'American', 'Entity': 'The One', 'Species': 'Human', 'Race': 'Caucasian', 'Gender': 'Male', 'Height': '1.86 meters (6\\'1\")', 'Eye color': 'Brown', 'Hair color': 'Dark brown', 'Language': 'English', 'Fighting style': 'Kung fu', 'Powers': 'Flight\\nStoping,exploding and redirecting bullets or missiles', 'Weapons': 'Various', 'Allies': 'Apoc\\nBugs\\nBerg\\nCybebe\\nDozer\\nEllster\\nLexy\\nLink\\nLumin8\\nMorpheus\\nMorpheus (program)\\nMouse\\nNiobe\\nOctacles\\nThe Oracle\\nSati\\nSequoia\\nSeraph\\nSwitch\\nTank\\nTrinity\\nTemporarily:\\nSmith', 'Enemies': 'The Analyst\\nCypher\\nAgent Brown\\nAgent Jackson\\nAgent Johnson\\nAgent Jones\\nAgent Thompson\\nAgent White\\nThe Merovingian\\nSmith'}\n",
            "{'url': 'https://matrix.fandom.com/wiki/Neo', 'name': 'Neo', 'Portrayed by': 'Keanu Reeves', 'First appearance': 'The Matrix', 'Last appearance': 'The Matrix Resurrections', 'Appearances': \"The Matrix\\nKid's Story\\nThe Matrix Reloaded\\nEnter the Matrix\\nThe Matrix Revolutions\\nThe Matrix Online\\nThe Matrix: Path of Neo\\nThe Matrix Resurrections\", 'Status': 'Alive (resurrected)', 'Real name': 'Thomas A. Anderson', 'Nick name': 'Tom', 'Hacker name': 'Neo', 'Age': '37 (Original trilogy)', 'Birth date': 'March 11, 1962', 'Birth place': 'Lower Downtown, Capital City, United States', 'Death place': '01 - Later resurrected', 'Cause of death': 'Sacrifice', 'Residence': 'Formerly:\\nZion', 'Mother': 'Michelle McGahey', 'Father': 'John Anderson', 'Romances': 'Trinity', 'Workplace': 'MetaCortex - Formerly', 'Profession': 'Computer programer\\nHacker\\nGame developer', 'Nationality': 'American', 'Entity': 'The One', 'Species': 'Human', 'Race': 'Caucasian', 'Gender': 'Male', 'Height': '1.86 meters (6\\'1\")', 'Eye color': 'Brown', 'Hair color': 'Dark brown', 'Language': 'English', 'Fighting style': 'Kung fu', 'Powers': 'Flight\\nStoping,exploding and redirecting bullets or missiles', 'Weapons': 'Various', 'Allies': 'Apoc\\nBugs\\nBerg\\nCybebe\\nDozer\\nEllster\\nLexy\\nLink\\nLumin8\\nMorpheus\\nMorpheus (program)\\nMouse\\nNiobe\\nOctacles\\nThe Oracle\\nSati\\nSequoia\\nSeraph\\nSwitch\\nTank\\nTrinity\\nTemporarily:\\nSmith', 'Enemies': 'The Analyst\\nCypher\\nAgent Brown\\nAgent Jackson\\nAgent Johnson\\nAgent Jones\\nAgent Thompson\\nAgent White\\nThe Merovingian\\nSmith'}\n",
            "{'url': 'https://matrix.fandom.com/wiki/Neo', 'name': 'Neo', 'Portrayed by': 'Keanu Reeves', 'First appearance': 'The Matrix', 'Last appearance': 'The Matrix Resurrections', 'Appearances': \"The Matrix\\nKid's Story\\nThe Matrix Reloaded\\nEnter the Matrix\\nThe Matrix Revolutions\\nThe Matrix Online\\nThe Matrix: Path of Neo\\nThe Matrix Resurrections\", 'Status': 'Alive (resurrected)', 'Real name': 'Thomas A. Anderson', 'Nick name': 'Tom', 'Hacker name': 'Neo', 'Age': '37 (Original trilogy)', 'Birth date': 'March 11, 1962', 'Birth place': 'Lower Downtown, Capital City, United States', 'Death place': '01 - Later resurrected', 'Cause of death': 'Sacrifice', 'Residence': 'Formerly:\\nZion', 'Mother': 'Michelle McGahey', 'Father': 'John Anderson', 'Romances': 'Trinity', 'Workplace': 'MetaCortex - Formerly', 'Profession': 'Computer programer\\nHacker\\nGame developer', 'Nationality': 'American', 'Entity': 'The One', 'Species': 'Human', 'Race': 'Caucasian', 'Gender': 'Male', 'Height': '1.86 meters (6\\'1\")', 'Eye color': 'Brown', 'Hair color': 'Dark brown', 'Language': 'English', 'Fighting style': 'Kung fu', 'Powers': 'Flight\\nStoping,exploding and redirecting bullets or missiles', 'Weapons': 'Various', 'Allies': 'Apoc\\nBugs\\nBerg\\nCybebe\\nDozer\\nEllster\\nLexy\\nLink\\nLumin8\\nMorpheus\\nMorpheus (program)\\nMouse\\nNiobe\\nOctacles\\nThe Oracle\\nSati\\nSequoia\\nSeraph\\nSwitch\\nTank\\nTrinity\\nTemporarily:\\nSmith', 'Enemies': 'The Analyst\\nCypher\\nAgent Brown\\nAgent Jackson\\nAgent Johnson\\nAgent Jones\\nAgent Thompson\\nAgent White\\nThe Merovingian\\nSmith'}\n",
            "{'url': 'https://matrix.fandom.com/wiki/Neo', 'name': 'Neo', 'Portrayed by': 'Keanu Reeves', 'First appearance': 'The Matrix', 'Last appearance': 'The Matrix Resurrections', 'Appearances': \"The Matrix\\nKid's Story\\nThe Matrix Reloaded\\nEnter the Matrix\\nThe Matrix Revolutions\\nThe Matrix Online\\nThe Matrix: Path of Neo\\nThe Matrix Resurrections\", 'Status': 'Alive (resurrected)', 'Real name': 'Thomas A. Anderson', 'Nick name': 'Tom', 'Hacker name': 'Neo', 'Age': '37 (Original trilogy)', 'Birth date': 'March 11, 1962', 'Birth place': 'Lower Downtown, Capital City, United States', 'Death place': '01 - Later resurrected', 'Cause of death': 'Sacrifice', 'Residence': 'Formerly:\\nZion', 'Mother': 'Michelle McGahey', 'Father': 'John Anderson', 'Romances': 'Trinity', 'Workplace': 'MetaCortex - Formerly', 'Profession': 'Computer programer\\nHacker\\nGame developer', 'Nationality': 'American', 'Entity': 'The One', 'Species': 'Human', 'Race': 'Caucasian', 'Gender': 'Male', 'Height': '1.86 meters (6\\'1\")', 'Eye color': 'Brown', 'Hair color': 'Dark brown', 'Language': 'English', 'Fighting style': 'Kung fu', 'Powers': 'Flight\\nStoping,exploding and redirecting bullets or missiles', 'Weapons': 'Various', 'Allies': 'Apoc\\nBugs\\nBerg\\nCybebe\\nDozer\\nEllster\\nLexy\\nLink\\nLumin8\\nMorpheus\\nMorpheus (program)\\nMouse\\nNiobe\\nOctacles\\nThe Oracle\\nSati\\nSequoia\\nSeraph\\nSwitch\\nTank\\nTrinity\\nTemporarily:\\nSmith', 'Enemies': 'The Analyst\\nCypher\\nAgent Brown\\nAgent Jackson\\nAgent Johnson\\nAgent Jones\\nAgent Thompson\\nAgent White\\nThe Merovingian\\nSmith'}\n",
            "{'url': 'https://matrix.fandom.com/wiki/Neo', 'name': 'Neo', 'Portrayed by': 'Keanu Reeves', 'First appearance': 'The Matrix', 'Last appearance': 'The Matrix Resurrections', 'Appearances': \"The Matrix\\nKid's Story\\nThe Matrix Reloaded\\nEnter the Matrix\\nThe Matrix Revolutions\\nThe Matrix Online\\nThe Matrix: Path of Neo\\nThe Matrix Resurrections\", 'Status': 'Alive (resurrected)', 'Real name': 'Thomas A. Anderson', 'Nick name': 'Tom', 'Hacker name': 'Neo', 'Age': '37 (Original trilogy)', 'Birth date': 'March 11, 1962', 'Birth place': 'Lower Downtown, Capital City, United States', 'Death place': '01 - Later resurrected', 'Cause of death': 'Sacrifice', 'Residence': 'Formerly:\\nZion', 'Mother': 'Michelle McGahey', 'Father': 'John Anderson', 'Romances': 'Trinity', 'Workplace': 'MetaCortex - Formerly', 'Profession': 'Computer programer\\nHacker\\nGame developer', 'Nationality': 'American', 'Entity': 'The One', 'Species': 'Human', 'Race': 'Caucasian', 'Gender': 'Male', 'Height': '1.86 meters (6\\'1\")', 'Eye color': 'Brown', 'Hair color': 'Dark brown', 'Language': 'English', 'Fighting style': 'Kung fu', 'Powers': 'Flight\\nStoping,exploding and redirecting bullets or missiles', 'Weapons': 'Various', 'Allies': 'Apoc\\nBugs\\nBerg\\nCybebe\\nDozer\\nEllster\\nLexy\\nLink\\nLumin8\\nMorpheus\\nMorpheus (program)\\nMouse\\nNiobe\\nOctacles\\nThe Oracle\\nSati\\nSequoia\\nSeraph\\nSwitch\\nTank\\nTrinity\\nTemporarily:\\nSmith', 'Enemies': 'The Analyst\\nCypher\\nAgent Brown\\nAgent Jackson\\nAgent Johnson\\nAgent Jones\\nAgent Thompson\\nAgent White\\nThe Merovingian\\nSmith'}\n",
            "{'url': 'https://matrix.fandom.com/wiki/Neo', 'name': 'Neo', 'Portrayed by': 'Keanu Reeves', 'First appearance': 'The Matrix', 'Last appearance': 'The Matrix Resurrections', 'Appearances': \"The Matrix\\nKid's Story\\nThe Matrix Reloaded\\nEnter the Matrix\\nThe Matrix Revolutions\\nThe Matrix Online\\nThe Matrix: Path of Neo\\nThe Matrix Resurrections\", 'Status': 'Alive (resurrected)', 'Real name': 'Thomas A. Anderson', 'Nick name': 'Tom', 'Hacker name': 'Neo', 'Age': '37 (Original trilogy)', 'Birth date': 'March 11, 1962', 'Birth place': 'Lower Downtown, Capital City, United States', 'Death place': '01 - Later resurrected', 'Cause of death': 'Sacrifice', 'Residence': 'Formerly:\\nZion', 'Mother': 'Michelle McGahey', 'Father': 'John Anderson', 'Romances': 'Trinity', 'Workplace': 'MetaCortex - Formerly', 'Profession': 'Computer programer\\nHacker\\nGame developer', 'Nationality': 'American', 'Entity': 'The One', 'Species': 'Human', 'Race': 'Caucasian', 'Gender': 'Male', 'Height': '1.86 meters (6\\'1\")', 'Eye color': 'Brown', 'Hair color': 'Dark brown', 'Language': 'English', 'Fighting style': 'Kung fu', 'Powers': 'Flight\\nStoping,exploding and redirecting bullets or missiles', 'Weapons': 'Various', 'Allies': 'Apoc\\nBugs\\nBerg\\nCybebe\\nDozer\\nEllster\\nLexy\\nLink\\nLumin8\\nMorpheus\\nMorpheus (program)\\nMouse\\nNiobe\\nOctacles\\nThe Oracle\\nSati\\nSequoia\\nSeraph\\nSwitch\\nTank\\nTrinity\\nTemporarily:\\nSmith', 'Enemies': 'The Analyst\\nCypher\\nAgent Brown\\nAgent Jackson\\nAgent Johnson\\nAgent Jones\\nAgent Thompson\\nAgent White\\nThe Merovingian\\nSmith'}\n",
            "{'url': 'https://matrix.fandom.com/wiki/Neo', 'name': 'Neo', 'Portrayed by': 'Keanu Reeves', 'First appearance': 'The Matrix', 'Last appearance': 'The Matrix Resurrections', 'Appearances': \"The Matrix\\nKid's Story\\nThe Matrix Reloaded\\nEnter the Matrix\\nThe Matrix Revolutions\\nThe Matrix Online\\nThe Matrix: Path of Neo\\nThe Matrix Resurrections\", 'Status': 'Alive (resurrected)', 'Real name': 'Thomas A. Anderson', 'Nick name': 'Tom', 'Hacker name': 'Neo', 'Age': '37 (Original trilogy)', 'Birth date': 'March 11, 1962', 'Birth place': 'Lower Downtown, Capital City, United States', 'Death place': '01 - Later resurrected', 'Cause of death': 'Sacrifice', 'Residence': 'Formerly:\\nZion', 'Mother': 'Michelle McGahey', 'Father': 'John Anderson', 'Romances': 'Trinity', 'Workplace': 'MetaCortex - Formerly', 'Profession': 'Computer programer\\nHacker\\nGame developer', 'Nationality': 'American', 'Entity': 'The One', 'Species': 'Human', 'Race': 'Caucasian', 'Gender': 'Male', 'Height': '1.86 meters (6\\'1\")', 'Eye color': 'Brown', 'Hair color': 'Dark brown', 'Language': 'English', 'Fighting style': 'Kung fu', 'Powers': 'Flight\\nStoping,exploding and redirecting bullets or missiles', 'Weapons': 'Various', 'Allies': 'Apoc\\nBugs\\nBerg\\nCybebe\\nDozer\\nEllster\\nLexy\\nLink\\nLumin8\\nMorpheus\\nMorpheus (program)\\nMouse\\nNiobe\\nOctacles\\nThe Oracle\\nSati\\nSequoia\\nSeraph\\nSwitch\\nTank\\nTrinity\\nTemporarily:\\nSmith', 'Enemies': 'The Analyst\\nCypher\\nAgent Brown\\nAgent Jackson\\nAgent Johnson\\nAgent Jones\\nAgent Thompson\\nAgent White\\nThe Merovingian\\nSmith'}\n",
            "{'url': 'https://matrix.fandom.com/wiki/Neo', 'name': 'Neo', 'Portrayed by': 'Keanu Reeves', 'First appearance': 'The Matrix', 'Last appearance': 'The Matrix Resurrections', 'Appearances': \"The Matrix\\nKid's Story\\nThe Matrix Reloaded\\nEnter the Matrix\\nThe Matrix Revolutions\\nThe Matrix Online\\nThe Matrix: Path of Neo\\nThe Matrix Resurrections\", 'Status': 'Alive (resurrected)', 'Real name': 'Thomas A. Anderson', 'Nick name': 'Tom', 'Hacker name': 'Neo', 'Age': '37 (Original trilogy)', 'Birth date': 'March 11, 1962', 'Birth place': 'Lower Downtown, Capital City, United States', 'Death place': '01 - Later resurrected', 'Cause of death': 'Sacrifice', 'Residence': 'Formerly:\\nZion', 'Mother': 'Michelle McGahey', 'Father': 'John Anderson', 'Romances': 'Trinity', 'Workplace': 'MetaCortex - Formerly', 'Profession': 'Computer programer\\nHacker\\nGame developer', 'Nationality': 'American', 'Entity': 'The One', 'Species': 'Human', 'Race': 'Caucasian', 'Gender': 'Male', 'Height': '1.86 meters (6\\'1\")', 'Eye color': 'Brown', 'Hair color': 'Dark brown', 'Language': 'English', 'Fighting style': 'Kung fu', 'Powers': 'Flight\\nStoping,exploding and redirecting bullets or missiles', 'Weapons': 'Various', 'Allies': 'Apoc\\nBugs\\nBerg\\nCybebe\\nDozer\\nEllster\\nLexy\\nLink\\nLumin8\\nMorpheus\\nMorpheus (program)\\nMouse\\nNiobe\\nOctacles\\nThe Oracle\\nSati\\nSequoia\\nSeraph\\nSwitch\\nTank\\nTrinity\\nTemporarily:\\nSmith', 'Enemies': 'The Analyst\\nCypher\\nAgent Brown\\nAgent Jackson\\nAgent Johnson\\nAgent Jones\\nAgent Thompson\\nAgent White\\nThe Merovingian\\nSmith'}\n",
            "{'url': 'https://matrix.fandom.com/wiki/Neo', 'name': 'Neo', 'Portrayed by': 'Keanu Reeves', 'First appearance': 'The Matrix', 'Last appearance': 'The Matrix Resurrections', 'Appearances': \"The Matrix\\nKid's Story\\nThe Matrix Reloaded\\nEnter the Matrix\\nThe Matrix Revolutions\\nThe Matrix Online\\nThe Matrix: Path of Neo\\nThe Matrix Resurrections\", 'Status': 'Alive (resurrected)', 'Real name': 'Thomas A. Anderson', 'Nick name': 'Tom', 'Hacker name': 'Neo', 'Age': '37 (Original trilogy)', 'Birth date': 'March 11, 1962', 'Birth place': 'Lower Downtown, Capital City, United States', 'Death place': '01 - Later resurrected', 'Cause of death': 'Sacrifice', 'Residence': 'Formerly:\\nZion', 'Mother': 'Michelle McGahey', 'Father': 'John Anderson', 'Romances': 'Trinity', 'Workplace': 'MetaCortex - Formerly', 'Profession': 'Computer programer\\nHacker\\nGame developer', 'Nationality': 'American', 'Entity': 'The One', 'Species': 'Human', 'Race': 'Caucasian', 'Gender': 'Male', 'Height': '1.86 meters (6\\'1\")', 'Eye color': 'Brown', 'Hair color': 'Dark brown', 'Language': 'English', 'Fighting style': 'Kung fu', 'Powers': 'Flight\\nStoping,exploding and redirecting bullets or missiles', 'Weapons': 'Various', 'Allies': 'Apoc\\nBugs\\nBerg\\nCybebe\\nDozer\\nEllster\\nLexy\\nLink\\nLumin8\\nMorpheus\\nMorpheus (program)\\nMouse\\nNiobe\\nOctacles\\nThe Oracle\\nSati\\nSequoia\\nSeraph\\nSwitch\\nTank\\nTrinity\\nTemporarily:\\nSmith', 'Enemies': 'The Analyst\\nCypher\\nAgent Brown\\nAgent Jackson\\nAgent Johnson\\nAgent Jones\\nAgent Thompson\\nAgent White\\nThe Merovingian\\nSmith'}\n",
            "{'url': 'https://matrix.fandom.com/wiki/Neo', 'name': 'Neo', 'Portrayed by': 'Keanu Reeves', 'First appearance': 'The Matrix', 'Last appearance': 'The Matrix Resurrections', 'Appearances': \"The Matrix\\nKid's Story\\nThe Matrix Reloaded\\nEnter the Matrix\\nThe Matrix Revolutions\\nThe Matrix Online\\nThe Matrix: Path of Neo\\nThe Matrix Resurrections\", 'Status': 'Alive (resurrected)', 'Real name': 'Thomas A. Anderson', 'Nick name': 'Tom', 'Hacker name': 'Neo', 'Age': '37 (Original trilogy)', 'Birth date': 'March 11, 1962', 'Birth place': 'Lower Downtown, Capital City, United States', 'Death place': '01 - Later resurrected', 'Cause of death': 'Sacrifice', 'Residence': 'Formerly:\\nZion', 'Mother': 'Michelle McGahey', 'Father': 'John Anderson', 'Romances': 'Trinity', 'Workplace': 'MetaCortex - Formerly', 'Profession': 'Computer programer\\nHacker\\nGame developer', 'Nationality': 'American', 'Entity': 'The One', 'Species': 'Human', 'Race': 'Caucasian', 'Gender': 'Male', 'Height': '1.86 meters (6\\'1\")', 'Eye color': 'Brown', 'Hair color': 'Dark brown', 'Language': 'English', 'Fighting style': 'Kung fu', 'Powers': 'Flight\\nStoping,exploding and redirecting bullets or missiles', 'Weapons': 'Various', 'Allies': 'Apoc\\nBugs\\nBerg\\nCybebe\\nDozer\\nEllster\\nLexy\\nLink\\nLumin8\\nMorpheus\\nMorpheus (program)\\nMouse\\nNiobe\\nOctacles\\nThe Oracle\\nSati\\nSequoia\\nSeraph\\nSwitch\\nTank\\nTrinity\\nTemporarily:\\nSmith', 'Enemies': 'The Analyst\\nCypher\\nAgent Brown\\nAgent Jackson\\nAgent Johnson\\nAgent Jones\\nAgent Thompson\\nAgent White\\nThe Merovingian\\nSmith'}\n",
            "{'url': 'https://matrix.fandom.com/wiki/Neo', 'name': 'Neo', 'Portrayed by': 'Keanu Reeves', 'First appearance': 'The Matrix', 'Last appearance': 'The Matrix Resurrections', 'Appearances': \"The Matrix\\nKid's Story\\nThe Matrix Reloaded\\nEnter the Matrix\\nThe Matrix Revolutions\\nThe Matrix Online\\nThe Matrix: Path of Neo\\nThe Matrix Resurrections\", 'Status': 'Alive (resurrected)', 'Real name': 'Thomas A. Anderson', 'Nick name': 'Tom', 'Hacker name': 'Neo', 'Age': '37 (Original trilogy)', 'Birth date': 'March 11, 1962', 'Birth place': 'Lower Downtown, Capital City, United States', 'Death place': '01 - Later resurrected', 'Cause of death': 'Sacrifice', 'Residence': 'Formerly:\\nZion', 'Mother': 'Michelle McGahey', 'Father': 'John Anderson', 'Romances': 'Trinity', 'Workplace': 'MetaCortex - Formerly', 'Profession': 'Computer programer\\nHacker\\nGame developer', 'Nationality': 'American', 'Entity': 'The One', 'Species': 'Human', 'Race': 'Caucasian', 'Gender': 'Male', 'Height': '1.86 meters (6\\'1\")', 'Eye color': 'Brown', 'Hair color': 'Dark brown', 'Language': 'English', 'Fighting style': 'Kung fu', 'Powers': 'Flight\\nStoping,exploding and redirecting bullets or missiles', 'Weapons': 'Various', 'Allies': 'Apoc\\nBugs\\nBerg\\nCybebe\\nDozer\\nEllster\\nLexy\\nLink\\nLumin8\\nMorpheus\\nMorpheus (program)\\nMouse\\nNiobe\\nOctacles\\nThe Oracle\\nSati\\nSequoia\\nSeraph\\nSwitch\\nTank\\nTrinity\\nTemporarily:\\nSmith', 'Enemies': 'The Analyst\\nCypher\\nAgent Brown\\nAgent Jackson\\nAgent Johnson\\nAgent Jones\\nAgent Thompson\\nAgent White\\nThe Merovingian\\nSmith'}\n",
            "{'url': 'https://matrix.fandom.com/wiki/Neo', 'name': 'Neo', 'Portrayed by': 'Keanu Reeves', 'First appearance': 'The Matrix', 'Last appearance': 'The Matrix Resurrections', 'Appearances': \"The Matrix\\nKid's Story\\nThe Matrix Reloaded\\nEnter the Matrix\\nThe Matrix Revolutions\\nThe Matrix Online\\nThe Matrix: Path of Neo\\nThe Matrix Resurrections\", 'Status': 'Alive (resurrected)', 'Real name': 'Thomas A. Anderson', 'Nick name': 'Tom', 'Hacker name': 'Neo', 'Age': '37 (Original trilogy)', 'Birth date': 'March 11, 1962', 'Birth place': 'Lower Downtown, Capital City, United States', 'Death place': '01 - Later resurrected', 'Cause of death': 'Sacrifice', 'Residence': 'Formerly:\\nZion', 'Mother': 'Michelle McGahey', 'Father': 'John Anderson', 'Romances': 'Trinity', 'Workplace': 'MetaCortex - Formerly', 'Profession': 'Computer programer\\nHacker\\nGame developer', 'Nationality': 'American', 'Entity': 'The One', 'Species': 'Human', 'Race': 'Caucasian', 'Gender': 'Male', 'Height': '1.86 meters (6\\'1\")', 'Eye color': 'Brown', 'Hair color': 'Dark brown', 'Language': 'English', 'Fighting style': 'Kung fu', 'Powers': 'Flight\\nStoping,exploding and redirecting bullets or missiles', 'Weapons': 'Various', 'Allies': 'Apoc\\nBugs\\nBerg\\nCybebe\\nDozer\\nEllster\\nLexy\\nLink\\nLumin8\\nMorpheus\\nMorpheus (program)\\nMouse\\nNiobe\\nOctacles\\nThe Oracle\\nSati\\nSequoia\\nSeraph\\nSwitch\\nTank\\nTrinity\\nTemporarily:\\nSmith', 'Enemies': 'The Analyst\\nCypher\\nAgent Brown\\nAgent Jackson\\nAgent Johnson\\nAgent Jones\\nAgent Thompson\\nAgent White\\nThe Merovingian\\nSmith'}\n",
            "{'url': 'https://matrix.fandom.com/wiki/Neo', 'name': 'Neo', 'Portrayed by': 'Keanu Reeves', 'First appearance': 'The Matrix', 'Last appearance': 'The Matrix Resurrections', 'Appearances': \"The Matrix\\nKid's Story\\nThe Matrix Reloaded\\nEnter the Matrix\\nThe Matrix Revolutions\\nThe Matrix Online\\nThe Matrix: Path of Neo\\nThe Matrix Resurrections\", 'Status': 'Alive (resurrected)', 'Real name': 'Thomas A. Anderson', 'Nick name': 'Tom', 'Hacker name': 'Neo', 'Age': '37 (Original trilogy)', 'Birth date': 'March 11, 1962', 'Birth place': 'Lower Downtown, Capital City, United States', 'Death place': '01 - Later resurrected', 'Cause of death': 'Sacrifice', 'Residence': 'Formerly:\\nZion', 'Mother': 'Michelle McGahey', 'Father': 'John Anderson', 'Romances': 'Trinity', 'Workplace': 'MetaCortex - Formerly', 'Profession': 'Computer programer\\nHacker\\nGame developer', 'Nationality': 'American', 'Entity': 'The One', 'Species': 'Human', 'Race': 'Caucasian', 'Gender': 'Male', 'Height': '1.86 meters (6\\'1\")', 'Eye color': 'Brown', 'Hair color': 'Dark brown', 'Language': 'English', 'Fighting style': 'Kung fu', 'Powers': 'Flight\\nStoping,exploding and redirecting bullets or missiles', 'Weapons': 'Various', 'Allies': 'Apoc\\nBugs\\nBerg\\nCybebe\\nDozer\\nEllster\\nLexy\\nLink\\nLumin8\\nMorpheus\\nMorpheus (program)\\nMouse\\nNiobe\\nOctacles\\nThe Oracle\\nSati\\nSequoia\\nSeraph\\nSwitch\\nTank\\nTrinity\\nTemporarily:\\nSmith', 'Enemies': 'The Analyst\\nCypher\\nAgent Brown\\nAgent Jackson\\nAgent Johnson\\nAgent Jones\\nAgent Thompson\\nAgent White\\nThe Merovingian\\nSmith'}\n",
            "{'url': 'https://matrix.fandom.com/wiki/Neo', 'name': 'Neo', 'Portrayed by': 'Keanu Reeves', 'First appearance': 'The Matrix', 'Last appearance': 'The Matrix Resurrections', 'Appearances': \"The Matrix\\nKid's Story\\nThe Matrix Reloaded\\nEnter the Matrix\\nThe Matrix Revolutions\\nThe Matrix Online\\nThe Matrix: Path of Neo\\nThe Matrix Resurrections\", 'Status': 'Alive (resurrected)', 'Real name': 'Thomas A. Anderson', 'Nick name': 'Tom', 'Hacker name': 'Neo', 'Age': '37 (Original trilogy)', 'Birth date': 'March 11, 1962', 'Birth place': 'Lower Downtown, Capital City, United States', 'Death place': '01 - Later resurrected', 'Cause of death': 'Sacrifice', 'Residence': 'Formerly:\\nZion', 'Mother': 'Michelle McGahey', 'Father': 'John Anderson', 'Romances': 'Trinity', 'Workplace': 'MetaCortex - Formerly', 'Profession': 'Computer programer\\nHacker\\nGame developer', 'Nationality': 'American', 'Entity': 'The One', 'Species': 'Human', 'Race': 'Caucasian', 'Gender': 'Male', 'Height': '1.86 meters (6\\'1\")', 'Eye color': 'Brown', 'Hair color': 'Dark brown', 'Language': 'English', 'Fighting style': 'Kung fu', 'Powers': 'Flight\\nStoping,exploding and redirecting bullets or missiles', 'Weapons': 'Various', 'Allies': 'Apoc\\nBugs\\nBerg\\nCybebe\\nDozer\\nEllster\\nLexy\\nLink\\nLumin8\\nMorpheus\\nMorpheus (program)\\nMouse\\nNiobe\\nOctacles\\nThe Oracle\\nSati\\nSequoia\\nSeraph\\nSwitch\\nTank\\nTrinity\\nTemporarily:\\nSmith', 'Enemies': 'The Analyst\\nCypher\\nAgent Brown\\nAgent Jackson\\nAgent Johnson\\nAgent Jones\\nAgent Thompson\\nAgent White\\nThe Merovingian\\nSmith'}\n",
            "{'url': 'https://matrix.fandom.com/wiki/Neo', 'name': 'Neo', 'Portrayed by': 'Keanu Reeves', 'First appearance': 'The Matrix', 'Last appearance': 'The Matrix Resurrections', 'Appearances': \"The Matrix\\nKid's Story\\nThe Matrix Reloaded\\nEnter the Matrix\\nThe Matrix Revolutions\\nThe Matrix Online\\nThe Matrix: Path of Neo\\nThe Matrix Resurrections\", 'Status': 'Alive (resurrected)', 'Real name': 'Thomas A. Anderson', 'Nick name': 'Tom', 'Hacker name': 'Neo', 'Age': '37 (Original trilogy)', 'Birth date': 'March 11, 1962', 'Birth place': 'Lower Downtown, Capital City, United States', 'Death place': '01 - Later resurrected', 'Cause of death': 'Sacrifice', 'Residence': 'Formerly:\\nZion', 'Mother': 'Michelle McGahey', 'Father': 'John Anderson', 'Romances': 'Trinity', 'Workplace': 'MetaCortex - Formerly', 'Profession': 'Computer programer\\nHacker\\nGame developer', 'Nationality': 'American', 'Entity': 'The One', 'Species': 'Human', 'Race': 'Caucasian', 'Gender': 'Male', 'Height': '1.86 meters (6\\'1\")', 'Eye color': 'Brown', 'Hair color': 'Dark brown', 'Language': 'English', 'Fighting style': 'Kung fu', 'Powers': 'Flight\\nStoping,exploding and redirecting bullets or missiles', 'Weapons': 'Various', 'Allies': 'Apoc\\nBugs\\nBerg\\nCybebe\\nDozer\\nEllster\\nLexy\\nLink\\nLumin8\\nMorpheus\\nMorpheus (program)\\nMouse\\nNiobe\\nOctacles\\nThe Oracle\\nSati\\nSequoia\\nSeraph\\nSwitch\\nTank\\nTrinity\\nTemporarily:\\nSmith', 'Enemies': 'The Analyst\\nCypher\\nAgent Brown\\nAgent Jackson\\nAgent Johnson\\nAgent Jones\\nAgent Thompson\\nAgent White\\nThe Merovingian\\nSmith'}\n",
            "{'url': 'https://matrix.fandom.com/wiki/Neo', 'name': 'Neo', 'Portrayed by': 'Keanu Reeves', 'First appearance': 'The Matrix', 'Last appearance': 'The Matrix Resurrections', 'Appearances': \"The Matrix\\nKid's Story\\nThe Matrix Reloaded\\nEnter the Matrix\\nThe Matrix Revolutions\\nThe Matrix Online\\nThe Matrix: Path of Neo\\nThe Matrix Resurrections\", 'Status': 'Alive (resurrected)', 'Real name': 'Thomas A. Anderson', 'Nick name': 'Tom', 'Hacker name': 'Neo', 'Age': '37 (Original trilogy)', 'Birth date': 'March 11, 1962', 'Birth place': 'Lower Downtown, Capital City, United States', 'Death place': '01 - Later resurrected', 'Cause of death': 'Sacrifice', 'Residence': 'Formerly:\\nZion', 'Mother': 'Michelle McGahey', 'Father': 'John Anderson', 'Romances': 'Trinity', 'Workplace': 'MetaCortex - Formerly', 'Profession': 'Computer programer\\nHacker\\nGame developer', 'Nationality': 'American', 'Entity': 'The One', 'Species': 'Human', 'Race': 'Caucasian', 'Gender': 'Male', 'Height': '1.86 meters (6\\'1\")', 'Eye color': 'Brown', 'Hair color': 'Dark brown', 'Language': 'English', 'Fighting style': 'Kung fu', 'Powers': 'Flight\\nStoping,exploding and redirecting bullets or missiles', 'Weapons': 'Various', 'Allies': 'Apoc\\nBugs\\nBerg\\nCybebe\\nDozer\\nEllster\\nLexy\\nLink\\nLumin8\\nMorpheus\\nMorpheus (program)\\nMouse\\nNiobe\\nOctacles\\nThe Oracle\\nSati\\nSequoia\\nSeraph\\nSwitch\\nTank\\nTrinity\\nTemporarily:\\nSmith', 'Enemies': 'The Analyst\\nCypher\\nAgent Brown\\nAgent Jackson\\nAgent Johnson\\nAgent Jones\\nAgent Thompson\\nAgent White\\nThe Merovingian\\nSmith'}\n",
            "{'url': 'https://matrix.fandom.com/wiki/Neo', 'name': 'Neo', 'Portrayed by': 'Keanu Reeves', 'First appearance': 'The Matrix', 'Last appearance': 'The Matrix Resurrections', 'Appearances': \"The Matrix\\nKid's Story\\nThe Matrix Reloaded\\nEnter the Matrix\\nThe Matrix Revolutions\\nThe Matrix Online\\nThe Matrix: Path of Neo\\nThe Matrix Resurrections\", 'Status': 'Alive (resurrected)', 'Real name': 'Thomas A. Anderson', 'Nick name': 'Tom', 'Hacker name': 'Neo', 'Age': '37 (Original trilogy)', 'Birth date': 'March 11, 1962', 'Birth place': 'Lower Downtown, Capital City, United States', 'Death place': '01 - Later resurrected', 'Cause of death': 'Sacrifice', 'Residence': 'Formerly:\\nZion', 'Mother': 'Michelle McGahey', 'Father': 'John Anderson', 'Romances': 'Trinity', 'Workplace': 'MetaCortex - Formerly', 'Profession': 'Computer programer\\nHacker\\nGame developer', 'Nationality': 'American', 'Entity': 'The One', 'Species': 'Human', 'Race': 'Caucasian', 'Gender': 'Male', 'Height': '1.86 meters (6\\'1\")', 'Eye color': 'Brown', 'Hair color': 'Dark brown', 'Language': 'English', 'Fighting style': 'Kung fu', 'Powers': 'Flight\\nStoping,exploding and redirecting bullets or missiles', 'Weapons': 'Various', 'Allies': 'Apoc\\nBugs\\nBerg\\nCybebe\\nDozer\\nEllster\\nLexy\\nLink\\nLumin8\\nMorpheus\\nMorpheus (program)\\nMouse\\nNiobe\\nOctacles\\nThe Oracle\\nSati\\nSequoia\\nSeraph\\nSwitch\\nTank\\nTrinity\\nTemporarily:\\nSmith', 'Enemies': 'The Analyst\\nCypher\\nAgent Brown\\nAgent Jackson\\nAgent Johnson\\nAgent Jones\\nAgent Thompson\\nAgent White\\nThe Merovingian\\nSmith'}\n",
            "{'url': 'https://matrix.fandom.com/wiki/Neo', 'name': 'Neo', 'Portrayed by': 'Keanu Reeves', 'First appearance': 'The Matrix', 'Last appearance': 'The Matrix Resurrections', 'Appearances': \"The Matrix\\nKid's Story\\nThe Matrix Reloaded\\nEnter the Matrix\\nThe Matrix Revolutions\\nThe Matrix Online\\nThe Matrix: Path of Neo\\nThe Matrix Resurrections\", 'Status': 'Alive (resurrected)', 'Real name': 'Thomas A. Anderson', 'Nick name': 'Tom', 'Hacker name': 'Neo', 'Age': '37 (Original trilogy)', 'Birth date': 'March 11, 1962', 'Birth place': 'Lower Downtown, Capital City, United States', 'Death place': '01 - Later resurrected', 'Cause of death': 'Sacrifice', 'Residence': 'Formerly:\\nZion', 'Mother': 'Michelle McGahey', 'Father': 'John Anderson', 'Romances': 'Trinity', 'Workplace': 'MetaCortex - Formerly', 'Profession': 'Computer programer\\nHacker\\nGame developer', 'Nationality': 'American', 'Entity': 'The One', 'Species': 'Human', 'Race': 'Caucasian', 'Gender': 'Male', 'Height': '1.86 meters (6\\'1\")', 'Eye color': 'Brown', 'Hair color': 'Dark brown', 'Language': 'English', 'Fighting style': 'Kung fu', 'Powers': 'Flight\\nStoping,exploding and redirecting bullets or missiles', 'Weapons': 'Various', 'Allies': 'Apoc\\nBugs\\nBerg\\nCybebe\\nDozer\\nEllster\\nLexy\\nLink\\nLumin8\\nMorpheus\\nMorpheus (program)\\nMouse\\nNiobe\\nOctacles\\nThe Oracle\\nSati\\nSequoia\\nSeraph\\nSwitch\\nTank\\nTrinity\\nTemporarily:\\nSmith', 'Enemies': 'The Analyst\\nCypher\\nAgent Brown\\nAgent Jackson\\nAgent Johnson\\nAgent Jones\\nAgent Thompson\\nAgent White\\nThe Merovingian\\nSmith'}\n",
            "{'url': 'https://matrix.fandom.com/wiki/Neo', 'name': 'Neo', 'Portrayed by': 'Keanu Reeves', 'First appearance': 'The Matrix', 'Last appearance': 'The Matrix Resurrections', 'Appearances': \"The Matrix\\nKid's Story\\nThe Matrix Reloaded\\nEnter the Matrix\\nThe Matrix Revolutions\\nThe Matrix Online\\nThe Matrix: Path of Neo\\nThe Matrix Resurrections\", 'Status': 'Alive (resurrected)', 'Real name': 'Thomas A. Anderson', 'Nick name': 'Tom', 'Hacker name': 'Neo', 'Age': '37 (Original trilogy)', 'Birth date': 'March 11, 1962', 'Birth place': 'Lower Downtown, Capital City, United States', 'Death place': '01 - Later resurrected', 'Cause of death': 'Sacrifice', 'Residence': 'Formerly:\\nZion', 'Mother': 'Michelle McGahey', 'Father': 'John Anderson', 'Romances': 'Trinity', 'Workplace': 'MetaCortex - Formerly', 'Profession': 'Computer programer\\nHacker\\nGame developer', 'Nationality': 'American', 'Entity': 'The One', 'Species': 'Human', 'Race': 'Caucasian', 'Gender': 'Male', 'Height': '1.86 meters (6\\'1\")', 'Eye color': 'Brown', 'Hair color': 'Dark brown', 'Language': 'English', 'Fighting style': 'Kung fu', 'Powers': 'Flight\\nStoping,exploding and redirecting bullets or missiles', 'Weapons': 'Various', 'Allies': 'Apoc\\nBugs\\nBerg\\nCybebe\\nDozer\\nEllster\\nLexy\\nLink\\nLumin8\\nMorpheus\\nMorpheus (program)\\nMouse\\nNiobe\\nOctacles\\nThe Oracle\\nSati\\nSequoia\\nSeraph\\nSwitch\\nTank\\nTrinity\\nTemporarily:\\nSmith', 'Enemies': 'The Analyst\\nCypher\\nAgent Brown\\nAgent Jackson\\nAgent Johnson\\nAgent Jones\\nAgent Thompson\\nAgent White\\nThe Merovingian\\nSmith'}\n",
            "{'url': 'https://matrix.fandom.com/wiki/Neo', 'name': 'Neo', 'Portrayed by': 'Keanu Reeves', 'First appearance': 'The Matrix', 'Last appearance': 'The Matrix Resurrections', 'Appearances': \"The Matrix\\nKid's Story\\nThe Matrix Reloaded\\nEnter the Matrix\\nThe Matrix Revolutions\\nThe Matrix Online\\nThe Matrix: Path of Neo\\nThe Matrix Resurrections\", 'Status': 'Alive (resurrected)', 'Real name': 'Thomas A. Anderson', 'Nick name': 'Tom', 'Hacker name': 'Neo', 'Age': '37 (Original trilogy)', 'Birth date': 'March 11, 1962', 'Birth place': 'Lower Downtown, Capital City, United States', 'Death place': '01 - Later resurrected', 'Cause of death': 'Sacrifice', 'Residence': 'Formerly:\\nZion', 'Mother': 'Michelle McGahey', 'Father': 'John Anderson', 'Romances': 'Trinity', 'Workplace': 'MetaCortex - Formerly', 'Profession': 'Computer programer\\nHacker\\nGame developer', 'Nationality': 'American', 'Entity': 'The One', 'Species': 'Human', 'Race': 'Caucasian', 'Gender': 'Male', 'Height': '1.86 meters (6\\'1\")', 'Eye color': 'Brown', 'Hair color': 'Dark brown', 'Language': 'English', 'Fighting style': 'Kung fu', 'Powers': 'Flight\\nStoping,exploding and redirecting bullets or missiles', 'Weapons': 'Various', 'Allies': 'Apoc\\nBugs\\nBerg\\nCybebe\\nDozer\\nEllster\\nLexy\\nLink\\nLumin8\\nMorpheus\\nMorpheus (program)\\nMouse\\nNiobe\\nOctacles\\nThe Oracle\\nSati\\nSequoia\\nSeraph\\nSwitch\\nTank\\nTrinity\\nTemporarily:\\nSmith', 'Enemies': 'The Analyst\\nCypher\\nAgent Brown\\nAgent Jackson\\nAgent Johnson\\nAgent Jones\\nAgent Thompson\\nAgent White\\nThe Merovingian\\nSmith'}\n",
            "{'url': 'https://matrix.fandom.com/wiki/Neo', 'name': 'Neo', 'Portrayed by': 'Keanu Reeves', 'First appearance': 'The Matrix', 'Last appearance': 'The Matrix Resurrections', 'Appearances': \"The Matrix\\nKid's Story\\nThe Matrix Reloaded\\nEnter the Matrix\\nThe Matrix Revolutions\\nThe Matrix Online\\nThe Matrix: Path of Neo\\nThe Matrix Resurrections\", 'Status': 'Alive (resurrected)', 'Real name': 'Thomas A. Anderson', 'Nick name': 'Tom', 'Hacker name': 'Neo', 'Age': '37 (Original trilogy)', 'Birth date': 'March 11, 1962', 'Birth place': 'Lower Downtown, Capital City, United States', 'Death place': '01 - Later resurrected', 'Cause of death': 'Sacrifice', 'Residence': 'Formerly:\\nZion', 'Mother': 'Michelle McGahey', 'Father': 'John Anderson', 'Romances': 'Trinity', 'Workplace': 'MetaCortex - Formerly', 'Profession': 'Computer programer\\nHacker\\nGame developer', 'Nationality': 'American', 'Entity': 'The One', 'Species': 'Human', 'Race': 'Caucasian', 'Gender': 'Male', 'Height': '1.86 meters (6\\'1\")', 'Eye color': 'Brown', 'Hair color': 'Dark brown', 'Language': 'English', 'Fighting style': 'Kung fu', 'Powers': 'Flight\\nStoping,exploding and redirecting bullets or missiles', 'Weapons': 'Various', 'Allies': 'Apoc\\nBugs\\nBerg\\nCybebe\\nDozer\\nEllster\\nLexy\\nLink\\nLumin8\\nMorpheus\\nMorpheus (program)\\nMouse\\nNiobe\\nOctacles\\nThe Oracle\\nSati\\nSequoia\\nSeraph\\nSwitch\\nTank\\nTrinity\\nTemporarily:\\nSmith', 'Enemies': 'The Analyst\\nCypher\\nAgent Brown\\nAgent Jackson\\nAgent Johnson\\nAgent Jones\\nAgent Thompson\\nAgent White\\nThe Merovingian\\nSmith'}\n",
            "{'url': 'https://matrix.fandom.com/wiki/Neo', 'name': 'Neo', 'Portrayed by': 'Keanu Reeves', 'First appearance': 'The Matrix', 'Last appearance': 'The Matrix Resurrections', 'Appearances': \"The Matrix\\nKid's Story\\nThe Matrix Reloaded\\nEnter the Matrix\\nThe Matrix Revolutions\\nThe Matrix Online\\nThe Matrix: Path of Neo\\nThe Matrix Resurrections\", 'Status': 'Alive (resurrected)', 'Real name': 'Thomas A. Anderson', 'Nick name': 'Tom', 'Hacker name': 'Neo', 'Age': '37 (Original trilogy)', 'Birth date': 'March 11, 1962', 'Birth place': 'Lower Downtown, Capital City, United States', 'Death place': '01 - Later resurrected', 'Cause of death': 'Sacrifice', 'Residence': 'Formerly:\\nZion', 'Mother': 'Michelle McGahey', 'Father': 'John Anderson', 'Romances': 'Trinity', 'Workplace': 'MetaCortex - Formerly', 'Profession': 'Computer programer\\nHacker\\nGame developer', 'Nationality': 'American', 'Entity': 'The One', 'Species': 'Human', 'Race': 'Caucasian', 'Gender': 'Male', 'Height': '1.86 meters (6\\'1\")', 'Eye color': 'Brown', 'Hair color': 'Dark brown', 'Language': 'English', 'Fighting style': 'Kung fu', 'Powers': 'Flight\\nStoping,exploding and redirecting bullets or missiles', 'Weapons': 'Various', 'Allies': 'Apoc\\nBugs\\nBerg\\nCybebe\\nDozer\\nEllster\\nLexy\\nLink\\nLumin8\\nMorpheus\\nMorpheus (program)\\nMouse\\nNiobe\\nOctacles\\nThe Oracle\\nSati\\nSequoia\\nSeraph\\nSwitch\\nTank\\nTrinity\\nTemporarily:\\nSmith', 'Enemies': 'The Analyst\\nCypher\\nAgent Brown\\nAgent Jackson\\nAgent Johnson\\nAgent Jones\\nAgent Thompson\\nAgent White\\nThe Merovingian\\nSmith'}\n",
            "{'url': 'https://matrix.fandom.com/wiki/Neo', 'name': 'Neo', 'Portrayed by': 'Keanu Reeves', 'First appearance': 'The Matrix', 'Last appearance': 'The Matrix Resurrections', 'Appearances': \"The Matrix\\nKid's Story\\nThe Matrix Reloaded\\nEnter the Matrix\\nThe Matrix Revolutions\\nThe Matrix Online\\nThe Matrix: Path of Neo\\nThe Matrix Resurrections\", 'Status': 'Alive (resurrected)', 'Real name': 'Thomas A. Anderson', 'Nick name': 'Tom', 'Hacker name': 'Neo', 'Age': '37 (Original trilogy)', 'Birth date': 'March 11, 1962', 'Birth place': 'Lower Downtown, Capital City, United States', 'Death place': '01 - Later resurrected', 'Cause of death': 'Sacrifice', 'Residence': 'Formerly:\\nZion', 'Mother': 'Michelle McGahey', 'Father': 'John Anderson', 'Romances': 'Trinity', 'Workplace': 'MetaCortex - Formerly', 'Profession': 'Computer programer\\nHacker\\nGame developer', 'Nationality': 'American', 'Entity': 'The One', 'Species': 'Human', 'Race': 'Caucasian', 'Gender': 'Male', 'Height': '1.86 meters (6\\'1\")', 'Eye color': 'Brown', 'Hair color': 'Dark brown', 'Language': 'English', 'Fighting style': 'Kung fu', 'Powers': 'Flight\\nStoping,exploding and redirecting bullets or missiles', 'Weapons': 'Various', 'Allies': 'Apoc\\nBugs\\nBerg\\nCybebe\\nDozer\\nEllster\\nLexy\\nLink\\nLumin8\\nMorpheus\\nMorpheus (program)\\nMouse\\nNiobe\\nOctacles\\nThe Oracle\\nSati\\nSequoia\\nSeraph\\nSwitch\\nTank\\nTrinity\\nTemporarily:\\nSmith', 'Enemies': 'The Analyst\\nCypher\\nAgent Brown\\nAgent Jackson\\nAgent Johnson\\nAgent Jones\\nAgent Thompson\\nAgent White\\nThe Merovingian\\nSmith'}\n",
            "{'url': 'https://matrix.fandom.com/wiki/Neo', 'name': 'Neo', 'Portrayed by': 'Keanu Reeves', 'First appearance': 'The Matrix', 'Last appearance': 'The Matrix Resurrections', 'Appearances': \"The Matrix\\nKid's Story\\nThe Matrix Reloaded\\nEnter the Matrix\\nThe Matrix Revolutions\\nThe Matrix Online\\nThe Matrix: Path of Neo\\nThe Matrix Resurrections\", 'Status': 'Alive (resurrected)', 'Real name': 'Thomas A. Anderson', 'Nick name': 'Tom', 'Hacker name': 'Neo', 'Age': '37 (Original trilogy)', 'Birth date': 'March 11, 1962', 'Birth place': 'Lower Downtown, Capital City, United States', 'Death place': '01 - Later resurrected', 'Cause of death': 'Sacrifice', 'Residence': 'Formerly:\\nZion', 'Mother': 'Michelle McGahey', 'Father': 'John Anderson', 'Romances': 'Trinity', 'Workplace': 'MetaCortex - Formerly', 'Profession': 'Computer programer\\nHacker\\nGame developer', 'Nationality': 'American', 'Entity': 'The One', 'Species': 'Human', 'Race': 'Caucasian', 'Gender': 'Male', 'Height': '1.86 meters (6\\'1\")', 'Eye color': 'Brown', 'Hair color': 'Dark brown', 'Language': 'English', 'Fighting style': 'Kung fu', 'Powers': 'Flight\\nStoping,exploding and redirecting bullets or missiles', 'Weapons': 'Various', 'Allies': 'Apoc\\nBugs\\nBerg\\nCybebe\\nDozer\\nEllster\\nLexy\\nLink\\nLumin8\\nMorpheus\\nMorpheus (program)\\nMouse\\nNiobe\\nOctacles\\nThe Oracle\\nSati\\nSequoia\\nSeraph\\nSwitch\\nTank\\nTrinity\\nTemporarily:\\nSmith', 'Enemies': 'The Analyst\\nCypher\\nAgent Brown\\nAgent Jackson\\nAgent Johnson\\nAgent Jones\\nAgent Thompson\\nAgent White\\nThe Merovingian\\nSmith'}\n",
            "{'url': 'https://matrix.fandom.com/wiki/Neo', 'name': 'Neo', 'Portrayed by': 'Keanu Reeves', 'First appearance': 'The Matrix', 'Last appearance': 'The Matrix Resurrections', 'Appearances': \"The Matrix\\nKid's Story\\nThe Matrix Reloaded\\nEnter the Matrix\\nThe Matrix Revolutions\\nThe Matrix Online\\nThe Matrix: Path of Neo\\nThe Matrix Resurrections\", 'Status': 'Alive (resurrected)', 'Real name': 'Thomas A. Anderson', 'Nick name': 'Tom', 'Hacker name': 'Neo', 'Age': '37 (Original trilogy)', 'Birth date': 'March 11, 1962', 'Birth place': 'Lower Downtown, Capital City, United States', 'Death place': '01 - Later resurrected', 'Cause of death': 'Sacrifice', 'Residence': 'Formerly:\\nZion', 'Mother': 'Michelle McGahey', 'Father': 'John Anderson', 'Romances': 'Trinity', 'Workplace': 'MetaCortex - Formerly', 'Profession': 'Computer programer\\nHacker\\nGame developer', 'Nationality': 'American', 'Entity': 'The One', 'Species': 'Human', 'Race': 'Caucasian', 'Gender': 'Male', 'Height': '1.86 meters (6\\'1\")', 'Eye color': 'Brown', 'Hair color': 'Dark brown', 'Language': 'English', 'Fighting style': 'Kung fu', 'Powers': 'Flight\\nStoping,exploding and redirecting bullets or missiles', 'Weapons': 'Various', 'Allies': 'Apoc\\nBugs\\nBerg\\nCybebe\\nDozer\\nEllster\\nLexy\\nLink\\nLumin8\\nMorpheus\\nMorpheus (program)\\nMouse\\nNiobe\\nOctacles\\nThe Oracle\\nSati\\nSequoia\\nSeraph\\nSwitch\\nTank\\nTrinity\\nTemporarily:\\nSmith', 'Enemies': 'The Analyst\\nCypher\\nAgent Brown\\nAgent Jackson\\nAgent Johnson\\nAgent Jones\\nAgent Thompson\\nAgent White\\nThe Merovingian\\nSmith'}\n",
            "{'url': 'https://matrix.fandom.com/wiki/Neo', 'name': 'Neo', 'Portrayed by': 'Keanu Reeves', 'First appearance': 'The Matrix', 'Last appearance': 'The Matrix Resurrections', 'Appearances': \"The Matrix\\nKid's Story\\nThe Matrix Reloaded\\nEnter the Matrix\\nThe Matrix Revolutions\\nThe Matrix Online\\nThe Matrix: Path of Neo\\nThe Matrix Resurrections\", 'Status': 'Alive (resurrected)', 'Real name': 'Thomas A. Anderson', 'Nick name': 'Tom', 'Hacker name': 'Neo', 'Age': '37 (Original trilogy)', 'Birth date': 'March 11, 1962', 'Birth place': 'Lower Downtown, Capital City, United States', 'Death place': '01 - Later resurrected', 'Cause of death': 'Sacrifice', 'Residence': 'Formerly:\\nZion', 'Mother': 'Michelle McGahey', 'Father': 'John Anderson', 'Romances': 'Trinity', 'Workplace': 'MetaCortex - Formerly', 'Profession': 'Computer programer\\nHacker\\nGame developer', 'Nationality': 'American', 'Entity': 'The One', 'Species': 'Human', 'Race': 'Caucasian', 'Gender': 'Male', 'Height': '1.86 meters (6\\'1\")', 'Eye color': 'Brown', 'Hair color': 'Dark brown', 'Language': 'English', 'Fighting style': 'Kung fu', 'Powers': 'Flight\\nStoping,exploding and redirecting bullets or missiles', 'Weapons': 'Various', 'Allies': 'Apoc\\nBugs\\nBerg\\nCybebe\\nDozer\\nEllster\\nLexy\\nLink\\nLumin8\\nMorpheus\\nMorpheus (program)\\nMouse\\nNiobe\\nOctacles\\nThe Oracle\\nSati\\nSequoia\\nSeraph\\nSwitch\\nTank\\nTrinity\\nTemporarily:\\nSmith', 'Enemies': 'The Analyst\\nCypher\\nAgent Brown\\nAgent Jackson\\nAgent Johnson\\nAgent Jones\\nAgent Thompson\\nAgent White\\nThe Merovingian\\nSmith'}\n",
            "{'url': 'https://matrix.fandom.com/wiki/Neo', 'name': 'Neo', 'Portrayed by': 'Keanu Reeves', 'First appearance': 'The Matrix', 'Last appearance': 'The Matrix Resurrections', 'Appearances': \"The Matrix\\nKid's Story\\nThe Matrix Reloaded\\nEnter the Matrix\\nThe Matrix Revolutions\\nThe Matrix Online\\nThe Matrix: Path of Neo\\nThe Matrix Resurrections\", 'Status': 'Alive (resurrected)', 'Real name': 'Thomas A. Anderson', 'Nick name': 'Tom', 'Hacker name': 'Neo', 'Age': '37 (Original trilogy)', 'Birth date': 'March 11, 1962', 'Birth place': 'Lower Downtown, Capital City, United States', 'Death place': '01 - Later resurrected', 'Cause of death': 'Sacrifice', 'Residence': 'Formerly:\\nZion', 'Mother': 'Michelle McGahey', 'Father': 'John Anderson', 'Romances': 'Trinity', 'Workplace': 'MetaCortex - Formerly', 'Profession': 'Computer programer\\nHacker\\nGame developer', 'Nationality': 'American', 'Entity': 'The One', 'Species': 'Human', 'Race': 'Caucasian', 'Gender': 'Male', 'Height': '1.86 meters (6\\'1\")', 'Eye color': 'Brown', 'Hair color': 'Dark brown', 'Language': 'English', 'Fighting style': 'Kung fu', 'Powers': 'Flight\\nStoping,exploding and redirecting bullets or missiles', 'Weapons': 'Various', 'Allies': 'Apoc\\nBugs\\nBerg\\nCybebe\\nDozer\\nEllster\\nLexy\\nLink\\nLumin8\\nMorpheus\\nMorpheus (program)\\nMouse\\nNiobe\\nOctacles\\nThe Oracle\\nSati\\nSequoia\\nSeraph\\nSwitch\\nTank\\nTrinity\\nTemporarily:\\nSmith', 'Enemies': 'The Analyst\\nCypher\\nAgent Brown\\nAgent Jackson\\nAgent Johnson\\nAgent Jones\\nAgent Thompson\\nAgent White\\nThe Merovingian\\nSmith'}\n",
            "{'url': 'https://matrix.fandom.com/wiki/Neo', 'name': 'Neo', 'Portrayed by': 'Keanu Reeves', 'First appearance': 'The Matrix', 'Last appearance': 'The Matrix Resurrections', 'Appearances': \"The Matrix\\nKid's Story\\nThe Matrix Reloaded\\nEnter the Matrix\\nThe Matrix Revolutions\\nThe Matrix Online\\nThe Matrix: Path of Neo\\nThe Matrix Resurrections\", 'Status': 'Alive (resurrected)', 'Real name': 'Thomas A. Anderson', 'Nick name': 'Tom', 'Hacker name': 'Neo', 'Age': '37 (Original trilogy)', 'Birth date': 'March 11, 1962', 'Birth place': 'Lower Downtown, Capital City, United States', 'Death place': '01 - Later resurrected', 'Cause of death': 'Sacrifice', 'Residence': 'Formerly:\\nZion', 'Mother': 'Michelle McGahey', 'Father': 'John Anderson', 'Romances': 'Trinity', 'Workplace': 'MetaCortex - Formerly', 'Profession': 'Computer programer\\nHacker\\nGame developer', 'Nationality': 'American', 'Entity': 'The One', 'Species': 'Human', 'Race': 'Caucasian', 'Gender': 'Male', 'Height': '1.86 meters (6\\'1\")', 'Eye color': 'Brown', 'Hair color': 'Dark brown', 'Language': 'English', 'Fighting style': 'Kung fu', 'Powers': 'Flight\\nStoping,exploding and redirecting bullets or missiles', 'Weapons': 'Various', 'Allies': 'Apoc\\nBugs\\nBerg\\nCybebe\\nDozer\\nEllster\\nLexy\\nLink\\nLumin8\\nMorpheus\\nMorpheus (program)\\nMouse\\nNiobe\\nOctacles\\nThe Oracle\\nSati\\nSequoia\\nSeraph\\nSwitch\\nTank\\nTrinity\\nTemporarily:\\nSmith', 'Enemies': 'The Analyst\\nCypher\\nAgent Brown\\nAgent Jackson\\nAgent Johnson\\nAgent Jones\\nAgent Thompson\\nAgent White\\nThe Merovingian\\nSmith'}\n",
            "{'url': 'https://matrix.fandom.com/wiki/Neo', 'name': 'Neo', 'Portrayed by': 'Keanu Reeves', 'First appearance': 'The Matrix', 'Last appearance': 'The Matrix Resurrections', 'Appearances': \"The Matrix\\nKid's Story\\nThe Matrix Reloaded\\nEnter the Matrix\\nThe Matrix Revolutions\\nThe Matrix Online\\nThe Matrix: Path of Neo\\nThe Matrix Resurrections\", 'Status': 'Alive (resurrected)', 'Real name': 'Thomas A. Anderson', 'Nick name': 'Tom', 'Hacker name': 'Neo', 'Age': '37 (Original trilogy)', 'Birth date': 'March 11, 1962', 'Birth place': 'Lower Downtown, Capital City, United States', 'Death place': '01 - Later resurrected', 'Cause of death': 'Sacrifice', 'Residence': 'Formerly:\\nZion', 'Mother': 'Michelle McGahey', 'Father': 'John Anderson', 'Romances': 'Trinity', 'Workplace': 'MetaCortex - Formerly', 'Profession': 'Computer programer\\nHacker\\nGame developer', 'Nationality': 'American', 'Entity': 'The One', 'Species': 'Human', 'Race': 'Caucasian', 'Gender': 'Male', 'Height': '1.86 meters (6\\'1\")', 'Eye color': 'Brown', 'Hair color': 'Dark brown', 'Language': 'English', 'Fighting style': 'Kung fu', 'Powers': 'Flight\\nStoping,exploding and redirecting bullets or missiles', 'Weapons': 'Various', 'Allies': 'Apoc\\nBugs\\nBerg\\nCybebe\\nDozer\\nEllster\\nLexy\\nLink\\nLumin8\\nMorpheus\\nMorpheus (program)\\nMouse\\nNiobe\\nOctacles\\nThe Oracle\\nSati\\nSequoia\\nSeraph\\nSwitch\\nTank\\nTrinity\\nTemporarily:\\nSmith', 'Enemies': 'The Analyst\\nCypher\\nAgent Brown\\nAgent Jackson\\nAgent Johnson\\nAgent Jones\\nAgent Thompson\\nAgent White\\nThe Merovingian\\nSmith'}\n",
            "{'url': 'https://matrix.fandom.com/wiki/Old_Man', 'name': 'Old Man', 'Purpose': 'To guard The Oracle', 'Type of Exile': 'Human', 'Gender': 'Male', 'Eye color': '?', 'Hair color': 'White', 'Affiliation': 'The Oracle'}\n",
            "{'url': 'https://matrix.fandom.com/wiki/Old_Man', 'name': 'Old Man', 'Purpose': 'To guard The Oracle', 'Type of Exile': 'Human', 'Gender': 'Male', 'Eye color': '?', 'Hair color': 'White', 'Affiliation': 'The Oracle'}\n",
            "{'url': 'https://matrix.fandom.com/wiki/Old_Man', 'name': 'Old Man', 'Purpose': 'To guard The Oracle', 'Type of Exile': 'Human', 'Gender': 'Male', 'Eye color': '?', 'Hair color': 'White', 'Affiliation': 'The Oracle'}\n",
            "{'url': 'https://matrix.fandom.com/wiki/Old_Man', 'name': 'Old Man', 'Purpose': 'To guard The Oracle', 'Type of Exile': 'Human', 'Gender': 'Male', 'Eye color': '?', 'Hair color': 'White', 'Affiliation': 'The Oracle'}\n",
            "{'url': 'https://matrix.fandom.com/wiki/Old_Man', 'name': 'Old Man', 'Purpose': 'To guard The Oracle', 'Type of Exile': 'Human', 'Gender': 'Male', 'Eye color': '?', 'Hair color': 'White', 'Affiliation': 'The Oracle'}\n",
            "{'url': 'https://matrix.fandom.com/wiki/Old_Man', 'name': 'Old Man', 'Purpose': 'To guard The Oracle', 'Type of Exile': 'Human', 'Gender': 'Male', 'Eye color': '?', 'Hair color': 'White', 'Affiliation': 'The Oracle'}\n",
            "{'url': 'https://matrix.fandom.com/wiki/The_Oracle', 'name': 'The Oracle', 'Appearances': 'The Matrix\\nThe Matrix Reloaded\\nThe Matrix Revolutions\\nThe Matrix Resurrections (Archive footage only)', 'Purpose': 'Providing assistance to freed Redpills\\n\"Unbalancing\" the equation\\nStudying certain aspects of the human psyche', 'Type of Exile': 'Program', 'Gender': 'Female', 'Eye color': 'Brown', 'Hair color': 'Black', 'Affiliation': 'The Oracle'}\n",
            "{'url': 'https://matrix.fandom.com/wiki/The_Oracle', 'name': 'The Oracle', 'Appearances': 'The Matrix\\nThe Matrix Reloaded\\nThe Matrix Revolutions\\nThe Matrix Resurrections (Archive footage only)', 'Purpose': 'Providing assistance to freed Redpills\\n\"Unbalancing\" the equation\\nStudying certain aspects of the human psyche', 'Type of Exile': 'Program', 'Gender': 'Female', 'Eye color': 'Brown', 'Hair color': 'Black', 'Affiliation': 'The Oracle'}\n",
            "{'url': 'https://matrix.fandom.com/wiki/The_Oracle', 'name': 'The Oracle', 'Appearances': 'The Matrix\\nThe Matrix Reloaded\\nThe Matrix Revolutions\\nThe Matrix Resurrections (Archive footage only)', 'Purpose': 'Providing assistance to freed Redpills\\n\"Unbalancing\" the equation\\nStudying certain aspects of the human psyche', 'Type of Exile': 'Program', 'Gender': 'Female', 'Eye color': 'Brown', 'Hair color': 'Black', 'Affiliation': 'The Oracle'}\n",
            "{'url': 'https://matrix.fandom.com/wiki/The_Oracle', 'name': 'The Oracle', 'Appearances': 'The Matrix\\nThe Matrix Reloaded\\nThe Matrix Revolutions\\nThe Matrix Resurrections (Archive footage only)', 'Purpose': 'Providing assistance to freed Redpills\\n\"Unbalancing\" the equation\\nStudying certain aspects of the human psyche', 'Type of Exile': 'Program', 'Gender': 'Female', 'Eye color': 'Brown', 'Hair color': 'Black', 'Affiliation': 'The Oracle'}\n",
            "{'url': 'https://matrix.fandom.com/wiki/The_Oracle', 'name': 'The Oracle', 'Appearances': 'The Matrix\\nThe Matrix Reloaded\\nThe Matrix Revolutions\\nThe Matrix Resurrections (Archive footage only)', 'Purpose': 'Providing assistance to freed Redpills\\n\"Unbalancing\" the equation\\nStudying certain aspects of the human psyche', 'Type of Exile': 'Program', 'Gender': 'Female', 'Eye color': 'Brown', 'Hair color': 'Black', 'Affiliation': 'The Oracle'}\n",
            "{'url': 'https://matrix.fandom.com/wiki/The_Oracle', 'name': 'The Oracle', 'Appearances': 'The Matrix\\nThe Matrix Reloaded\\nThe Matrix Revolutions\\nThe Matrix Resurrections (Archive footage only)', 'Purpose': 'Providing assistance to freed Redpills\\n\"Unbalancing\" the equation\\nStudying certain aspects of the human psyche', 'Type of Exile': 'Program', 'Gender': 'Female', 'Eye color': 'Brown', 'Hair color': 'Black', 'Affiliation': 'The Oracle'}\n",
            "{'url': 'https://matrix.fandom.com/wiki/The_Oracle', 'name': 'The Oracle', 'Appearances': 'The Matrix\\nThe Matrix Reloaded\\nThe Matrix Revolutions\\nThe Matrix Resurrections (Archive footage only)', 'Purpose': 'Providing assistance to freed Redpills\\n\"Unbalancing\" the equation\\nStudying certain aspects of the human psyche', 'Type of Exile': 'Program', 'Gender': 'Female', 'Eye color': 'Brown', 'Hair color': 'Black', 'Affiliation': 'The Oracle'}\n",
            "{'url': 'https://matrix.fandom.com/wiki/The_Priestess', 'name': 'The Priestess', 'Purpose': 'To serve The Oracle', 'Gender': 'Female', 'Hair color': 'Black', 'Affiliation': 'The Oracle'}\n",
            "{'url': 'https://matrix.fandom.com/wiki/The_Priestess', 'name': 'The Priestess', 'Purpose': 'To serve The Oracle', 'Gender': 'Female', 'Hair color': 'Black', 'Affiliation': 'The Oracle'}\n",
            "{'url': 'https://matrix.fandom.com/wiki/The_Priestess', 'name': 'The Priestess', 'Purpose': 'To serve The Oracle', 'Gender': 'Female', 'Hair color': 'Black', 'Affiliation': 'The Oracle'}\n",
            "{'url': 'https://matrix.fandom.com/wiki/The_Priestess', 'name': 'The Priestess', 'Purpose': 'To serve The Oracle', 'Gender': 'Female', 'Hair color': 'Black', 'Affiliation': 'The Oracle'}\n",
            "{'url': 'https://matrix.fandom.com/wiki/Agent_Smith', 'name': 'Agent Smith', 'Portrayed by': 'Original Trilogy:\\nHugo Weaving\\nBane possession:\\nIan Bliss\\nResurrections:\\nJonathan Groff', 'First appearance': 'The Matrix', 'Last appearance': 'The Matrix Resurrections', 'Appearances': 'The Matrix\\nEnter the Matrix\\nThe Matrix Reloaded\\nThe Matrix Revolutions\\nThe Matrix: Path of Neo\\nThe Matrix Resurrections', 'Status': 'Activated', 'Hacker name': 'Possessed:\\nBane', 'Purpose': 'Protect the Matrix (initially)\\nKeep the Resistance contained', 'Species': 'Exile', 'Gender': 'Male', 'Height': '1.88 m (6’2)', 'Eye color': 'Blue', 'Hair color': 'Brown', 'Powers': 'Flight', 'Allies': 'Temporarily:\\nAgent Brown\\nAgent Jones\\nBerg\\nBugs\\nLexy\\nMorpheus (program)\\nNeo\\nTrinity', 'Enemies': 'The Analyst\\nBerg\\nBugs\\nLexy\\nMorpheus\\nMorpheus (program)\\nNeo\\nThe Oracle\\nSeraph\\nTrinity'}\n",
            "{'url': 'https://matrix.fandom.com/wiki/Agent_Smith', 'name': 'Agent Smith', 'Portrayed by': 'Original Trilogy:\\nHugo Weaving\\nBane possession:\\nIan Bliss\\nResurrections:\\nJonathan Groff', 'First appearance': 'The Matrix', 'Last appearance': 'The Matrix Resurrections', 'Appearances': 'The Matrix\\nEnter the Matrix\\nThe Matrix Reloaded\\nThe Matrix Revolutions\\nThe Matrix: Path of Neo\\nThe Matrix Resurrections', 'Status': 'Activated', 'Hacker name': 'Possessed:\\nBane', 'Purpose': 'Protect the Matrix (initially)\\nKeep the Resistance contained', 'Species': 'Exile', 'Gender': 'Male', 'Height': '1.88 m (6’2)', 'Eye color': 'Blue', 'Hair color': 'Brown', 'Powers': 'Flight', 'Allies': 'Temporarily:\\nAgent Brown\\nAgent Jones\\nBerg\\nBugs\\nLexy\\nMorpheus (program)\\nNeo\\nTrinity', 'Enemies': 'The Analyst\\nBerg\\nBugs\\nLexy\\nMorpheus\\nMorpheus (program)\\nNeo\\nThe Oracle\\nSeraph\\nTrinity'}\n",
            "{'url': 'https://matrix.fandom.com/wiki/Agent_Smith', 'name': 'Agent Smith', 'Portrayed by': 'Original Trilogy:\\nHugo Weaving\\nBane possession:\\nIan Bliss\\nResurrections:\\nJonathan Groff', 'First appearance': 'The Matrix', 'Last appearance': 'The Matrix Resurrections', 'Appearances': 'The Matrix\\nEnter the Matrix\\nThe Matrix Reloaded\\nThe Matrix Revolutions\\nThe Matrix: Path of Neo\\nThe Matrix Resurrections', 'Status': 'Activated', 'Hacker name': 'Possessed:\\nBane', 'Purpose': 'Protect the Matrix (initially)\\nKeep the Resistance contained', 'Species': 'Exile', 'Gender': 'Male', 'Height': '1.88 m (6’2)', 'Eye color': 'Blue', 'Hair color': 'Brown', 'Powers': 'Flight', 'Allies': 'Temporarily:\\nAgent Brown\\nAgent Jones\\nBerg\\nBugs\\nLexy\\nMorpheus (program)\\nNeo\\nTrinity', 'Enemies': 'The Analyst\\nBerg\\nBugs\\nLexy\\nMorpheus\\nMorpheus (program)\\nNeo\\nThe Oracle\\nSeraph\\nTrinity'}\n",
            "{'url': 'https://matrix.fandom.com/wiki/Agent_Smith', 'name': 'Agent Smith', 'Portrayed by': 'Original Trilogy:\\nHugo Weaving\\nBane possession:\\nIan Bliss\\nResurrections:\\nJonathan Groff', 'First appearance': 'The Matrix', 'Last appearance': 'The Matrix Resurrections', 'Appearances': 'The Matrix\\nEnter the Matrix\\nThe Matrix Reloaded\\nThe Matrix Revolutions\\nThe Matrix: Path of Neo\\nThe Matrix Resurrections', 'Status': 'Activated', 'Hacker name': 'Possessed:\\nBane', 'Purpose': 'Protect the Matrix (initially)\\nKeep the Resistance contained', 'Species': 'Exile', 'Gender': 'Male', 'Height': '1.88 m (6’2)', 'Eye color': 'Blue', 'Hair color': 'Brown', 'Powers': 'Flight', 'Allies': 'Temporarily:\\nAgent Brown\\nAgent Jones\\nBerg\\nBugs\\nLexy\\nMorpheus (program)\\nNeo\\nTrinity', 'Enemies': 'The Analyst\\nBerg\\nBugs\\nLexy\\nMorpheus\\nMorpheus (program)\\nNeo\\nThe Oracle\\nSeraph\\nTrinity'}\n",
            "{'url': 'https://matrix.fandom.com/wiki/Agent_Smith', 'name': 'Agent Smith', 'Portrayed by': 'Original Trilogy:\\nHugo Weaving\\nBane possession:\\nIan Bliss\\nResurrections:\\nJonathan Groff', 'First appearance': 'The Matrix', 'Last appearance': 'The Matrix Resurrections', 'Appearances': 'The Matrix\\nEnter the Matrix\\nThe Matrix Reloaded\\nThe Matrix Revolutions\\nThe Matrix: Path of Neo\\nThe Matrix Resurrections', 'Status': 'Activated', 'Hacker name': 'Possessed:\\nBane', 'Purpose': 'Protect the Matrix (initially)\\nKeep the Resistance contained', 'Species': 'Exile', 'Gender': 'Male', 'Height': '1.88 m (6’2)', 'Eye color': 'Blue', 'Hair color': 'Brown', 'Powers': 'Flight', 'Allies': 'Temporarily:\\nAgent Brown\\nAgent Jones\\nBerg\\nBugs\\nLexy\\nMorpheus (program)\\nNeo\\nTrinity', 'Enemies': 'The Analyst\\nBerg\\nBugs\\nLexy\\nMorpheus\\nMorpheus (program)\\nNeo\\nThe Oracle\\nSeraph\\nTrinity'}\n",
            "{'url': 'https://matrix.fandom.com/wiki/Agent_Smith', 'name': 'Agent Smith', 'Portrayed by': 'Original Trilogy:\\nHugo Weaving\\nBane possession:\\nIan Bliss\\nResurrections:\\nJonathan Groff', 'First appearance': 'The Matrix', 'Last appearance': 'The Matrix Resurrections', 'Appearances': 'The Matrix\\nEnter the Matrix\\nThe Matrix Reloaded\\nThe Matrix Revolutions\\nThe Matrix: Path of Neo\\nThe Matrix Resurrections', 'Status': 'Activated', 'Hacker name': 'Possessed:\\nBane', 'Purpose': 'Protect the Matrix (initially)\\nKeep the Resistance contained', 'Species': 'Exile', 'Gender': 'Male', 'Height': '1.88 m (6’2)', 'Eye color': 'Blue', 'Hair color': 'Brown', 'Powers': 'Flight', 'Allies': 'Temporarily:\\nAgent Brown\\nAgent Jones\\nBerg\\nBugs\\nLexy\\nMorpheus (program)\\nNeo\\nTrinity', 'Enemies': 'The Analyst\\nBerg\\nBugs\\nLexy\\nMorpheus\\nMorpheus (program)\\nNeo\\nThe Oracle\\nSeraph\\nTrinity'}\n",
            "{'url': 'https://matrix.fandom.com/wiki/Agent_Smith', 'name': 'Agent Smith', 'Portrayed by': 'Original Trilogy:\\nHugo Weaving\\nBane possession:\\nIan Bliss\\nResurrections:\\nJonathan Groff', 'First appearance': 'The Matrix', 'Last appearance': 'The Matrix Resurrections', 'Appearances': 'The Matrix\\nEnter the Matrix\\nThe Matrix Reloaded\\nThe Matrix Revolutions\\nThe Matrix: Path of Neo\\nThe Matrix Resurrections', 'Status': 'Activated', 'Hacker name': 'Possessed:\\nBane', 'Purpose': 'Protect the Matrix (initially)\\nKeep the Resistance contained', 'Species': 'Exile', 'Gender': 'Male', 'Height': '1.88 m (6’2)', 'Eye color': 'Blue', 'Hair color': 'Brown', 'Powers': 'Flight', 'Allies': 'Temporarily:\\nAgent Brown\\nAgent Jones\\nBerg\\nBugs\\nLexy\\nMorpheus (program)\\nNeo\\nTrinity', 'Enemies': 'The Analyst\\nBerg\\nBugs\\nLexy\\nMorpheus\\nMorpheus (program)\\nNeo\\nThe Oracle\\nSeraph\\nTrinity'}\n",
            "{'url': 'https://matrix.fandom.com/wiki/Agent_Smith', 'name': 'Agent Smith', 'Portrayed by': 'Original Trilogy:\\nHugo Weaving\\nBane possession:\\nIan Bliss\\nResurrections:\\nJonathan Groff', 'First appearance': 'The Matrix', 'Last appearance': 'The Matrix Resurrections', 'Appearances': 'The Matrix\\nEnter the Matrix\\nThe Matrix Reloaded\\nThe Matrix Revolutions\\nThe Matrix: Path of Neo\\nThe Matrix Resurrections', 'Status': 'Activated', 'Hacker name': 'Possessed:\\nBane', 'Purpose': 'Protect the Matrix (initially)\\nKeep the Resistance contained', 'Species': 'Exile', 'Gender': 'Male', 'Height': '1.88 m (6’2)', 'Eye color': 'Blue', 'Hair color': 'Brown', 'Powers': 'Flight', 'Allies': 'Temporarily:\\nAgent Brown\\nAgent Jones\\nBerg\\nBugs\\nLexy\\nMorpheus (program)\\nNeo\\nTrinity', 'Enemies': 'The Analyst\\nBerg\\nBugs\\nLexy\\nMorpheus\\nMorpheus (program)\\nNeo\\nThe Oracle\\nSeraph\\nTrinity'}\n",
            "{'url': 'https://matrix.fandom.com/wiki/Agent_Smith', 'name': 'Agent Smith', 'Portrayed by': 'Original Trilogy:\\nHugo Weaving\\nBane possession:\\nIan Bliss\\nResurrections:\\nJonathan Groff', 'First appearance': 'The Matrix', 'Last appearance': 'The Matrix Resurrections', 'Appearances': 'The Matrix\\nEnter the Matrix\\nThe Matrix Reloaded\\nThe Matrix Revolutions\\nThe Matrix: Path of Neo\\nThe Matrix Resurrections', 'Status': 'Activated', 'Hacker name': 'Possessed:\\nBane', 'Purpose': 'Protect the Matrix (initially)\\nKeep the Resistance contained', 'Species': 'Exile', 'Gender': 'Male', 'Height': '1.88 m (6’2)', 'Eye color': 'Blue', 'Hair color': 'Brown', 'Powers': 'Flight', 'Allies': 'Temporarily:\\nAgent Brown\\nAgent Jones\\nBerg\\nBugs\\nLexy\\nMorpheus (program)\\nNeo\\nTrinity', 'Enemies': 'The Analyst\\nBerg\\nBugs\\nLexy\\nMorpheus\\nMorpheus (program)\\nNeo\\nThe Oracle\\nSeraph\\nTrinity'}\n",
            "{'url': 'https://matrix.fandom.com/wiki/Agent_Smith', 'name': 'Agent Smith', 'Portrayed by': 'Original Trilogy:\\nHugo Weaving\\nBane possession:\\nIan Bliss\\nResurrections:\\nJonathan Groff', 'First appearance': 'The Matrix', 'Last appearance': 'The Matrix Resurrections', 'Appearances': 'The Matrix\\nEnter the Matrix\\nThe Matrix Reloaded\\nThe Matrix Revolutions\\nThe Matrix: Path of Neo\\nThe Matrix Resurrections', 'Status': 'Activated', 'Hacker name': 'Possessed:\\nBane', 'Purpose': 'Protect the Matrix (initially)\\nKeep the Resistance contained', 'Species': 'Exile', 'Gender': 'Male', 'Height': '1.88 m (6’2)', 'Eye color': 'Blue', 'Hair color': 'Brown', 'Powers': 'Flight', 'Allies': 'Temporarily:\\nAgent Brown\\nAgent Jones\\nBerg\\nBugs\\nLexy\\nMorpheus (program)\\nNeo\\nTrinity', 'Enemies': 'The Analyst\\nBerg\\nBugs\\nLexy\\nMorpheus\\nMorpheus (program)\\nNeo\\nThe Oracle\\nSeraph\\nTrinity'}\n",
            "{'url': 'https://matrix.fandom.com/wiki/Agent_Smith', 'name': 'Agent Smith', 'Portrayed by': 'Original Trilogy:\\nHugo Weaving\\nBane possession:\\nIan Bliss\\nResurrections:\\nJonathan Groff', 'First appearance': 'The Matrix', 'Last appearance': 'The Matrix Resurrections', 'Appearances': 'The Matrix\\nEnter the Matrix\\nThe Matrix Reloaded\\nThe Matrix Revolutions\\nThe Matrix: Path of Neo\\nThe Matrix Resurrections', 'Status': 'Activated', 'Hacker name': 'Possessed:\\nBane', 'Purpose': 'Protect the Matrix (initially)\\nKeep the Resistance contained', 'Species': 'Exile', 'Gender': 'Male', 'Height': '1.88 m (6’2)', 'Eye color': 'Blue', 'Hair color': 'Brown', 'Powers': 'Flight', 'Allies': 'Temporarily:\\nAgent Brown\\nAgent Jones\\nBerg\\nBugs\\nLexy\\nMorpheus (program)\\nNeo\\nTrinity', 'Enemies': 'The Analyst\\nBerg\\nBugs\\nLexy\\nMorpheus\\nMorpheus (program)\\nNeo\\nThe Oracle\\nSeraph\\nTrinity'}\n",
            "{'url': 'https://matrix.fandom.com/wiki/Agent_Smith', 'name': 'Agent Smith', 'Portrayed by': 'Original Trilogy:\\nHugo Weaving\\nBane possession:\\nIan Bliss\\nResurrections:\\nJonathan Groff', 'First appearance': 'The Matrix', 'Last appearance': 'The Matrix Resurrections', 'Appearances': 'The Matrix\\nEnter the Matrix\\nThe Matrix Reloaded\\nThe Matrix Revolutions\\nThe Matrix: Path of Neo\\nThe Matrix Resurrections', 'Status': 'Activated', 'Hacker name': 'Possessed:\\nBane', 'Purpose': 'Protect the Matrix (initially)\\nKeep the Resistance contained', 'Species': 'Exile', 'Gender': 'Male', 'Height': '1.88 m (6’2)', 'Eye color': 'Blue', 'Hair color': 'Brown', 'Powers': 'Flight', 'Allies': 'Temporarily:\\nAgent Brown\\nAgent Jones\\nBerg\\nBugs\\nLexy\\nMorpheus (program)\\nNeo\\nTrinity', 'Enemies': 'The Analyst\\nBerg\\nBugs\\nLexy\\nMorpheus\\nMorpheus (program)\\nNeo\\nThe Oracle\\nSeraph\\nTrinity'}\n",
            "{'url': 'https://matrix.fandom.com/wiki/Agent_Smith', 'name': 'Agent Smith', 'Portrayed by': 'Original Trilogy:\\nHugo Weaving\\nBane possession:\\nIan Bliss\\nResurrections:\\nJonathan Groff', 'First appearance': 'The Matrix', 'Last appearance': 'The Matrix Resurrections', 'Appearances': 'The Matrix\\nEnter the Matrix\\nThe Matrix Reloaded\\nThe Matrix Revolutions\\nThe Matrix: Path of Neo\\nThe Matrix Resurrections', 'Status': 'Activated', 'Hacker name': 'Possessed:\\nBane', 'Purpose': 'Protect the Matrix (initially)\\nKeep the Resistance contained', 'Species': 'Exile', 'Gender': 'Male', 'Height': '1.88 m (6’2)', 'Eye color': 'Blue', 'Hair color': 'Brown', 'Powers': 'Flight', 'Allies': 'Temporarily:\\nAgent Brown\\nAgent Jones\\nBerg\\nBugs\\nLexy\\nMorpheus (program)\\nNeo\\nTrinity', 'Enemies': 'The Analyst\\nBerg\\nBugs\\nLexy\\nMorpheus\\nMorpheus (program)\\nNeo\\nThe Oracle\\nSeraph\\nTrinity'}\n",
            "{'url': 'https://matrix.fandom.com/wiki/Agent_Smith', 'name': 'Agent Smith', 'Portrayed by': 'Original Trilogy:\\nHugo Weaving\\nBane possession:\\nIan Bliss\\nResurrections:\\nJonathan Groff', 'First appearance': 'The Matrix', 'Last appearance': 'The Matrix Resurrections', 'Appearances': 'The Matrix\\nEnter the Matrix\\nThe Matrix Reloaded\\nThe Matrix Revolutions\\nThe Matrix: Path of Neo\\nThe Matrix Resurrections', 'Status': 'Activated', 'Hacker name': 'Possessed:\\nBane', 'Purpose': 'Protect the Matrix (initially)\\nKeep the Resistance contained', 'Species': 'Exile', 'Gender': 'Male', 'Height': '1.88 m (6’2)', 'Eye color': 'Blue', 'Hair color': 'Brown', 'Powers': 'Flight', 'Allies': 'Temporarily:\\nAgent Brown\\nAgent Jones\\nBerg\\nBugs\\nLexy\\nMorpheus (program)\\nNeo\\nTrinity', 'Enemies': 'The Analyst\\nBerg\\nBugs\\nLexy\\nMorpheus\\nMorpheus (program)\\nNeo\\nThe Oracle\\nSeraph\\nTrinity'}\n",
            "{'url': 'https://matrix.fandom.com/wiki/Agent_Smith', 'name': 'Agent Smith', 'Portrayed by': 'Original Trilogy:\\nHugo Weaving\\nBane possession:\\nIan Bliss\\nResurrections:\\nJonathan Groff', 'First appearance': 'The Matrix', 'Last appearance': 'The Matrix Resurrections', 'Appearances': 'The Matrix\\nEnter the Matrix\\nThe Matrix Reloaded\\nThe Matrix Revolutions\\nThe Matrix: Path of Neo\\nThe Matrix Resurrections', 'Status': 'Activated', 'Hacker name': 'Possessed:\\nBane', 'Purpose': 'Protect the Matrix (initially)\\nKeep the Resistance contained', 'Species': 'Exile', 'Gender': 'Male', 'Height': '1.88 m (6’2)', 'Eye color': 'Blue', 'Hair color': 'Brown', 'Powers': 'Flight', 'Allies': 'Temporarily:\\nAgent Brown\\nAgent Jones\\nBerg\\nBugs\\nLexy\\nMorpheus (program)\\nNeo\\nTrinity', 'Enemies': 'The Analyst\\nBerg\\nBugs\\nLexy\\nMorpheus\\nMorpheus (program)\\nNeo\\nThe Oracle\\nSeraph\\nTrinity'}\n",
            "{'url': 'https://matrix.fandom.com/wiki/Spoon_Boy', 'name': 'Spoon Boy', 'Gender': 'Male', 'Hair color': 'Bald', 'Affiliation': 'The Oracle'}\n",
            "{'url': 'https://matrix.fandom.com/wiki/Spoon_Boy', 'name': 'Spoon Boy', 'Gender': 'Male', 'Hair color': 'Bald', 'Affiliation': 'The Oracle'}\n",
            "{'url': 'https://matrix.fandom.com/wiki/Spoon_Boy', 'name': 'Spoon Boy', 'Gender': 'Male', 'Hair color': 'Bald', 'Affiliation': 'The Oracle'}\n",
            "{'url': 'https://matrix.fandom.com/wiki/Switch', 'name': 'Switch', 'Portrayed by': 'Belinda McClory', 'Appearances': 'The Matrix\\nThe Matrix: Path of Neo', 'Status': 'Deceased', 'Hacker name': 'Switch', 'Gender': 'Female', 'Height': '1.68 meters', 'Eye color': 'Green', 'Hair color': 'White Blond', 'Allies': 'Apoc\\nMorpheus\\nNeo\\nTrinity\\nMouse\\nDozer\\nTank', 'Enemies': 'Cypher'}\n",
            "{'url': 'https://matrix.fandom.com/wiki/Switch', 'name': 'Switch', 'Portrayed by': 'Belinda McClory', 'Appearances': 'The Matrix\\nThe Matrix: Path of Neo', 'Status': 'Deceased', 'Hacker name': 'Switch', 'Gender': 'Female', 'Height': '1.68 meters', 'Eye color': 'Green', 'Hair color': 'White Blond', 'Allies': 'Apoc\\nMorpheus\\nNeo\\nTrinity\\nMouse\\nDozer\\nTank', 'Enemies': 'Cypher'}\n",
            "{'url': 'https://matrix.fandom.com/wiki/Switch', 'name': 'Switch', 'Portrayed by': 'Belinda McClory', 'Appearances': 'The Matrix\\nThe Matrix: Path of Neo', 'Status': 'Deceased', 'Hacker name': 'Switch', 'Gender': 'Female', 'Height': '1.68 meters', 'Eye color': 'Green', 'Hair color': 'White Blond', 'Allies': 'Apoc\\nMorpheus\\nNeo\\nTrinity\\nMouse\\nDozer\\nTank', 'Enemies': 'Cypher'}\n",
            "{'url': 'https://matrix.fandom.com/wiki/Switch', 'name': 'Switch', 'Portrayed by': 'Belinda McClory', 'Appearances': 'The Matrix\\nThe Matrix: Path of Neo', 'Status': 'Deceased', 'Hacker name': 'Switch', 'Gender': 'Female', 'Height': '1.68 meters', 'Eye color': 'Green', 'Hair color': 'White Blond', 'Allies': 'Apoc\\nMorpheus\\nNeo\\nTrinity\\nMouse\\nDozer\\nTank', 'Enemies': 'Cypher'}\n",
            "{'url': 'https://matrix.fandom.com/wiki/Switch', 'name': 'Switch', 'Portrayed by': 'Belinda McClory', 'Appearances': 'The Matrix\\nThe Matrix: Path of Neo', 'Status': 'Deceased', 'Hacker name': 'Switch', 'Gender': 'Female', 'Height': '1.68 meters', 'Eye color': 'Green', 'Hair color': 'White Blond', 'Allies': 'Apoc\\nMorpheus\\nNeo\\nTrinity\\nMouse\\nDozer\\nTank', 'Enemies': 'Cypher'}\n",
            "{'url': 'https://matrix.fandom.com/wiki/Switch', 'name': 'Switch', 'Portrayed by': 'Belinda McClory', 'Appearances': 'The Matrix\\nThe Matrix: Path of Neo', 'Status': 'Deceased', 'Hacker name': 'Switch', 'Gender': 'Female', 'Height': '1.68 meters', 'Eye color': 'Green', 'Hair color': 'White Blond', 'Allies': 'Apoc\\nMorpheus\\nNeo\\nTrinity\\nMouse\\nDozer\\nTank', 'Enemies': 'Cypher'}\n",
            "{'url': 'https://matrix.fandom.com/wiki/Switch', 'name': 'Switch', 'Portrayed by': 'Belinda McClory', 'Appearances': 'The Matrix\\nThe Matrix: Path of Neo', 'Status': 'Deceased', 'Hacker name': 'Switch', 'Gender': 'Female', 'Height': '1.68 meters', 'Eye color': 'Green', 'Hair color': 'White Blond', 'Allies': 'Apoc\\nMorpheus\\nNeo\\nTrinity\\nMouse\\nDozer\\nTank', 'Enemies': 'Cypher'}\n",
            "{'url': 'https://matrix.fandom.com/wiki/Switch', 'name': 'Switch', 'Portrayed by': 'Belinda McClory', 'Appearances': 'The Matrix\\nThe Matrix: Path of Neo', 'Status': 'Deceased', 'Hacker name': 'Switch', 'Gender': 'Female', 'Height': '1.68 meters', 'Eye color': 'Green', 'Hair color': 'White Blond', 'Allies': 'Apoc\\nMorpheus\\nNeo\\nTrinity\\nMouse\\nDozer\\nTank', 'Enemies': 'Cypher'}\n",
            "{'url': 'https://matrix.fandom.com/wiki/Switch', 'name': 'Switch', 'Portrayed by': 'Belinda McClory', 'Appearances': 'The Matrix\\nThe Matrix: Path of Neo', 'Status': 'Deceased', 'Hacker name': 'Switch', 'Gender': 'Female', 'Height': '1.68 meters', 'Eye color': 'Green', 'Hair color': 'White Blond', 'Allies': 'Apoc\\nMorpheus\\nNeo\\nTrinity\\nMouse\\nDozer\\nTank', 'Enemies': 'Cypher'}\n",
            "{'url': 'https://matrix.fandom.com/wiki/Switch', 'name': 'Switch', 'Portrayed by': 'Belinda McClory', 'Appearances': 'The Matrix\\nThe Matrix: Path of Neo', 'Status': 'Deceased', 'Hacker name': 'Switch', 'Gender': 'Female', 'Height': '1.68 meters', 'Eye color': 'Green', 'Hair color': 'White Blond', 'Allies': 'Apoc\\nMorpheus\\nNeo\\nTrinity\\nMouse\\nDozer\\nTank', 'Enemies': 'Cypher'}\n",
            "{'url': 'https://matrix.fandom.com/wiki/Tank', 'name': 'Tank', 'Portrayed by': 'Marcus Chong', 'Appearances': 'The Matrix\\nThe Matrix: Path of Neo\\nThe Matrix Reloaded (Mentioned only)', 'Status': 'Deceased', 'Real name': 'Tank', 'Hacker name': 'None', 'Family': 'Dozer\\nZee', 'Entity': 'Operator on the Nebuchadnezzar', 'Gender': 'Male', 'Eye color': 'Brown', 'Hair color': 'Black', 'Allies': 'Morpheus\\nNeo\\nTrinity\\nApoc\\nMouse\\nSwitch', 'Enemies': 'Cypher'}\n",
            "{'url': 'https://matrix.fandom.com/wiki/Tank', 'name': 'Tank', 'Portrayed by': 'Marcus Chong', 'Appearances': 'The Matrix\\nThe Matrix: Path of Neo\\nThe Matrix Reloaded (Mentioned only)', 'Status': 'Deceased', 'Real name': 'Tank', 'Hacker name': 'None', 'Family': 'Dozer\\nZee', 'Entity': 'Operator on the Nebuchadnezzar', 'Gender': 'Male', 'Eye color': 'Brown', 'Hair color': 'Black', 'Allies': 'Morpheus\\nNeo\\nTrinity\\nApoc\\nMouse\\nSwitch', 'Enemies': 'Cypher'}\n",
            "{'url': 'https://matrix.fandom.com/wiki/Tank', 'name': 'Tank', 'Portrayed by': 'Marcus Chong', 'Appearances': 'The Matrix\\nThe Matrix: Path of Neo\\nThe Matrix Reloaded (Mentioned only)', 'Status': 'Deceased', 'Real name': 'Tank', 'Hacker name': 'None', 'Family': 'Dozer\\nZee', 'Entity': 'Operator on the Nebuchadnezzar', 'Gender': 'Male', 'Eye color': 'Brown', 'Hair color': 'Black', 'Allies': 'Morpheus\\nNeo\\nTrinity\\nApoc\\nMouse\\nSwitch', 'Enemies': 'Cypher'}\n",
            "{'url': 'https://matrix.fandom.com/wiki/Tank', 'name': 'Tank', 'Portrayed by': 'Marcus Chong', 'Appearances': 'The Matrix\\nThe Matrix: Path of Neo\\nThe Matrix Reloaded (Mentioned only)', 'Status': 'Deceased', 'Real name': 'Tank', 'Hacker name': 'None', 'Family': 'Dozer\\nZee', 'Entity': 'Operator on the Nebuchadnezzar', 'Gender': 'Male', 'Eye color': 'Brown', 'Hair color': 'Black', 'Allies': 'Morpheus\\nNeo\\nTrinity\\nApoc\\nMouse\\nSwitch', 'Enemies': 'Cypher'}\n",
            "{'url': 'https://matrix.fandom.com/wiki/Tank', 'name': 'Tank', 'Portrayed by': 'Marcus Chong', 'Appearances': 'The Matrix\\nThe Matrix: Path of Neo\\nThe Matrix Reloaded (Mentioned only)', 'Status': 'Deceased', 'Real name': 'Tank', 'Hacker name': 'None', 'Family': 'Dozer\\nZee', 'Entity': 'Operator on the Nebuchadnezzar', 'Gender': 'Male', 'Eye color': 'Brown', 'Hair color': 'Black', 'Allies': 'Morpheus\\nNeo\\nTrinity\\nApoc\\nMouse\\nSwitch', 'Enemies': 'Cypher'}\n",
            "{'url': 'https://matrix.fandom.com/wiki/Tank', 'name': 'Tank', 'Portrayed by': 'Marcus Chong', 'Appearances': 'The Matrix\\nThe Matrix: Path of Neo\\nThe Matrix Reloaded (Mentioned only)', 'Status': 'Deceased', 'Real name': 'Tank', 'Hacker name': 'None', 'Family': 'Dozer\\nZee', 'Entity': 'Operator on the Nebuchadnezzar', 'Gender': 'Male', 'Eye color': 'Brown', 'Hair color': 'Black', 'Allies': 'Morpheus\\nNeo\\nTrinity\\nApoc\\nMouse\\nSwitch', 'Enemies': 'Cypher'}\n",
            "{'url': 'https://matrix.fandom.com/wiki/Tank', 'name': 'Tank', 'Portrayed by': 'Marcus Chong', 'Appearances': 'The Matrix\\nThe Matrix: Path of Neo\\nThe Matrix Reloaded (Mentioned only)', 'Status': 'Deceased', 'Real name': 'Tank', 'Hacker name': 'None', 'Family': 'Dozer\\nZee', 'Entity': 'Operator on the Nebuchadnezzar', 'Gender': 'Male', 'Eye color': 'Brown', 'Hair color': 'Black', 'Allies': 'Morpheus\\nNeo\\nTrinity\\nApoc\\nMouse\\nSwitch', 'Enemies': 'Cypher'}\n",
            "{'url': 'https://matrix.fandom.com/wiki/Tank', 'name': 'Tank', 'Portrayed by': 'Marcus Chong', 'Appearances': 'The Matrix\\nThe Matrix: Path of Neo\\nThe Matrix Reloaded (Mentioned only)', 'Status': 'Deceased', 'Real name': 'Tank', 'Hacker name': 'None', 'Family': 'Dozer\\nZee', 'Entity': 'Operator on the Nebuchadnezzar', 'Gender': 'Male', 'Eye color': 'Brown', 'Hair color': 'Black', 'Allies': 'Morpheus\\nNeo\\nTrinity\\nApoc\\nMouse\\nSwitch', 'Enemies': 'Cypher'}\n",
            "{'url': 'https://matrix.fandom.com/wiki/Tank', 'name': 'Tank', 'Portrayed by': 'Marcus Chong', 'Appearances': 'The Matrix\\nThe Matrix: Path of Neo\\nThe Matrix Reloaded (Mentioned only)', 'Status': 'Deceased', 'Real name': 'Tank', 'Hacker name': 'None', 'Family': 'Dozer\\nZee', 'Entity': 'Operator on the Nebuchadnezzar', 'Gender': 'Male', 'Eye color': 'Brown', 'Hair color': 'Black', 'Allies': 'Morpheus\\nNeo\\nTrinity\\nApoc\\nMouse\\nSwitch', 'Enemies': 'Cypher'}\n",
            "{'url': 'https://matrix.fandom.com/wiki/Tank', 'name': 'Tank', 'Portrayed by': 'Marcus Chong', 'Appearances': 'The Matrix\\nThe Matrix: Path of Neo\\nThe Matrix Reloaded (Mentioned only)', 'Status': 'Deceased', 'Real name': 'Tank', 'Hacker name': 'None', 'Family': 'Dozer\\nZee', 'Entity': 'Operator on the Nebuchadnezzar', 'Gender': 'Male', 'Eye color': 'Brown', 'Hair color': 'Black', 'Allies': 'Morpheus\\nNeo\\nTrinity\\nApoc\\nMouse\\nSwitch', 'Enemies': 'Cypher'}\n",
            "{'url': 'https://matrix.fandom.com/wiki/Tank', 'name': 'Tank', 'Portrayed by': 'Marcus Chong', 'Appearances': 'The Matrix\\nThe Matrix: Path of Neo\\nThe Matrix Reloaded (Mentioned only)', 'Status': 'Deceased', 'Real name': 'Tank', 'Hacker name': 'None', 'Family': 'Dozer\\nZee', 'Entity': 'Operator on the Nebuchadnezzar', 'Gender': 'Male', 'Eye color': 'Brown', 'Hair color': 'Black', 'Allies': 'Morpheus\\nNeo\\nTrinity\\nApoc\\nMouse\\nSwitch', 'Enemies': 'Cypher'}\n",
            "{'url': 'https://matrix.fandom.com/wiki/Tank', 'name': 'Tank', 'Portrayed by': 'Marcus Chong', 'Appearances': 'The Matrix\\nThe Matrix: Path of Neo\\nThe Matrix Reloaded (Mentioned only)', 'Status': 'Deceased', 'Real name': 'Tank', 'Hacker name': 'None', 'Family': 'Dozer\\nZee', 'Entity': 'Operator on the Nebuchadnezzar', 'Gender': 'Male', 'Eye color': 'Brown', 'Hair color': 'Black', 'Allies': 'Morpheus\\nNeo\\nTrinity\\nApoc\\nMouse\\nSwitch', 'Enemies': 'Cypher'}\n",
            "{'url': 'https://matrix.fandom.com/wiki/Woman_in_Red', 'name': 'Woman in Red', 'Appearances': 'The Matrix, The Matrix Reloaded (as drawing), The Matrix Resurrections', 'Entity': 'Construct Program', 'Gender': 'Female', 'Hair color': 'Blond'}\n",
            "{'url': 'https://matrix.fandom.com/wiki/Woman_in_Red', 'name': 'Woman in Red', 'Appearances': 'The Matrix, The Matrix Reloaded (as drawing), The Matrix Resurrections', 'Entity': 'Construct Program', 'Gender': 'Female', 'Hair color': 'Blond'}\n",
            "{'url': 'https://matrix.fandom.com/wiki/Woman_in_Red', 'name': 'Woman in Red', 'Appearances': 'The Matrix, The Matrix Reloaded (as drawing), The Matrix Resurrections', 'Entity': 'Construct Program', 'Gender': 'Female', 'Hair color': 'Blond'}\n",
            "{'url': 'https://matrix.fandom.com/wiki/Woman_in_Red', 'name': 'Woman in Red', 'Appearances': 'The Matrix, The Matrix Reloaded (as drawing), The Matrix Resurrections', 'Entity': 'Construct Program', 'Gender': 'Female', 'Hair color': 'Blond'}\n",
            "{'url': 'https://matrix.fandom.com/wiki/Trinity', 'name': 'Trinity', 'Portrayed by': 'Carrie-Anne Moss', 'First appearance': 'The Matrix', 'Last appearance': 'The Matrix Resurrections', 'Appearances': 'The Matrix\\nThe Matrix Reloaded\\nEnter the Matrix\\nA Detective Story\\nThe Matrix Revolutions\\nThe Matrix: Path of Neo\\nThe Matrix Resurrections', 'Status': 'Alive (resurrected)', 'Nick name': 'Tiffany', 'Hacker name': 'Trinity', 'Age': '33 (Original trilogy)', 'Residence': 'Formerly:\\nZion', 'Romances': 'Neo', 'Species': 'Human', 'Gender': 'Female', 'Height': '1.74 meters (5\\'8.5\")', 'Eye color': 'Blue', 'Hair color': 'Dark brown', 'Powers': 'Flight', 'Allies': 'Apoc\\nDozer\\nLink\\nMouse\\nMorpheus\\nNeo\\nSwitch\\nTank', 'Enemies': 'Cypher\\nAgent Brown\\nAgent Jackson\\nAgent Johnson\\nAgent Jones\\nAgent Smith\\nAgent Thompson\\nThe Analyst'}\n",
            "{'url': 'https://matrix.fandom.com/wiki/Trinity', 'name': 'Trinity', 'Portrayed by': 'Carrie-Anne Moss', 'First appearance': 'The Matrix', 'Last appearance': 'The Matrix Resurrections', 'Appearances': 'The Matrix\\nThe Matrix Reloaded\\nEnter the Matrix\\nA Detective Story\\nThe Matrix Revolutions\\nThe Matrix: Path of Neo\\nThe Matrix Resurrections', 'Status': 'Alive (resurrected)', 'Nick name': 'Tiffany', 'Hacker name': 'Trinity', 'Age': '33 (Original trilogy)', 'Residence': 'Formerly:\\nZion', 'Romances': 'Neo', 'Species': 'Human', 'Gender': 'Female', 'Height': '1.74 meters (5\\'8.5\")', 'Eye color': 'Blue', 'Hair color': 'Dark brown', 'Powers': 'Flight', 'Allies': 'Apoc\\nDozer\\nLink\\nMouse\\nMorpheus\\nNeo\\nSwitch\\nTank', 'Enemies': 'Cypher\\nAgent Brown\\nAgent Jackson\\nAgent Johnson\\nAgent Jones\\nAgent Smith\\nAgent Thompson\\nThe Analyst'}\n",
            "{'url': 'https://matrix.fandom.com/wiki/Trinity', 'name': 'Trinity', 'Portrayed by': 'Carrie-Anne Moss', 'First appearance': 'The Matrix', 'Last appearance': 'The Matrix Resurrections', 'Appearances': 'The Matrix\\nThe Matrix Reloaded\\nEnter the Matrix\\nA Detective Story\\nThe Matrix Revolutions\\nThe Matrix: Path of Neo\\nThe Matrix Resurrections', 'Status': 'Alive (resurrected)', 'Nick name': 'Tiffany', 'Hacker name': 'Trinity', 'Age': '33 (Original trilogy)', 'Residence': 'Formerly:\\nZion', 'Romances': 'Neo', 'Species': 'Human', 'Gender': 'Female', 'Height': '1.74 meters (5\\'8.5\")', 'Eye color': 'Blue', 'Hair color': 'Dark brown', 'Powers': 'Flight', 'Allies': 'Apoc\\nDozer\\nLink\\nMouse\\nMorpheus\\nNeo\\nSwitch\\nTank', 'Enemies': 'Cypher\\nAgent Brown\\nAgent Jackson\\nAgent Johnson\\nAgent Jones\\nAgent Smith\\nAgent Thompson\\nThe Analyst'}\n",
            "{'url': 'https://matrix.fandom.com/wiki/Trinity', 'name': 'Trinity', 'Portrayed by': 'Carrie-Anne Moss', 'First appearance': 'The Matrix', 'Last appearance': 'The Matrix Resurrections', 'Appearances': 'The Matrix\\nThe Matrix Reloaded\\nEnter the Matrix\\nA Detective Story\\nThe Matrix Revolutions\\nThe Matrix: Path of Neo\\nThe Matrix Resurrections', 'Status': 'Alive (resurrected)', 'Nick name': 'Tiffany', 'Hacker name': 'Trinity', 'Age': '33 (Original trilogy)', 'Residence': 'Formerly:\\nZion', 'Romances': 'Neo', 'Species': 'Human', 'Gender': 'Female', 'Height': '1.74 meters (5\\'8.5\")', 'Eye color': 'Blue', 'Hair color': 'Dark brown', 'Powers': 'Flight', 'Allies': 'Apoc\\nDozer\\nLink\\nMouse\\nMorpheus\\nNeo\\nSwitch\\nTank', 'Enemies': 'Cypher\\nAgent Brown\\nAgent Jackson\\nAgent Johnson\\nAgent Jones\\nAgent Smith\\nAgent Thompson\\nThe Analyst'}\n",
            "{'url': 'https://matrix.fandom.com/wiki/Trinity', 'name': 'Trinity', 'Portrayed by': 'Carrie-Anne Moss', 'First appearance': 'The Matrix', 'Last appearance': 'The Matrix Resurrections', 'Appearances': 'The Matrix\\nThe Matrix Reloaded\\nEnter the Matrix\\nA Detective Story\\nThe Matrix Revolutions\\nThe Matrix: Path of Neo\\nThe Matrix Resurrections', 'Status': 'Alive (resurrected)', 'Nick name': 'Tiffany', 'Hacker name': 'Trinity', 'Age': '33 (Original trilogy)', 'Residence': 'Formerly:\\nZion', 'Romances': 'Neo', 'Species': 'Human', 'Gender': 'Female', 'Height': '1.74 meters (5\\'8.5\")', 'Eye color': 'Blue', 'Hair color': 'Dark brown', 'Powers': 'Flight', 'Allies': 'Apoc\\nDozer\\nLink\\nMouse\\nMorpheus\\nNeo\\nSwitch\\nTank', 'Enemies': 'Cypher\\nAgent Brown\\nAgent Jackson\\nAgent Johnson\\nAgent Jones\\nAgent Smith\\nAgent Thompson\\nThe Analyst'}\n",
            "{'url': 'https://matrix.fandom.com/wiki/Trinity', 'name': 'Trinity', 'Portrayed by': 'Carrie-Anne Moss', 'First appearance': 'The Matrix', 'Last appearance': 'The Matrix Resurrections', 'Appearances': 'The Matrix\\nThe Matrix Reloaded\\nEnter the Matrix\\nA Detective Story\\nThe Matrix Revolutions\\nThe Matrix: Path of Neo\\nThe Matrix Resurrections', 'Status': 'Alive (resurrected)', 'Nick name': 'Tiffany', 'Hacker name': 'Trinity', 'Age': '33 (Original trilogy)', 'Residence': 'Formerly:\\nZion', 'Romances': 'Neo', 'Species': 'Human', 'Gender': 'Female', 'Height': '1.74 meters (5\\'8.5\")', 'Eye color': 'Blue', 'Hair color': 'Dark brown', 'Powers': 'Flight', 'Allies': 'Apoc\\nDozer\\nLink\\nMouse\\nMorpheus\\nNeo\\nSwitch\\nTank', 'Enemies': 'Cypher\\nAgent Brown\\nAgent Jackson\\nAgent Johnson\\nAgent Jones\\nAgent Smith\\nAgent Thompson\\nThe Analyst'}\n",
            "{'url': 'https://matrix.fandom.com/wiki/Trinity', 'name': 'Trinity', 'Portrayed by': 'Carrie-Anne Moss', 'First appearance': 'The Matrix', 'Last appearance': 'The Matrix Resurrections', 'Appearances': 'The Matrix\\nThe Matrix Reloaded\\nEnter the Matrix\\nA Detective Story\\nThe Matrix Revolutions\\nThe Matrix: Path of Neo\\nThe Matrix Resurrections', 'Status': 'Alive (resurrected)', 'Nick name': 'Tiffany', 'Hacker name': 'Trinity', 'Age': '33 (Original trilogy)', 'Residence': 'Formerly:\\nZion', 'Romances': 'Neo', 'Species': 'Human', 'Gender': 'Female', 'Height': '1.74 meters (5\\'8.5\")', 'Eye color': 'Blue', 'Hair color': 'Dark brown', 'Powers': 'Flight', 'Allies': 'Apoc\\nDozer\\nLink\\nMouse\\nMorpheus\\nNeo\\nSwitch\\nTank', 'Enemies': 'Cypher\\nAgent Brown\\nAgent Jackson\\nAgent Johnson\\nAgent Jones\\nAgent Smith\\nAgent Thompson\\nThe Analyst'}\n",
            "{'url': 'https://matrix.fandom.com/wiki/Trinity', 'name': 'Trinity', 'Portrayed by': 'Carrie-Anne Moss', 'First appearance': 'The Matrix', 'Last appearance': 'The Matrix Resurrections', 'Appearances': 'The Matrix\\nThe Matrix Reloaded\\nEnter the Matrix\\nA Detective Story\\nThe Matrix Revolutions\\nThe Matrix: Path of Neo\\nThe Matrix Resurrections', 'Status': 'Alive (resurrected)', 'Nick name': 'Tiffany', 'Hacker name': 'Trinity', 'Age': '33 (Original trilogy)', 'Residence': 'Formerly:\\nZion', 'Romances': 'Neo', 'Species': 'Human', 'Gender': 'Female', 'Height': '1.74 meters (5\\'8.5\")', 'Eye color': 'Blue', 'Hair color': 'Dark brown', 'Powers': 'Flight', 'Allies': 'Apoc\\nDozer\\nLink\\nMouse\\nMorpheus\\nNeo\\nSwitch\\nTank', 'Enemies': 'Cypher\\nAgent Brown\\nAgent Jackson\\nAgent Johnson\\nAgent Jones\\nAgent Smith\\nAgent Thompson\\nThe Analyst'}\n",
            "{'url': 'https://matrix.fandom.com/wiki/Trinity', 'name': 'Trinity', 'Portrayed by': 'Carrie-Anne Moss', 'First appearance': 'The Matrix', 'Last appearance': 'The Matrix Resurrections', 'Appearances': 'The Matrix\\nThe Matrix Reloaded\\nEnter the Matrix\\nA Detective Story\\nThe Matrix Revolutions\\nThe Matrix: Path of Neo\\nThe Matrix Resurrections', 'Status': 'Alive (resurrected)', 'Nick name': 'Tiffany', 'Hacker name': 'Trinity', 'Age': '33 (Original trilogy)', 'Residence': 'Formerly:\\nZion', 'Romances': 'Neo', 'Species': 'Human', 'Gender': 'Female', 'Height': '1.74 meters (5\\'8.5\")', 'Eye color': 'Blue', 'Hair color': 'Dark brown', 'Powers': 'Flight', 'Allies': 'Apoc\\nDozer\\nLink\\nMouse\\nMorpheus\\nNeo\\nSwitch\\nTank', 'Enemies': 'Cypher\\nAgent Brown\\nAgent Jackson\\nAgent Johnson\\nAgent Jones\\nAgent Smith\\nAgent Thompson\\nThe Analyst'}\n",
            "{'url': 'https://matrix.fandom.com/wiki/Trinity', 'name': 'Trinity', 'Portrayed by': 'Carrie-Anne Moss', 'First appearance': 'The Matrix', 'Last appearance': 'The Matrix Resurrections', 'Appearances': 'The Matrix\\nThe Matrix Reloaded\\nEnter the Matrix\\nA Detective Story\\nThe Matrix Revolutions\\nThe Matrix: Path of Neo\\nThe Matrix Resurrections', 'Status': 'Alive (resurrected)', 'Nick name': 'Tiffany', 'Hacker name': 'Trinity', 'Age': '33 (Original trilogy)', 'Residence': 'Formerly:\\nZion', 'Romances': 'Neo', 'Species': 'Human', 'Gender': 'Female', 'Height': '1.74 meters (5\\'8.5\")', 'Eye color': 'Blue', 'Hair color': 'Dark brown', 'Powers': 'Flight', 'Allies': 'Apoc\\nDozer\\nLink\\nMouse\\nMorpheus\\nNeo\\nSwitch\\nTank', 'Enemies': 'Cypher\\nAgent Brown\\nAgent Jackson\\nAgent Johnson\\nAgent Jones\\nAgent Smith\\nAgent Thompson\\nThe Analyst'}\n",
            "{'url': 'https://matrix.fandom.com/wiki/Trinity', 'name': 'Trinity', 'Portrayed by': 'Carrie-Anne Moss', 'First appearance': 'The Matrix', 'Last appearance': 'The Matrix Resurrections', 'Appearances': 'The Matrix\\nThe Matrix Reloaded\\nEnter the Matrix\\nA Detective Story\\nThe Matrix Revolutions\\nThe Matrix: Path of Neo\\nThe Matrix Resurrections', 'Status': 'Alive (resurrected)', 'Nick name': 'Tiffany', 'Hacker name': 'Trinity', 'Age': '33 (Original trilogy)', 'Residence': 'Formerly:\\nZion', 'Romances': 'Neo', 'Species': 'Human', 'Gender': 'Female', 'Height': '1.74 meters (5\\'8.5\")', 'Eye color': 'Blue', 'Hair color': 'Dark brown', 'Powers': 'Flight', 'Allies': 'Apoc\\nDozer\\nLink\\nMouse\\nMorpheus\\nNeo\\nSwitch\\nTank', 'Enemies': 'Cypher\\nAgent Brown\\nAgent Jackson\\nAgent Johnson\\nAgent Jones\\nAgent Smith\\nAgent Thompson\\nThe Analyst'}\n",
            "{'url': 'https://matrix.fandom.com/wiki/Trinity', 'name': 'Trinity', 'Portrayed by': 'Carrie-Anne Moss', 'First appearance': 'The Matrix', 'Last appearance': 'The Matrix Resurrections', 'Appearances': 'The Matrix\\nThe Matrix Reloaded\\nEnter the Matrix\\nA Detective Story\\nThe Matrix Revolutions\\nThe Matrix: Path of Neo\\nThe Matrix Resurrections', 'Status': 'Alive (resurrected)', 'Nick name': 'Tiffany', 'Hacker name': 'Trinity', 'Age': '33 (Original trilogy)', 'Residence': 'Formerly:\\nZion', 'Romances': 'Neo', 'Species': 'Human', 'Gender': 'Female', 'Height': '1.74 meters (5\\'8.5\")', 'Eye color': 'Blue', 'Hair color': 'Dark brown', 'Powers': 'Flight', 'Allies': 'Apoc\\nDozer\\nLink\\nMouse\\nMorpheus\\nNeo\\nSwitch\\nTank', 'Enemies': 'Cypher\\nAgent Brown\\nAgent Jackson\\nAgent Johnson\\nAgent Jones\\nAgent Smith\\nAgent Thompson\\nThe Analyst'}\n",
            "{'url': 'https://matrix.fandom.com/wiki/Trinity', 'name': 'Trinity', 'Portrayed by': 'Carrie-Anne Moss', 'First appearance': 'The Matrix', 'Last appearance': 'The Matrix Resurrections', 'Appearances': 'The Matrix\\nThe Matrix Reloaded\\nEnter the Matrix\\nA Detective Story\\nThe Matrix Revolutions\\nThe Matrix: Path of Neo\\nThe Matrix Resurrections', 'Status': 'Alive (resurrected)', 'Nick name': 'Tiffany', 'Hacker name': 'Trinity', 'Age': '33 (Original trilogy)', 'Residence': 'Formerly:\\nZion', 'Romances': 'Neo', 'Species': 'Human', 'Gender': 'Female', 'Height': '1.74 meters (5\\'8.5\")', 'Eye color': 'Blue', 'Hair color': 'Dark brown', 'Powers': 'Flight', 'Allies': 'Apoc\\nDozer\\nLink\\nMouse\\nMorpheus\\nNeo\\nSwitch\\nTank', 'Enemies': 'Cypher\\nAgent Brown\\nAgent Jackson\\nAgent Johnson\\nAgent Jones\\nAgent Smith\\nAgent Thompson\\nThe Analyst'}\n",
            "{'url': 'https://matrix.fandom.com/wiki/Trinity', 'name': 'Trinity', 'Portrayed by': 'Carrie-Anne Moss', 'First appearance': 'The Matrix', 'Last appearance': 'The Matrix Resurrections', 'Appearances': 'The Matrix\\nThe Matrix Reloaded\\nEnter the Matrix\\nA Detective Story\\nThe Matrix Revolutions\\nThe Matrix: Path of Neo\\nThe Matrix Resurrections', 'Status': 'Alive (resurrected)', 'Nick name': 'Tiffany', 'Hacker name': 'Trinity', 'Age': '33 (Original trilogy)', 'Residence': 'Formerly:\\nZion', 'Romances': 'Neo', 'Species': 'Human', 'Gender': 'Female', 'Height': '1.74 meters (5\\'8.5\")', 'Eye color': 'Blue', 'Hair color': 'Dark brown', 'Powers': 'Flight', 'Allies': 'Apoc\\nDozer\\nLink\\nMouse\\nMorpheus\\nNeo\\nSwitch\\nTank', 'Enemies': 'Cypher\\nAgent Brown\\nAgent Jackson\\nAgent Johnson\\nAgent Jones\\nAgent Smith\\nAgent Thompson\\nThe Analyst'}\n",
            "{'url': 'https://matrix.fandom.com/wiki/Trinity', 'name': 'Trinity', 'Portrayed by': 'Carrie-Anne Moss', 'First appearance': 'The Matrix', 'Last appearance': 'The Matrix Resurrections', 'Appearances': 'The Matrix\\nThe Matrix Reloaded\\nEnter the Matrix\\nA Detective Story\\nThe Matrix Revolutions\\nThe Matrix: Path of Neo\\nThe Matrix Resurrections', 'Status': 'Alive (resurrected)', 'Nick name': 'Tiffany', 'Hacker name': 'Trinity', 'Age': '33 (Original trilogy)', 'Residence': 'Formerly:\\nZion', 'Romances': 'Neo', 'Species': 'Human', 'Gender': 'Female', 'Height': '1.74 meters (5\\'8.5\")', 'Eye color': 'Blue', 'Hair color': 'Dark brown', 'Powers': 'Flight', 'Allies': 'Apoc\\nDozer\\nLink\\nMouse\\nMorpheus\\nNeo\\nSwitch\\nTank', 'Enemies': 'Cypher\\nAgent Brown\\nAgent Jackson\\nAgent Johnson\\nAgent Jones\\nAgent Smith\\nAgent Thompson\\nThe Analyst'}\n",
            "{'url': 'https://matrix.fandom.com/wiki/Trinity', 'name': 'Trinity', 'Portrayed by': 'Carrie-Anne Moss', 'First appearance': 'The Matrix', 'Last appearance': 'The Matrix Resurrections', 'Appearances': 'The Matrix\\nThe Matrix Reloaded\\nEnter the Matrix\\nA Detective Story\\nThe Matrix Revolutions\\nThe Matrix: Path of Neo\\nThe Matrix Resurrections', 'Status': 'Alive (resurrected)', 'Nick name': 'Tiffany', 'Hacker name': 'Trinity', 'Age': '33 (Original trilogy)', 'Residence': 'Formerly:\\nZion', 'Romances': 'Neo', 'Species': 'Human', 'Gender': 'Female', 'Height': '1.74 meters (5\\'8.5\")', 'Eye color': 'Blue', 'Hair color': 'Dark brown', 'Powers': 'Flight', 'Allies': 'Apoc\\nDozer\\nLink\\nMouse\\nMorpheus\\nNeo\\nSwitch\\nTank', 'Enemies': 'Cypher\\nAgent Brown\\nAgent Jackson\\nAgent Johnson\\nAgent Jones\\nAgent Smith\\nAgent Thompson\\nThe Analyst'}\n",
            "{'url': 'https://matrix.fandom.com/wiki/Trinity', 'name': 'Trinity', 'Portrayed by': 'Carrie-Anne Moss', 'First appearance': 'The Matrix', 'Last appearance': 'The Matrix Resurrections', 'Appearances': 'The Matrix\\nThe Matrix Reloaded\\nEnter the Matrix\\nA Detective Story\\nThe Matrix Revolutions\\nThe Matrix: Path of Neo\\nThe Matrix Resurrections', 'Status': 'Alive (resurrected)', 'Nick name': 'Tiffany', 'Hacker name': 'Trinity', 'Age': '33 (Original trilogy)', 'Residence': 'Formerly:\\nZion', 'Romances': 'Neo', 'Species': 'Human', 'Gender': 'Female', 'Height': '1.74 meters (5\\'8.5\")', 'Eye color': 'Blue', 'Hair color': 'Dark brown', 'Powers': 'Flight', 'Allies': 'Apoc\\nDozer\\nLink\\nMouse\\nMorpheus\\nNeo\\nSwitch\\nTank', 'Enemies': 'Cypher\\nAgent Brown\\nAgent Jackson\\nAgent Johnson\\nAgent Jones\\nAgent Smith\\nAgent Thompson\\nThe Analyst'}\n",
            "{'url': 'https://matrix.fandom.com/wiki/Trinity', 'name': 'Trinity', 'Portrayed by': 'Carrie-Anne Moss', 'First appearance': 'The Matrix', 'Last appearance': 'The Matrix Resurrections', 'Appearances': 'The Matrix\\nThe Matrix Reloaded\\nEnter the Matrix\\nA Detective Story\\nThe Matrix Revolutions\\nThe Matrix: Path of Neo\\nThe Matrix Resurrections', 'Status': 'Alive (resurrected)', 'Nick name': 'Tiffany', 'Hacker name': 'Trinity', 'Age': '33 (Original trilogy)', 'Residence': 'Formerly:\\nZion', 'Romances': 'Neo', 'Species': 'Human', 'Gender': 'Female', 'Height': '1.74 meters (5\\'8.5\")', 'Eye color': 'Blue', 'Hair color': 'Dark brown', 'Powers': 'Flight', 'Allies': 'Apoc\\nDozer\\nLink\\nMouse\\nMorpheus\\nNeo\\nSwitch\\nTank', 'Enemies': 'Cypher\\nAgent Brown\\nAgent Jackson\\nAgent Johnson\\nAgent Jones\\nAgent Smith\\nAgent Thompson\\nThe Analyst'}\n"
          ]
        }
      ]
    },
    {
      "cell_type": "markdown",
      "source": [
        "Before continuing, we will store the character information into Neo4j. If you are using the Colab notebook, then it would be easiest to create either a free Neo4j Sandbox or free Aura database instance to store the results.\n",
        "Once you have created the Sandbox or the Aura environment, simply copy the connection details into the notebook."
      ],
      "metadata": {
        "id": "Cb24DLv8p0DD"
      }
    },
    {
      "cell_type": "code",
      "source": [
        "from neo4j import GraphDatabase\n",
        "# Change the host and user/password combination to your neo4j\n",
        "# Will not work with a localhost bolt url\n",
        "host = 'bolt://44.200.249.124:7687'\n",
        "user = 'neo4j'\n",
        "password = 'battle-manpower-sand'\n",
        "driver = GraphDatabase.driver(host,auth=(user, password))"
      ],
      "metadata": {
        "id": "s2taZG9V3xiH"
      },
      "execution_count": 15,
      "outputs": []
    },
    {
      "cell_type": "markdown",
      "source": [
        "Now that you have defined the connection to your Neo4j instance, you can go ahead and import the characters' information."
      ],
      "metadata": {
        "id": "cRWs1Q0Gp4BB"
      }
    },
    {
      "cell_type": "code",
      "source": [
        "entity_query = \"\"\"\n",
        "UNWIND $data as row\n",
        "CREATE (c:Character)\n",
        "SET c += row\n",
        "\"\"\"\n",
        "with driver.session() as session:\n",
        "  session.run(entity_query, {'data': member_list})"
      ],
      "metadata": {
        "id": "Gm8jt3y333nW"
      },
      "execution_count": null,
      "outputs": []
    },
    {
      "cell_type": "markdown",
      "source": [
        "At this moment, there are no connections in the database, just lonely and isolated nodes. If you wanted to, you could refactor some of the node properties such as Spouse to a relationship. However, we will skip this part and move on to constructing a co-occurrence network based on the movie script.\n",
        "## Using PyTesseract to read the Matrix movie script PDF\n",
        "The movie script is available on the Daily Script web page in PDF format. While no explicit license is stated, the web page says that the scripts are available for educational purposes, so we are good to go.\n",
        "We will use PyTesseract library to transform the PDF into a text format."
      ],
      "metadata": {
        "id": "oH0BUeAJp7u6"
      }
    },
    {
      "cell_type": "code",
      "source": [
        "import requests\n",
        "import pdf2image\n",
        "import pytesseract\n",
        "\n",
        "pdf_link = \"https://www.dailyscript.com/scripts/the_matrix.pdf\"\n",
        "\n",
        "pdf = requests.get(pdf_link)\n",
        "doc = pdf2image.convert_from_bytes(pdf.content)\n",
        "\n",
        "# Get the article text\n",
        "article = []\n",
        "for page_number, page_data in enumerate(doc):\n",
        "    # First page is the title\n",
        "    if page_number == 0:\n",
        "      continue\n",
        "    txt = pytesseract.image_to_string(page_data, lang='eng').encode(\"utf-8\")\n",
        "    article.append(txt.decode(\"utf-8\"))\n",
        "article_txt = \" \".join(article)"
      ],
      "metadata": {
        "id": "XcF4eb3u2qE_"
      },
      "execution_count": null,
      "outputs": []
    },
    {
      "cell_type": "markdown",
      "source": [
        "This process takes around 15 minutes, so you can use this time to take a break and perhaps stretch your legs.\n",
        "Before moving on to the character extraction step, we will perform a simple text cleanup and split the script by scenes."
      ],
      "metadata": {
        "id": "rYZbAALTqC2E"
      }
    },
    {
      "cell_type": "code",
      "source": [
        "# a bit of cleaning\n",
        "article_clean_txt = \"\\n\".join([line for line in article_txt.split(\"\\n\") if not \"THE MATRIX\" in line and not \"CONTINUED\" in line])"
      ],
      "metadata": {
        "id": "eEhFVZh5EMSm"
      },
      "execution_count": null,
      "outputs": []
    },
    {
      "cell_type": "code",
      "source": [
        "# Optionally store to file\n",
        "with open('/matrix_script.txt', 'w') as writefile:\n",
        "    writefile.write(article_clean_txt)\n",
        "\n",
        "from google.colab import files\n",
        "files.download('/matrix_script.txt')"
      ],
      "metadata": {
        "id": "irDkqb4u2WBM",
        "colab": {
          "base_uri": "https://localhost:8080/",
          "height": 17
        },
        "outputId": "8de54049-476f-43ef-9717-c651ad347725"
      },
      "execution_count": null,
      "outputs": [
        {
          "output_type": "display_data",
          "data": {
            "application/javascript": [
              "\n",
              "    async function download(id, filename, size) {\n",
              "      if (!google.colab.kernel.accessAllowed) {\n",
              "        return;\n",
              "      }\n",
              "      const div = document.createElement('div');\n",
              "      const label = document.createElement('label');\n",
              "      label.textContent = `Downloading \"${filename}\": `;\n",
              "      div.appendChild(label);\n",
              "      const progress = document.createElement('progress');\n",
              "      progress.max = size;\n",
              "      div.appendChild(progress);\n",
              "      document.body.appendChild(div);\n",
              "\n",
              "      const buffers = [];\n",
              "      let downloaded = 0;\n",
              "\n",
              "      const channel = await google.colab.kernel.comms.open(id);\n",
              "      // Send a message to notify the kernel that we're ready.\n",
              "      channel.send({})\n",
              "\n",
              "      for await (const message of channel.messages) {\n",
              "        // Send a message to notify the kernel that we're ready.\n",
              "        channel.send({})\n",
              "        if (message.buffers) {\n",
              "          for (const buffer of message.buffers) {\n",
              "            buffers.push(buffer);\n",
              "            downloaded += buffer.byteLength;\n",
              "            progress.value = downloaded;\n",
              "          }\n",
              "        }\n",
              "      }\n",
              "      const blob = new Blob(buffers, {type: 'application/binary'});\n",
              "      const a = document.createElement('a');\n",
              "      a.href = window.URL.createObjectURL(blob);\n",
              "      a.download = filename;\n",
              "      div.appendChild(a);\n",
              "      a.click();\n",
              "      div.remove();\n",
              "    }\n",
              "  "
            ],
            "text/plain": [
              "<IPython.core.display.Javascript object>"
            ]
          },
          "metadata": {}
        },
        {
          "output_type": "display_data",
          "data": {
            "application/javascript": [
              "download(\"download_c4ea18cc-50b2-4ce3-bd1e-41592b782403\", \"matrix_script.txt\", 136738)"
            ],
            "text/plain": [
              "<IPython.core.display.Javascript object>"
            ]
          },
          "metadata": {}
        }
      ]
    },
    {
      "cell_type": "code",
      "source": [
        "#Split by scenes\n",
        "scenes = []\n",
        "single_scene = []\n",
        "for line in article_clean_txt.split(\"\\n\"):\n",
        "  # If empty line\n",
        "  if not line or line.startswith(\"OMITTED\"):\n",
        "    continue\n",
        "  if line.startswith(\"INT.\") or line.startswith(\"EXT.\") or line.startswith(\"THE END\"):\n",
        "    scenes.append((\"\\n\").join(single_scene))\n",
        "    single_scene = []\n",
        "  single_scene.append(line)\n",
        "\n",
        "scene_names = [el.split(\"\\n\")[0] for el in scenes]"
      ],
      "metadata": {
        "id": "0hjOCB1XMXsZ"
      },
      "execution_count": null,
      "outputs": []
    },
    {
      "cell_type": "markdown",
      "source": [
        "Now that we have preprocessed the text, we will go ahead and identify all the characters that appear in a particular scene. Since we already know which characters to expect from our fandom scraping process, we'll use SpaCy's rule-based matcher to identify characters.\n",
        "A character name can appear in two forms. First, if the character is talking, its name is uppercased in the text. The second form is the title-cased version, where a character is mentioned by other persons or mentioned in the scene description. SpaCy makes it really easy to describe these two patterns.\n",
        "We will also omit the The word from the pattern definition. For example, the fandom page contains the character The Oracle. Therefore, we will skip the word The and only search for Oracle pattern.\n",
        "The following code will construct the SpaCy's matcher object used in the next step to identify characters."
      ],
      "metadata": {
        "id": "tZXIX9DqqGh6"
      }
    },
    {
      "cell_type": "code",
      "source": [
        "def get_matcher_patterns(name):\n",
        "  \"\"\"Function that construct a SpaCy rule-based pattern from a name\"\"\"\n",
        "  matcher_pattern = []\n",
        "  clean_name = name.replace(\"The\", \"\").strip()\n",
        "  parts_of_name = clean_name.split(\" \")\n",
        "  # Append the capitalized version\n",
        "  matcher_pattern.append([{\"LOWER\": n.lower(), \"IS_TITLE\": True} for n in parts_of_name])\n",
        "  # Append the uppercased version\n",
        "  matcher_pattern.append([{\"LOWER\": n.lower(), \"IS_UPPER\": True} for n in parts_of_name])\n",
        "  return matcher_pattern"
      ],
      "metadata": {
        "id": "oUJNww-irKbb"
      },
      "execution_count": null,
      "outputs": []
    },
    {
      "cell_type": "code",
      "source": [
        "import spacy\n",
        "from spacy.matcher import Matcher\n",
        "\n",
        "nlp = spacy.load('en_core_web_sm')\n",
        "matcher = Matcher(nlp.vocab)\n",
        "\n",
        "for m in member_list:\n",
        "  matcher.add(m['name'], get_matcher_patterns(m['name']))"
      ],
      "metadata": {
        "id": "mmh8emaIuqaL"
      },
      "execution_count": null,
      "outputs": []
    },
    {
      "cell_type": "markdown",
      "source": [
        "We have the text and the entity matcher ready. We will iterate over scenes, identify all the characters that appear in it, and store the results directly into Neo4j in one step."
      ],
      "metadata": {
        "id": "_27DMM1sqLeu"
      }
    },
    {
      "cell_type": "code",
      "source": [
        "x = 0\n",
        "\n",
        "for s, sn in zip(scenes, scene_names):\n",
        "  characters = set()\n",
        "  doc = nlp(s.replace(\"\\n\", \" \"))\n",
        "  matches = matcher(doc)\n",
        "  \n",
        "  for match_id, start, end in matches:\n",
        "    characters.add(str(doc[start:end]).lower())\n",
        "  \n",
        "  entity_query = \"\"\"\n",
        "      MERGE (s:Scene {id: $scene_id})\n",
        "      SET s.title = $scene_title\n",
        "      WITH s\n",
        "      UNWIND $characters as char\n",
        "      MATCH (c:Character)\n",
        "      WHERE toLower(c.name) = CASE WHEN NOT char IN [\"oracle\", \"priestess\"] THEN char ELSE \"the \" + char END\n",
        "      MERGE (c)-[:IN_SCENE]->(s)\n",
        "      \"\"\"\n",
        "  with driver.session() as session:\n",
        "    session.run(entity_query, {'scene_id': x, 'scene_title': sn, 'characters': list(characters)})\n",
        "\n",
        "  x += 1\n",
        "\n",
        "\n"
      ],
      "metadata": {
        "id": "e8HKDdY_u7xc"
      },
      "execution_count": null,
      "outputs": []
    },
    {
      "cell_type": "markdown",
      "source": [
        "That's how easy it is to extract information from the movie script and store the output into Neo4j.\n",
        "Now we will move on to the network analysis part of this blog. First, we will evaluate all the characters that didn't appear in any scene."
      ],
      "metadata": {
        "id": "irqmAuCEqRRr"
      }
    },
    {
      "cell_type": "code",
      "source": [
        "import pandas as pd\n",
        "\n",
        "def read_query(query, params=None):\n",
        "    with driver.session() as session:\n",
        "        result = session.run(query, params)\n",
        "        return pd.DataFrame([r.values() for r in result], columns=result.keys())"
      ],
      "metadata": {
        "id": "ua3ndpdIwWJK"
      },
      "execution_count": null,
      "outputs": []
    },
    {
      "cell_type": "code",
      "source": [
        "read_query(\"\"\"\n",
        "MATCH (n:Character) WHERE NOT (n)--()\n",
        "RETURN n.name\n",
        "\"\"\")"
      ],
      "metadata": {
        "id": "kT93Lk-l7Ep7",
        "outputId": "3271e751-75be-4e02-8d52-f282f93fa66f",
        "colab": {
          "base_uri": "https://localhost:8080/",
          "height": 426
        }
      },
      "execution_count": null,
      "outputs": [
        {
          "output_type": "execute_result",
          "data": {
            "text/html": [
              "<div>\n",
              "<style scoped>\n",
              "    .dataframe tbody tr th:only-of-type {\n",
              "        vertical-align: middle;\n",
              "    }\n",
              "\n",
              "    .dataframe tbody tr th {\n",
              "        vertical-align: top;\n",
              "    }\n",
              "\n",
              "    .dataframe thead th {\n",
              "        text-align: right;\n",
              "    }\n",
              "</style>\n",
              "<table border=\"1\" class=\"dataframe\">\n",
              "  <thead>\n",
              "    <tr style=\"text-align: right;\">\n",
              "      <th></th>\n",
              "      <th>n.name</th>\n",
              "    </tr>\n",
              "  </thead>\n",
              "  <tbody>\n",
              "    <tr>\n",
              "      <th>0</th>\n",
              "      <td>Austin</td>\n",
              "    </tr>\n",
              "    <tr>\n",
              "      <th>1</th>\n",
              "      <td>Crawford</td>\n",
              "    </tr>\n",
              "    <tr>\n",
              "      <th>2</th>\n",
              "      <td>FedEx Man</td>\n",
              "    </tr>\n",
              "    <tr>\n",
              "      <th>3</th>\n",
              "      <td>Garcia</td>\n",
              "    </tr>\n",
              "    <tr>\n",
              "      <th>4</th>\n",
              "      <td>Green</td>\n",
              "    </tr>\n",
              "    <tr>\n",
              "      <th>5</th>\n",
              "      <td>Kim</td>\n",
              "    </tr>\n",
              "    <tr>\n",
              "      <th>6</th>\n",
              "      <td>Law Enforcement</td>\n",
              "    </tr>\n",
              "    <tr>\n",
              "      <th>7</th>\n",
              "      <td>Nguyen</td>\n",
              "    </tr>\n",
              "    <tr>\n",
              "      <th>8</th>\n",
              "      <td>S.W.A.T.</td>\n",
              "    </tr>\n",
              "    <tr>\n",
              "      <th>9</th>\n",
              "      <td>Security Guards</td>\n",
              "    </tr>\n",
              "    <tr>\n",
              "      <th>10</th>\n",
              "      <td>System aligned bluepills</td>\n",
              "    </tr>\n",
              "    <tr>\n",
              "      <th>11</th>\n",
              "      <td>Woman in Red</td>\n",
              "    </tr>\n",
              "  </tbody>\n",
              "</table>\n",
              "</div>"
            ],
            "text/plain": [
              "                      n.name\n",
              "0                     Austin\n",
              "1                   Crawford\n",
              "2                  FedEx Man\n",
              "3                     Garcia\n",
              "4                      Green\n",
              "5                        Kim\n",
              "6            Law Enforcement\n",
              "7                     Nguyen\n",
              "8                   S.W.A.T.\n",
              "9            Security Guards\n",
              "10  System aligned bluepills\n",
              "11              Woman in Red"
            ]
          },
          "metadata": {},
          "execution_count": 92
        }
      ]
    },
    {
      "cell_type": "markdown",
      "source": [
        "Twelve characters weren't identified in any scene. I don't remember any of the characters except the Woman in Red. Probably she is mentioned as the red woman or something similar in the text, so our pattern matcher didn't identify her. Of course, we could fine-tune the patterns to include these types of exceptions, but overall, it seems that the main characters were identified.\n",
        "Next, we will examine the characters that appeared in most scenes."
      ],
      "metadata": {
        "id": "NDE0p1BcqV6o"
      }
    },
    {
      "cell_type": "code",
      "source": [
        "read_query(\"\"\"\n",
        "MATCH (n:Character)\n",
        "RETURN n.name AS character,\n",
        "       size((n)-[:IN_SCENE]->()) as scenes\n",
        "ORDER BY scenes DESC\n",
        "LIMIT 5\n",
        "\"\"\")"
      ],
      "metadata": {
        "id": "798wpGJO7KkA",
        "outputId": "78e644ce-7d55-4a47-932a-e7f104c3cf9f",
        "colab": {
          "base_uri": "https://localhost:8080/",
          "height": 206
        }
      },
      "execution_count": null,
      "outputs": [
        {
          "output_type": "execute_result",
          "data": {
            "text/html": [
              "<div>\n",
              "<style scoped>\n",
              "    .dataframe tbody tr th:only-of-type {\n",
              "        vertical-align: middle;\n",
              "    }\n",
              "\n",
              "    .dataframe tbody tr th {\n",
              "        vertical-align: top;\n",
              "    }\n",
              "\n",
              "    .dataframe thead th {\n",
              "        text-align: right;\n",
              "    }\n",
              "</style>\n",
              "<table border=\"1\" class=\"dataframe\">\n",
              "  <thead>\n",
              "    <tr style=\"text-align: right;\">\n",
              "      <th></th>\n",
              "      <th>character</th>\n",
              "      <th>scenes</th>\n",
              "    </tr>\n",
              "  </thead>\n",
              "  <tbody>\n",
              "    <tr>\n",
              "      <th>0</th>\n",
              "      <td>Neo</td>\n",
              "      <td>115</td>\n",
              "    </tr>\n",
              "    <tr>\n",
              "      <th>1</th>\n",
              "      <td>Morpheus</td>\n",
              "      <td>87</td>\n",
              "    </tr>\n",
              "    <tr>\n",
              "      <th>2</th>\n",
              "      <td>Trinity</td>\n",
              "      <td>77</td>\n",
              "    </tr>\n",
              "    <tr>\n",
              "      <th>3</th>\n",
              "      <td>Tank</td>\n",
              "      <td>58</td>\n",
              "    </tr>\n",
              "    <tr>\n",
              "      <th>4</th>\n",
              "      <td>Agent Smith</td>\n",
              "      <td>36</td>\n",
              "    </tr>\n",
              "  </tbody>\n",
              "</table>\n",
              "</div>"
            ],
            "text/plain": [
              "     character  scenes\n",
              "0          Neo     115\n",
              "1     Morpheus      87\n",
              "2      Trinity      77\n",
              "3         Tank      58\n",
              "4  Agent Smith      36"
            ]
          },
          "metadata": {},
          "execution_count": 93
        }
      ]
    },
    {
      "cell_type": "markdown",
      "source": [
        "Nothing shocking here. Neo appeared in more than half of the scenes, followed by Morpheus and Trinity. Only Emil Eifrem is surprisingly missing from this list.\n",
        "We can define the co-occurrence event as a pair of characters that appeared in the same scene. In this context, co-occurrence can also be understood as an interaction. The more scenes a duo of characters appeared in, the more they interacted in the movie.\n",
        "We can evaluate which characters interacted the most by executing the following Cypher statement."
      ],
      "metadata": {
        "id": "WYXMPYxkqael"
      }
    },
    {
      "cell_type": "code",
      "source": [
        "read_query(\"\"\"\n",
        "MATCH (n1:Character)-[:IN_SCENE]->()<-[:IN_SCENE]-(n2:Character)\n",
        "WHERE id(n1) < id(n2)\n",
        "RETURN n1.name AS character1,\n",
        "       n2.name AS character2,\n",
        "       count(*) AS count\n",
        "ORDER BY count DESC\n",
        "LIMIT 5\n",
        "\"\"\")"
      ],
      "metadata": {
        "id": "CUsjI8c4-JaJ",
        "outputId": "8f9c53d7-dd96-458b-c47a-6e151c2125aa",
        "colab": {
          "base_uri": "https://localhost:8080/",
          "height": 206
        }
      },
      "execution_count": null,
      "outputs": [
        {
          "output_type": "execute_result",
          "data": {
            "text/html": [
              "<div>\n",
              "<style scoped>\n",
              "    .dataframe tbody tr th:only-of-type {\n",
              "        vertical-align: middle;\n",
              "    }\n",
              "\n",
              "    .dataframe tbody tr th {\n",
              "        vertical-align: top;\n",
              "    }\n",
              "\n",
              "    .dataframe thead th {\n",
              "        text-align: right;\n",
              "    }\n",
              "</style>\n",
              "<table border=\"1\" class=\"dataframe\">\n",
              "  <thead>\n",
              "    <tr style=\"text-align: right;\">\n",
              "      <th></th>\n",
              "      <th>character1</th>\n",
              "      <th>character2</th>\n",
              "      <th>count</th>\n",
              "    </tr>\n",
              "  </thead>\n",
              "  <tbody>\n",
              "    <tr>\n",
              "      <th>0</th>\n",
              "      <td>Morpheus</td>\n",
              "      <td>Neo</td>\n",
              "      <td>59</td>\n",
              "    </tr>\n",
              "    <tr>\n",
              "      <th>1</th>\n",
              "      <td>Neo</td>\n",
              "      <td>Trinity</td>\n",
              "      <td>55</td>\n",
              "    </tr>\n",
              "    <tr>\n",
              "      <th>2</th>\n",
              "      <td>Morpheus</td>\n",
              "      <td>Trinity</td>\n",
              "      <td>34</td>\n",
              "    </tr>\n",
              "    <tr>\n",
              "      <th>3</th>\n",
              "      <td>Neo</td>\n",
              "      <td>Tank</td>\n",
              "      <td>26</td>\n",
              "    </tr>\n",
              "    <tr>\n",
              "      <th>4</th>\n",
              "      <td>Morpheus</td>\n",
              "      <td>Tank</td>\n",
              "      <td>26</td>\n",
              "    </tr>\n",
              "  </tbody>\n",
              "</table>\n",
              "</div>"
            ],
            "text/plain": [
              "  character1 character2  count\n",
              "0   Morpheus        Neo     59\n",
              "1        Neo    Trinity     55\n",
              "2   Morpheus    Trinity     34\n",
              "3        Neo       Tank     26\n",
              "4   Morpheus       Tank     26"
            ]
          },
          "metadata": {},
          "execution_count": 95
        }
      ]
    },
    {
      "cell_type": "markdown",
      "source": [
        "Most interactions occurred between Neo, Morpheus, Trinity, and Tank. If you watched the movie, this all makes sense.\n",
        "Lastly, we can infer the co-occurrence network between characters and perform a network analysis of it. We will simply count the number of interactions between a pair of characters and store the information as a relationship."
      ],
      "metadata": {
        "id": "WiRl2o2NqeqY"
      }
    },
    {
      "cell_type": "code",
      "source": [
        "read_query(\"\"\"\n",
        "MATCH (n1:Character)-[:IN_SCENE]->()<-[:IN_SCENE]-(n2:Character)\n",
        "WHERE id(n1) < id(n2)\n",
        "WITH n1, n2, count(*) AS count\n",
        "MERGE (n1)-[r:INTERACTS]-(n2)\n",
        "SET r.weight = count\n",
        "\"\"\")"
      ],
      "metadata": {
        "id": "e6eQMgM7-bQm",
        "outputId": "3fbe2655-01c8-4a93-aba2-a15ad0d6f66c",
        "colab": {
          "base_uri": "https://localhost:8080/",
          "height": 32
        }
      },
      "execution_count": null,
      "outputs": [
        {
          "output_type": "execute_result",
          "data": {
            "text/html": [
              "<div>\n",
              "<style scoped>\n",
              "    .dataframe tbody tr th:only-of-type {\n",
              "        vertical-align: middle;\n",
              "    }\n",
              "\n",
              "    .dataframe tbody tr th {\n",
              "        vertical-align: top;\n",
              "    }\n",
              "\n",
              "    .dataframe thead th {\n",
              "        text-align: right;\n",
              "    }\n",
              "</style>\n",
              "<table border=\"1\" class=\"dataframe\">\n",
              "  <thead>\n",
              "    <tr style=\"text-align: right;\">\n",
              "      <th></th>\n",
              "    </tr>\n",
              "  </thead>\n",
              "  <tbody>\n",
              "  </tbody>\n",
              "</table>\n",
              "</div>"
            ],
            "text/plain": [
              "Empty DataFrame\n",
              "Columns: []\n",
              "Index: []"
            ]
          },
          "metadata": {},
          "execution_count": 96
        }
      ]
    },
    {
      "cell_type": "markdown",
      "source": [
        "## Graph Data Science library\n",
        "Neo4j features a Graph Data Science library with more than 50 graph algorithms ranging from centrality, community detection, and node embedding categories.\n",
        "We will use PageRank to evaluate node importance and Louvain to determine the community structure of the inferred co-occurrence network. Instead of inspecting each algorithm result separately, we will store the results and construct a network visualization that visualizes both node importance and community structure.\n",
        "First, we have to project an in-memory graph in order to be able to execute graph algorithms on it. Notice that we project the co-occurrence relationship as undirected. For example, if Neo interacted with Trinity, this directly implies that Trinity also interacted with Neo."
      ],
      "metadata": {
        "id": "NH-ZYRPgqjcR"
      }
    },
    {
      "cell_type": "code",
      "source": [
        "read_query(\"\"\"\n",
        "CALL gds.graph.create(\"matrix\", \"Character\", {INTERACTS: {orientation:\"UNDIRECTED\", properties:\"weight\"}})\n",
        "\"\"\")"
      ],
      "metadata": {
        "id": "9iwdgR5k_CcI",
        "outputId": "04145981-1ef1-4350-de27-897603147ab0",
        "colab": {
          "base_uri": "https://localhost:8080/",
          "height": 81
        }
      },
      "execution_count": null,
      "outputs": [
        {
          "output_type": "execute_result",
          "data": {
            "text/html": [
              "<div>\n",
              "<style scoped>\n",
              "    .dataframe tbody tr th:only-of-type {\n",
              "        vertical-align: middle;\n",
              "    }\n",
              "\n",
              "    .dataframe tbody tr th {\n",
              "        vertical-align: top;\n",
              "    }\n",
              "\n",
              "    .dataframe thead th {\n",
              "        text-align: right;\n",
              "    }\n",
              "</style>\n",
              "<table border=\"1\" class=\"dataframe\">\n",
              "  <thead>\n",
              "    <tr style=\"text-align: right;\">\n",
              "      <th></th>\n",
              "      <th>nodeProjection</th>\n",
              "      <th>relationshipProjection</th>\n",
              "      <th>graphName</th>\n",
              "      <th>nodeCount</th>\n",
              "      <th>relationshipCount</th>\n",
              "      <th>createMillis</th>\n",
              "    </tr>\n",
              "  </thead>\n",
              "  <tbody>\n",
              "    <tr>\n",
              "      <th>0</th>\n",
              "      <td>{'Character': {'properties': {}, 'label': 'Cha...</td>\n",
              "      <td>{'INTERACTS': {'orientation': 'UNDIRECTED', 'a...</td>\n",
              "      <td>matrix</td>\n",
              "      <td>33</td>\n",
              "      <td>176</td>\n",
              "      <td>55</td>\n",
              "    </tr>\n",
              "  </tbody>\n",
              "</table>\n",
              "</div>"
            ],
            "text/plain": [
              "                                      nodeProjection  ... createMillis\n",
              "0  {'Character': {'properties': {}, 'label': 'Cha...  ...           55\n",
              "\n",
              "[1 rows x 6 columns]"
            ]
          },
          "metadata": {},
          "execution_count": 98
        }
      ]
    },
    {
      "cell_type": "markdown",
      "source": [
        "Now we can go ahead and execute the weighted PageRank algorithm and store the results back to Neo4j."
      ],
      "metadata": {
        "id": "a27Y1pmzqnTa"
      }
    },
    {
      "cell_type": "code",
      "source": [
        "read_query(\"\"\"\n",
        "CALL gds.pageRank.write(\"matrix\", {relationshipWeightProperty:\"weight\", writeProperty:\"pagerank\"})\n",
        "\"\"\")"
      ],
      "metadata": {
        "id": "lajr740m_Ixm",
        "outputId": "9ea0571f-e43a-415c-e1ee-1af4ac1ac506",
        "colab": {
          "base_uri": "https://localhost:8080/",
          "height": 81
        }
      },
      "execution_count": null,
      "outputs": [
        {
          "output_type": "execute_result",
          "data": {
            "text/html": [
              "<div>\n",
              "<style scoped>\n",
              "    .dataframe tbody tr th:only-of-type {\n",
              "        vertical-align: middle;\n",
              "    }\n",
              "\n",
              "    .dataframe tbody tr th {\n",
              "        vertical-align: top;\n",
              "    }\n",
              "\n",
              "    .dataframe thead th {\n",
              "        text-align: right;\n",
              "    }\n",
              "</style>\n",
              "<table border=\"1\" class=\"dataframe\">\n",
              "  <thead>\n",
              "    <tr style=\"text-align: right;\">\n",
              "      <th></th>\n",
              "      <th>writeMillis</th>\n",
              "      <th>nodePropertiesWritten</th>\n",
              "      <th>ranIterations</th>\n",
              "      <th>didConverge</th>\n",
              "      <th>centralityDistribution</th>\n",
              "      <th>postProcessingMillis</th>\n",
              "      <th>createMillis</th>\n",
              "      <th>computeMillis</th>\n",
              "      <th>configuration</th>\n",
              "    </tr>\n",
              "  </thead>\n",
              "  <tbody>\n",
              "    <tr>\n",
              "      <th>0</th>\n",
              "      <td>12</td>\n",
              "      <td>33</td>\n",
              "      <td>20</td>\n",
              "      <td>False</td>\n",
              "      <td>{'p99': 3.6682729721069336, 'min': 0.149999618...</td>\n",
              "      <td>29</td>\n",
              "      <td>0</td>\n",
              "      <td>278</td>\n",
              "      <td>{'maxIterations': 20, 'writeConcurrency': 4, '...</td>\n",
              "    </tr>\n",
              "  </tbody>\n",
              "</table>\n",
              "</div>"
            ],
            "text/plain": [
              "   writeMillis  ...                                      configuration\n",
              "0           12  ...  {'maxIterations': 20, 'writeConcurrency': 4, '...\n",
              "\n",
              "[1 rows x 9 columns]"
            ]
          },
          "metadata": {},
          "execution_count": 101
        }
      ]
    },
    {
      "cell_type": "markdown",
      "source": [
        "Lastly, we execute the weighted Louvain algorithm to deduce the community structure and store the results in the database."
      ],
      "metadata": {
        "id": "nLLnxq9iqpcD"
      }
    },
    {
      "cell_type": "code",
      "source": [
        "read_query(\"\"\"\n",
        "CALL gds.louvain.write(\"matrix\", {relationshipWeightProperty:\"weight\", writeProperty:\"louvain\"})\n",
        "\"\"\")"
      ],
      "metadata": {
        "id": "QY9UMioU_hCI",
        "outputId": "c74349e7-61eb-4c64-e1af-5712cc6982f0",
        "colab": {
          "base_uri": "https://localhost:8080/",
          "height": 98
        }
      },
      "execution_count": null,
      "outputs": [
        {
          "output_type": "execute_result",
          "data": {
            "text/html": [
              "<div>\n",
              "<style scoped>\n",
              "    .dataframe tbody tr th:only-of-type {\n",
              "        vertical-align: middle;\n",
              "    }\n",
              "\n",
              "    .dataframe tbody tr th {\n",
              "        vertical-align: top;\n",
              "    }\n",
              "\n",
              "    .dataframe thead th {\n",
              "        text-align: right;\n",
              "    }\n",
              "</style>\n",
              "<table border=\"1\" class=\"dataframe\">\n",
              "  <thead>\n",
              "    <tr style=\"text-align: right;\">\n",
              "      <th></th>\n",
              "      <th>writeMillis</th>\n",
              "      <th>nodePropertiesWritten</th>\n",
              "      <th>modularity</th>\n",
              "      <th>modularities</th>\n",
              "      <th>ranLevels</th>\n",
              "      <th>communityCount</th>\n",
              "      <th>communityDistribution</th>\n",
              "      <th>postProcessingMillis</th>\n",
              "      <th>createMillis</th>\n",
              "      <th>computeMillis</th>\n",
              "      <th>configuration</th>\n",
              "    </tr>\n",
              "  </thead>\n",
              "  <tbody>\n",
              "    <tr>\n",
              "      <th>0</th>\n",
              "      <td>13</td>\n",
              "      <td>33</td>\n",
              "      <td>0.08213</td>\n",
              "      <td>[0.07350871374383017, 0.08213048458616334]</td>\n",
              "      <td>2</td>\n",
              "      <td>16</td>\n",
              "      <td>{'p99': 11, 'min': 1, 'max': 11, 'mean': 2.062...</td>\n",
              "      <td>2</td>\n",
              "      <td>0</td>\n",
              "      <td>893</td>\n",
              "      <td>{'maxIterations': 10, 'writeConcurrency': 4, '...</td>\n",
              "    </tr>\n",
              "  </tbody>\n",
              "</table>\n",
              "</div>"
            ],
            "text/plain": [
              "   writeMillis  ...                                      configuration\n",
              "0           13  ...  {'maxIterations': 10, 'writeConcurrency': 4, '...\n",
              "\n",
              "[1 rows x 11 columns]"
            ]
          },
          "metadata": {},
          "execution_count": 102
        }
      ]
    },
    {
      "cell_type": "markdown",
      "source": [
        "Open Neo4j Bloom to visualize the results"
      ],
      "metadata": {
        "id": "BWwukJRpqqsx"
      }
    },
    {
      "cell_type": "code",
      "source": [
        ""
      ],
      "metadata": {
        "id": "pcDGw2p1_kcG"
      },
      "execution_count": null,
      "outputs": []
    }
  ]
}