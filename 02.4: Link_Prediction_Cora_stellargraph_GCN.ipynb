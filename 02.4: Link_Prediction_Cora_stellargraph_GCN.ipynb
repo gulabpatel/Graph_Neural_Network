{
  "nbformat": 4,
  "nbformat_minor": 0,
  "metadata": {
    "file_extension": ".py",
    "kernelspec": {
      "display_name": "Python 3",
      "language": "python",
      "name": "python3"
    },
    "language_info": {
      "codemirror_mode": {
        "name": "ipython",
        "version": 3
      },
      "file_extension": ".py",
      "mimetype": "text/x-python",
      "name": "python",
      "nbconvert_exporter": "python",
      "pygments_lexer": "ipython3",
      "version": "3.6.9"
    },
    "mimetype": "text/x-python",
    "name": "python",
    "npconvert_exporter": "python",
    "pygments_lexer": "ipython3",
    "version": 3,
    "colab": {
      "name": "02.4: Link_Prediction_Cora_stellargraph_GCN.ipynb",
      "provenance": [],
      "include_colab_link": true
    }
  },
  "cells": [
    {
      "cell_type": "markdown",
      "metadata": {
        "id": "view-in-github",
        "colab_type": "text"
      },
      "source": [
        "<a href=\"https://colab.research.google.com/github/gulabpatel/Graph_Neural_Network/blob/main/02.4%3A%20Link_Prediction_Cora_stellargraph_GCN.ipynb\" target=\"_parent\"><img src=\"https://colab.research.google.com/assets/colab-badge.svg\" alt=\"Open In Colab\"/></a>"
      ]
    },
    {
      "cell_type": "markdown",
      "metadata": {
        "id": "VQeuADm6baHg"
      },
      "source": [
        "# Link prediction with GCN"
      ]
    },
    {
      "cell_type": "markdown",
      "metadata": {
        "id": "ykCSvKW4baHm"
      },
      "source": [
        "In this example, we use our implementation of the [GCN](https://arxiv.org/abs/1609.02907) algorithm to build a model that predicts citation links in the Cora dataset (see below). The problem is treated as a supervised link prediction problem on a homogeneous citation network with nodes representing papers (with attributes such as binary keyword indicators and categorical subject) and links corresponding to paper-paper citations. \n",
        "\n",
        "To address this problem, we build a model with the following architecture. First we build a two-layer GCN model that takes labeled node pairs (`citing-paper` -> `cited-paper`)  corresponding to possible citation links, and outputs a pair of node embeddings for the `citing-paper` and `cited-paper` nodes of the pair. These embeddings are then fed into a link classification layer, which first applies a binary operator to those node embeddings (e.g., concatenating them) to construct the embedding of the potential link. Thus obtained link embeddings are passed through the dense link classification layer to obtain link predictions - probability for these candidate links to actually exist in the network. The entire model is trained end-to-end by minimizing the loss function of choice (e.g., binary cross-entropy between predicted link probabilities and true link labels, with true/false citation links having labels 1/0) using stochastic gradient descent (SGD) updates of the model parameters, with minibatches of 'training' links fed into the model."
      ]
    },
    {
      "cell_type": "code",
      "metadata": {
        "nbsphinx": "hidden",
        "tags": [
          "CloudRunner"
        ],
        "id": "V4HEk9H3baHo",
        "colab": {
          "base_uri": "https://localhost:8080/"
        },
        "outputId": "cfd215fb-82f3-49a5-fae8-8e46cfef096c"
      },
      "source": [
        "# install StellarGraph if running on Google Colab\n",
        "import sys\n",
        "#if 'google.colab' in sys.modules:\n",
        "%pip install -q stellargraph[demos]==1.2.1"
      ],
      "execution_count": null,
      "outputs": [
        {
          "output_type": "stream",
          "text": [
            "\u001b[K     |████████████████████████████████| 435 kB 12.7 MB/s \n",
            "\u001b[K     |████████████████████████████████| 376 kB 58.3 MB/s \n",
            "\u001b[K     |████████████████████████████████| 45 kB 3.4 MB/s \n",
            "\u001b[?25h  Building wheel for mplleaflet (setup.py) ... \u001b[?25l\u001b[?25hdone\n"
          ],
          "name": "stdout"
        }
      ]
    },
    {
      "cell_type": "code",
      "metadata": {
        "nbsphinx": "hidden",
        "tags": [
          "VersionCheck"
        ],
        "id": "mEJa2m_qbaHp"
      },
      "source": [
        "# # verify that we're using the correct version of StellarGraph for this notebook\n",
        "# import stellargraph as sg\n",
        "\n",
        "# try:\n",
        "#     sg.utils.validate_notebook_version(\"1.2.1\")\n",
        "# except AttributeError:\n",
        "#     raise ValueError(\n",
        "#         f\"This notebook requires StellarGraph version 1.2.1, but a different version {sg.__version__} is installed.  Please see <https://github.com/stellargraph/stellargraph/issues/1172>.\"\n",
        "#     ) from None"
      ],
      "execution_count": null,
      "outputs": []
    },
    {
      "cell_type": "code",
      "metadata": {
        "id": "dU0lG6uEbaHq"
      },
      "source": [
        "import stellargraph as sg\n",
        "from stellargraph.data import EdgeSplitter\n",
        "from stellargraph.mapper import FullBatchLinkGenerator\n",
        "from stellargraph.layer import GCN, LinkEmbedding\n",
        "\n",
        "\n",
        "from tensorflow import keras\n",
        "from sklearn import preprocessing, feature_extraction, model_selection\n",
        "\n",
        "from stellargraph import globalvar\n",
        "from stellargraph import datasets\n",
        "from IPython.display import display, HTML\n",
        "%matplotlib inline"
      ],
      "execution_count": null,
      "outputs": []
    },
    {
      "cell_type": "markdown",
      "metadata": {
        "id": "8hZEAD8FbaHr"
      },
      "source": [
        "## Loading the CORA network data"
      ]
    },
    {
      "cell_type": "markdown",
      "metadata": {
        "tags": [
          "DataLoadingLinks"
        ],
        "id": "mcf6Ntb1baHt"
      },
      "source": [
        "(See [the \"Loading from Pandas\" demo](../basics/loading-pandas.ipynb) for details on how data can be loaded.)"
      ]
    },
    {
      "cell_type": "code",
      "metadata": {
        "tags": [
          "DataLoading"
        ],
        "id": "-nJ-5HPrbaHv",
        "colab": {
          "base_uri": "https://localhost:8080/",
          "height": 52
        },
        "outputId": "5796130d-2fe4-41a3-fc62-a14f977ae8a8"
      },
      "source": [
        "dataset = datasets.Cora()\n",
        "display(HTML(dataset.description))\n",
        "G, _ = dataset.load(subject_as_feature=True)"
      ],
      "execution_count": null,
      "outputs": [
        {
          "output_type": "display_data",
          "data": {
            "text/html": [
              "The Cora dataset consists of 2708 scientific publications classified into one of seven classes. The citation network consists of 5429 links. Each publication in the dataset is described by a 0/1-valued word vector indicating the absence/presence of the corresponding word from the dictionary. The dictionary consists of 1433 unique words."
            ],
            "text/plain": [
              "<IPython.core.display.HTML object>"
            ]
          },
          "metadata": {
            "tags": []
          }
        }
      ]
    },
    {
      "cell_type": "code",
      "metadata": {
        "id": "Q-4-zPQfbaHz",
        "colab": {
          "base_uri": "https://localhost:8080/"
        },
        "outputId": "289c950b-7e21-4a80-dd31-3416b9955d78"
      },
      "source": [
        "print(G.info())"
      ],
      "execution_count": null,
      "outputs": [
        {
          "output_type": "stream",
          "text": [
            "StellarGraph: Undirected multigraph\n",
            " Nodes: 2708, Edges: 5429\n",
            "\n",
            " Node types:\n",
            "  paper: [2708]\n",
            "    Features: float32 vector, length 1440\n",
            "    Edge types: paper-cites->paper\n",
            "\n",
            " Edge types:\n",
            "    paper-cites->paper: [5429]\n",
            "        Weights: all 1 (default)\n",
            "        Features: none\n"
          ],
          "name": "stdout"
        }
      ]
    },
    {
      "cell_type": "markdown",
      "metadata": {
        "id": "0ABB0TVUbaHz"
      },
      "source": [
        "We aim to train a link prediction model, hence we need to prepare the train and test sets of links and the corresponding graphs with those links removed.\n",
        "\n",
        "We are going to split our input graph into a train and test graphs using the EdgeSplitter class in `stellargraph.data`. We will use the train graph for training the model (a binary classifier that, given two nodes, predicts whether a link between these two nodes should exist or not) and the test graph for evaluating the model's performance on hold out data.\n",
        "Each of these graphs will have the same number of nodes as the input graph, but the number of links will differ (be reduced) as some of the links will be removed during each split and used as the positive samples for training/testing the link prediction classifier."
      ]
    },
    {
      "cell_type": "markdown",
      "metadata": {
        "id": "6mIE-NrYbaH0"
      },
      "source": [
        "From the original graph G, extract a randomly sampled subset of test edges (true and false citation links) and the reduced graph G_test with the positive test edges removed:"
      ]
    },
    {
      "cell_type": "code",
      "metadata": {
        "id": "MC3yFN_KbaH1",
        "outputId": "07ceb834-3c3f-4d3f-a1a9-f9728b0e8780"
      },
      "source": [
        "# Define an edge splitter on the original graph G:\n",
        "edge_splitter_test = EdgeSplitter(G)\n",
        "\n",
        "# Randomly sample a fraction p=0.1 of all positive links, and same number of negative links, from G, and obtain the\n",
        "# reduced graph G_test with the sampled links removed:\n",
        "G_test, edge_ids_test, edge_labels_test = edge_splitter_test.train_test_split(\n",
        "    p=0.1, method=\"global\", keep_connected=True\n",
        ")"
      ],
      "execution_count": null,
      "outputs": [
        {
          "output_type": "stream",
          "text": [
            "** Sampled 542 positive and 542 negative edges. **\n"
          ],
          "name": "stdout"
        }
      ]
    },
    {
      "cell_type": "markdown",
      "metadata": {
        "id": "mKjcgkLPbaH3"
      },
      "source": [
        "The reduced graph G_test, together with the test ground truth set of links (edge_ids_test, edge_labels_test), will be used for testing the model.\n",
        "\n",
        "Now repeat this procedure to obtain the training data for the model. From the reduced graph G_test, extract a randomly sampled subset of train edges (true and false citation links) and the reduced graph G_train with the positive train edges removed:"
      ]
    },
    {
      "cell_type": "code",
      "metadata": {
        "id": "dgXWKbtTbaH3",
        "outputId": "455607f5-5872-4125-a0be-f5d7287e0a52"
      },
      "source": [
        "# Define an edge splitter on the reduced graph G_test:\n",
        "edge_splitter_train = EdgeSplitter(G_test)\n",
        "\n",
        "# Randomly sample a fraction p=0.1 of all positive links, and same number of negative links, from G_test, and obtain the\n",
        "# reduced graph G_train with the sampled links removed:\n",
        "G_train, edge_ids_train, edge_labels_train = edge_splitter_train.train_test_split(\n",
        "    p=0.1, method=\"global\", keep_connected=True\n",
        ")"
      ],
      "execution_count": null,
      "outputs": [
        {
          "output_type": "stream",
          "text": [
            "** Sampled 488 positive and 488 negative edges. **\n"
          ],
          "name": "stdout"
        }
      ]
    },
    {
      "cell_type": "markdown",
      "metadata": {
        "id": "JjS02c_KbaH4"
      },
      "source": [
        "G_train, together with the train ground truth set of links (edge_ids_train, edge_labels_train), will be used for training the model."
      ]
    },
    {
      "cell_type": "markdown",
      "metadata": {
        "id": "h9TCrYmZbaH4"
      },
      "source": [
        "## Creating the GCN link model"
      ]
    },
    {
      "cell_type": "markdown",
      "metadata": {
        "id": "b8oPyRxNbaH4"
      },
      "source": [
        "Next, we create the link generators for the train and test link examples to the model. The link generators take the pairs of nodes (`citing-paper`, `cited-paper`) that are given in the `.flow` method to the Keras model, together with the corresponding binary labels indicating whether those pairs represent true or false links.\n",
        "\n",
        "The number of epochs for training the model:"
      ]
    },
    {
      "cell_type": "code",
      "metadata": {
        "id": "B5MlMgSTbaH4"
      },
      "source": [
        "epochs = 50"
      ],
      "execution_count": null,
      "outputs": []
    },
    {
      "cell_type": "markdown",
      "metadata": {
        "id": "d4zcgKYxbaH5"
      },
      "source": [
        "For training we create a generator on the `G_train` graph, and make an iterator over the training links using the generator's `flow()` method:"
      ]
    },
    {
      "cell_type": "code",
      "metadata": {
        "id": "b1SLg6XzbaH5",
        "outputId": "c73b80a0-102e-40f3-8dff-7d21ca6c8d2f"
      },
      "source": [
        "train_gen = FullBatchLinkGenerator(G_train, method=\"gcn\")\n",
        "train_flow = train_gen.flow(edge_ids_train, edge_labels_train)"
      ],
      "execution_count": null,
      "outputs": [
        {
          "output_type": "stream",
          "text": [
            "Using GCN (local pooling) filters...\n"
          ],
          "name": "stdout"
        }
      ]
    },
    {
      "cell_type": "code",
      "metadata": {
        "id": "GLdjhvEQbaH5",
        "outputId": "0cfb50aa-2661-4729-a690-b7d7cc43cff1"
      },
      "source": [
        "test_gen = FullBatchLinkGenerator(G_test, method=\"gcn\")\n",
        "test_flow = train_gen.flow(edge_ids_test, edge_labels_test)"
      ],
      "execution_count": null,
      "outputs": [
        {
          "output_type": "stream",
          "text": [
            "Using GCN (local pooling) filters...\n"
          ],
          "name": "stdout"
        }
      ]
    },
    {
      "cell_type": "markdown",
      "metadata": {
        "id": "vxBTcP2EbaH6"
      },
      "source": [
        "Now we can specify our machine learning model, we need a few more parameters for this:\n",
        "\n",
        " * the `layer_sizes` is a list of hidden feature sizes of each layer in the model. In this example we use two GCN layers with 16-dimensional hidden node features at each layer.\n",
        " * `activations` is a list of activations applied to each layer's output\n",
        " * `dropout=0.3` specifies a 30% dropout at each layer. "
      ]
    },
    {
      "cell_type": "markdown",
      "metadata": {
        "id": "jfliotlUbaH6"
      },
      "source": [
        "We create a GCN model as follows:"
      ]
    },
    {
      "cell_type": "code",
      "metadata": {
        "id": "Kor9al_gbaH6"
      },
      "source": [
        "gcn = GCN(\n",
        "    layer_sizes=[16, 16], activations=[\"relu\", \"relu\"], generator=train_gen, dropout=0.3\n",
        ")"
      ],
      "execution_count": null,
      "outputs": []
    },
    {
      "cell_type": "markdown",
      "metadata": {
        "id": "52IVeWe0baH6"
      },
      "source": [
        "To create a Keras model we now expose the input and output tensors of the GCN model for link prediction, via the `GCN.in_out_tensors` method:"
      ]
    },
    {
      "cell_type": "code",
      "metadata": {
        "id": "Jh3Iof2GbaH7"
      },
      "source": [
        "x_inp, x_out = gcn.in_out_tensors()"
      ],
      "execution_count": null,
      "outputs": []
    },
    {
      "cell_type": "markdown",
      "metadata": {
        "id": "_bVjkDgGbaH7"
      },
      "source": [
        "Final link classification layer that takes a pair of node embeddings produced by the GCN model, applies a binary operator to them to produce the corresponding link embedding (`ip` for inner product; other options for the binary operator can be seen by running a cell with `?LinkEmbedding` in it), and passes it through a dense layer:"
      ]
    },
    {
      "cell_type": "code",
      "metadata": {
        "id": "5xU7DcqDbaH7"
      },
      "source": [
        "prediction = LinkEmbedding(activation=\"relu\", method=\"ip\")(x_out)"
      ],
      "execution_count": null,
      "outputs": []
    },
    {
      "cell_type": "markdown",
      "metadata": {
        "id": "C7wG3wd5baH8"
      },
      "source": [
        "The predictions need to be reshaped from `(X, 1)` to `(X,)` to match the shape of the targets we have supplied above."
      ]
    },
    {
      "cell_type": "code",
      "metadata": {
        "id": "RLYTtus6baH8"
      },
      "source": [
        "prediction = keras.layers.Reshape((-1,))(prediction)"
      ],
      "execution_count": null,
      "outputs": []
    },
    {
      "cell_type": "markdown",
      "metadata": {
        "id": "zL09RhxZbaH8"
      },
      "source": [
        "Stack the GCN and prediction layers into a Keras model, and specify the loss"
      ]
    },
    {
      "cell_type": "code",
      "metadata": {
        "id": "2ATKBuEAbaH8"
      },
      "source": [
        "model = keras.Model(inputs=x_inp, outputs=prediction)\n",
        "\n",
        "model.compile(\n",
        "    optimizer=keras.optimizers.Adam(lr=0.01),\n",
        "    loss=keras.losses.binary_crossentropy,\n",
        "    metrics=[\"acc\"],\n",
        ")"
      ],
      "execution_count": null,
      "outputs": []
    },
    {
      "cell_type": "markdown",
      "metadata": {
        "id": "r9W4eUX-baH8"
      },
      "source": [
        "Evaluate the initial (untrained) model on the train and test set:"
      ]
    },
    {
      "cell_type": "code",
      "metadata": {
        "id": "nJZgJ1AfbaH8",
        "outputId": "da164152-8616-4941-a9d0-97b100a12793"
      },
      "source": [
        "init_train_metrics = model.evaluate(train_flow)\n",
        "init_test_metrics = model.evaluate(test_flow)\n",
        "\n",
        "print(\"\\nTrain Set Metrics of the initial (untrained) model:\")\n",
        "for name, val in zip(model.metrics_names, init_train_metrics):\n",
        "    print(\"\\t{}: {:0.4f}\".format(name, val))\n",
        "\n",
        "print(\"\\nTest Set Metrics of the initial (untrained) model:\")\n",
        "for name, val in zip(model.metrics_names, init_test_metrics):\n",
        "    print(\"\\t{}: {:0.4f}\".format(name, val))"
      ],
      "execution_count": null,
      "outputs": [
        {
          "output_type": "stream",
          "text": [
            "  ['...']\n",
            "1/1 [==============================] - 0s 121ms/step - loss: 1.8927 - acc: 0.5000\n",
            "  ['...']\n",
            "1/1 [==============================] - 0s 9ms/step - loss: 1.8621 - acc: 0.5000\n",
            "\n",
            "Train Set Metrics of the initial (untrained) model:\n",
            "\tloss: 1.8927\n",
            "\tacc: 0.5000\n",
            "\n",
            "Test Set Metrics of the initial (untrained) model:\n",
            "\tloss: 1.8621\n",
            "\tacc: 0.5000\n"
          ],
          "name": "stdout"
        }
      ]
    },
    {
      "cell_type": "markdown",
      "metadata": {
        "id": "IdQlew-HbaH9"
      },
      "source": [
        "Train the model:"
      ]
    },
    {
      "cell_type": "code",
      "metadata": {
        "id": "GdxpSRDnbaH9"
      },
      "source": [
        "history = model.fit(\n",
        "    train_flow, epochs=epochs, validation_data=test_flow, verbose=2, shuffle=False\n",
        ")"
      ],
      "execution_count": null,
      "outputs": []
    },
    {
      "cell_type": "markdown",
      "metadata": {
        "id": "SvLmFM__baH9"
      },
      "source": [
        "Plot the training history:"
      ]
    },
    {
      "cell_type": "code",
      "metadata": {
        "id": "P6kW00dQbaH9",
        "outputId": "19431f21-7ba1-4c81-fb98-ad570d58da16"
      },
      "source": [
        "sg.utils.plot_history(history)"
      ],
      "execution_count": null,
      "outputs": [
        {
          "output_type": "display_data",
          "data": {
            "image/png": "[encoded data removed]",
            "text/plain": [
              "<Figure size 504x576 with 2 Axes>"
            ]
          },
          "metadata": {
            "tags": [],
            "needs_background": "light"
          }
        }
      ]
    },
    {
      "cell_type": "markdown",
      "metadata": {
        "id": "b1atD8TRbaH-"
      },
      "source": [
        "Evaluate the trained model on test citation links:"
      ]
    },
    {
      "cell_type": "code",
      "metadata": {
        "id": "Y22THxBRbaH-"
      },
      "source": [
        "train_metrics = model.evaluate(train_flow)\n",
        "test_metrics = model.evaluate(test_flow)\n",
        "\n",
        "print(\"\\nTrain Set Metrics of the trained model:\")\n",
        "for name, val in zip(model.metrics_names, train_metrics):\n",
        "    print(\"\\t{}: {:0.4f}\".format(name, val))\n",
        "\n",
        "print(\"\\nTest Set Metrics of the trained model:\")\n",
        "for name, val in zip(model.metrics_names, test_metrics):\n",
        "    print(\"\\t{}: {:0.4f}\".format(name, val))"
      ],
      "execution_count": null,
      "outputs": []
    },
    {
      "cell_type": "markdown",
      "metadata": {
        "nbsphinx": "hidden",
        "tags": [
          "CloudRunner"
        ],
        "id": "Uy8bhdHYbaH_"
      },
      "source": [
        "<table><tr><td>Run the latest release of this notebook:</td><td><a href=\"https://mybinder.org/v2/gh/stellargraph/stellargraph/master?urlpath=lab/tree/demos/link-prediction/gcn-link-prediction.ipynb\" alt=\"Open In Binder\" target=\"_parent\"><img src=\"https://mybinder.org/badge_logo.svg\"/></a></td><td><a href=\"https://colab.research.google.com/github/stellargraph/stellargraph/blob/master/demos/link-prediction/gcn-link-prediction.ipynb\" alt=\"Open In Colab\" target=\"_parent\"><img src=\"https://colab.research.google.com/assets/colab-badge.svg\"/></a></td></tr></table>"
      ]
    }
  ]
}